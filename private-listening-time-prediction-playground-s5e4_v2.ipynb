{
 "cells": [
  {
   "cell_type": "code",
   "execution_count": 1,
   "id": "e76b66f9",
   "metadata": {
    "_cell_guid": "b1076dfc-b9ad-4769-8c92-a6c4dae69d19",
    "_uuid": "8f2839f25d086af736a60e9eeb907d3b93b6e0e5",
    "execution": {
     "iopub.execute_input": "2025-04-19T19:41:28.084123Z",
     "iopub.status.busy": "2025-04-19T19:41:28.083695Z",
     "iopub.status.idle": "2025-04-19T19:41:28.096607Z",
     "shell.execute_reply": "2025-04-19T19:41:28.094729Z"
    },
    "papermill": {
     "duration": 0.027668,
     "end_time": "2025-04-19T19:41:28.099505",
     "exception": false,
     "start_time": "2025-04-19T19:41:28.071837",
     "status": "completed"
    },
    "tags": []
   },
   "outputs": [
    {
     "name": "stdout",
     "output_type": "stream",
     "text": [
      "/kaggle/input/playground-series-s5e4/sample_submission.csv\n",
      "/kaggle/input/playground-series-s5e4/train.csv\n",
      "/kaggle/input/playground-series-s5e4/test.csv\n"
     ]
    }
   ],
   "source": [
    "# We load the competition data\n",
    "\n",
    "import warnings\n",
    "warnings.filterwarnings(\"ignore\")\n",
    "\n",
    "import os\n",
    "for dirname, _, filenames in os.walk('/kaggle/input'):\n",
    "    for filename in filenames:\n",
    "        print(os.path.join(dirname, filename))"
   ]
  },
  {
   "cell_type": "markdown",
   "id": "ca8ffaf4",
   "metadata": {
    "papermill": {
     "duration": 0.011321,
     "end_time": "2025-04-19T19:41:28.121538",
     "exception": false,
     "start_time": "2025-04-19T19:41:28.110217",
     "status": "completed"
    },
    "tags": []
   },
   "source": [
    "# Libraries"
   ]
  },
  {
   "cell_type": "code",
   "execution_count": 2,
   "id": "27c62ab0",
   "metadata": {
    "execution": {
     "iopub.execute_input": "2025-04-19T19:41:28.141433Z",
     "iopub.status.busy": "2025-04-19T19:41:28.141058Z",
     "iopub.status.idle": "2025-04-19T19:41:42.052537Z",
     "shell.execute_reply": "2025-04-19T19:41:42.051645Z"
    },
    "papermill": {
     "duration": 13.923123,
     "end_time": "2025-04-19T19:41:42.054528",
     "exception": false,
     "start_time": "2025-04-19T19:41:28.131405",
     "status": "completed"
    },
    "tags": []
   },
   "outputs": [],
   "source": [
    "import numpy as np\n",
    "import pandas as pd\n",
    "import matplotlib as mpl\n",
    "import matplotlib.pyplot as plt\n",
    "import seaborn as sns\n",
    "import shap\n",
    "\n",
    "from sklearn.preprocessing import (\n",
    "    OrdinalEncoder,\n",
    "    StandardScaler\n",
    ")\n",
    "from sklearn.feature_selection import (\n",
    "    mutual_info_regression\n",
    ")\n",
    "from sklearn.model_selection import (\n",
    "    train_test_split,\n",
    "    cross_val_score,\n",
    "    KFold,\n",
    "    RandomizedSearchCV,\n",
    "    GridSearchCV\n",
    ")\n",
    "from sklearn.metrics import (\n",
    "    r2_score, \n",
    "    mean_squared_error\n",
    ")\n",
    "from xgboost import XGBRegressor"
   ]
  },
  {
   "cell_type": "markdown",
   "id": "4640b178",
   "metadata": {
    "papermill": {
     "duration": 0.008896,
     "end_time": "2025-04-19T19:41:42.072152",
     "exception": false,
     "start_time": "2025-04-19T19:41:42.063256",
     "status": "completed"
    },
    "tags": []
   },
   "source": [
    "# Primer análisis"
   ]
  },
  {
   "cell_type": "markdown",
   "id": "685de8b1",
   "metadata": {
    "papermill": {
     "duration": 0.008375,
     "end_time": "2025-04-19T19:41:42.089181",
     "exception": false,
     "start_time": "2025-04-19T19:41:42.080806",
     "status": "completed"
    },
    "tags": []
   },
   "source": [
    "https://www.kaggle.com/code/les1781/listening-time-prediction-playground-series-s5-e4"
   ]
  },
  {
   "cell_type": "code",
   "execution_count": 3,
   "id": "fb04bdde",
   "metadata": {
    "execution": {
     "iopub.execute_input": "2025-04-19T19:41:42.108363Z",
     "iopub.status.busy": "2025-04-19T19:41:42.107470Z",
     "iopub.status.idle": "2025-04-19T19:41:44.370565Z",
     "shell.execute_reply": "2025-04-19T19:41:44.369647Z"
    },
    "papermill": {
     "duration": 2.274232,
     "end_time": "2025-04-19T19:41:44.372554",
     "exception": false,
     "start_time": "2025-04-19T19:41:42.098322",
     "status": "completed"
    },
    "tags": []
   },
   "outputs": [],
   "source": [
    "# We load the data\n",
    "\n",
    "listening_new = pd.read_csv(\"/kaggle/input/playground-series-s5e4/train.csv\", index_col=\"id\")"
   ]
  },
  {
   "cell_type": "markdown",
   "id": "7fa515c3",
   "metadata": {
    "papermill": {
     "duration": 0.008771,
     "end_time": "2025-04-19T19:41:44.390707",
     "exception": false,
     "start_time": "2025-04-19T19:41:44.381936",
     "status": "completed"
    },
    "tags": []
   },
   "source": [
    "# Data wrangling"
   ]
  },
  {
   "cell_type": "code",
   "execution_count": 4,
   "id": "59ba9bcc",
   "metadata": {
    "execution": {
     "iopub.execute_input": "2025-04-19T19:41:44.408781Z",
     "iopub.status.busy": "2025-04-19T19:41:44.408384Z",
     "iopub.status.idle": "2025-04-19T19:41:45.086911Z",
     "shell.execute_reply": "2025-04-19T19:41:45.086012Z"
    },
    "papermill": {
     "duration": 0.689679,
     "end_time": "2025-04-19T19:41:45.088530",
     "exception": false,
     "start_time": "2025-04-19T19:41:44.398851",
     "status": "completed"
    },
    "tags": []
   },
   "outputs": [
    {
     "data": {
      "text/html": [
       "<style type=\"text/css\">\n",
       "#T_55b0e_row0_col0, #T_55b0e_row0_col1, #T_55b0e_row1_col0, #T_55b0e_row1_col1, #T_55b0e_row3_col0, #T_55b0e_row3_col1, #T_55b0e_row4_col0, #T_55b0e_row4_col1, #T_55b0e_row5_col0, #T_55b0e_row5_col1, #T_55b0e_row6_col0, #T_55b0e_row6_col1, #T_55b0e_row8_col0, #T_55b0e_row8_col1, #T_55b0e_row9_col0, #T_55b0e_row9_col1, #T_55b0e_row10_col0, #T_55b0e_row10_col1 {\n",
       "  background-color: #f7fcf5;\n",
       "  color: #000000;\n",
       "}\n",
       "#T_55b0e_row2_col0, #T_55b0e_row2_col1 {\n",
       "  background-color: #4db163;\n",
       "  color: #f1f1f1;\n",
       "}\n",
       "#T_55b0e_row7_col0, #T_55b0e_row7_col1 {\n",
       "  background-color: #00441b;\n",
       "  color: #f1f1f1;\n",
       "}\n",
       "</style>\n",
       "<table id=\"T_55b0e\">\n",
       "  <thead>\n",
       "    <tr>\n",
       "      <th class=\"blank level0\" >&nbsp;</th>\n",
       "      <th id=\"T_55b0e_level0_col0\" class=\"col_heading level0 col0\" >Amount of Null Data</th>\n",
       "      <th id=\"T_55b0e_level0_col1\" class=\"col_heading level0 col1\" >Percentage of Null Data</th>\n",
       "    </tr>\n",
       "  </thead>\n",
       "  <tbody>\n",
       "    <tr>\n",
       "      <th id=\"T_55b0e_level0_row0\" class=\"row_heading level0 row0\" >Podcast_Name</th>\n",
       "      <td id=\"T_55b0e_row0_col0\" class=\"data row0 col0\" >0</td>\n",
       "      <td id=\"T_55b0e_row0_col1\" class=\"data row0 col1\" >0.000000</td>\n",
       "    </tr>\n",
       "    <tr>\n",
       "      <th id=\"T_55b0e_level0_row1\" class=\"row_heading level0 row1\" >Episode_Title</th>\n",
       "      <td id=\"T_55b0e_row1_col0\" class=\"data row1 col0\" >0</td>\n",
       "      <td id=\"T_55b0e_row1_col1\" class=\"data row1 col1\" >0.000000</td>\n",
       "    </tr>\n",
       "    <tr>\n",
       "      <th id=\"T_55b0e_level0_row2\" class=\"row_heading level0 row2\" >Episode_Length_minutes</th>\n",
       "      <td id=\"T_55b0e_row2_col0\" class=\"data row2 col0\" >87093</td>\n",
       "      <td id=\"T_55b0e_row2_col1\" class=\"data row2 col1\" >11.612400</td>\n",
       "    </tr>\n",
       "    <tr>\n",
       "      <th id=\"T_55b0e_level0_row3\" class=\"row_heading level0 row3\" >Genre</th>\n",
       "      <td id=\"T_55b0e_row3_col0\" class=\"data row3 col0\" >0</td>\n",
       "      <td id=\"T_55b0e_row3_col1\" class=\"data row3 col1\" >0.000000</td>\n",
       "    </tr>\n",
       "    <tr>\n",
       "      <th id=\"T_55b0e_level0_row4\" class=\"row_heading level0 row4\" >Host_Popularity_percentage</th>\n",
       "      <td id=\"T_55b0e_row4_col0\" class=\"data row4 col0\" >0</td>\n",
       "      <td id=\"T_55b0e_row4_col1\" class=\"data row4 col1\" >0.000000</td>\n",
       "    </tr>\n",
       "    <tr>\n",
       "      <th id=\"T_55b0e_level0_row5\" class=\"row_heading level0 row5\" >Publication_Day</th>\n",
       "      <td id=\"T_55b0e_row5_col0\" class=\"data row5 col0\" >0</td>\n",
       "      <td id=\"T_55b0e_row5_col1\" class=\"data row5 col1\" >0.000000</td>\n",
       "    </tr>\n",
       "    <tr>\n",
       "      <th id=\"T_55b0e_level0_row6\" class=\"row_heading level0 row6\" >Publication_Time</th>\n",
       "      <td id=\"T_55b0e_row6_col0\" class=\"data row6 col0\" >0</td>\n",
       "      <td id=\"T_55b0e_row6_col1\" class=\"data row6 col1\" >0.000000</td>\n",
       "    </tr>\n",
       "    <tr>\n",
       "      <th id=\"T_55b0e_level0_row7\" class=\"row_heading level0 row7\" >Guest_Popularity_percentage</th>\n",
       "      <td id=\"T_55b0e_row7_col0\" class=\"data row7 col0\" >146030</td>\n",
       "      <td id=\"T_55b0e_row7_col1\" class=\"data row7 col1\" >19.470667</td>\n",
       "    </tr>\n",
       "    <tr>\n",
       "      <th id=\"T_55b0e_level0_row8\" class=\"row_heading level0 row8\" >Number_of_Ads</th>\n",
       "      <td id=\"T_55b0e_row8_col0\" class=\"data row8 col0\" >1</td>\n",
       "      <td id=\"T_55b0e_row8_col1\" class=\"data row8 col1\" >0.000133</td>\n",
       "    </tr>\n",
       "    <tr>\n",
       "      <th id=\"T_55b0e_level0_row9\" class=\"row_heading level0 row9\" >Episode_Sentiment</th>\n",
       "      <td id=\"T_55b0e_row9_col0\" class=\"data row9 col0\" >0</td>\n",
       "      <td id=\"T_55b0e_row9_col1\" class=\"data row9 col1\" >0.000000</td>\n",
       "    </tr>\n",
       "    <tr>\n",
       "      <th id=\"T_55b0e_level0_row10\" class=\"row_heading level0 row10\" >Listening_Time_minutes</th>\n",
       "      <td id=\"T_55b0e_row10_col0\" class=\"data row10 col0\" >0</td>\n",
       "      <td id=\"T_55b0e_row10_col1\" class=\"data row10 col1\" >0.000000</td>\n",
       "    </tr>\n",
       "  </tbody>\n",
       "</table>\n"
      ],
      "text/plain": [
       "<pandas.io.formats.style.Styler at 0x7a283a450290>"
      ]
     },
     "execution_count": 4,
     "metadata": {},
     "output_type": "execute_result"
    }
   ],
   "source": [
    "# We check for null values\n",
    "\n",
    "null_values = (\n",
    "    pd.DataFrame(\n",
    "        {f\"Amount of Null Data\": listening_new.isnull().sum(), \n",
    "         \"Percentage of Null Data\" : (\n",
    "             listening_new.isnull().sum()) / (len(listening_new)) * (100)\n",
    "        }))\n",
    "\n",
    "null_values.style.background_gradient(cmap=\"Greens\")"
   ]
  },
  {
   "cell_type": "code",
   "execution_count": 5,
   "id": "ca45f8a7",
   "metadata": {
    "execution": {
     "iopub.execute_input": "2025-04-19T19:41:45.107296Z",
     "iopub.status.busy": "2025-04-19T19:41:45.106810Z",
     "iopub.status.idle": "2025-04-19T19:41:45.566596Z",
     "shell.execute_reply": "2025-04-19T19:41:45.565432Z"
    },
    "papermill": {
     "duration": 0.471228,
     "end_time": "2025-04-19T19:41:45.568609",
     "exception": false,
     "start_time": "2025-04-19T19:41:45.097381",
     "status": "completed"
    },
    "tags": []
   },
   "outputs": [
    {
     "name": "stdout",
     "output_type": "stream",
     "text": [
      "Number of null values:  0 \n",
      "\n",
      " Distribution of values: \n",
      " Number_of_Ads\n",
      "0.0    217597\n",
      "1.0    214074\n",
      "3.0    160173\n",
      "2.0    158156\n",
      "Name: count, dtype: int64\n"
     ]
    }
   ],
   "source": [
    "# We replace the erroneous values with the mode of the Podcasts\n",
    "\n",
    "listening_new[\"Number_of_Ads\"] = (listening_new[\"Number_of_Ads\"].apply(lambda x: np.NaN if x>3 else x))\n",
    "\n",
    "listening_new[\"Number_of_Ads\"] = (listening_new[\"Number_of_Ads\"].fillna(\n",
    "        listening_new.groupby(\"Podcast_Name\")[\"Number_of_Ads\"].transform(lambda v: v.mode()[0])))\n",
    "\n",
    "print(\n",
    "    \"Number of null values: \", listening_new[\"Number_of_Ads\"].isnull().sum(), \"\\n\\n\",\n",
    "    \"Distribution of values: \\n\", listening_new[\"Number_of_Ads\"].value_counts()\n",
    ")"
   ]
  },
  {
   "cell_type": "code",
   "execution_count": 6,
   "id": "1e831afe",
   "metadata": {
    "execution": {
     "iopub.execute_input": "2025-04-19T19:41:45.586973Z",
     "iopub.status.busy": "2025-04-19T19:41:45.586259Z",
     "iopub.status.idle": "2025-04-19T19:41:45.648364Z",
     "shell.execute_reply": "2025-04-19T19:41:45.647215Z"
    },
    "papermill": {
     "duration": 0.072996,
     "end_time": "2025-04-19T19:41:45.650073",
     "exception": false,
     "start_time": "2025-04-19T19:41:45.577077",
     "status": "completed"
    },
    "tags": []
   },
   "outputs": [
    {
     "name": "stdout",
     "output_type": "stream",
     "text": [
      "Number of Unique values:  8007 \n",
      " Distribution of values: \n",
      " Host_Popularity_percentage\n",
      "38.68    0.000747\n",
      "26.72    0.000697\n",
      "56.29    0.000653\n",
      "30.14    0.000593\n",
      "31.57    0.000585\n",
      "           ...   \n",
      "1.77     0.000003\n",
      "1.30     0.000001\n",
      "39.18    0.000001\n",
      "1.73     0.000001\n",
      "1.47     0.000001\n",
      "Name: proportion, Length: 8007, dtype: float64\n"
     ]
    }
   ],
   "source": [
    "# We replace the erroneous values\n",
    "\n",
    "listening_new[\"Host_Popularity_percentage\"] = np.where(\n",
    "    listening_new[\"Host_Popularity_percentage\"] > 100, 100, listening_new[\"Host_Popularity_percentage\"]\n",
    ").round(decimals=2)\n",
    "\n",
    "print(\n",
    "    \"Number of Unique values: \", listening_new[\"Host_Popularity_percentage\"].nunique(), \"\\n\",\n",
    "    \"Distribution of values: \\n\", listening_new[\"Host_Popularity_percentage\"].value_counts(normalize=True)\n",
    ")"
   ]
  },
  {
   "cell_type": "code",
   "execution_count": 7,
   "id": "f21239c4",
   "metadata": {
    "execution": {
     "iopub.execute_input": "2025-04-19T19:41:45.668970Z",
     "iopub.status.busy": "2025-04-19T19:41:45.668582Z",
     "iopub.status.idle": "2025-04-19T19:41:45.677808Z",
     "shell.execute_reply": "2025-04-19T19:41:45.676626Z"
    },
    "papermill": {
     "duration": 0.020723,
     "end_time": "2025-04-19T19:41:45.679491",
     "exception": false,
     "start_time": "2025-04-19T19:41:45.658768",
     "status": "completed"
    },
    "tags": []
   },
   "outputs": [],
   "source": [
    "# We replace the erroneous values\n",
    "\n",
    "listening_new[\"Guest_Popularity_percentage\"] = np.where(\n",
    "    listening_new[\"Guest_Popularity_percentage\"] > 100, 100, listening_new[\"Guest_Popularity_percentage\"]\n",
    ")"
   ]
  },
  {
   "cell_type": "code",
   "execution_count": 8,
   "id": "5d74fcaf",
   "metadata": {
    "execution": {
     "iopub.execute_input": "2025-04-19T19:41:45.699244Z",
     "iopub.status.busy": "2025-04-19T19:41:45.698917Z",
     "iopub.status.idle": "2025-04-19T19:41:46.006001Z",
     "shell.execute_reply": "2025-04-19T19:41:46.005008Z"
    },
    "papermill": {
     "duration": 0.319789,
     "end_time": "2025-04-19T19:41:46.007857",
     "exception": false,
     "start_time": "2025-04-19T19:41:45.688068",
     "status": "completed"
    },
    "tags": []
   },
   "outputs": [],
   "source": [
    "listening_new.dropna(inplace=True)"
   ]
  },
  {
   "cell_type": "code",
   "execution_count": 9,
   "id": "16da3df1",
   "metadata": {
    "execution": {
     "iopub.execute_input": "2025-04-19T19:41:46.026207Z",
     "iopub.status.busy": "2025-04-19T19:41:46.025877Z",
     "iopub.status.idle": "2025-04-19T19:41:46.033020Z",
     "shell.execute_reply": "2025-04-19T19:41:46.031724Z"
    },
    "papermill": {
     "duration": 0.018574,
     "end_time": "2025-04-19T19:41:46.034994",
     "exception": false,
     "start_time": "2025-04-19T19:41:46.016420",
     "status": "completed"
    },
    "tags": []
   },
   "outputs": [
    {
     "data": {
      "text/plain": [
       "'\\n# We replace the erroneous values\\n\\nlistening_new[\"Guest_Popularity_percentage\"] = np.where(\\n    listening_new[\"Guest_Popularity_percentage\"] > 100, 100, listening_new[\"Guest_Popularity_percentage\"]\\n)\\n\\n# We fill null values with the mean groupby Podcast\\n\\nlistening_new[\"Guest_Popularity_percentage\"] = (\\n    listening_new[\"Guest_Popularity_percentage\"].fillna(\\n        listening_new.groupby(\"Podcast_Name\")[\"Guest_Popularity_percentage\"].transform(\"mean\")\\n    )\\n).round(decimals=2)\\n\\nprint(\\n    \"Number of Unique values: \", listening_new[\"Guest_Popularity_percentage\"].nunique(), \"\\n\",\\n    \"Number of null values: \", listening_new[\"Guest_Popularity_percentage\"].isnull().sum(), \"\\n\\n\",\\n    \"Distribution of values: \\n\", listening_new[\"Guest_Popularity_percentage\"].value_counts(normalize=True)\\n)\\n'"
      ]
     },
     "execution_count": 9,
     "metadata": {},
     "output_type": "execute_result"
    }
   ],
   "source": [
    "'''\n",
    "# We replace the erroneous values\n",
    "\n",
    "listening_new[\"Guest_Popularity_percentage\"] = np.where(\n",
    "    listening_new[\"Guest_Popularity_percentage\"] > 100, 100, listening_new[\"Guest_Popularity_percentage\"]\n",
    ")\n",
    "\n",
    "# We fill null values with the mean groupby Podcast\n",
    "\n",
    "listening_new[\"Guest_Popularity_percentage\"] = (\n",
    "    listening_new[\"Guest_Popularity_percentage\"].fillna(\n",
    "        listening_new.groupby(\"Podcast_Name\")[\"Guest_Popularity_percentage\"].transform(\"mean\")\n",
    "    )\n",
    ").round(decimals=2)\n",
    "\n",
    "print(\n",
    "    \"Number of Unique values: \", listening_new[\"Guest_Popularity_percentage\"].nunique(), \"\\n\",\n",
    "    \"Number of null values: \", listening_new[\"Guest_Popularity_percentage\"].isnull().sum(), \"\\n\\n\",\n",
    "    \"Distribution of values: \\n\", listening_new[\"Guest_Popularity_percentage\"].value_counts(normalize=True)\n",
    ")\n",
    "'''"
   ]
  },
  {
   "cell_type": "code",
   "execution_count": 10,
   "id": "5aa42ab5",
   "metadata": {
    "execution": {
     "iopub.execute_input": "2025-04-19T19:41:46.056132Z",
     "iopub.status.busy": "2025-04-19T19:41:46.055806Z",
     "iopub.status.idle": "2025-04-19T19:41:46.062584Z",
     "shell.execute_reply": "2025-04-19T19:41:46.061631Z"
    },
    "papermill": {
     "duration": 0.018735,
     "end_time": "2025-04-19T19:41:46.064287",
     "exception": false,
     "start_time": "2025-04-19T19:41:46.045552",
     "status": "completed"
    },
    "tags": []
   },
   "outputs": [
    {
     "data": {
      "text/plain": [
       "'\\n# We fill null values with the mean groupby Podcast\\n\\nlistening_new[\"Episode_Length_minutes\"] = (listening_new[\"Episode_Length_minutes\"].fillna(\\n    listening_new.groupby(\"Podcast_Name\")[\"Episode_Length_minutes\"].transform(\"mean\")\\n))\\nprint(\\n    \"Number of null values: \", listening_new[\"Episode_Length_minutes\"].isnull().sum(), \"\\n\\n\",\\n    \"Distribution of values: \\n\", listening_new[\"Episode_Length_minutes\"].value_counts(normalize=True)\\n)\\n'"
      ]
     },
     "execution_count": 10,
     "metadata": {},
     "output_type": "execute_result"
    }
   ],
   "source": [
    "'''\n",
    "# We fill null values with the mean groupby Podcast\n",
    "\n",
    "listening_new[\"Episode_Length_minutes\"] = (listening_new[\"Episode_Length_minutes\"].fillna(\n",
    "    listening_new.groupby(\"Podcast_Name\")[\"Episode_Length_minutes\"].transform(\"mean\")\n",
    "))\n",
    "print(\n",
    "    \"Number of null values: \", listening_new[\"Episode_Length_minutes\"].isnull().sum(), \"\\n\\n\",\n",
    "    \"Distribution of values: \\n\", listening_new[\"Episode_Length_minutes\"].value_counts(normalize=True)\n",
    ")\n",
    "'''"
   ]
  },
  {
   "cell_type": "code",
   "execution_count": 11,
   "id": "0dfdda0a",
   "metadata": {
    "execution": {
     "iopub.execute_input": "2025-04-19T19:41:46.085651Z",
     "iopub.status.busy": "2025-04-19T19:41:46.085048Z",
     "iopub.status.idle": "2025-04-19T19:41:46.364280Z",
     "shell.execute_reply": "2025-04-19T19:41:46.363179Z"
    },
    "papermill": {
     "duration": 0.291082,
     "end_time": "2025-04-19T19:41:46.366000",
     "exception": false,
     "start_time": "2025-04-19T19:41:46.074918",
     "status": "completed"
    },
    "tags": []
   },
   "outputs": [],
   "source": [
    "# We changed the format for more efficient memory usage\n",
    "\n",
    "listening_new[listening_new.select_dtypes([\"object\"]).columns] = (\n",
    "    listening_new.select_dtypes([\"object\"]).apply(\n",
    "        lambda x: x.astype(\"category\"))\n",
    ")"
   ]
  },
  {
   "cell_type": "code",
   "execution_count": 12,
   "id": "8c7df3ce",
   "metadata": {
    "execution": {
     "iopub.execute_input": "2025-04-19T19:41:46.386361Z",
     "iopub.status.busy": "2025-04-19T19:41:46.386050Z",
     "iopub.status.idle": "2025-04-19T19:41:46.423902Z",
     "shell.execute_reply": "2025-04-19T19:41:46.422750Z"
    },
    "papermill": {
     "duration": 0.050685,
     "end_time": "2025-04-19T19:41:46.426198",
     "exception": false,
     "start_time": "2025-04-19T19:41:46.375513",
     "status": "completed"
    },
    "tags": []
   },
   "outputs": [
    {
     "name": "stdout",
     "output_type": "stream",
     "text": [
      "<class 'pandas.core.frame.DataFrame'>\n",
      "Index: 539049 entries, 1 to 749999\n",
      "Data columns (total 11 columns):\n",
      " #   Column                       Non-Null Count   Dtype   \n",
      "---  ------                       --------------   -----   \n",
      " 0   Podcast_Name                 539049 non-null  category\n",
      " 1   Episode_Title                539049 non-null  category\n",
      " 2   Episode_Length_minutes       539049 non-null  float64 \n",
      " 3   Genre                        539049 non-null  category\n",
      " 4   Host_Popularity_percentage   539049 non-null  float64 \n",
      " 5   Publication_Day              539049 non-null  category\n",
      " 6   Publication_Time             539049 non-null  category\n",
      " 7   Guest_Popularity_percentage  539049 non-null  float64 \n",
      " 8   Number_of_Ads                539049 non-null  float64 \n",
      " 9   Episode_Sentiment            539049 non-null  category\n",
      " 10  Listening_Time_minutes       539049 non-null  float64 \n",
      "dtypes: category(6), float64(5)\n",
      "memory usage: 27.8 MB\n"
     ]
    }
   ],
   "source": [
    "listening_new.info()"
   ]
  },
  {
   "cell_type": "markdown",
   "id": "6342e154",
   "metadata": {
    "papermill": {
     "duration": 0.009088,
     "end_time": "2025-04-19T19:41:46.444234",
     "exception": false,
     "start_time": "2025-04-19T19:41:46.435146",
     "status": "completed"
    },
    "tags": []
   },
   "source": [
    "# Data preprocessing"
   ]
  },
  {
   "cell_type": "code",
   "execution_count": 13,
   "id": "8d459b6b",
   "metadata": {
    "execution": {
     "iopub.execute_input": "2025-04-19T19:41:46.531084Z",
     "iopub.status.busy": "2025-04-19T19:41:46.530519Z",
     "iopub.status.idle": "2025-04-19T19:41:46.551346Z",
     "shell.execute_reply": "2025-04-19T19:41:46.550409Z"
    },
    "papermill": {
     "duration": 0.032427,
     "end_time": "2025-04-19T19:41:46.553042",
     "exception": false,
     "start_time": "2025-04-19T19:41:46.520615",
     "status": "completed"
    },
    "tags": []
   },
   "outputs": [],
   "source": [
    "listening_end = listening_new.copy()"
   ]
  },
  {
   "cell_type": "code",
   "execution_count": 14,
   "id": "a815b22b",
   "metadata": {
    "execution": {
     "iopub.execute_input": "2025-04-19T19:41:46.572799Z",
     "iopub.status.busy": "2025-04-19T19:41:46.572433Z",
     "iopub.status.idle": "2025-04-19T19:41:46.582562Z",
     "shell.execute_reply": "2025-04-19T19:41:46.581270Z"
    },
    "papermill": {
     "duration": 0.021569,
     "end_time": "2025-04-19T19:41:46.584311",
     "exception": false,
     "start_time": "2025-04-19T19:41:46.562742",
     "status": "completed"
    },
    "tags": []
   },
   "outputs": [],
   "source": [
    "# We map the variables and change the format\n",
    "\n",
    "eps_order = {\"Negative\" : 0, \"Neutral\" : 1, \"Positive\" : 2}\n",
    "listening_end[\"Episode_Sentiment\"] = listening_end[\"Episode_Sentiment\"].map(eps_order)\n",
    "listening_end[\"Episode_Sentiment\"] = listening_end[\"Episode_Sentiment\"].astype(\"float64\")"
   ]
  },
  {
   "cell_type": "code",
   "execution_count": 15,
   "id": "640af00f",
   "metadata": {
    "execution": {
     "iopub.execute_input": "2025-04-19T19:41:46.604065Z",
     "iopub.status.busy": "2025-04-19T19:41:46.603752Z",
     "iopub.status.idle": "2025-04-19T19:41:46.633161Z",
     "shell.execute_reply": "2025-04-19T19:41:46.632244Z"
    },
    "papermill": {
     "duration": 0.041265,
     "end_time": "2025-04-19T19:41:46.634834",
     "exception": false,
     "start_time": "2025-04-19T19:41:46.593569",
     "status": "completed"
    },
    "tags": []
   },
   "outputs": [],
   "source": [
    "# We separate the categorical variables from the numerical ones\n",
    "\n",
    "df_numerical = listening_end.select_dtypes(include=\"number\")\n",
    "df_categorical = listening_end.select_dtypes(include=\"category\")"
   ]
  },
  {
   "cell_type": "markdown",
   "id": "1ceb742c",
   "metadata": {
    "papermill": {
     "duration": 0.009373,
     "end_time": "2025-04-19T19:41:46.653184",
     "exception": false,
     "start_time": "2025-04-19T19:41:46.643811",
     "status": "completed"
    },
    "tags": []
   },
   "source": [
    "## Encode"
   ]
  },
  {
   "cell_type": "code",
   "execution_count": 16,
   "id": "922db90a",
   "metadata": {
    "execution": {
     "iopub.execute_input": "2025-04-19T19:41:46.673412Z",
     "iopub.status.busy": "2025-04-19T19:41:46.673096Z",
     "iopub.status.idle": "2025-04-19T19:41:47.280110Z",
     "shell.execute_reply": "2025-04-19T19:41:47.279091Z"
    },
    "papermill": {
     "duration": 0.619021,
     "end_time": "2025-04-19T19:41:47.281747",
     "exception": false,
     "start_time": "2025-04-19T19:41:46.662726",
     "status": "completed"
    },
    "tags": []
   },
   "outputs": [],
   "source": [
    "# We apply OrdinalEncoder to the remaining categorical variables\n",
    "\n",
    "enc = OrdinalEncoder(categories=\"auto\").set_output(transform=\"pandas\")\n",
    "\n",
    "enc_data = enc.fit_transform(df_categorical)\n",
    "\n",
    "df_listening = pd.concat([enc_data, df_numerical], axis=1)"
   ]
  },
  {
   "cell_type": "code",
   "execution_count": 17,
   "id": "9ab6412a",
   "metadata": {
    "execution": {
     "iopub.execute_input": "2025-04-19T19:41:47.304156Z",
     "iopub.status.busy": "2025-04-19T19:41:47.303715Z",
     "iopub.status.idle": "2025-04-19T19:41:47.570229Z",
     "shell.execute_reply": "2025-04-19T19:41:47.569116Z"
    },
    "papermill": {
     "duration": 0.279497,
     "end_time": "2025-04-19T19:41:47.571821",
     "exception": false,
     "start_time": "2025-04-19T19:41:47.292324",
     "status": "completed"
    },
    "tags": []
   },
   "outputs": [
    {
     "data": {
      "text/html": [
       "<style type=\"text/css\">\n",
       "#T_30e67_row0_col0, #T_30e67_row1_col1, #T_30e67_row2_col2, #T_30e67_row3_col3, #T_30e67_row4_col4, #T_30e67_row5_col5, #T_30e67_row6_col6, #T_30e67_row7_col7, #T_30e67_row8_col8, #T_30e67_row9_col9, #T_30e67_row10_col10 {\n",
       "  background-color: #00441b;\n",
       "  color: #f1f1f1;\n",
       "}\n",
       "#T_30e67_row0_col1, #T_30e67_row0_col9, #T_30e67_row2_col1, #T_30e67_row3_col9, #T_30e67_row6_col9, #T_30e67_row9_col6 {\n",
       "  background-color: #f4fbf1;\n",
       "  color: #000000;\n",
       "}\n",
       "#T_30e67_row0_col2 {\n",
       "  background-color: #d7efd1;\n",
       "  color: #000000;\n",
       "}\n",
       "#T_30e67_row0_col3, #T_30e67_row0_col4, #T_30e67_row0_col7, #T_30e67_row1_col0, #T_30e67_row1_col4, #T_30e67_row2_col3, #T_30e67_row2_col4, #T_30e67_row3_col0, #T_30e67_row3_col4, #T_30e67_row4_col2, #T_30e67_row4_col7, #T_30e67_row5_col0, #T_30e67_row5_col2, #T_30e67_row5_col3, #T_30e67_row6_col4, #T_30e67_row8_col3, #T_30e67_row9_col0, #T_30e67_row9_col2, #T_30e67_row9_col3, #T_30e67_row10_col0, #T_30e67_row10_col3 {\n",
       "  background-color: #f6fcf4;\n",
       "  color: #000000;\n",
       "}\n",
       "#T_30e67_row0_col5, #T_30e67_row3_col5, #T_30e67_row7_col1, #T_30e67_row10_col9 {\n",
       "  background-color: #eff9ec;\n",
       "  color: #000000;\n",
       "}\n",
       "#T_30e67_row0_col6, #T_30e67_row1_col9, #T_30e67_row2_col7, #T_30e67_row2_col9, #T_30e67_row3_col6, #T_30e67_row4_col6, #T_30e67_row5_col4, #T_30e67_row9_col1, #T_30e67_row9_col4 {\n",
       "  background-color: #f5fbf2;\n",
       "  color: #000000;\n",
       "}\n",
       "#T_30e67_row0_col8, #T_30e67_row0_col10, #T_30e67_row1_col8, #T_30e67_row2_col10, #T_30e67_row3_col8, #T_30e67_row3_col10 {\n",
       "  background-color: #e7f6e2;\n",
       "  color: #000000;\n",
       "}\n",
       "#T_30e67_row1_col2, #T_30e67_row2_col6, #T_30e67_row3_col2, #T_30e67_row3_col7, #T_30e67_row7_col2, #T_30e67_row8_col0, #T_30e67_row9_col7, #T_30e67_row10_col2 {\n",
       "  background-color: #f5fbf3;\n",
       "  color: #000000;\n",
       "}\n",
       "#T_30e67_row1_col3, #T_30e67_row4_col0, #T_30e67_row4_col3, #T_30e67_row5_col1, #T_30e67_row5_col7, #T_30e67_row6_col0, #T_30e67_row6_col2, #T_30e67_row6_col3, #T_30e67_row7_col0, #T_30e67_row7_col3, #T_30e67_row7_col4, #T_30e67_row8_col2, #T_30e67_row8_col4, #T_30e67_row8_col5, #T_30e67_row8_col6, #T_30e67_row8_col9, #T_30e67_row8_col10, #T_30e67_row10_col1, #T_30e67_row10_col7, #T_30e67_row10_col8 {\n",
       "  background-color: #f7fcf5;\n",
       "  color: #000000;\n",
       "}\n",
       "#T_30e67_row1_col5, #T_30e67_row4_col9 {\n",
       "  background-color: #f2faf0;\n",
       "  color: #000000;\n",
       "}\n",
       "#T_30e67_row1_col6, #T_30e67_row5_col6, #T_30e67_row5_col9, #T_30e67_row6_col1, #T_30e67_row7_col5, #T_30e67_row7_col6 {\n",
       "  background-color: #f1faee;\n",
       "  color: #000000;\n",
       "}\n",
       "#T_30e67_row1_col7 {\n",
       "  background-color: #f0f9ec;\n",
       "  color: #000000;\n",
       "}\n",
       "#T_30e67_row1_col10, #T_30e67_row6_col8, #T_30e67_row9_col8 {\n",
       "  background-color: #eaf7e6;\n",
       "  color: #000000;\n",
       "}\n",
       "#T_30e67_row2_col0 {\n",
       "  background-color: #d8f0d2;\n",
       "  color: #000000;\n",
       "}\n",
       "#T_30e67_row2_col5 {\n",
       "  background-color: #f0f9ed;\n",
       "  color: #000000;\n",
       "}\n",
       "#T_30e67_row2_col8 {\n",
       "  background-color: #e8f6e3;\n",
       "  color: #000000;\n",
       "}\n",
       "#T_30e67_row3_col1, #T_30e67_row4_col1, #T_30e67_row7_col9, #T_30e67_row8_col7, #T_30e67_row10_col4 {\n",
       "  background-color: #f4fbf2;\n",
       "  color: #000000;\n",
       "}\n",
       "#T_30e67_row4_col5, #T_30e67_row5_col8 {\n",
       "  background-color: #eff9eb;\n",
       "  color: #000000;\n",
       "}\n",
       "#T_30e67_row4_col8 {\n",
       "  background-color: #e8f6e4;\n",
       "  color: #000000;\n",
       "}\n",
       "#T_30e67_row4_col10, #T_30e67_row7_col8 {\n",
       "  background-color: #e6f5e1;\n",
       "  color: #000000;\n",
       "}\n",
       "#T_30e67_row5_col10 {\n",
       "  background-color: #005c25;\n",
       "  color: #f1f1f1;\n",
       "}\n",
       "#T_30e67_row6_col5, #T_30e67_row9_col5 {\n",
       "  background-color: #edf8e9;\n",
       "  color: #000000;\n",
       "}\n",
       "#T_30e67_row6_col7 {\n",
       "  background-color: #f2faef;\n",
       "  color: #000000;\n",
       "}\n",
       "#T_30e67_row6_col10 {\n",
       "  background-color: #dff3da;\n",
       "  color: #000000;\n",
       "}\n",
       "#T_30e67_row7_col10 {\n",
       "  background-color: #e9f7e5;\n",
       "  color: #000000;\n",
       "}\n",
       "#T_30e67_row8_col1 {\n",
       "  background-color: #f3faf0;\n",
       "  color: #000000;\n",
       "}\n",
       "#T_30e67_row9_col10 {\n",
       "  background-color: #e1f3dc;\n",
       "  color: #000000;\n",
       "}\n",
       "#T_30e67_row10_col5 {\n",
       "  background-color: #005e26;\n",
       "  color: #f1f1f1;\n",
       "}\n",
       "#T_30e67_row10_col6 {\n",
       "  background-color: #eef8ea;\n",
       "  color: #000000;\n",
       "}\n",
       "</style>\n",
       "<table id=\"T_30e67\">\n",
       "  <thead>\n",
       "    <tr>\n",
       "      <th class=\"blank level0\" >&nbsp;</th>\n",
       "      <th id=\"T_30e67_level0_col0\" class=\"col_heading level0 col0\" >Podcast_Name</th>\n",
       "      <th id=\"T_30e67_level0_col1\" class=\"col_heading level0 col1\" >Episode_Title</th>\n",
       "      <th id=\"T_30e67_level0_col2\" class=\"col_heading level0 col2\" >Genre</th>\n",
       "      <th id=\"T_30e67_level0_col3\" class=\"col_heading level0 col3\" >Publication_Day</th>\n",
       "      <th id=\"T_30e67_level0_col4\" class=\"col_heading level0 col4\" >Publication_Time</th>\n",
       "      <th id=\"T_30e67_level0_col5\" class=\"col_heading level0 col5\" >Episode_Length_minutes</th>\n",
       "      <th id=\"T_30e67_level0_col6\" class=\"col_heading level0 col6\" >Host_Popularity_percentage</th>\n",
       "      <th id=\"T_30e67_level0_col7\" class=\"col_heading level0 col7\" >Guest_Popularity_percentage</th>\n",
       "      <th id=\"T_30e67_level0_col8\" class=\"col_heading level0 col8\" >Number_of_Ads</th>\n",
       "      <th id=\"T_30e67_level0_col9\" class=\"col_heading level0 col9\" >Episode_Sentiment</th>\n",
       "      <th id=\"T_30e67_level0_col10\" class=\"col_heading level0 col10\" >Listening_Time_minutes</th>\n",
       "    </tr>\n",
       "  </thead>\n",
       "  <tbody>\n",
       "    <tr>\n",
       "      <th id=\"T_30e67_level0_row0\" class=\"row_heading level0 row0\" >Podcast_Name</th>\n",
       "      <td id=\"T_30e67_row0_col0\" class=\"data row0 col0\" >1.000000</td>\n",
       "      <td id=\"T_30e67_row0_col1\" class=\"data row0 col1\" >0.006888</td>\n",
       "      <td id=\"T_30e67_row0_col2\" class=\"data row0 col2\" >0.178960</td>\n",
       "      <td id=\"T_30e67_row0_col3\" class=\"data row0 col3\" >0.002305</td>\n",
       "      <td id=\"T_30e67_row0_col4\" class=\"data row0 col4\" >-0.003920</td>\n",
       "      <td id=\"T_30e67_row0_col5\" class=\"data row0 col5\" >0.005552</td>\n",
       "      <td id=\"T_30e67_row0_col6\" class=\"data row0 col6\" >-0.002932</td>\n",
       "      <td id=\"T_30e67_row0_col7\" class=\"data row0 col7\" >-0.004145</td>\n",
       "      <td id=\"T_30e67_row0_col8\" class=\"data row0 col8\" >0.008332</td>\n",
       "      <td id=\"T_30e67_row0_col9\" class=\"data row0 col9\" >0.002715</td>\n",
       "      <td id=\"T_30e67_row0_col10\" class=\"data row0 col10\" >0.004926</td>\n",
       "    </tr>\n",
       "    <tr>\n",
       "      <th id=\"T_30e67_level0_row1\" class=\"row_heading level0 row1\" >Episode_Title</th>\n",
       "      <td id=\"T_30e67_row1_col0\" class=\"data row1 col0\" >0.006888</td>\n",
       "      <td id=\"T_30e67_row1_col1\" class=\"data row1 col1\" >1.000000</td>\n",
       "      <td id=\"T_30e67_row1_col2\" class=\"data row1 col2\" >0.006393</td>\n",
       "      <td id=\"T_30e67_row1_col3\" class=\"data row1 col3\" >0.000483</td>\n",
       "      <td id=\"T_30e67_row1_col4\" class=\"data row1 col4\" >0.000421</td>\n",
       "      <td id=\"T_30e67_row1_col5\" class=\"data row1 col5\" >-0.020702</td>\n",
       "      <td id=\"T_30e67_row1_col6\" class=\"data row1 col6\" >0.021065</td>\n",
       "      <td id=\"T_30e67_row1_col7\" class=\"data row1 col7\" >0.038394</td>\n",
       "      <td id=\"T_30e67_row1_col8\" class=\"data row1 col8\" >0.007482</td>\n",
       "      <td id=\"T_30e67_row1_col9\" class=\"data row1 col9\" >-0.004185</td>\n",
       "      <td id=\"T_30e67_row1_col10\" class=\"data row1 col10\" >-0.019772</td>\n",
       "    </tr>\n",
       "    <tr>\n",
       "      <th id=\"T_30e67_level0_row2\" class=\"row_heading level0 row2\" >Genre</th>\n",
       "      <td id=\"T_30e67_row2_col0\" class=\"data row2 col0\" >0.178960</td>\n",
       "      <td id=\"T_30e67_row2_col1\" class=\"data row2 col1\" >0.006393</td>\n",
       "      <td id=\"T_30e67_row2_col2\" class=\"data row2 col2\" >1.000000</td>\n",
       "      <td id=\"T_30e67_row2_col3\" class=\"data row2 col3\" >0.003841</td>\n",
       "      <td id=\"T_30e67_row2_col4\" class=\"data row2 col4\" >-0.001384</td>\n",
       "      <td id=\"T_30e67_row2_col5\" class=\"data row2 col5\" >-0.003672</td>\n",
       "      <td id=\"T_30e67_row2_col6\" class=\"data row2 col6\" >-0.008252</td>\n",
       "      <td id=\"T_30e67_row2_col7\" class=\"data row2 col7\" >0.006257</td>\n",
       "      <td id=\"T_30e67_row2_col8\" class=\"data row2 col8\" >-0.004431</td>\n",
       "      <td id=\"T_30e67_row2_col9\" class=\"data row2 col9\" >-0.003389</td>\n",
       "      <td id=\"T_30e67_row2_col10\" class=\"data row2 col10\" >0.004616</td>\n",
       "    </tr>\n",
       "    <tr>\n",
       "      <th id=\"T_30e67_level0_row3\" class=\"row_heading level0 row3\" >Publication_Day</th>\n",
       "      <td id=\"T_30e67_row3_col0\" class=\"data row3 col0\" >0.002305</td>\n",
       "      <td id=\"T_30e67_row3_col1\" class=\"data row3 col1\" >0.000483</td>\n",
       "      <td id=\"T_30e67_row3_col2\" class=\"data row3 col2\" >0.003841</td>\n",
       "      <td id=\"T_30e67_row3_col3\" class=\"data row3 col3\" >1.000000</td>\n",
       "      <td id=\"T_30e67_row3_col4\" class=\"data row3 col4\" >-0.000826</td>\n",
       "      <td id=\"T_30e67_row3_col5\" class=\"data row3 col5\" >0.005649</td>\n",
       "      <td id=\"T_30e67_row3_col6\" class=\"data row3 col6\" >-0.002642</td>\n",
       "      <td id=\"T_30e67_row3_col7\" class=\"data row3 col7\" >0.000103</td>\n",
       "      <td id=\"T_30e67_row3_col8\" class=\"data row3 col8\" >0.007247</td>\n",
       "      <td id=\"T_30e67_row3_col9\" class=\"data row3 col9\" >0.003195</td>\n",
       "      <td id=\"T_30e67_row3_col10\" class=\"data row3 col10\" >0.004828</td>\n",
       "    </tr>\n",
       "    <tr>\n",
       "      <th id=\"T_30e67_level0_row4\" class=\"row_heading level0 row4\" >Publication_Time</th>\n",
       "      <td id=\"T_30e67_row4_col0\" class=\"data row4 col0\" >-0.003920</td>\n",
       "      <td id=\"T_30e67_row4_col1\" class=\"data row4 col1\" >0.000421</td>\n",
       "      <td id=\"T_30e67_row4_col2\" class=\"data row4 col2\" >-0.001384</td>\n",
       "      <td id=\"T_30e67_row4_col3\" class=\"data row4 col3\" >-0.000826</td>\n",
       "      <td id=\"T_30e67_row4_col4\" class=\"data row4 col4\" >1.000000</td>\n",
       "      <td id=\"T_30e67_row4_col5\" class=\"data row4 col5\" >0.010177</td>\n",
       "      <td id=\"T_30e67_row4_col6\" class=\"data row4 col6\" >-0.001841</td>\n",
       "      <td id=\"T_30e67_row4_col7\" class=\"data row4 col7\" >-0.006775</td>\n",
       "      <td id=\"T_30e67_row4_col8\" class=\"data row4 col8\" >-0.008343</td>\n",
       "      <td id=\"T_30e67_row4_col9\" class=\"data row4 col9\" >0.010675</td>\n",
       "      <td id=\"T_30e67_row4_col10\" class=\"data row4 col10\" >0.011506</td>\n",
       "    </tr>\n",
       "    <tr>\n",
       "      <th id=\"T_30e67_level0_row5\" class=\"row_heading level0 row5\" >Episode_Length_minutes</th>\n",
       "      <td id=\"T_30e67_row5_col0\" class=\"data row5 col0\" >0.005552</td>\n",
       "      <td id=\"T_30e67_row5_col1\" class=\"data row5 col1\" >-0.020702</td>\n",
       "      <td id=\"T_30e67_row5_col2\" class=\"data row5 col2\" >-0.003672</td>\n",
       "      <td id=\"T_30e67_row5_col3\" class=\"data row5 col3\" >0.005649</td>\n",
       "      <td id=\"T_30e67_row5_col4\" class=\"data row5 col4\" >0.010177</td>\n",
       "      <td id=\"T_30e67_row5_col5\" class=\"data row5 col5\" >1.000000</td>\n",
       "      <td id=\"T_30e67_row5_col6\" class=\"data row5 col6\" >0.021038</td>\n",
       "      <td id=\"T_30e67_row5_col7\" class=\"data row5 col7\" >-0.009699</td>\n",
       "      <td id=\"T_30e67_row5_col8\" class=\"data row5 col8\" >-0.054865</td>\n",
       "      <td id=\"T_30e67_row5_col9\" class=\"data row5 col9\" >0.020101</td>\n",
       "      <td id=\"T_30e67_row5_col10\" class=\"data row5 col10\" >0.915462</td>\n",
       "    </tr>\n",
       "    <tr>\n",
       "      <th id=\"T_30e67_level0_row6\" class=\"row_heading level0 row6\" >Host_Popularity_percentage</th>\n",
       "      <td id=\"T_30e67_row6_col0\" class=\"data row6 col0\" >-0.002932</td>\n",
       "      <td id=\"T_30e67_row6_col1\" class=\"data row6 col1\" >0.021065</td>\n",
       "      <td id=\"T_30e67_row6_col2\" class=\"data row6 col2\" >-0.008252</td>\n",
       "      <td id=\"T_30e67_row6_col3\" class=\"data row6 col3\" >-0.002642</td>\n",
       "      <td id=\"T_30e67_row6_col4\" class=\"data row6 col4\" >-0.001841</td>\n",
       "      <td id=\"T_30e67_row6_col5\" class=\"data row6 col5\" >0.021038</td>\n",
       "      <td id=\"T_30e67_row6_col6\" class=\"data row6 col6\" >1.000000</td>\n",
       "      <td id=\"T_30e67_row6_col7\" class=\"data row6 col7\" >0.023072</td>\n",
       "      <td id=\"T_30e67_row6_col8\" class=\"data row6 col8\" >-0.021174</td>\n",
       "      <td id=\"T_30e67_row6_col9\" class=\"data row6 col9\" >0.004831</td>\n",
       "      <td id=\"T_30e67_row6_col10\" class=\"data row6 col10\" >0.046092</td>\n",
       "    </tr>\n",
       "    <tr>\n",
       "      <th id=\"T_30e67_level0_row7\" class=\"row_heading level0 row7\" >Guest_Popularity_percentage</th>\n",
       "      <td id=\"T_30e67_row7_col0\" class=\"data row7 col0\" >-0.004145</td>\n",
       "      <td id=\"T_30e67_row7_col1\" class=\"data row7 col1\" >0.038394</td>\n",
       "      <td id=\"T_30e67_row7_col2\" class=\"data row7 col2\" >0.006257</td>\n",
       "      <td id=\"T_30e67_row7_col3\" class=\"data row7 col3\" >0.000103</td>\n",
       "      <td id=\"T_30e67_row7_col4\" class=\"data row7 col4\" >-0.006775</td>\n",
       "      <td id=\"T_30e67_row7_col5\" class=\"data row7 col5\" >-0.009699</td>\n",
       "      <td id=\"T_30e67_row7_col6\" class=\"data row7 col6\" >0.023072</td>\n",
       "      <td id=\"T_30e67_row7_col7\" class=\"data row7 col7\" >1.000000</td>\n",
       "      <td id=\"T_30e67_row7_col8\" class=\"data row7 col8\" >0.009071</td>\n",
       "      <td id=\"T_30e67_row7_col9\" class=\"data row7 col9\" >0.001149</td>\n",
       "      <td id=\"T_30e67_row7_col10\" class=\"data row7 col10\" >-0.013246</td>\n",
       "    </tr>\n",
       "    <tr>\n",
       "      <th id=\"T_30e67_level0_row8\" class=\"row_heading level0 row8\" >Number_of_Ads</th>\n",
       "      <td id=\"T_30e67_row8_col0\" class=\"data row8 col0\" >0.008332</td>\n",
       "      <td id=\"T_30e67_row8_col1\" class=\"data row8 col1\" >0.007482</td>\n",
       "      <td id=\"T_30e67_row8_col2\" class=\"data row8 col2\" >-0.004431</td>\n",
       "      <td id=\"T_30e67_row8_col3\" class=\"data row8 col3\" >0.007247</td>\n",
       "      <td id=\"T_30e67_row8_col4\" class=\"data row8 col4\" >-0.008343</td>\n",
       "      <td id=\"T_30e67_row8_col5\" class=\"data row8 col5\" >-0.054865</td>\n",
       "      <td id=\"T_30e67_row8_col6\" class=\"data row8 col6\" >-0.021174</td>\n",
       "      <td id=\"T_30e67_row8_col7\" class=\"data row8 col7\" >0.009071</td>\n",
       "      <td id=\"T_30e67_row8_col8\" class=\"data row8 col8\" >1.000000</td>\n",
       "      <td id=\"T_30e67_row8_col9\" class=\"data row8 col9\" >-0.021429</td>\n",
       "      <td id=\"T_30e67_row8_col10\" class=\"data row8 col10\" >-0.122978</td>\n",
       "    </tr>\n",
       "    <tr>\n",
       "      <th id=\"T_30e67_level0_row9\" class=\"row_heading level0 row9\" >Episode_Sentiment</th>\n",
       "      <td id=\"T_30e67_row9_col0\" class=\"data row9 col0\" >0.002715</td>\n",
       "      <td id=\"T_30e67_row9_col1\" class=\"data row9 col1\" >-0.004185</td>\n",
       "      <td id=\"T_30e67_row9_col2\" class=\"data row9 col2\" >-0.003389</td>\n",
       "      <td id=\"T_30e67_row9_col3\" class=\"data row9 col3\" >0.003195</td>\n",
       "      <td id=\"T_30e67_row9_col4\" class=\"data row9 col4\" >0.010675</td>\n",
       "      <td id=\"T_30e67_row9_col5\" class=\"data row9 col5\" >0.020101</td>\n",
       "      <td id=\"T_30e67_row9_col6\" class=\"data row9 col6\" >0.004831</td>\n",
       "      <td id=\"T_30e67_row9_col7\" class=\"data row9 col7\" >0.001149</td>\n",
       "      <td id=\"T_30e67_row9_col8\" class=\"data row9 col8\" >-0.021429</td>\n",
       "      <td id=\"T_30e67_row9_col9\" class=\"data row9 col9\" >1.000000</td>\n",
       "      <td id=\"T_30e67_row9_col10\" class=\"data row9 col10\" >0.035618</td>\n",
       "    </tr>\n",
       "    <tr>\n",
       "      <th id=\"T_30e67_level0_row10\" class=\"row_heading level0 row10\" >Listening_Time_minutes</th>\n",
       "      <td id=\"T_30e67_row10_col0\" class=\"data row10 col0\" >0.004926</td>\n",
       "      <td id=\"T_30e67_row10_col1\" class=\"data row10 col1\" >-0.019772</td>\n",
       "      <td id=\"T_30e67_row10_col2\" class=\"data row10 col2\" >0.004616</td>\n",
       "      <td id=\"T_30e67_row10_col3\" class=\"data row10 col3\" >0.004828</td>\n",
       "      <td id=\"T_30e67_row10_col4\" class=\"data row10 col4\" >0.011506</td>\n",
       "      <td id=\"T_30e67_row10_col5\" class=\"data row10 col5\" >0.915462</td>\n",
       "      <td id=\"T_30e67_row10_col6\" class=\"data row10 col6\" >0.046092</td>\n",
       "      <td id=\"T_30e67_row10_col7\" class=\"data row10 col7\" >-0.013246</td>\n",
       "      <td id=\"T_30e67_row10_col8\" class=\"data row10 col8\" >-0.122978</td>\n",
       "      <td id=\"T_30e67_row10_col9\" class=\"data row10 col9\" >0.035618</td>\n",
       "      <td id=\"T_30e67_row10_col10\" class=\"data row10 col10\" >1.000000</td>\n",
       "    </tr>\n",
       "  </tbody>\n",
       "</table>\n"
      ],
      "text/plain": [
       "<pandas.io.formats.style.Styler at 0x7a27280d2350>"
      ]
     },
     "execution_count": 17,
     "metadata": {},
     "output_type": "execute_result"
    }
   ],
   "source": [
    "df_listening.corr().style.background_gradient(cmap='Greens')"
   ]
  },
  {
   "cell_type": "markdown",
   "id": "33b13873",
   "metadata": {
    "papermill": {
     "duration": 0.008806,
     "end_time": "2025-04-19T19:41:47.590169",
     "exception": false,
     "start_time": "2025-04-19T19:41:47.581363",
     "status": "completed"
    },
    "tags": []
   },
   "source": [
    "## Scaling"
   ]
  },
  {
   "cell_type": "code",
   "execution_count": 18,
   "id": "052f1fff",
   "metadata": {
    "execution": {
     "iopub.execute_input": "2025-04-19T19:41:47.610458Z",
     "iopub.status.busy": "2025-04-19T19:41:47.609586Z",
     "iopub.status.idle": "2025-04-19T19:41:47.630923Z",
     "shell.execute_reply": "2025-04-19T19:41:47.630072Z"
    },
    "papermill": {
     "duration": 0.033325,
     "end_time": "2025-04-19T19:41:47.632624",
     "exception": false,
     "start_time": "2025-04-19T19:41:47.599299",
     "status": "completed"
    },
    "tags": []
   },
   "outputs": [],
   "source": [
    "# We separate the target variable from the features and data to scale\n",
    "\n",
    "x_listening = df_listening.drop(columns=\"Listening_Time_minutes\")\n",
    "y_listening = df_listening[\"Listening_Time_minutes\"]"
   ]
  },
  {
   "cell_type": "code",
   "execution_count": 19,
   "id": "45f4c5c4",
   "metadata": {
    "execution": {
     "iopub.execute_input": "2025-04-19T19:41:47.652865Z",
     "iopub.status.busy": "2025-04-19T19:41:47.652230Z",
     "iopub.status.idle": "2025-04-19T19:41:47.788773Z",
     "shell.execute_reply": "2025-04-19T19:41:47.787860Z"
    },
    "papermill": {
     "duration": 0.148533,
     "end_time": "2025-04-19T19:41:47.790554",
     "exception": false,
     "start_time": "2025-04-19T19:41:47.642021",
     "status": "completed"
    },
    "tags": []
   },
   "outputs": [],
   "source": [
    "# Numerical variables to scale\n",
    "\n",
    "df_numeric = x_listening[[\n",
    "    \"Episode_Length_minutes\",\n",
    "    \"Host_Popularity_percentage\",\n",
    "    \"Guest_Popularity_percentage\"\n",
    "]]\n",
    "\n",
    "scaler = StandardScaler().set_output(transform=\"pandas\")\n",
    "scale_num = scaler.fit_transform(df_numeric)\n",
    "\n",
    "# We create a df with the remaining variables\n",
    "\n",
    "df_rest = x_listening.drop(\n",
    "    columns=[\"Episode_Length_minutes\",\n",
    "             \"Host_Popularity_percentage\",\n",
    "             \"Guest_Popularity_percentage\"]\n",
    ")\n",
    "\n",
    "# We concatenate the dataframes\n",
    "\n",
    "x_end = pd.concat([df_rest, scale_num], axis=1)"
   ]
  },
  {
   "cell_type": "code",
   "execution_count": 20,
   "id": "6f964f88",
   "metadata": {
    "execution": {
     "iopub.execute_input": "2025-04-19T19:41:47.811496Z",
     "iopub.status.busy": "2025-04-19T19:41:47.811203Z",
     "iopub.status.idle": "2025-04-19T19:41:48.185079Z",
     "shell.execute_reply": "2025-04-19T19:41:48.183156Z"
    },
    "papermill": {
     "duration": 0.386983,
     "end_time": "2025-04-19T19:41:48.187101",
     "exception": false,
     "start_time": "2025-04-19T19:41:47.800118",
     "status": "completed"
    },
    "tags": []
   },
   "outputs": [
    {
     "data": {
      "text/html": [
       "<div>\n",
       "<style scoped>\n",
       "    .dataframe tbody tr th:only-of-type {\n",
       "        vertical-align: middle;\n",
       "    }\n",
       "\n",
       "    .dataframe tbody tr th {\n",
       "        vertical-align: top;\n",
       "    }\n",
       "\n",
       "    .dataframe thead th {\n",
       "        text-align: right;\n",
       "    }\n",
       "</style>\n",
       "<table border=\"1\" class=\"dataframe\">\n",
       "  <thead>\n",
       "    <tr style=\"text-align: right;\">\n",
       "      <th></th>\n",
       "      <th>count</th>\n",
       "      <th>mean</th>\n",
       "      <th>std</th>\n",
       "      <th>min</th>\n",
       "      <th>25%</th>\n",
       "      <th>50%</th>\n",
       "      <th>75%</th>\n",
       "      <th>max</th>\n",
       "    </tr>\n",
       "  </thead>\n",
       "  <tbody>\n",
       "    <tr>\n",
       "      <th>Podcast_Name</th>\n",
       "      <td>539049.0</td>\n",
       "      <td>2.352814e+01</td>\n",
       "      <td>14.111985</td>\n",
       "      <td>0.000000</td>\n",
       "      <td>11.000000</td>\n",
       "      <td>23.000000</td>\n",
       "      <td>36.000000</td>\n",
       "      <td>47.000000</td>\n",
       "    </tr>\n",
       "    <tr>\n",
       "      <th>Episode_Title</th>\n",
       "      <td>539049.0</td>\n",
       "      <td>5.043880e+01</td>\n",
       "      <td>28.106487</td>\n",
       "      <td>0.000000</td>\n",
       "      <td>26.000000</td>\n",
       "      <td>52.000000</td>\n",
       "      <td>75.000000</td>\n",
       "      <td>99.000000</td>\n",
       "    </tr>\n",
       "    <tr>\n",
       "      <th>Genre</th>\n",
       "      <td>539049.0</td>\n",
       "      <td>4.646507e+00</td>\n",
       "      <td>2.959459</td>\n",
       "      <td>0.000000</td>\n",
       "      <td>2.000000</td>\n",
       "      <td>5.000000</td>\n",
       "      <td>7.000000</td>\n",
       "      <td>9.000000</td>\n",
       "    </tr>\n",
       "    <tr>\n",
       "      <th>Publication_Day</th>\n",
       "      <td>539049.0</td>\n",
       "      <td>2.956527e+00</td>\n",
       "      <td>2.000536</td>\n",
       "      <td>0.000000</td>\n",
       "      <td>1.000000</td>\n",
       "      <td>3.000000</td>\n",
       "      <td>5.000000</td>\n",
       "      <td>6.000000</td>\n",
       "    </tr>\n",
       "    <tr>\n",
       "      <th>Publication_Time</th>\n",
       "      <td>539049.0</td>\n",
       "      <td>1.529894e+00</td>\n",
       "      <td>1.121581</td>\n",
       "      <td>0.000000</td>\n",
       "      <td>1.000000</td>\n",
       "      <td>2.000000</td>\n",
       "      <td>3.000000</td>\n",
       "      <td>3.000000</td>\n",
       "    </tr>\n",
       "    <tr>\n",
       "      <th>Number_of_Ads</th>\n",
       "      <td>539049.0</td>\n",
       "      <td>1.323776e+00</td>\n",
       "      <td>1.104495</td>\n",
       "      <td>0.000000</td>\n",
       "      <td>0.000000</td>\n",
       "      <td>1.000000</td>\n",
       "      <td>2.000000</td>\n",
       "      <td>3.000000</td>\n",
       "    </tr>\n",
       "    <tr>\n",
       "      <th>Episode_Sentiment</th>\n",
       "      <td>539049.0</td>\n",
       "      <td>9.963640e-01</td>\n",
       "      <td>0.815434</td>\n",
       "      <td>0.000000</td>\n",
       "      <td>0.000000</td>\n",
       "      <td>1.000000</td>\n",
       "      <td>2.000000</td>\n",
       "      <td>2.000000</td>\n",
       "    </tr>\n",
       "    <tr>\n",
       "      <th>Episode_Length_minutes</th>\n",
       "      <td>539049.0</td>\n",
       "      <td>2.024665e-16</td>\n",
       "      <td>1.000001</td>\n",
       "      <td>-1.925046</td>\n",
       "      <td>-0.869745</td>\n",
       "      <td>-0.026965</td>\n",
       "      <td>0.895777</td>\n",
       "      <td>7.925639</td>\n",
       "    </tr>\n",
       "    <tr>\n",
       "      <th>Host_Popularity_percentage</th>\n",
       "      <td>539049.0</td>\n",
       "      <td>-7.782306e-17</td>\n",
       "      <td>1.000001</td>\n",
       "      <td>-2.557827</td>\n",
       "      <td>-0.891669</td>\n",
       "      <td>0.000948</td>\n",
       "      <td>0.859855</td>\n",
       "      <td>1.762978</td>\n",
       "    </tr>\n",
       "    <tr>\n",
       "      <th>Guest_Popularity_percentage</th>\n",
       "      <td>539049.0</td>\n",
       "      <td>-3.732976e-17</td>\n",
       "      <td>1.000001</td>\n",
       "      <td>-1.832130</td>\n",
       "      <td>-0.840894</td>\n",
       "      <td>0.048974</td>\n",
       "      <td>0.857817</td>\n",
       "      <td>1.675429</td>\n",
       "    </tr>\n",
       "  </tbody>\n",
       "</table>\n",
       "</div>"
      ],
      "text/plain": [
       "                                count          mean        std       min  \\\n",
       "Podcast_Name                 539049.0  2.352814e+01  14.111985  0.000000   \n",
       "Episode_Title                539049.0  5.043880e+01  28.106487  0.000000   \n",
       "Genre                        539049.0  4.646507e+00   2.959459  0.000000   \n",
       "Publication_Day              539049.0  2.956527e+00   2.000536  0.000000   \n",
       "Publication_Time             539049.0  1.529894e+00   1.121581  0.000000   \n",
       "Number_of_Ads                539049.0  1.323776e+00   1.104495  0.000000   \n",
       "Episode_Sentiment            539049.0  9.963640e-01   0.815434  0.000000   \n",
       "Episode_Length_minutes       539049.0  2.024665e-16   1.000001 -1.925046   \n",
       "Host_Popularity_percentage   539049.0 -7.782306e-17   1.000001 -2.557827   \n",
       "Guest_Popularity_percentage  539049.0 -3.732976e-17   1.000001 -1.832130   \n",
       "\n",
       "                                   25%        50%        75%        max  \n",
       "Podcast_Name                 11.000000  23.000000  36.000000  47.000000  \n",
       "Episode_Title                26.000000  52.000000  75.000000  99.000000  \n",
       "Genre                         2.000000   5.000000   7.000000   9.000000  \n",
       "Publication_Day               1.000000   3.000000   5.000000   6.000000  \n",
       "Publication_Time              1.000000   2.000000   3.000000   3.000000  \n",
       "Number_of_Ads                 0.000000   1.000000   2.000000   3.000000  \n",
       "Episode_Sentiment             0.000000   1.000000   2.000000   2.000000  \n",
       "Episode_Length_minutes       -0.869745  -0.026965   0.895777   7.925639  \n",
       "Host_Popularity_percentage   -0.891669   0.000948   0.859855   1.762978  \n",
       "Guest_Popularity_percentage  -0.840894   0.048974   0.857817   1.675429  "
      ]
     },
     "execution_count": 20,
     "metadata": {},
     "output_type": "execute_result"
    }
   ],
   "source": [
    "x_end.describe().T"
   ]
  },
  {
   "cell_type": "markdown",
   "id": "acc3eb95",
   "metadata": {
    "papermill": {
     "duration": 0.013574,
     "end_time": "2025-04-19T19:41:48.211649",
     "exception": false,
     "start_time": "2025-04-19T19:41:48.198075",
     "status": "completed"
    },
    "tags": []
   },
   "source": [
    "## Feature Selection"
   ]
  },
  {
   "cell_type": "code",
   "execution_count": 21,
   "id": "a42cd67c",
   "metadata": {
    "execution": {
     "iopub.execute_input": "2025-04-19T19:41:48.235188Z",
     "iopub.status.busy": "2025-04-19T19:41:48.234854Z",
     "iopub.status.idle": "2025-04-19T19:41:48.240928Z",
     "shell.execute_reply": "2025-04-19T19:41:48.239998Z"
    },
    "papermill": {
     "duration": 0.019886,
     "end_time": "2025-04-19T19:41:48.242578",
     "exception": false,
     "start_time": "2025-04-19T19:41:48.222692",
     "status": "completed"
    },
    "tags": []
   },
   "outputs": [
    {
     "data": {
      "text/plain": [
       "'\\nmi_scores = mutual_info_regression(x_end, y_listening)\\nmi_scores = pd.Series(mi_scores, name=\"MI Scores\", index=x_end.columns)\\nmi_scores = mi_scores.sort_values(ascending=False)\\nmi_scores\\n'"
      ]
     },
     "execution_count": 21,
     "metadata": {},
     "output_type": "execute_result"
    }
   ],
   "source": [
    "'''\n",
    "mi_scores = mutual_info_regression(x_end, y_listening)\n",
    "mi_scores = pd.Series(mi_scores, name=\"MI Scores\", index=x_end.columns)\n",
    "mi_scores = mi_scores.sort_values(ascending=False)\n",
    "mi_scores\n",
    "'''"
   ]
  },
  {
   "cell_type": "markdown",
   "id": "12138518",
   "metadata": {
    "papermill": {
     "duration": 0.01146,
     "end_time": "2025-04-19T19:41:48.265631",
     "exception": false,
     "start_time": "2025-04-19T19:41:48.254171",
     "status": "completed"
    },
    "tags": []
   },
   "source": [
    "Basándome en la correlación y la importancia mutua me desprendo de algunas variables. Probar otras combinaciones y métodos de selección de variables."
   ]
  },
  {
   "cell_type": "code",
   "execution_count": 22,
   "id": "67e7ecaf",
   "metadata": {
    "execution": {
     "iopub.execute_input": "2025-04-19T19:41:48.287576Z",
     "iopub.status.busy": "2025-04-19T19:41:48.287272Z",
     "iopub.status.idle": "2025-04-19T19:41:48.291167Z",
     "shell.execute_reply": "2025-04-19T19:41:48.290356Z"
    },
    "papermill": {
     "duration": 0.016035,
     "end_time": "2025-04-19T19:41:48.292584",
     "exception": false,
     "start_time": "2025-04-19T19:41:48.276549",
     "status": "completed"
    },
    "tags": []
   },
   "outputs": [],
   "source": [
    "#x_end = x_end.drop(columns=[\"Podcast_Name\", \"Episode_Title\"])"
   ]
  },
  {
   "cell_type": "code",
   "execution_count": 23,
   "id": "9eb923ee",
   "metadata": {
    "execution": {
     "iopub.execute_input": "2025-04-19T19:41:48.313423Z",
     "iopub.status.busy": "2025-04-19T19:41:48.313100Z",
     "iopub.status.idle": "2025-04-19T19:41:48.344637Z",
     "shell.execute_reply": "2025-04-19T19:41:48.343090Z"
    },
    "papermill": {
     "duration": 0.044284,
     "end_time": "2025-04-19T19:41:48.346566",
     "exception": false,
     "start_time": "2025-04-19T19:41:48.302282",
     "status": "completed"
    },
    "tags": []
   },
   "outputs": [
    {
     "name": "stdout",
     "output_type": "stream",
     "text": [
      "<class 'pandas.core.frame.DataFrame'>\n",
      "Index: 539049 entries, 1 to 749999\n",
      "Data columns (total 10 columns):\n",
      " #   Column                       Non-Null Count   Dtype  \n",
      "---  ------                       --------------   -----  \n",
      " 0   Podcast_Name                 539049 non-null  float64\n",
      " 1   Episode_Title                539049 non-null  float64\n",
      " 2   Genre                        539049 non-null  float64\n",
      " 3   Publication_Day              539049 non-null  float64\n",
      " 4   Publication_Time             539049 non-null  float64\n",
      " 5   Number_of_Ads                539049 non-null  float64\n",
      " 6   Episode_Sentiment            539049 non-null  float64\n",
      " 7   Episode_Length_minutes       539049 non-null  float64\n",
      " 8   Host_Popularity_percentage   539049 non-null  float64\n",
      " 9   Guest_Popularity_percentage  539049 non-null  float64\n",
      "dtypes: float64(10)\n",
      "memory usage: 45.2 MB\n"
     ]
    }
   ],
   "source": [
    "x_end.info()"
   ]
  },
  {
   "cell_type": "markdown",
   "id": "e8e4b7b1",
   "metadata": {
    "papermill": {
     "duration": 0.0093,
     "end_time": "2025-04-19T19:41:48.365758",
     "exception": false,
     "start_time": "2025-04-19T19:41:48.356458",
     "status": "completed"
    },
    "tags": []
   },
   "source": [
    "# Model Selection"
   ]
  },
  {
   "cell_type": "code",
   "execution_count": 24,
   "id": "4dec02e7",
   "metadata": {
    "execution": {
     "iopub.execute_input": "2025-04-19T19:41:48.387322Z",
     "iopub.status.busy": "2025-04-19T19:41:48.386974Z",
     "iopub.status.idle": "2025-04-19T19:41:48.489353Z",
     "shell.execute_reply": "2025-04-19T19:41:48.487758Z"
    },
    "papermill": {
     "duration": 0.11489,
     "end_time": "2025-04-19T19:41:48.491097",
     "exception": false,
     "start_time": "2025-04-19T19:41:48.376207",
     "status": "completed"
    },
    "tags": []
   },
   "outputs": [],
   "source": [
    "# We separate the data into training and validation sets\n",
    "\n",
    "x_train, x_val, y_train, y_val = (\n",
    "    train_test_split(\n",
    "        x_end, y_listening, test_size=0.2, random_state=42\n",
    "    )\n",
    ")"
   ]
  },
  {
   "cell_type": "code",
   "execution_count": 25,
   "id": "770107bf",
   "metadata": {
    "execution": {
     "iopub.execute_input": "2025-04-19T19:41:48.512055Z",
     "iopub.status.busy": "2025-04-19T19:41:48.511390Z",
     "iopub.status.idle": "2025-04-19T19:41:48.516125Z",
     "shell.execute_reply": "2025-04-19T19:41:48.515188Z"
    },
    "papermill": {
     "duration": 0.016736,
     "end_time": "2025-04-19T19:41:48.517612",
     "exception": false,
     "start_time": "2025-04-19T19:41:48.500876",
     "status": "completed"
    },
    "tags": []
   },
   "outputs": [],
   "source": [
    "# Create the KFold object\n",
    "\n",
    "kfold = KFold(n_splits=10, shuffle=True, random_state=42)"
   ]
  },
  {
   "cell_type": "markdown",
   "id": "9a336253",
   "metadata": {
    "papermill": {
     "duration": 0.009415,
     "end_time": "2025-04-19T19:41:48.536851",
     "exception": false,
     "start_time": "2025-04-19T19:41:48.527436",
     "status": "completed"
    },
    "tags": []
   },
   "source": [
    "## XGBRegressor"
   ]
  },
  {
   "cell_type": "code",
   "execution_count": 26,
   "id": "bccd61b2",
   "metadata": {
    "execution": {
     "iopub.execute_input": "2025-04-19T19:41:48.559182Z",
     "iopub.status.busy": "2025-04-19T19:41:48.558829Z",
     "iopub.status.idle": "2025-04-19T19:41:48.565783Z",
     "shell.execute_reply": "2025-04-19T19:41:48.564716Z"
    },
    "papermill": {
     "duration": 0.019888,
     "end_time": "2025-04-19T19:41:48.567352",
     "exception": false,
     "start_time": "2025-04-19T19:41:48.547464",
     "status": "completed"
    },
    "tags": []
   },
   "outputs": [
    {
     "data": {
      "text/plain": [
       "{'objective': 'reg:squarederror',\n",
       " 'base_score': None,\n",
       " 'booster': None,\n",
       " 'callbacks': None,\n",
       " 'colsample_bylevel': None,\n",
       " 'colsample_bynode': None,\n",
       " 'colsample_bytree': None,\n",
       " 'device': None,\n",
       " 'early_stopping_rounds': None,\n",
       " 'enable_categorical': False,\n",
       " 'eval_metric': None,\n",
       " 'feature_types': None,\n",
       " 'gamma': None,\n",
       " 'grow_policy': None,\n",
       " 'importance_type': None,\n",
       " 'interaction_constraints': None,\n",
       " 'learning_rate': None,\n",
       " 'max_bin': None,\n",
       " 'max_cat_threshold': None,\n",
       " 'max_cat_to_onehot': None,\n",
       " 'max_delta_step': None,\n",
       " 'max_depth': None,\n",
       " 'max_leaves': None,\n",
       " 'min_child_weight': None,\n",
       " 'missing': nan,\n",
       " 'monotone_constraints': None,\n",
       " 'multi_strategy': None,\n",
       " 'n_estimators': None,\n",
       " 'n_jobs': None,\n",
       " 'num_parallel_tree': None,\n",
       " 'random_state': None,\n",
       " 'reg_alpha': None,\n",
       " 'reg_lambda': None,\n",
       " 'sampling_method': None,\n",
       " 'scale_pos_weight': None,\n",
       " 'subsample': None,\n",
       " 'tree_method': None,\n",
       " 'validate_parameters': None,\n",
       " 'verbosity': None}"
      ]
     },
     "execution_count": 26,
     "metadata": {},
     "output_type": "execute_result"
    }
   ],
   "source": [
    "# We create the model instance\n",
    "\n",
    "xgbr = XGBRegressor()\n",
    "xgbr.get_params()"
   ]
  },
  {
   "cell_type": "code",
   "execution_count": 27,
   "id": "fc04451b",
   "metadata": {
    "execution": {
     "iopub.execute_input": "2025-04-19T19:41:48.590798Z",
     "iopub.status.busy": "2025-04-19T19:41:48.590458Z",
     "iopub.status.idle": "2025-04-19T19:49:11.131863Z",
     "shell.execute_reply": "2025-04-19T19:49:11.130691Z"
    },
    "papermill": {
     "duration": 442.568574,
     "end_time": "2025-04-19T19:49:11.145866",
     "exception": false,
     "start_time": "2025-04-19T19:41:48.577292",
     "status": "completed"
    },
    "tags": []
   },
   "outputs": [
    {
     "name": "stdout",
     "output_type": "stream",
     "text": [
      "Parameters: {'subsample': 0.9, 'n_estimators': 200, 'max_depth': 6, 'learning_rate': 0.1, 'gamma': 0.8}\n",
      "Score: -10.391169743543811\n"
     ]
    }
   ],
   "source": [
    "# We establish the parameters to test\n",
    "\n",
    "xgbr_param_grid = {\n",
    "    \"gamma\" : [0.1, 0.5, 0.8, 0, 1],\n",
    "    \"max_depth\" : [3, 4, 5, 6, 7],\n",
    "    \"learning_rate\" : [0.2, 0.1, 0.01, 0.001],\n",
    "    \"subsample\" : [0.5, 0.6, 0.7, 0.8, 0.9, 1],\n",
    "    \"n_estimators\" : [50, 100, 150, 200]\n",
    "}\n",
    "\n",
    "xgbr_grid = RandomizedSearchCV(\n",
    "    xgbr,\n",
    "    xgbr_param_grid,\n",
    "    cv=kfold,\n",
    "    scoring=\"neg_root_mean_squared_error\",\n",
    "    return_train_score=True\n",
    ")\n",
    "\n",
    "xgbr_search = xgbr_grid.fit(x_train, y_train)\n",
    "\n",
    "print(\n",
    "    f'Parameters: {xgbr_search.best_params_}\\nScore: {xgbr_search.best_score_}'\n",
    ")"
   ]
  },
  {
   "cell_type": "code",
   "execution_count": 28,
   "id": "c1c41027",
   "metadata": {
    "execution": {
     "iopub.execute_input": "2025-04-19T19:49:11.182238Z",
     "iopub.status.busy": "2025-04-19T19:49:11.181911Z",
     "iopub.status.idle": "2025-04-19T19:49:11.648537Z",
     "shell.execute_reply": "2025-04-19T19:49:11.647513Z"
    },
    "papermill": {
     "duration": 0.482661,
     "end_time": "2025-04-19T19:49:11.650388",
     "exception": false,
     "start_time": "2025-04-19T19:49:11.167727",
     "status": "completed"
    },
    "tags": []
   },
   "outputs": [
    {
     "name": "stdout",
     "output_type": "stream",
     "text": [
      "XGBRegressor optimization\n",
      "\n",
      "R-squared score: 0.8547889998687307\n",
      "RMSE: 10.363032662594255\n"
     ]
    }
   ],
   "source": [
    "# We evaluate the performance after an initial optimization\n",
    "\n",
    "y_pred_xgbr = xgbr_search.best_estimator_.predict(x_val)\n",
    "\n",
    "r2_xgbr = r2_score(y_val, y_pred_xgbr)\n",
    "\n",
    "rmse_xgbr = np.sqrt(mean_squared_error(y_val, y_pred_xgbr))\n",
    "\n",
    "print(f\"XGBRegressor optimization\\n\\nR-squared score: {r2_xgbr}\\nRMSE: {rmse_xgbr}\")"
   ]
  },
  {
   "cell_type": "markdown",
   "id": "12450f3f",
   "metadata": {
    "papermill": {
     "duration": 0.010073,
     "end_time": "2025-04-19T19:49:11.671142",
     "exception": false,
     "start_time": "2025-04-19T19:49:11.661069",
     "status": "completed"
    },
    "tags": []
   },
   "source": [
    "# Final Model"
   ]
  },
  {
   "cell_type": "code",
   "execution_count": 29,
   "id": "09aec031",
   "metadata": {
    "execution": {
     "iopub.execute_input": "2025-04-19T19:49:11.691952Z",
     "iopub.status.busy": "2025-04-19T19:49:11.691612Z",
     "iopub.status.idle": "2025-04-19T19:49:16.636906Z",
     "shell.execute_reply": "2025-04-19T19:49:16.635927Z"
    },
    "papermill": {
     "duration": 4.957516,
     "end_time": "2025-04-19T19:49:16.638438",
     "exception": false,
     "start_time": "2025-04-19T19:49:11.680922",
     "status": "completed"
    },
    "tags": []
   },
   "outputs": [
    {
     "data": {
      "text/html": [
       "<style>#sk-container-id-1 {color: black;background-color: white;}#sk-container-id-1 pre{padding: 0;}#sk-container-id-1 div.sk-toggleable {background-color: white;}#sk-container-id-1 label.sk-toggleable__label {cursor: pointer;display: block;width: 100%;margin-bottom: 0;padding: 0.3em;box-sizing: border-box;text-align: center;}#sk-container-id-1 label.sk-toggleable__label-arrow:before {content: \"▸\";float: left;margin-right: 0.25em;color: #696969;}#sk-container-id-1 label.sk-toggleable__label-arrow:hover:before {color: black;}#sk-container-id-1 div.sk-estimator:hover label.sk-toggleable__label-arrow:before {color: black;}#sk-container-id-1 div.sk-toggleable__content {max-height: 0;max-width: 0;overflow: hidden;text-align: left;background-color: #f0f8ff;}#sk-container-id-1 div.sk-toggleable__content pre {margin: 0.2em;color: black;border-radius: 0.25em;background-color: #f0f8ff;}#sk-container-id-1 input.sk-toggleable__control:checked~div.sk-toggleable__content {max-height: 200px;max-width: 100%;overflow: auto;}#sk-container-id-1 input.sk-toggleable__control:checked~label.sk-toggleable__label-arrow:before {content: \"▾\";}#sk-container-id-1 div.sk-estimator input.sk-toggleable__control:checked~label.sk-toggleable__label {background-color: #d4ebff;}#sk-container-id-1 div.sk-label input.sk-toggleable__control:checked~label.sk-toggleable__label {background-color: #d4ebff;}#sk-container-id-1 input.sk-hidden--visually {border: 0;clip: rect(1px 1px 1px 1px);clip: rect(1px, 1px, 1px, 1px);height: 1px;margin: -1px;overflow: hidden;padding: 0;position: absolute;width: 1px;}#sk-container-id-1 div.sk-estimator {font-family: monospace;background-color: #f0f8ff;border: 1px dotted black;border-radius: 0.25em;box-sizing: border-box;margin-bottom: 0.5em;}#sk-container-id-1 div.sk-estimator:hover {background-color: #d4ebff;}#sk-container-id-1 div.sk-parallel-item::after {content: \"\";width: 100%;border-bottom: 1px solid gray;flex-grow: 1;}#sk-container-id-1 div.sk-label:hover label.sk-toggleable__label {background-color: #d4ebff;}#sk-container-id-1 div.sk-serial::before {content: \"\";position: absolute;border-left: 1px solid gray;box-sizing: border-box;top: 0;bottom: 0;left: 50%;z-index: 0;}#sk-container-id-1 div.sk-serial {display: flex;flex-direction: column;align-items: center;background-color: white;padding-right: 0.2em;padding-left: 0.2em;position: relative;}#sk-container-id-1 div.sk-item {position: relative;z-index: 1;}#sk-container-id-1 div.sk-parallel {display: flex;align-items: stretch;justify-content: center;background-color: white;position: relative;}#sk-container-id-1 div.sk-item::before, #sk-container-id-1 div.sk-parallel-item::before {content: \"\";position: absolute;border-left: 1px solid gray;box-sizing: border-box;top: 0;bottom: 0;left: 50%;z-index: -1;}#sk-container-id-1 div.sk-parallel-item {display: flex;flex-direction: column;z-index: 1;position: relative;background-color: white;}#sk-container-id-1 div.sk-parallel-item:first-child::after {align-self: flex-end;width: 50%;}#sk-container-id-1 div.sk-parallel-item:last-child::after {align-self: flex-start;width: 50%;}#sk-container-id-1 div.sk-parallel-item:only-child::after {width: 0;}#sk-container-id-1 div.sk-dashed-wrapped {border: 1px dashed gray;margin: 0 0.4em 0.5em 0.4em;box-sizing: border-box;padding-bottom: 0.4em;background-color: white;}#sk-container-id-1 div.sk-label label {font-family: monospace;font-weight: bold;display: inline-block;line-height: 1.2em;}#sk-container-id-1 div.sk-label-container {text-align: center;}#sk-container-id-1 div.sk-container {/* jupyter's `normalize.less` sets `[hidden] { display: none; }` but bootstrap.min.css set `[hidden] { display: none !important; }` so we also need the `!important` here to be able to override the default hidden behavior on the sphinx rendered scikit-learn.org. See: https://github.com/scikit-learn/scikit-learn/issues/21755 */display: inline-block !important;position: relative;}#sk-container-id-1 div.sk-text-repr-fallback {display: none;}</style><div id=\"sk-container-id-1\" class=\"sk-top-container\"><div class=\"sk-text-repr-fallback\"><pre>XGBRegressor(base_score=None, booster=None, callbacks=None,\n",
       "             colsample_bylevel=None, colsample_bynode=None,\n",
       "             colsample_bytree=None, device=None, early_stopping_rounds=None,\n",
       "             enable_categorical=False, eval_metric=None, feature_types=None,\n",
       "             gamma=0.8, grow_policy=None, importance_type=None,\n",
       "             interaction_constraints=None, learning_rate=0.1, max_bin=None,\n",
       "             max_cat_threshold=None, max_cat_to_onehot=None,\n",
       "             max_delta_step=None, max_depth=6, max_leaves=None,\n",
       "             min_child_weight=None, missing=nan, monotone_constraints=None,\n",
       "             multi_strategy=None, n_estimators=200, n_jobs=None,\n",
       "             num_parallel_tree=None, random_state=None, ...)</pre><b>In a Jupyter environment, please rerun this cell to show the HTML representation or trust the notebook. <br />On GitHub, the HTML representation is unable to render, please try loading this page with nbviewer.org.</b></div><div class=\"sk-container\" hidden><div class=\"sk-item\"><div class=\"sk-estimator sk-toggleable\"><input class=\"sk-toggleable__control sk-hidden--visually\" id=\"sk-estimator-id-1\" type=\"checkbox\" checked><label for=\"sk-estimator-id-1\" class=\"sk-toggleable__label sk-toggleable__label-arrow\">XGBRegressor</label><div class=\"sk-toggleable__content\"><pre>XGBRegressor(base_score=None, booster=None, callbacks=None,\n",
       "             colsample_bylevel=None, colsample_bynode=None,\n",
       "             colsample_bytree=None, device=None, early_stopping_rounds=None,\n",
       "             enable_categorical=False, eval_metric=None, feature_types=None,\n",
       "             gamma=0.8, grow_policy=None, importance_type=None,\n",
       "             interaction_constraints=None, learning_rate=0.1, max_bin=None,\n",
       "             max_cat_threshold=None, max_cat_to_onehot=None,\n",
       "             max_delta_step=None, max_depth=6, max_leaves=None,\n",
       "             min_child_weight=None, missing=nan, monotone_constraints=None,\n",
       "             multi_strategy=None, n_estimators=200, n_jobs=None,\n",
       "             num_parallel_tree=None, random_state=None, ...)</pre></div></div></div></div></div>"
      ],
      "text/plain": [
       "XGBRegressor(base_score=None, booster=None, callbacks=None,\n",
       "             colsample_bylevel=None, colsample_bynode=None,\n",
       "             colsample_bytree=None, device=None, early_stopping_rounds=None,\n",
       "             enable_categorical=False, eval_metric=None, feature_types=None,\n",
       "             gamma=0.8, grow_policy=None, importance_type=None,\n",
       "             interaction_constraints=None, learning_rate=0.1, max_bin=None,\n",
       "             max_cat_threshold=None, max_cat_to_onehot=None,\n",
       "             max_delta_step=None, max_depth=6, max_leaves=None,\n",
       "             min_child_weight=None, missing=nan, monotone_constraints=None,\n",
       "             multi_strategy=None, n_estimators=200, n_jobs=None,\n",
       "             num_parallel_tree=None, random_state=None, ...)"
      ]
     },
     "execution_count": 29,
     "metadata": {},
     "output_type": "execute_result"
    }
   ],
   "source": [
    "final_model = xgbr_search.best_estimator_\n",
    "\n",
    "# We fit the best model\n",
    "\n",
    "final_model.fit(x_train, y_train)"
   ]
  },
  {
   "cell_type": "code",
   "execution_count": 30,
   "id": "1bbd1aa4",
   "metadata": {
    "execution": {
     "iopub.execute_input": "2025-04-19T19:49:16.661429Z",
     "iopub.status.busy": "2025-04-19T19:49:16.661060Z",
     "iopub.status.idle": "2025-04-19T19:49:16.965957Z",
     "shell.execute_reply": "2025-04-19T19:49:16.964930Z"
    },
    "papermill": {
     "duration": 0.318591,
     "end_time": "2025-04-19T19:49:16.967405",
     "exception": false,
     "start_time": "2025-04-19T19:49:16.648814",
     "status": "completed"
    },
    "tags": []
   },
   "outputs": [
    {
     "name": "stdout",
     "output_type": "stream",
     "text": [
      "Final Model RMSE Score: 10.363\n"
     ]
    }
   ],
   "source": [
    "# We evaluate the performance of the final model\n",
    "\n",
    "final_model_ypred = final_model.predict(x_val)\n",
    "\n",
    "final_model_rmse = np.sqrt(mean_squared_error(y_val, final_model_ypred))\n",
    "\n",
    "print(\"Final Model RMSE Score: %.3f\" % final_model_rmse)"
   ]
  },
  {
   "cell_type": "code",
   "execution_count": 31,
   "id": "de10ea46",
   "metadata": {
    "execution": {
     "iopub.execute_input": "2025-04-19T19:49:16.989683Z",
     "iopub.status.busy": "2025-04-19T19:49:16.989374Z",
     "iopub.status.idle": "2025-04-19T19:49:16.995019Z",
     "shell.execute_reply": "2025-04-19T19:49:16.994135Z"
    },
    "papermill": {
     "duration": 0.018625,
     "end_time": "2025-04-19T19:49:16.996415",
     "exception": false,
     "start_time": "2025-04-19T19:49:16.977790",
     "status": "completed"
    },
    "tags": []
   },
   "outputs": [
    {
     "data": {
      "text/plain": [
       "'\\n# We create an explainer for the best estimator\\n\\nexplainer = shap.Explainer(final_model)\\nshap_values = explainer.shap_values(x_val)\\n\\n# we visualize the importance\\n\\nfig = shap.summary_plot(\\n    shap_values,\\n    x_val,\\n    show=False\\n)\\nplt.title(\"Feature Importance\", fontsize=20, color=\\'g\\', loc=\\'left\\')\\nplt.xlabel(\"Mean SHAP Values\", fontsize=20)\\nplt.ylabel(\"Features\", fontsize=20)\\nplt.show()\\n'"
      ]
     },
     "execution_count": 31,
     "metadata": {},
     "output_type": "execute_result"
    }
   ],
   "source": [
    "'''\n",
    "# We create an explainer for the best estimator\n",
    "\n",
    "explainer = shap.Explainer(final_model)\n",
    "shap_values = explainer.shap_values(x_val)\n",
    "\n",
    "# we visualize the importance\n",
    "\n",
    "fig = shap.summary_plot(\n",
    "    shap_values,\n",
    "    x_val,\n",
    "    show=False\n",
    ")\n",
    "plt.title(\"Feature Importance\", fontsize=20, color='g', loc='left')\n",
    "plt.xlabel(\"Mean SHAP Values\", fontsize=20)\n",
    "plt.ylabel(\"Features\", fontsize=20)\n",
    "plt.show()\n",
    "'''"
   ]
  },
  {
   "cell_type": "markdown",
   "id": "07f0489c",
   "metadata": {
    "papermill": {
     "duration": 0.009864,
     "end_time": "2025-04-19T19:49:17.017175",
     "exception": false,
     "start_time": "2025-04-19T19:49:17.007311",
     "status": "completed"
    },
    "tags": []
   },
   "source": [
    "# Test data"
   ]
  },
  {
   "cell_type": "code",
   "execution_count": 32,
   "id": "623b9181",
   "metadata": {
    "execution": {
     "iopub.execute_input": "2025-04-19T19:49:17.038954Z",
     "iopub.status.busy": "2025-04-19T19:49:17.038616Z",
     "iopub.status.idle": "2025-04-19T19:49:17.543252Z",
     "shell.execute_reply": "2025-04-19T19:49:17.542373Z"
    },
    "papermill": {
     "duration": 0.517513,
     "end_time": "2025-04-19T19:49:17.544942",
     "exception": false,
     "start_time": "2025-04-19T19:49:17.027429",
     "status": "completed"
    },
    "tags": []
   },
   "outputs": [],
   "source": [
    "# We load the test data\n",
    "\n",
    "df_test = pd.read_csv(\"/kaggle/input/playground-series-s5e4/test.csv\")"
   ]
  },
  {
   "cell_type": "code",
   "execution_count": 33,
   "id": "bd796673",
   "metadata": {
    "execution": {
     "iopub.execute_input": "2025-04-19T19:49:17.568506Z",
     "iopub.status.busy": "2025-04-19T19:49:17.568193Z",
     "iopub.status.idle": "2025-04-19T19:49:17.580627Z",
     "shell.execute_reply": "2025-04-19T19:49:17.579620Z"
    },
    "papermill": {
     "duration": 0.026408,
     "end_time": "2025-04-19T19:49:17.582383",
     "exception": false,
     "start_time": "2025-04-19T19:49:17.555975",
     "status": "completed"
    },
    "tags": []
   },
   "outputs": [],
   "source": [
    "df_test_new = df_test.copy()"
   ]
  },
  {
   "cell_type": "code",
   "execution_count": 34,
   "id": "c228a348",
   "metadata": {
    "execution": {
     "iopub.execute_input": "2025-04-19T19:49:17.606291Z",
     "iopub.status.busy": "2025-04-19T19:49:17.605506Z",
     "iopub.status.idle": "2025-04-19T19:49:17.781321Z",
     "shell.execute_reply": "2025-04-19T19:49:17.780247Z"
    },
    "papermill": {
     "duration": 0.189356,
     "end_time": "2025-04-19T19:49:17.782848",
     "exception": false,
     "start_time": "2025-04-19T19:49:17.593492",
     "status": "completed"
    },
    "tags": []
   },
   "outputs": [
    {
     "data": {
      "text/html": [
       "<style type=\"text/css\">\n",
       "#T_1df01_row0_col0, #T_1df01_row0_col1, #T_1df01_row1_col0, #T_1df01_row1_col1, #T_1df01_row2_col0, #T_1df01_row2_col1, #T_1df01_row4_col0, #T_1df01_row4_col1, #T_1df01_row5_col0, #T_1df01_row5_col1, #T_1df01_row6_col0, #T_1df01_row6_col1, #T_1df01_row7_col0, #T_1df01_row7_col1, #T_1df01_row9_col0, #T_1df01_row9_col1, #T_1df01_row10_col0, #T_1df01_row10_col1 {\n",
       "  background-color: #f7fcf5;\n",
       "  color: #000000;\n",
       "}\n",
       "#T_1df01_row3_col0, #T_1df01_row3_col1 {\n",
       "  background-color: #50b264;\n",
       "  color: #f1f1f1;\n",
       "}\n",
       "#T_1df01_row8_col0, #T_1df01_row8_col1 {\n",
       "  background-color: #00441b;\n",
       "  color: #f1f1f1;\n",
       "}\n",
       "</style>\n",
       "<table id=\"T_1df01\">\n",
       "  <thead>\n",
       "    <tr>\n",
       "      <th class=\"blank level0\" >&nbsp;</th>\n",
       "      <th id=\"T_1df01_level0_col0\" class=\"col_heading level0 col0\" >Amount of Null Data</th>\n",
       "      <th id=\"T_1df01_level0_col1\" class=\"col_heading level0 col1\" >Percentage of Null Data</th>\n",
       "    </tr>\n",
       "  </thead>\n",
       "  <tbody>\n",
       "    <tr>\n",
       "      <th id=\"T_1df01_level0_row0\" class=\"row_heading level0 row0\" >id</th>\n",
       "      <td id=\"T_1df01_row0_col0\" class=\"data row0 col0\" >0</td>\n",
       "      <td id=\"T_1df01_row0_col1\" class=\"data row0 col1\" >0.000000</td>\n",
       "    </tr>\n",
       "    <tr>\n",
       "      <th id=\"T_1df01_level0_row1\" class=\"row_heading level0 row1\" >Podcast_Name</th>\n",
       "      <td id=\"T_1df01_row1_col0\" class=\"data row1 col0\" >0</td>\n",
       "      <td id=\"T_1df01_row1_col1\" class=\"data row1 col1\" >0.000000</td>\n",
       "    </tr>\n",
       "    <tr>\n",
       "      <th id=\"T_1df01_level0_row2\" class=\"row_heading level0 row2\" >Episode_Title</th>\n",
       "      <td id=\"T_1df01_row2_col0\" class=\"data row2 col0\" >0</td>\n",
       "      <td id=\"T_1df01_row2_col1\" class=\"data row2 col1\" >0.000000</td>\n",
       "    </tr>\n",
       "    <tr>\n",
       "      <th id=\"T_1df01_level0_row3\" class=\"row_heading level0 row3\" >Episode_Length_minutes</th>\n",
       "      <td id=\"T_1df01_row3_col0\" class=\"data row3 col0\" >28736</td>\n",
       "      <td id=\"T_1df01_row3_col1\" class=\"data row3 col1\" >11.494400</td>\n",
       "    </tr>\n",
       "    <tr>\n",
       "      <th id=\"T_1df01_level0_row4\" class=\"row_heading level0 row4\" >Genre</th>\n",
       "      <td id=\"T_1df01_row4_col0\" class=\"data row4 col0\" >0</td>\n",
       "      <td id=\"T_1df01_row4_col1\" class=\"data row4 col1\" >0.000000</td>\n",
       "    </tr>\n",
       "    <tr>\n",
       "      <th id=\"T_1df01_level0_row5\" class=\"row_heading level0 row5\" >Host_Popularity_percentage</th>\n",
       "      <td id=\"T_1df01_row5_col0\" class=\"data row5 col0\" >0</td>\n",
       "      <td id=\"T_1df01_row5_col1\" class=\"data row5 col1\" >0.000000</td>\n",
       "    </tr>\n",
       "    <tr>\n",
       "      <th id=\"T_1df01_level0_row6\" class=\"row_heading level0 row6\" >Publication_Day</th>\n",
       "      <td id=\"T_1df01_row6_col0\" class=\"data row6 col0\" >0</td>\n",
       "      <td id=\"T_1df01_row6_col1\" class=\"data row6 col1\" >0.000000</td>\n",
       "    </tr>\n",
       "    <tr>\n",
       "      <th id=\"T_1df01_level0_row7\" class=\"row_heading level0 row7\" >Publication_Time</th>\n",
       "      <td id=\"T_1df01_row7_col0\" class=\"data row7 col0\" >0</td>\n",
       "      <td id=\"T_1df01_row7_col1\" class=\"data row7 col1\" >0.000000</td>\n",
       "    </tr>\n",
       "    <tr>\n",
       "      <th id=\"T_1df01_level0_row8\" class=\"row_heading level0 row8\" >Guest_Popularity_percentage</th>\n",
       "      <td id=\"T_1df01_row8_col0\" class=\"data row8 col0\" >48832</td>\n",
       "      <td id=\"T_1df01_row8_col1\" class=\"data row8 col1\" >19.532800</td>\n",
       "    </tr>\n",
       "    <tr>\n",
       "      <th id=\"T_1df01_level0_row9\" class=\"row_heading level0 row9\" >Number_of_Ads</th>\n",
       "      <td id=\"T_1df01_row9_col0\" class=\"data row9 col0\" >0</td>\n",
       "      <td id=\"T_1df01_row9_col1\" class=\"data row9 col1\" >0.000000</td>\n",
       "    </tr>\n",
       "    <tr>\n",
       "      <th id=\"T_1df01_level0_row10\" class=\"row_heading level0 row10\" >Episode_Sentiment</th>\n",
       "      <td id=\"T_1df01_row10_col0\" class=\"data row10 col0\" >0</td>\n",
       "      <td id=\"T_1df01_row10_col1\" class=\"data row10 col1\" >0.000000</td>\n",
       "    </tr>\n",
       "  </tbody>\n",
       "</table>\n"
      ],
      "text/plain": [
       "<pandas.io.formats.style.Styler at 0x7a270eb73e90>"
      ]
     },
     "execution_count": 34,
     "metadata": {},
     "output_type": "execute_result"
    }
   ],
   "source": [
    "# We check the null values\n",
    "\n",
    "null_values_test = (\n",
    "    pd.DataFrame(\n",
    "        {f'Amount of Null Data' : df_test_new.isnull().sum(), \n",
    "         'Percentage of Null Data' : (\n",
    "             df_test_new.isnull().sum()) / (len(df_test_new)) * (100)\n",
    "        }\n",
    "    ))\n",
    "\n",
    "null_values_test.style.background_gradient(cmap='Greens')"
   ]
  },
  {
   "cell_type": "code",
   "execution_count": 35,
   "id": "05b24830",
   "metadata": {
    "execution": {
     "iopub.execute_input": "2025-04-19T19:49:17.808742Z",
     "iopub.status.busy": "2025-04-19T19:49:17.807569Z",
     "iopub.status.idle": "2025-04-19T19:49:17.961973Z",
     "shell.execute_reply": "2025-04-19T19:49:17.961165Z"
    },
    "papermill": {
     "duration": 0.168919,
     "end_time": "2025-04-19T19:49:17.963576",
     "exception": false,
     "start_time": "2025-04-19T19:49:17.794657",
     "status": "completed"
    },
    "tags": []
   },
   "outputs": [],
   "source": [
    "# We replace the erroneous values\n",
    "\n",
    "df_test_new[\"Number_of_Ads\"] = (df_test_new[\"Number_of_Ads\"].apply(lambda x: np.NaN if x>3 else x))\n",
    "df_test_new[\"Number_of_Ads\"] = (df_test_new[\"Number_of_Ads\"].fillna(\n",
    "    df_test_new.groupby(\"Podcast_Name\")[\"Number_of_Ads\"].transform(lambda v: v.mode()[0])\n",
    "))\n",
    "df_test_new[\"Host_Popularity_percentage\"] = np.where(\n",
    "    df_test_new[\"Host_Popularity_percentage\"] > 100, 100, df_test_new[\"Host_Popularity_percentage\"]\n",
    ").round(decimals=2)\n",
    "df_test_new[\"Guest_Popularity_percentage\"] = np.where(\n",
    "    df_test_new[\"Guest_Popularity_percentage\"] > 100, 100, df_test_new[\"Guest_Popularity_percentage\"]\n",
    ").round(decimals=2)"
   ]
  },
  {
   "cell_type": "code",
   "execution_count": 36,
   "id": "a3b589f8",
   "metadata": {
    "execution": {
     "iopub.execute_input": "2025-04-19T19:49:17.987800Z",
     "iopub.status.busy": "2025-04-19T19:49:17.987449Z",
     "iopub.status.idle": "2025-04-19T19:49:17.991808Z",
     "shell.execute_reply": "2025-04-19T19:49:17.990904Z"
    },
    "papermill": {
     "duration": 0.018098,
     "end_time": "2025-04-19T19:49:17.993283",
     "exception": false,
     "start_time": "2025-04-19T19:49:17.975185",
     "status": "completed"
    },
    "tags": []
   },
   "outputs": [],
   "source": [
    "#df_test_new.dropna(inplace=True)\n",
    "#df_test_new.info()"
   ]
  },
  {
   "cell_type": "code",
   "execution_count": 37,
   "id": "265c5f30",
   "metadata": {
    "execution": {
     "iopub.execute_input": "2025-04-19T19:49:18.016820Z",
     "iopub.status.busy": "2025-04-19T19:49:18.016481Z",
     "iopub.status.idle": "2025-04-19T19:49:18.074852Z",
     "shell.execute_reply": "2025-04-19T19:49:18.073570Z"
    },
    "papermill": {
     "duration": 0.073108,
     "end_time": "2025-04-19T19:49:18.077248",
     "exception": false,
     "start_time": "2025-04-19T19:49:18.004140",
     "status": "completed"
    },
    "tags": []
   },
   "outputs": [],
   "source": [
    "# We filled in null values\n",
    "\n",
    "df_test_new[\"Episode_Length_minutes\"] = (df_test_new[\"Episode_Length_minutes\"].fillna(\n",
    "    df_test_new.groupby(\"Podcast_Name\")[\"Episode_Length_minutes\"].transform(\"mean\")\n",
    "))\n",
    "df_test_new[\"Guest_Popularity_percentage\"] = (df_test_new[\"Guest_Popularity_percentage\"].fillna(\n",
    "    df_test_new.groupby(\"Podcast_Name\")[\"Guest_Popularity_percentage\"].transform(\"mean\")\n",
    "))"
   ]
  },
  {
   "cell_type": "code",
   "execution_count": 38,
   "id": "ab2f1153",
   "metadata": {
    "execution": {
     "iopub.execute_input": "2025-04-19T19:49:18.100564Z",
     "iopub.status.busy": "2025-04-19T19:49:18.100241Z",
     "iopub.status.idle": "2025-04-19T19:49:18.119654Z",
     "shell.execute_reply": "2025-04-19T19:49:18.118728Z"
    },
    "papermill": {
     "duration": 0.032779,
     "end_time": "2025-04-19T19:49:18.121542",
     "exception": false,
     "start_time": "2025-04-19T19:49:18.088763",
     "status": "completed"
    },
    "tags": []
   },
   "outputs": [],
   "source": [
    "# We start by removing the variables that we will not use\n",
    "\n",
    "df_test_new = df_test_new.drop(columns=\"id\")\n",
    "#df_test_new = df_test_new.drop(columns=[\"id\", \"Podcast_Name\", \"Episode_Title\"])"
   ]
  },
  {
   "cell_type": "code",
   "execution_count": 39,
   "id": "f178ebaa",
   "metadata": {
    "execution": {
     "iopub.execute_input": "2025-04-19T19:49:18.145361Z",
     "iopub.status.busy": "2025-04-19T19:49:18.145023Z",
     "iopub.status.idle": "2025-04-19T19:49:18.504584Z",
     "shell.execute_reply": "2025-04-19T19:49:18.503465Z"
    },
    "papermill": {
     "duration": 0.374172,
     "end_time": "2025-04-19T19:49:18.506889",
     "exception": false,
     "start_time": "2025-04-19T19:49:18.132717",
     "status": "completed"
    },
    "tags": []
   },
   "outputs": [],
   "source": [
    "# We encode the categorical variables\n",
    "\n",
    "df_test_new[\"Episode_Sentiment\"] = df_test_new[\"Episode_Sentiment\"].map(eps_order)\n",
    "df_test_new[\"Episode_Sentiment\"] = df_test_new[\"Episode_Sentiment\"].astype(\"float64\")\n",
    "\n",
    "test_num = df_test_new.select_dtypes(include=\"number\")\n",
    "test_cat = df_test_new.select_dtypes(include=\"object\")\n",
    "test_enc = enc.fit_transform(test_cat)\n",
    "test_encoded = pd.concat([test_enc, test_num[[\"Number_of_Ads\", \"Episode_Sentiment\"]]], axis=1)\n",
    "\n",
    "# We transform the data\n",
    "\n",
    "test_num = test_num.drop(columns=[\"Number_of_Ads\", \"Episode_Sentiment\"])\n",
    "test_sca = scaler.transform(test_num)\n",
    "\n",
    "# We concatenate the dataframes\n",
    "\n",
    "test_end = pd.concat([test_encoded, test_sca], axis=1)"
   ]
  },
  {
   "cell_type": "code",
   "execution_count": 40,
   "id": "3411708d",
   "metadata": {
    "execution": {
     "iopub.execute_input": "2025-04-19T19:49:18.531459Z",
     "iopub.status.busy": "2025-04-19T19:49:18.530607Z",
     "iopub.status.idle": "2025-04-19T19:49:18.712786Z",
     "shell.execute_reply": "2025-04-19T19:49:18.711812Z"
    },
    "papermill": {
     "duration": 0.195723,
     "end_time": "2025-04-19T19:49:18.714360",
     "exception": false,
     "start_time": "2025-04-19T19:49:18.518637",
     "status": "completed"
    },
    "tags": []
   },
   "outputs": [
    {
     "data": {
      "text/html": [
       "<div>\n",
       "<style scoped>\n",
       "    .dataframe tbody tr th:only-of-type {\n",
       "        vertical-align: middle;\n",
       "    }\n",
       "\n",
       "    .dataframe tbody tr th {\n",
       "        vertical-align: top;\n",
       "    }\n",
       "\n",
       "    .dataframe thead th {\n",
       "        text-align: right;\n",
       "    }\n",
       "</style>\n",
       "<table border=\"1\" class=\"dataframe\">\n",
       "  <thead>\n",
       "    <tr style=\"text-align: right;\">\n",
       "      <th></th>\n",
       "      <th>count</th>\n",
       "      <th>mean</th>\n",
       "      <th>std</th>\n",
       "      <th>min</th>\n",
       "      <th>25%</th>\n",
       "      <th>50%</th>\n",
       "      <th>75%</th>\n",
       "      <th>max</th>\n",
       "    </tr>\n",
       "  </thead>\n",
       "  <tbody>\n",
       "    <tr>\n",
       "      <th>Podcast_Name</th>\n",
       "      <td>250000.0</td>\n",
       "      <td>23.489368</td>\n",
       "      <td>14.110784</td>\n",
       "      <td>0.000000</td>\n",
       "      <td>11.000000</td>\n",
       "      <td>23.000000</td>\n",
       "      <td>36.000000</td>\n",
       "      <td>4.700000e+01</td>\n",
       "    </tr>\n",
       "    <tr>\n",
       "      <th>Episode_Title</th>\n",
       "      <td>250000.0</td>\n",
       "      <td>50.209524</td>\n",
       "      <td>28.191980</td>\n",
       "      <td>0.000000</td>\n",
       "      <td>26.000000</td>\n",
       "      <td>51.000000</td>\n",
       "      <td>74.000000</td>\n",
       "      <td>9.900000e+01</td>\n",
       "    </tr>\n",
       "    <tr>\n",
       "      <th>Genre</th>\n",
       "      <td>250000.0</td>\n",
       "      <td>4.641336</td>\n",
       "      <td>2.959436</td>\n",
       "      <td>0.000000</td>\n",
       "      <td>2.000000</td>\n",
       "      <td>5.000000</td>\n",
       "      <td>7.000000</td>\n",
       "      <td>9.000000e+00</td>\n",
       "    </tr>\n",
       "    <tr>\n",
       "      <th>Publication_Day</th>\n",
       "      <td>250000.0</td>\n",
       "      <td>2.962788</td>\n",
       "      <td>1.993649</td>\n",
       "      <td>0.000000</td>\n",
       "      <td>1.000000</td>\n",
       "      <td>3.000000</td>\n",
       "      <td>5.000000</td>\n",
       "      <td>6.000000e+00</td>\n",
       "    </tr>\n",
       "    <tr>\n",
       "      <th>Publication_Time</th>\n",
       "      <td>250000.0</td>\n",
       "      <td>1.522652</td>\n",
       "      <td>1.118540</td>\n",
       "      <td>0.000000</td>\n",
       "      <td>1.000000</td>\n",
       "      <td>1.000000</td>\n",
       "      <td>3.000000</td>\n",
       "      <td>3.000000e+00</td>\n",
       "    </tr>\n",
       "    <tr>\n",
       "      <th>Number_of_Ads</th>\n",
       "      <td>250000.0</td>\n",
       "      <td>1.347248</td>\n",
       "      <td>1.112669</td>\n",
       "      <td>0.000000</td>\n",
       "      <td>0.000000</td>\n",
       "      <td>1.000000</td>\n",
       "      <td>2.000000</td>\n",
       "      <td>3.000000e+00</td>\n",
       "    </tr>\n",
       "    <tr>\n",
       "      <th>Episode_Sentiment</th>\n",
       "      <td>250000.0</td>\n",
       "      <td>0.997236</td>\n",
       "      <td>0.815666</td>\n",
       "      <td>0.000000</td>\n",
       "      <td>0.000000</td>\n",
       "      <td>1.000000</td>\n",
       "      <td>2.000000</td>\n",
       "      <td>2.000000e+00</td>\n",
       "    </tr>\n",
       "    <tr>\n",
       "      <th>Episode_Length_minutes</th>\n",
       "      <td>250000.0</td>\n",
       "      <td>10.762615</td>\n",
       "      <td>4772.564067</td>\n",
       "      <td>-1.887650</td>\n",
       "      <td>-0.765766</td>\n",
       "      <td>-0.003860</td>\n",
       "      <td>0.798182</td>\n",
       "      <td>2.386243e+06</td>\n",
       "    </tr>\n",
       "    <tr>\n",
       "      <th>Host_Popularity_percentage</th>\n",
       "      <td>250000.0</td>\n",
       "      <td>-0.000536</td>\n",
       "      <td>1.001589</td>\n",
       "      <td>-2.505733</td>\n",
       "      <td>-0.896484</td>\n",
       "      <td>0.007514</td>\n",
       "      <td>0.860731</td>\n",
       "      <td>1.762978e+00</td>\n",
       "    </tr>\n",
       "    <tr>\n",
       "      <th>Guest_Popularity_percentage</th>\n",
       "      <td>250000.0</td>\n",
       "      <td>-0.001582</td>\n",
       "      <td>0.895071</td>\n",
       "      <td>-1.832130</td>\n",
       "      <td>-0.620268</td>\n",
       "      <td>0.000366</td>\n",
       "      <td>0.657886</td>\n",
       "      <td>1.675429e+00</td>\n",
       "    </tr>\n",
       "  </tbody>\n",
       "</table>\n",
       "</div>"
      ],
      "text/plain": [
       "                                count       mean          std       min  \\\n",
       "Podcast_Name                 250000.0  23.489368    14.110784  0.000000   \n",
       "Episode_Title                250000.0  50.209524    28.191980  0.000000   \n",
       "Genre                        250000.0   4.641336     2.959436  0.000000   \n",
       "Publication_Day              250000.0   2.962788     1.993649  0.000000   \n",
       "Publication_Time             250000.0   1.522652     1.118540  0.000000   \n",
       "Number_of_Ads                250000.0   1.347248     1.112669  0.000000   \n",
       "Episode_Sentiment            250000.0   0.997236     0.815666  0.000000   \n",
       "Episode_Length_minutes       250000.0  10.762615  4772.564067 -1.887650   \n",
       "Host_Popularity_percentage   250000.0  -0.000536     1.001589 -2.505733   \n",
       "Guest_Popularity_percentage  250000.0  -0.001582     0.895071 -1.832130   \n",
       "\n",
       "                                   25%        50%        75%           max  \n",
       "Podcast_Name                 11.000000  23.000000  36.000000  4.700000e+01  \n",
       "Episode_Title                26.000000  51.000000  74.000000  9.900000e+01  \n",
       "Genre                         2.000000   5.000000   7.000000  9.000000e+00  \n",
       "Publication_Day               1.000000   3.000000   5.000000  6.000000e+00  \n",
       "Publication_Time              1.000000   1.000000   3.000000  3.000000e+00  \n",
       "Number_of_Ads                 0.000000   1.000000   2.000000  3.000000e+00  \n",
       "Episode_Sentiment             0.000000   1.000000   2.000000  2.000000e+00  \n",
       "Episode_Length_minutes       -0.765766  -0.003860   0.798182  2.386243e+06  \n",
       "Host_Popularity_percentage   -0.896484   0.007514   0.860731  1.762978e+00  \n",
       "Guest_Popularity_percentage  -0.620268   0.000366   0.657886  1.675429e+00  "
      ]
     },
     "execution_count": 40,
     "metadata": {},
     "output_type": "execute_result"
    }
   ],
   "source": [
    "test_end.describe().T"
   ]
  },
  {
   "cell_type": "code",
   "execution_count": 41,
   "id": "b6429e10",
   "metadata": {
    "execution": {
     "iopub.execute_input": "2025-04-19T19:49:18.737547Z",
     "iopub.status.busy": "2025-04-19T19:49:18.737216Z",
     "iopub.status.idle": "2025-04-19T19:49:19.434200Z",
     "shell.execute_reply": "2025-04-19T19:49:19.433193Z"
    },
    "papermill": {
     "duration": 0.711009,
     "end_time": "2025-04-19T19:49:19.436235",
     "exception": false,
     "start_time": "2025-04-19T19:49:18.725226",
     "status": "completed"
    },
    "tags": []
   },
   "outputs": [],
   "source": [
    "# We apply the trained model\n",
    "\n",
    "listening_predictions = final_model.predict(test_end)"
   ]
  },
  {
   "cell_type": "code",
   "execution_count": 42,
   "id": "e93f0122",
   "metadata": {
    "execution": {
     "iopub.execute_input": "2025-04-19T19:49:19.459860Z",
     "iopub.status.busy": "2025-04-19T19:49:19.459548Z",
     "iopub.status.idle": "2025-04-19T19:49:19.464542Z",
     "shell.execute_reply": "2025-04-19T19:49:19.463480Z"
    },
    "papermill": {
     "duration": 0.01845,
     "end_time": "2025-04-19T19:49:19.465870",
     "exception": false,
     "start_time": "2025-04-19T19:49:19.447420",
     "status": "completed"
    },
    "tags": []
   },
   "outputs": [
    {
     "name": "stdout",
     "output_type": "stream",
     "text": [
      "Total predictions:  250000 \n",
      "\n"
     ]
    }
   ],
   "source": [
    "# We review the result\n",
    "\n",
    "print(\"Total predictions: \", len(listening_predictions), \"\\n\")"
   ]
  },
  {
   "cell_type": "code",
   "execution_count": 43,
   "id": "95eeb85c",
   "metadata": {
    "execution": {
     "iopub.execute_input": "2025-04-19T19:49:19.488803Z",
     "iopub.status.busy": "2025-04-19T19:49:19.488027Z",
     "iopub.status.idle": "2025-04-19T19:49:19.498543Z",
     "shell.execute_reply": "2025-04-19T19:49:19.497649Z"
    },
    "papermill": {
     "duration": 0.023513,
     "end_time": "2025-04-19T19:49:19.500094",
     "exception": false,
     "start_time": "2025-04-19T19:49:19.476581",
     "status": "completed"
    },
    "tags": []
   },
   "outputs": [
    {
     "data": {
      "text/html": [
       "<div>\n",
       "<style scoped>\n",
       "    .dataframe tbody tr th:only-of-type {\n",
       "        vertical-align: middle;\n",
       "    }\n",
       "\n",
       "    .dataframe tbody tr th {\n",
       "        vertical-align: top;\n",
       "    }\n",
       "\n",
       "    .dataframe thead th {\n",
       "        text-align: right;\n",
       "    }\n",
       "</style>\n",
       "<table border=\"1\" class=\"dataframe\">\n",
       "  <thead>\n",
       "    <tr style=\"text-align: right;\">\n",
       "      <th></th>\n",
       "      <th>id</th>\n",
       "      <th>Listening_Time_minutes</th>\n",
       "    </tr>\n",
       "  </thead>\n",
       "  <tbody>\n",
       "    <tr>\n",
       "      <th>0</th>\n",
       "      <td>750000</td>\n",
       "      <td>55.020260</td>\n",
       "    </tr>\n",
       "    <tr>\n",
       "      <th>1</th>\n",
       "      <td>750001</td>\n",
       "      <td>17.521896</td>\n",
       "    </tr>\n",
       "    <tr>\n",
       "      <th>2</th>\n",
       "      <td>750002</td>\n",
       "      <td>49.450890</td>\n",
       "    </tr>\n",
       "    <tr>\n",
       "      <th>3</th>\n",
       "      <td>750003</td>\n",
       "      <td>78.285522</td>\n",
       "    </tr>\n",
       "    <tr>\n",
       "      <th>4</th>\n",
       "      <td>750004</td>\n",
       "      <td>48.812168</td>\n",
       "    </tr>\n",
       "  </tbody>\n",
       "</table>\n",
       "</div>"
      ],
      "text/plain": [
       "       id  Listening_Time_minutes\n",
       "0  750000               55.020260\n",
       "1  750001               17.521896\n",
       "2  750002               49.450890\n",
       "3  750003               78.285522\n",
       "4  750004               48.812168"
      ]
     },
     "execution_count": 43,
     "metadata": {},
     "output_type": "execute_result"
    }
   ],
   "source": [
    "# We create the dataframe\n",
    "\n",
    "listening_submission = pd.DataFrame({\n",
    "    \"id\" : df_test[\"id\"], \n",
    "    \"Listening_Time_minutes\" : listening_predictions\n",
    "})\n",
    "\n",
    "listening_submission.head()"
   ]
  },
  {
   "cell_type": "code",
   "execution_count": 44,
   "id": "367a22fa",
   "metadata": {
    "execution": {
     "iopub.execute_input": "2025-04-19T19:49:19.523543Z",
     "iopub.status.busy": "2025-04-19T19:49:19.523212Z",
     "iopub.status.idle": "2025-04-19T19:49:19.940465Z",
     "shell.execute_reply": "2025-04-19T19:49:19.939409Z"
    },
    "papermill": {
     "duration": 0.431243,
     "end_time": "2025-04-19T19:49:19.942226",
     "exception": false,
     "start_time": "2025-04-19T19:49:19.510983",
     "status": "completed"
    },
    "tags": []
   },
   "outputs": [],
   "source": [
    "# We convert the dataframe to a csv file\n",
    "\n",
    "listening_submission.to_csv(\"submission.csv\", index=False)"
   ]
  }
 ],
 "metadata": {
  "kaggle": {
   "accelerator": "none",
   "dataSources": [
    {
     "databundleVersionId": 11351736,
     "sourceId": 91715,
     "sourceType": "competition"
    }
   ],
   "dockerImageVersionId": 31012,
   "isGpuEnabled": false,
   "isInternetEnabled": true,
   "language": "python",
   "sourceType": "notebook"
  },
  "kernelspec": {
   "display_name": "Python 3",
   "language": "python",
   "name": "python3"
  },
  "language_info": {
   "codemirror_mode": {
    "name": "ipython",
    "version": 3
   },
   "file_extension": ".py",
   "mimetype": "text/x-python",
   "name": "python",
   "nbconvert_exporter": "python",
   "pygments_lexer": "ipython3",
   "version": "3.11.11"
  },
  "papermill": {
   "default_parameters": {},
   "duration": 480.494736,
   "end_time": "2025-04-19T19:49:23.524757",
   "environment_variables": {},
   "exception": null,
   "input_path": "__notebook__.ipynb",
   "output_path": "__notebook__.ipynb",
   "parameters": {},
   "start_time": "2025-04-19T19:41:23.030021",
   "version": "2.6.0"
  }
 },
 "nbformat": 4,
 "nbformat_minor": 5
}
