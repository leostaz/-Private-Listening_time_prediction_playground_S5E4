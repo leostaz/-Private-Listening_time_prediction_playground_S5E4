{
 "cells": [
  {
   "cell_type": "code",
   "execution_count": 1,
   "id": "c443acd2",
   "metadata": {
    "_cell_guid": "b1076dfc-b9ad-4769-8c92-a6c4dae69d19",
    "_uuid": "8f2839f25d086af736a60e9eeb907d3b93b6e0e5",
    "execution": {
     "iopub.execute_input": "2025-04-22T23:30:58.012482Z",
     "iopub.status.busy": "2025-04-22T23:30:58.012208Z",
     "iopub.status.idle": "2025-04-22T23:30:58.020855Z",
     "shell.execute_reply": "2025-04-22T23:30:58.020075Z"
    },
    "papermill": {
     "duration": 0.018015,
     "end_time": "2025-04-22T23:30:58.022158",
     "exception": false,
     "start_time": "2025-04-22T23:30:58.004143",
     "status": "completed"
    },
    "tags": []
   },
   "outputs": [
    {
     "name": "stdout",
     "output_type": "stream",
     "text": [
      "/kaggle/input/playground-series-s5e4/sample_submission.csv\n",
      "/kaggle/input/playground-series-s5e4/train.csv\n",
      "/kaggle/input/playground-series-s5e4/test.csv\n"
     ]
    }
   ],
   "source": [
    "# We load the competition data\n",
    "\n",
    "import warnings\n",
    "warnings.filterwarnings(\"ignore\")\n",
    "\n",
    "import os\n",
    "for dirname, _, filenames in os.walk('/kaggle/input'):\n",
    "    for filename in filenames:\n",
    "        print(os.path.join(dirname, filename))"
   ]
  },
  {
   "cell_type": "markdown",
   "id": "3c0e4a2e",
   "metadata": {
    "papermill": {
     "duration": 0.005817,
     "end_time": "2025-04-22T23:30:58.035010",
     "exception": false,
     "start_time": "2025-04-22T23:30:58.029193",
     "status": "completed"
    },
    "tags": []
   },
   "source": [
    "# Libraries"
   ]
  },
  {
   "cell_type": "code",
   "execution_count": 2,
   "id": "dd552596",
   "metadata": {
    "execution": {
     "iopub.execute_input": "2025-04-22T23:30:58.049517Z",
     "iopub.status.busy": "2025-04-22T23:30:58.049236Z",
     "iopub.status.idle": "2025-04-22T23:31:08.552819Z",
     "shell.execute_reply": "2025-04-22T23:31:08.551714Z"
    },
    "papermill": {
     "duration": 10.51306,
     "end_time": "2025-04-22T23:31:08.554343",
     "exception": false,
     "start_time": "2025-04-22T23:30:58.041283",
     "status": "completed"
    },
    "tags": []
   },
   "outputs": [],
   "source": [
    "import numpy as np\n",
    "import pandas as pd\n",
    "import matplotlib as mpl\n",
    "import matplotlib.pyplot as plt\n",
    "import seaborn as sns\n",
    "import shap\n",
    "\n",
    "from sklearn.preprocessing import (\n",
    "    OrdinalEncoder,\n",
    "    StandardScaler\n",
    ")\n",
    "from sklearn.feature_selection import (\n",
    "    mutual_info_regression\n",
    ")\n",
    "from sklearn.model_selection import (\n",
    "    train_test_split,\n",
    "    cross_val_score,\n",
    "    KFold,\n",
    "    RandomizedSearchCV\n",
    ")\n",
    "from sklearn.metrics import (\n",
    "    r2_score, \n",
    "    mean_squared_error\n",
    ")\n",
    "from sklearn.impute import KNNImputer\n",
    "from xgboost import XGBRegressor\n",
    "from sklearn.ensemble import ( \n",
    "    BaggingRegressor\n",
    ")"
   ]
  },
  {
   "cell_type": "markdown",
   "id": "9d3310f4",
   "metadata": {
    "papermill": {
     "duration": 0.005833,
     "end_time": "2025-04-22T23:31:08.566693",
     "exception": false,
     "start_time": "2025-04-22T23:31:08.560860",
     "status": "completed"
    },
    "tags": []
   },
   "source": [
    "# Primer análisis"
   ]
  },
  {
   "cell_type": "markdown",
   "id": "73610ba0",
   "metadata": {
    "papermill": {
     "duration": 0.006211,
     "end_time": "2025-04-22T23:31:08.579549",
     "exception": false,
     "start_time": "2025-04-22T23:31:08.573338",
     "status": "completed"
    },
    "tags": []
   },
   "source": [
    "Notebook y análisis completo:\n",
    "\n",
    "https://www.kaggle.com/code/les1781/listening-time-prediction-playground-series-s5-e4"
   ]
  },
  {
   "cell_type": "code",
   "execution_count": 3,
   "id": "76a198b2",
   "metadata": {
    "execution": {
     "iopub.execute_input": "2025-04-22T23:31:08.592798Z",
     "iopub.status.busy": "2025-04-22T23:31:08.592366Z",
     "iopub.status.idle": "2025-04-22T23:31:10.393961Z",
     "shell.execute_reply": "2025-04-22T23:31:10.393133Z"
    },
    "papermill": {
     "duration": 1.809927,
     "end_time": "2025-04-22T23:31:10.395288",
     "exception": false,
     "start_time": "2025-04-22T23:31:08.585361",
     "status": "completed"
    },
    "tags": []
   },
   "outputs": [],
   "source": [
    "# We load the data\n",
    "\n",
    "listening_new = pd.read_csv(\"/kaggle/input/playground-series-s5e4/train.csv\", index_col=\"id\")"
   ]
  },
  {
   "cell_type": "markdown",
   "id": "e232d3a3",
   "metadata": {
    "papermill": {
     "duration": 0.005642,
     "end_time": "2025-04-22T23:31:10.407403",
     "exception": false,
     "start_time": "2025-04-22T23:31:10.401761",
     "status": "completed"
    },
    "tags": []
   },
   "source": [
    "# Data wrangling"
   ]
  },
  {
   "cell_type": "code",
   "execution_count": 4,
   "id": "da38a012",
   "metadata": {
    "execution": {
     "iopub.execute_input": "2025-04-22T23:31:10.420503Z",
     "iopub.status.busy": "2025-04-22T23:31:10.420217Z",
     "iopub.status.idle": "2025-04-22T23:31:10.866961Z",
     "shell.execute_reply": "2025-04-22T23:31:10.865849Z"
    },
    "papermill": {
     "duration": 0.455118,
     "end_time": "2025-04-22T23:31:10.868522",
     "exception": false,
     "start_time": "2025-04-22T23:31:10.413404",
     "status": "completed"
    },
    "tags": []
   },
   "outputs": [
    {
     "data": {
      "text/html": [
       "<style type=\"text/css\">\n",
       "#T_63b18_row0_col0, #T_63b18_row0_col1, #T_63b18_row1_col0, #T_63b18_row1_col1, #T_63b18_row3_col0, #T_63b18_row3_col1, #T_63b18_row4_col0, #T_63b18_row4_col1, #T_63b18_row5_col0, #T_63b18_row5_col1, #T_63b18_row6_col0, #T_63b18_row6_col1, #T_63b18_row8_col0, #T_63b18_row8_col1, #T_63b18_row9_col0, #T_63b18_row9_col1, #T_63b18_row10_col0, #T_63b18_row10_col1 {\n",
       "  background-color: #f7fcf5;\n",
       "  color: #000000;\n",
       "}\n",
       "#T_63b18_row2_col0, #T_63b18_row2_col1 {\n",
       "  background-color: #4db163;\n",
       "  color: #f1f1f1;\n",
       "}\n",
       "#T_63b18_row7_col0, #T_63b18_row7_col1 {\n",
       "  background-color: #00441b;\n",
       "  color: #f1f1f1;\n",
       "}\n",
       "</style>\n",
       "<table id=\"T_63b18\">\n",
       "  <thead>\n",
       "    <tr>\n",
       "      <th class=\"blank level0\" >&nbsp;</th>\n",
       "      <th id=\"T_63b18_level0_col0\" class=\"col_heading level0 col0\" >Amount of Null Data</th>\n",
       "      <th id=\"T_63b18_level0_col1\" class=\"col_heading level0 col1\" >Percentage of Null Data</th>\n",
       "    </tr>\n",
       "  </thead>\n",
       "  <tbody>\n",
       "    <tr>\n",
       "      <th id=\"T_63b18_level0_row0\" class=\"row_heading level0 row0\" >Podcast_Name</th>\n",
       "      <td id=\"T_63b18_row0_col0\" class=\"data row0 col0\" >0</td>\n",
       "      <td id=\"T_63b18_row0_col1\" class=\"data row0 col1\" >0.000000</td>\n",
       "    </tr>\n",
       "    <tr>\n",
       "      <th id=\"T_63b18_level0_row1\" class=\"row_heading level0 row1\" >Episode_Title</th>\n",
       "      <td id=\"T_63b18_row1_col0\" class=\"data row1 col0\" >0</td>\n",
       "      <td id=\"T_63b18_row1_col1\" class=\"data row1 col1\" >0.000000</td>\n",
       "    </tr>\n",
       "    <tr>\n",
       "      <th id=\"T_63b18_level0_row2\" class=\"row_heading level0 row2\" >Episode_Length_minutes</th>\n",
       "      <td id=\"T_63b18_row2_col0\" class=\"data row2 col0\" >87093</td>\n",
       "      <td id=\"T_63b18_row2_col1\" class=\"data row2 col1\" >11.612400</td>\n",
       "    </tr>\n",
       "    <tr>\n",
       "      <th id=\"T_63b18_level0_row3\" class=\"row_heading level0 row3\" >Genre</th>\n",
       "      <td id=\"T_63b18_row3_col0\" class=\"data row3 col0\" >0</td>\n",
       "      <td id=\"T_63b18_row3_col1\" class=\"data row3 col1\" >0.000000</td>\n",
       "    </tr>\n",
       "    <tr>\n",
       "      <th id=\"T_63b18_level0_row4\" class=\"row_heading level0 row4\" >Host_Popularity_percentage</th>\n",
       "      <td id=\"T_63b18_row4_col0\" class=\"data row4 col0\" >0</td>\n",
       "      <td id=\"T_63b18_row4_col1\" class=\"data row4 col1\" >0.000000</td>\n",
       "    </tr>\n",
       "    <tr>\n",
       "      <th id=\"T_63b18_level0_row5\" class=\"row_heading level0 row5\" >Publication_Day</th>\n",
       "      <td id=\"T_63b18_row5_col0\" class=\"data row5 col0\" >0</td>\n",
       "      <td id=\"T_63b18_row5_col1\" class=\"data row5 col1\" >0.000000</td>\n",
       "    </tr>\n",
       "    <tr>\n",
       "      <th id=\"T_63b18_level0_row6\" class=\"row_heading level0 row6\" >Publication_Time</th>\n",
       "      <td id=\"T_63b18_row6_col0\" class=\"data row6 col0\" >0</td>\n",
       "      <td id=\"T_63b18_row6_col1\" class=\"data row6 col1\" >0.000000</td>\n",
       "    </tr>\n",
       "    <tr>\n",
       "      <th id=\"T_63b18_level0_row7\" class=\"row_heading level0 row7\" >Guest_Popularity_percentage</th>\n",
       "      <td id=\"T_63b18_row7_col0\" class=\"data row7 col0\" >146030</td>\n",
       "      <td id=\"T_63b18_row7_col1\" class=\"data row7 col1\" >19.470667</td>\n",
       "    </tr>\n",
       "    <tr>\n",
       "      <th id=\"T_63b18_level0_row8\" class=\"row_heading level0 row8\" >Number_of_Ads</th>\n",
       "      <td id=\"T_63b18_row8_col0\" class=\"data row8 col0\" >1</td>\n",
       "      <td id=\"T_63b18_row8_col1\" class=\"data row8 col1\" >0.000133</td>\n",
       "    </tr>\n",
       "    <tr>\n",
       "      <th id=\"T_63b18_level0_row9\" class=\"row_heading level0 row9\" >Episode_Sentiment</th>\n",
       "      <td id=\"T_63b18_row9_col0\" class=\"data row9 col0\" >0</td>\n",
       "      <td id=\"T_63b18_row9_col1\" class=\"data row9 col1\" >0.000000</td>\n",
       "    </tr>\n",
       "    <tr>\n",
       "      <th id=\"T_63b18_level0_row10\" class=\"row_heading level0 row10\" >Listening_Time_minutes</th>\n",
       "      <td id=\"T_63b18_row10_col0\" class=\"data row10 col0\" >0</td>\n",
       "      <td id=\"T_63b18_row10_col1\" class=\"data row10 col1\" >0.000000</td>\n",
       "    </tr>\n",
       "  </tbody>\n",
       "</table>\n"
      ],
      "text/plain": [
       "<pandas.io.formats.style.Styler at 0x7f3deff94b10>"
      ]
     },
     "execution_count": 4,
     "metadata": {},
     "output_type": "execute_result"
    }
   ],
   "source": [
    "# We check for null values\n",
    "\n",
    "null_values = (\n",
    "    pd.DataFrame(\n",
    "        {f\"Amount of Null Data\": listening_new.isnull().sum(), \n",
    "         \"Percentage of Null Data\" : (\n",
    "             listening_new.isnull().sum()) / (len(listening_new)) * (100)\n",
    "        }))\n",
    "\n",
    "null_values.style.background_gradient(cmap=\"Greens\")"
   ]
  },
  {
   "cell_type": "code",
   "execution_count": 5,
   "id": "d1deeae0",
   "metadata": {
    "execution": {
     "iopub.execute_input": "2025-04-22T23:31:10.882584Z",
     "iopub.status.busy": "2025-04-22T23:31:10.882133Z",
     "iopub.status.idle": "2025-04-22T23:31:11.203721Z",
     "shell.execute_reply": "2025-04-22T23:31:11.202891Z"
    },
    "papermill": {
     "duration": 0.329976,
     "end_time": "2025-04-22T23:31:11.205068",
     "exception": false,
     "start_time": "2025-04-22T23:31:10.875092",
     "status": "completed"
    },
    "tags": []
   },
   "outputs": [],
   "source": [
    "# We replace the erroneous values\n",
    "\n",
    "listening_new[\"Number_of_Ads\"] = (listening_new[\"Number_of_Ads\"].apply(lambda x: np.NaN if x>3 else x))\n",
    "listening_new[\"Number_of_Ads\"] = (listening_new[\"Number_of_Ads\"].fillna(\n",
    "        listening_new.groupby(\"Podcast_Name\")[\"Number_of_Ads\"].transform(lambda v: v.mode()[0])))\n",
    "\n",
    "listening_new[\"Host_Popularity_percentage\"] = np.where(\n",
    "    listening_new[\"Host_Popularity_percentage\"] > 100, 100, listening_new[\"Host_Popularity_percentage\"]\n",
    ").round(decimals=2)\n",
    "\n",
    "listening_new[\"Guest_Popularity_percentage\"] = np.where(\n",
    "    listening_new[\"Guest_Popularity_percentage\"] > 100, 100, listening_new[\"Guest_Popularity_percentage\"]\n",
    ").round(decimals=2)"
   ]
  },
  {
   "cell_type": "code",
   "execution_count": 6,
   "id": "0fa57430",
   "metadata": {
    "execution": {
     "iopub.execute_input": "2025-04-22T23:31:11.218680Z",
     "iopub.status.busy": "2025-04-22T23:31:11.218398Z",
     "iopub.status.idle": "2025-04-22T23:31:11.221976Z",
     "shell.execute_reply": "2025-04-22T23:31:11.221306Z"
    },
    "papermill": {
     "duration": 0.011725,
     "end_time": "2025-04-22T23:31:11.223245",
     "exception": false,
     "start_time": "2025-04-22T23:31:11.211520",
     "status": "completed"
    },
    "tags": []
   },
   "outputs": [],
   "source": [
    "# We drop null values\n",
    "\n",
    "#listening_new.dropna(inplace=True)"
   ]
  },
  {
   "cell_type": "code",
   "execution_count": 7,
   "id": "dad87ef4",
   "metadata": {
    "execution": {
     "iopub.execute_input": "2025-04-22T23:31:11.236895Z",
     "iopub.status.busy": "2025-04-22T23:31:11.236612Z",
     "iopub.status.idle": "2025-04-22T23:31:11.348035Z",
     "shell.execute_reply": "2025-04-22T23:31:11.347382Z"
    },
    "papermill": {
     "duration": 0.119591,
     "end_time": "2025-04-22T23:31:11.349478",
     "exception": false,
     "start_time": "2025-04-22T23:31:11.229887",
     "status": "completed"
    },
    "tags": []
   },
   "outputs": [],
   "source": [
    "# We fill null values with the mean groupby Podcast\n",
    "\n",
    "listening_new[\"Guest_Popularity_percentage\"] = (listening_new[\"Guest_Popularity_percentage\"].fillna(\n",
    "        listening_new.groupby(\"Podcast_Name\")[\"Guest_Popularity_percentage\"].transform(\"mean\")\n",
    "))\n",
    "\n",
    "listening_new[\"Episode_Length_minutes\"] = (listening_new[\"Episode_Length_minutes\"].fillna(\n",
    "    listening_new.groupby(\"Podcast_Name\")[\"Episode_Length_minutes\"].transform(\"mean\")\n",
    "))"
   ]
  },
  {
   "cell_type": "code",
   "execution_count": 8,
   "id": "52d894cb",
   "metadata": {
    "execution": {
     "iopub.execute_input": "2025-04-22T23:31:11.363731Z",
     "iopub.status.busy": "2025-04-22T23:31:11.363464Z",
     "iopub.status.idle": "2025-04-22T23:31:11.666102Z",
     "shell.execute_reply": "2025-04-22T23:31:11.665107Z"
    },
    "papermill": {
     "duration": 0.310983,
     "end_time": "2025-04-22T23:31:11.667587",
     "exception": false,
     "start_time": "2025-04-22T23:31:11.356604",
     "status": "completed"
    },
    "tags": []
   },
   "outputs": [],
   "source": [
    "# We changed the format for more efficient memory usage\n",
    "\n",
    "listening_new[listening_new.select_dtypes([\"object\"]).columns] = (\n",
    "    listening_new.select_dtypes([\"object\"]).apply(\n",
    "        lambda x: x.astype(\"category\"))\n",
    ")"
   ]
  },
  {
   "cell_type": "code",
   "execution_count": 9,
   "id": "77592e82",
   "metadata": {
    "execution": {
     "iopub.execute_input": "2025-04-22T23:31:11.681406Z",
     "iopub.status.busy": "2025-04-22T23:31:11.681133Z",
     "iopub.status.idle": "2025-04-22T23:31:11.705459Z",
     "shell.execute_reply": "2025-04-22T23:31:11.704556Z"
    },
    "papermill": {
     "duration": 0.032467,
     "end_time": "2025-04-22T23:31:11.706756",
     "exception": false,
     "start_time": "2025-04-22T23:31:11.674289",
     "status": "completed"
    },
    "tags": []
   },
   "outputs": [
    {
     "name": "stdout",
     "output_type": "stream",
     "text": [
      "<class 'pandas.core.frame.DataFrame'>\n",
      "Index: 750000 entries, 0 to 749999\n",
      "Data columns (total 11 columns):\n",
      " #   Column                       Non-Null Count   Dtype   \n",
      "---  ------                       --------------   -----   \n",
      " 0   Podcast_Name                 750000 non-null  category\n",
      " 1   Episode_Title                750000 non-null  category\n",
      " 2   Episode_Length_minutes       750000 non-null  float64 \n",
      " 3   Genre                        750000 non-null  category\n",
      " 4   Host_Popularity_percentage   750000 non-null  float64 \n",
      " 5   Publication_Day              750000 non-null  category\n",
      " 6   Publication_Time             750000 non-null  category\n",
      " 7   Guest_Popularity_percentage  750000 non-null  float64 \n",
      " 8   Number_of_Ads                750000 non-null  float64 \n",
      " 9   Episode_Sentiment            750000 non-null  category\n",
      " 10  Listening_Time_minutes       750000 non-null  float64 \n",
      "dtypes: category(6), float64(5)\n",
      "memory usage: 38.6 MB\n"
     ]
    }
   ],
   "source": [
    "listening_new.info()"
   ]
  },
  {
   "cell_type": "markdown",
   "id": "fbd1b673",
   "metadata": {
    "papermill": {
     "duration": 0.005737,
     "end_time": "2025-04-22T23:31:11.718956",
     "exception": false,
     "start_time": "2025-04-22T23:31:11.713219",
     "status": "completed"
    },
    "tags": []
   },
   "source": [
    "# Data preprocessing"
   ]
  },
  {
   "cell_type": "code",
   "execution_count": 10,
   "id": "a703bb12",
   "metadata": {
    "execution": {
     "iopub.execute_input": "2025-04-22T23:31:11.732225Z",
     "iopub.status.busy": "2025-04-22T23:31:11.731708Z",
     "iopub.status.idle": "2025-04-22T23:31:11.749622Z",
     "shell.execute_reply": "2025-04-22T23:31:11.748564Z"
    },
    "papermill": {
     "duration": 0.026321,
     "end_time": "2025-04-22T23:31:11.751207",
     "exception": false,
     "start_time": "2025-04-22T23:31:11.724886",
     "status": "completed"
    },
    "tags": []
   },
   "outputs": [],
   "source": [
    "listening_end = listening_new.copy()"
   ]
  },
  {
   "cell_type": "code",
   "execution_count": 11,
   "id": "2e5cc99a",
   "metadata": {
    "execution": {
     "iopub.execute_input": "2025-04-22T23:31:11.764672Z",
     "iopub.status.busy": "2025-04-22T23:31:11.764400Z",
     "iopub.status.idle": "2025-04-22T23:31:11.772064Z",
     "shell.execute_reply": "2025-04-22T23:31:11.771256Z"
    },
    "papermill": {
     "duration": 0.015805,
     "end_time": "2025-04-22T23:31:11.773572",
     "exception": false,
     "start_time": "2025-04-22T23:31:11.757767",
     "status": "completed"
    },
    "tags": []
   },
   "outputs": [],
   "source": [
    "# We map the variables and change the format\n",
    "\n",
    "eps_order = {\"Negative\" : 0, \"Neutral\" : 1, \"Positive\" : 2}\n",
    "listening_end[\"Episode_Sentiment\"] = listening_end[\"Episode_Sentiment\"].map(eps_order)\n",
    "listening_end[\"Episode_Sentiment\"] = listening_end[\"Episode_Sentiment\"].astype(\"float64\")"
   ]
  },
  {
   "cell_type": "code",
   "execution_count": 12,
   "id": "d17a3f4f",
   "metadata": {
    "execution": {
     "iopub.execute_input": "2025-04-22T23:31:11.787031Z",
     "iopub.status.busy": "2025-04-22T23:31:11.786727Z",
     "iopub.status.idle": "2025-04-22T23:31:11.811022Z",
     "shell.execute_reply": "2025-04-22T23:31:11.810339Z"
    },
    "papermill": {
     "duration": 0.032502,
     "end_time": "2025-04-22T23:31:11.812440",
     "exception": false,
     "start_time": "2025-04-22T23:31:11.779938",
     "status": "completed"
    },
    "tags": []
   },
   "outputs": [],
   "source": [
    "# We separate the categorical variables from the numerical ones\n",
    "\n",
    "df_numerical = listening_end.select_dtypes(include=\"number\")\n",
    "df_categorical = listening_end.select_dtypes(include=\"category\")"
   ]
  },
  {
   "cell_type": "markdown",
   "id": "1701c3bc",
   "metadata": {
    "papermill": {
     "duration": 0.005961,
     "end_time": "2025-04-22T23:31:11.875959",
     "exception": false,
     "start_time": "2025-04-22T23:31:11.869998",
     "status": "completed"
    },
    "tags": []
   },
   "source": [
    "## Encode"
   ]
  },
  {
   "cell_type": "code",
   "execution_count": 13,
   "id": "3f7cc984",
   "metadata": {
    "execution": {
     "iopub.execute_input": "2025-04-22T23:31:11.889568Z",
     "iopub.status.busy": "2025-04-22T23:31:11.888822Z",
     "iopub.status.idle": "2025-04-22T23:31:12.452588Z",
     "shell.execute_reply": "2025-04-22T23:31:12.451792Z"
    },
    "papermill": {
     "duration": 0.572405,
     "end_time": "2025-04-22T23:31:12.454292",
     "exception": false,
     "start_time": "2025-04-22T23:31:11.881887",
     "status": "completed"
    },
    "tags": []
   },
   "outputs": [],
   "source": [
    "# We apply OrdinalEncoder to the remaining categorical variables\n",
    "\n",
    "enc = OrdinalEncoder(categories=\"auto\").set_output(transform=\"pandas\")\n",
    "\n",
    "enc_data = enc.fit_transform(df_categorical)\n",
    "\n",
    "df_listening = pd.concat([enc_data, df_numerical], axis=1)"
   ]
  },
  {
   "cell_type": "code",
   "execution_count": 14,
   "id": "d73cbbcb",
   "metadata": {
    "execution": {
     "iopub.execute_input": "2025-04-22T23:31:12.471234Z",
     "iopub.status.busy": "2025-04-22T23:31:12.470926Z",
     "iopub.status.idle": "2025-04-22T23:31:12.711284Z",
     "shell.execute_reply": "2025-04-22T23:31:12.710673Z"
    },
    "papermill": {
     "duration": 0.250344,
     "end_time": "2025-04-22T23:31:12.712476",
     "exception": false,
     "start_time": "2025-04-22T23:31:12.462132",
     "status": "completed"
    },
    "tags": []
   },
   "outputs": [
    {
     "data": {
      "text/html": [
       "<style type=\"text/css\">\n",
       "#T_7c656_row0_col0, #T_7c656_row1_col1, #T_7c656_row2_col2, #T_7c656_row3_col3, #T_7c656_row4_col4, #T_7c656_row5_col5, #T_7c656_row6_col6, #T_7c656_row7_col7, #T_7c656_row8_col8, #T_7c656_row9_col9, #T_7c656_row10_col10 {\n",
       "  background-color: #00441b;\n",
       "  color: #f1f1f1;\n",
       "}\n",
       "#T_7c656_row0_col1, #T_7c656_row2_col1, #T_7c656_row3_col9, #T_7c656_row6_col9, #T_7c656_row8_col1, #T_7c656_row9_col6 {\n",
       "  background-color: #f4fbf1;\n",
       "  color: #000000;\n",
       "}\n",
       "#T_7c656_row0_col2, #T_7c656_row2_col0 {\n",
       "  background-color: #d5efcf;\n",
       "  color: #000000;\n",
       "}\n",
       "#T_7c656_row0_col3, #T_7c656_row0_col4, #T_7c656_row0_col7, #T_7c656_row1_col0, #T_7c656_row1_col3, #T_7c656_row1_col4, #T_7c656_row2_col3, #T_7c656_row2_col4, #T_7c656_row2_col6, #T_7c656_row3_col0, #T_7c656_row3_col4, #T_7c656_row4_col2, #T_7c656_row4_col7, #T_7c656_row5_col0, #T_7c656_row5_col2, #T_7c656_row5_col3, #T_7c656_row5_col7, #T_7c656_row6_col4, #T_7c656_row7_col3, #T_7c656_row8_col2, #T_7c656_row8_col3, #T_7c656_row9_col0, #T_7c656_row9_col2, #T_7c656_row9_col3, #T_7c656_row10_col0, #T_7c656_row10_col3 {\n",
       "  background-color: #f6fcf4;\n",
       "  color: #000000;\n",
       "}\n",
       "#T_7c656_row0_col5, #T_7c656_row3_col5 {\n",
       "  background-color: #eff9ec;\n",
       "  color: #000000;\n",
       "}\n",
       "#T_7c656_row0_col6, #T_7c656_row1_col2, #T_7c656_row1_col9, #T_7c656_row3_col2, #T_7c656_row3_col6, #T_7c656_row3_col7, #T_7c656_row8_col0, #T_7c656_row9_col4, #T_7c656_row9_col7, #T_7c656_row10_col2 {\n",
       "  background-color: #f5fbf3;\n",
       "  color: #000000;\n",
       "}\n",
       "#T_7c656_row0_col8, #T_7c656_row7_col8 {\n",
       "  background-color: #e6f5e1;\n",
       "  color: #000000;\n",
       "}\n",
       "#T_7c656_row0_col9, #T_7c656_row2_col7, #T_7c656_row3_col1, #T_7c656_row4_col1, #T_7c656_row7_col9, #T_7c656_row8_col7, #T_7c656_row10_col4 {\n",
       "  background-color: #f4fbf2;\n",
       "  color: #000000;\n",
       "}\n",
       "#T_7c656_row0_col10, #T_7c656_row1_col8, #T_7c656_row2_col10, #T_7c656_row3_col8, #T_7c656_row3_col10 {\n",
       "  background-color: #e7f6e2;\n",
       "  color: #000000;\n",
       "}\n",
       "#T_7c656_row1_col5, #T_7c656_row6_col7 {\n",
       "  background-color: #f2faf0;\n",
       "  color: #000000;\n",
       "}\n",
       "#T_7c656_row1_col6, #T_7c656_row7_col6 {\n",
       "  background-color: #f2faef;\n",
       "  color: #000000;\n",
       "}\n",
       "#T_7c656_row1_col7 {\n",
       "  background-color: #f0f9ed;\n",
       "  color: #000000;\n",
       "}\n",
       "#T_7c656_row1_col10, #T_7c656_row9_col8 {\n",
       "  background-color: #eaf7e6;\n",
       "  color: #000000;\n",
       "}\n",
       "#T_7c656_row2_col5, #T_7c656_row7_col1 {\n",
       "  background-color: #f0f9ec;\n",
       "  color: #000000;\n",
       "}\n",
       "#T_7c656_row2_col8 {\n",
       "  background-color: #e8f6e3;\n",
       "  color: #000000;\n",
       "}\n",
       "#T_7c656_row2_col9, #T_7c656_row4_col6, #T_7c656_row5_col4, #T_7c656_row7_col2, #T_7c656_row9_col1 {\n",
       "  background-color: #f5fbf2;\n",
       "  color: #000000;\n",
       "}\n",
       "#T_7c656_row4_col0, #T_7c656_row4_col3, #T_7c656_row5_col1, #T_7c656_row6_col0, #T_7c656_row6_col2, #T_7c656_row6_col3, #T_7c656_row7_col0, #T_7c656_row7_col4, #T_7c656_row8_col4, #T_7c656_row8_col5, #T_7c656_row8_col6, #T_7c656_row8_col9, #T_7c656_row8_col10, #T_7c656_row10_col1, #T_7c656_row10_col7, #T_7c656_row10_col8 {\n",
       "  background-color: #f7fcf5;\n",
       "  color: #000000;\n",
       "}\n",
       "#T_7c656_row4_col5, #T_7c656_row5_col8, #T_7c656_row10_col9 {\n",
       "  background-color: #eff9eb;\n",
       "  color: #000000;\n",
       "}\n",
       "#T_7c656_row4_col8 {\n",
       "  background-color: #e8f6e4;\n",
       "  color: #000000;\n",
       "}\n",
       "#T_7c656_row4_col9 {\n",
       "  background-color: #f3faf0;\n",
       "  color: #000000;\n",
       "}\n",
       "#T_7c656_row4_col10 {\n",
       "  background-color: #e5f5e1;\n",
       "  color: #000000;\n",
       "}\n",
       "#T_7c656_row5_col6, #T_7c656_row5_col9, #T_7c656_row6_col1, #T_7c656_row7_col5 {\n",
       "  background-color: #f1faee;\n",
       "  color: #000000;\n",
       "}\n",
       "#T_7c656_row5_col10 {\n",
       "  background-color: #006b2b;\n",
       "  color: #f1f1f1;\n",
       "}\n",
       "#T_7c656_row6_col5 {\n",
       "  background-color: #edf8e9;\n",
       "  color: #000000;\n",
       "}\n",
       "#T_7c656_row6_col8, #T_7c656_row7_col10 {\n",
       "  background-color: #e9f7e5;\n",
       "  color: #000000;\n",
       "}\n",
       "#T_7c656_row6_col10 {\n",
       "  background-color: #def2d9;\n",
       "  color: #000000;\n",
       "}\n",
       "#T_7c656_row9_col5 {\n",
       "  background-color: #ecf8e8;\n",
       "  color: #000000;\n",
       "}\n",
       "#T_7c656_row9_col10 {\n",
       "  background-color: #e0f3db;\n",
       "  color: #000000;\n",
       "}\n",
       "#T_7c656_row10_col5 {\n",
       "  background-color: #006d2c;\n",
       "  color: #f1f1f1;\n",
       "}\n",
       "#T_7c656_row10_col6 {\n",
       "  background-color: #edf8ea;\n",
       "  color: #000000;\n",
       "}\n",
       "</style>\n",
       "<table id=\"T_7c656\">\n",
       "  <thead>\n",
       "    <tr>\n",
       "      <th class=\"blank level0\" >&nbsp;</th>\n",
       "      <th id=\"T_7c656_level0_col0\" class=\"col_heading level0 col0\" >Podcast_Name</th>\n",
       "      <th id=\"T_7c656_level0_col1\" class=\"col_heading level0 col1\" >Episode_Title</th>\n",
       "      <th id=\"T_7c656_level0_col2\" class=\"col_heading level0 col2\" >Genre</th>\n",
       "      <th id=\"T_7c656_level0_col3\" class=\"col_heading level0 col3\" >Publication_Day</th>\n",
       "      <th id=\"T_7c656_level0_col4\" class=\"col_heading level0 col4\" >Publication_Time</th>\n",
       "      <th id=\"T_7c656_level0_col5\" class=\"col_heading level0 col5\" >Episode_Length_minutes</th>\n",
       "      <th id=\"T_7c656_level0_col6\" class=\"col_heading level0 col6\" >Host_Popularity_percentage</th>\n",
       "      <th id=\"T_7c656_level0_col7\" class=\"col_heading level0 col7\" >Guest_Popularity_percentage</th>\n",
       "      <th id=\"T_7c656_level0_col8\" class=\"col_heading level0 col8\" >Number_of_Ads</th>\n",
       "      <th id=\"T_7c656_level0_col9\" class=\"col_heading level0 col9\" >Episode_Sentiment</th>\n",
       "      <th id=\"T_7c656_level0_col10\" class=\"col_heading level0 col10\" >Listening_Time_minutes</th>\n",
       "    </tr>\n",
       "  </thead>\n",
       "  <tbody>\n",
       "    <tr>\n",
       "      <th id=\"T_7c656_level0_row0\" class=\"row_heading level0 row0\" >Podcast_Name</th>\n",
       "      <td id=\"T_7c656_row0_col0\" class=\"data row0 col0\" >1.000000</td>\n",
       "      <td id=\"T_7c656_row0_col1\" class=\"data row0 col1\" >0.006669</td>\n",
       "      <td id=\"T_7c656_row0_col2\" class=\"data row0 col2\" >0.188052</td>\n",
       "      <td id=\"T_7c656_row0_col3\" class=\"data row0 col3\" >0.003117</td>\n",
       "      <td id=\"T_7c656_row0_col4\" class=\"data row0 col4\" >-0.002328</td>\n",
       "      <td id=\"T_7c656_row0_col5\" class=\"data row0 col5\" >0.006335</td>\n",
       "      <td id=\"T_7c656_row0_col6\" class=\"data row0 col6\" >-0.002424</td>\n",
       "      <td id=\"T_7c656_row0_col7\" class=\"data row0 col7\" >-0.004752</td>\n",
       "      <td id=\"T_7c656_row0_col8\" class=\"data row0 col8\" >0.008955</td>\n",
       "      <td id=\"T_7c656_row0_col9\" class=\"data row0 col9\" >0.003115</td>\n",
       "      <td id=\"T_7c656_row0_col10\" class=\"data row0 col10\" >0.004346</td>\n",
       "    </tr>\n",
       "    <tr>\n",
       "      <th id=\"T_7c656_level0_row1\" class=\"row_heading level0 row1\" >Episode_Title</th>\n",
       "      <td id=\"T_7c656_row1_col0\" class=\"data row1 col0\" >0.006669</td>\n",
       "      <td id=\"T_7c656_row1_col1\" class=\"data row1 col1\" >1.000000</td>\n",
       "      <td id=\"T_7c656_row1_col2\" class=\"data row1 col2\" >0.006847</td>\n",
       "      <td id=\"T_7c656_row1_col3\" class=\"data row1 col3\" >0.001100</td>\n",
       "      <td id=\"T_7c656_row1_col4\" class=\"data row1 col4\" >-0.000304</td>\n",
       "      <td id=\"T_7c656_row1_col5\" class=\"data row1 col5\" >-0.019925</td>\n",
       "      <td id=\"T_7c656_row1_col6\" class=\"data row1 col6\" >0.020208</td>\n",
       "      <td id=\"T_7c656_row1_col7\" class=\"data row1 col7\" >0.034565</td>\n",
       "      <td id=\"T_7c656_row1_col8\" class=\"data row1 col8\" >0.006395</td>\n",
       "      <td id=\"T_7c656_row1_col9\" class=\"data row1 col9\" >-0.004845</td>\n",
       "      <td id=\"T_7c656_row1_col10\" class=\"data row1 col10\" >-0.020842</td>\n",
       "    </tr>\n",
       "    <tr>\n",
       "      <th id=\"T_7c656_level0_row2\" class=\"row_heading level0 row2\" >Genre</th>\n",
       "      <td id=\"T_7c656_row2_col0\" class=\"data row2 col0\" >0.188052</td>\n",
       "      <td id=\"T_7c656_row2_col1\" class=\"data row2 col1\" >0.006847</td>\n",
       "      <td id=\"T_7c656_row2_col2\" class=\"data row2 col2\" >1.000000</td>\n",
       "      <td id=\"T_7c656_row2_col3\" class=\"data row2 col3\" >0.003305</td>\n",
       "      <td id=\"T_7c656_row2_col4\" class=\"data row2 col4\" >-0.001329</td>\n",
       "      <td id=\"T_7c656_row2_col5\" class=\"data row2 col5\" >-0.000452</td>\n",
       "      <td id=\"T_7c656_row2_col6\" class=\"data row2 col6\" >-0.008807</td>\n",
       "      <td id=\"T_7c656_row2_col7\" class=\"data row2 col7\" >0.007003</td>\n",
       "      <td id=\"T_7c656_row2_col8\" class=\"data row2 col8\" >-0.003429</td>\n",
       "      <td id=\"T_7c656_row2_col9\" class=\"data row2 col9\" >-0.001588</td>\n",
       "      <td id=\"T_7c656_row2_col10\" class=\"data row2 col10\" >0.004940</td>\n",
       "    </tr>\n",
       "    <tr>\n",
       "      <th id=\"T_7c656_level0_row3\" class=\"row_heading level0 row3\" >Publication_Day</th>\n",
       "      <td id=\"T_7c656_row3_col0\" class=\"data row3 col0\" >0.003117</td>\n",
       "      <td id=\"T_7c656_row3_col1\" class=\"data row3 col1\" >0.001100</td>\n",
       "      <td id=\"T_7c656_row3_col2\" class=\"data row3 col2\" >0.003305</td>\n",
       "      <td id=\"T_7c656_row3_col3\" class=\"data row3 col3\" >1.000000</td>\n",
       "      <td id=\"T_7c656_row3_col4\" class=\"data row3 col4\" >-0.000860</td>\n",
       "      <td id=\"T_7c656_row3_col5\" class=\"data row3 col5\" >0.006598</td>\n",
       "      <td id=\"T_7c656_row3_col6\" class=\"data row3 col6\" >-0.003698</td>\n",
       "      <td id=\"T_7c656_row3_col7\" class=\"data row3 col7\" >0.000398</td>\n",
       "      <td id=\"T_7c656_row3_col8\" class=\"data row3 col8\" >0.004986</td>\n",
       "      <td id=\"T_7c656_row3_col9\" class=\"data row3 col9\" >0.004594</td>\n",
       "      <td id=\"T_7c656_row3_col10\" class=\"data row3 col10\" >0.004030</td>\n",
       "    </tr>\n",
       "    <tr>\n",
       "      <th id=\"T_7c656_level0_row4\" class=\"row_heading level0 row4\" >Publication_Time</th>\n",
       "      <td id=\"T_7c656_row4_col0\" class=\"data row4 col0\" >-0.002328</td>\n",
       "      <td id=\"T_7c656_row4_col1\" class=\"data row4 col1\" >-0.000304</td>\n",
       "      <td id=\"T_7c656_row4_col2\" class=\"data row4 col2\" >-0.001329</td>\n",
       "      <td id=\"T_7c656_row4_col3\" class=\"data row4 col3\" >-0.000860</td>\n",
       "      <td id=\"T_7c656_row4_col4\" class=\"data row4 col4\" >1.000000</td>\n",
       "      <td id=\"T_7c656_row4_col5\" class=\"data row4 col5\" >0.009908</td>\n",
       "      <td id=\"T_7c656_row4_col6\" class=\"data row4 col6\" >0.000182</td>\n",
       "      <td id=\"T_7c656_row4_col7\" class=\"data row4 col7\" >-0.005023</td>\n",
       "      <td id=\"T_7c656_row4_col8\" class=\"data row4 col8\" >-0.006727</td>\n",
       "      <td id=\"T_7c656_row4_col9\" class=\"data row4 col9\" >0.008923</td>\n",
       "      <td id=\"T_7c656_row4_col10\" class=\"data row4 col10\" >0.013225</td>\n",
       "    </tr>\n",
       "    <tr>\n",
       "      <th id=\"T_7c656_level0_row5\" class=\"row_heading level0 row5\" >Episode_Length_minutes</th>\n",
       "      <td id=\"T_7c656_row5_col0\" class=\"data row5 col0\" >0.006335</td>\n",
       "      <td id=\"T_7c656_row5_col1\" class=\"data row5 col1\" >-0.019925</td>\n",
       "      <td id=\"T_7c656_row5_col2\" class=\"data row5 col2\" >-0.000452</td>\n",
       "      <td id=\"T_7c656_row5_col3\" class=\"data row5 col3\" >0.006598</td>\n",
       "      <td id=\"T_7c656_row5_col4\" class=\"data row5 col4\" >0.009908</td>\n",
       "      <td id=\"T_7c656_row5_col5\" class=\"data row5 col5\" >1.000000</td>\n",
       "      <td id=\"T_7c656_row5_col6\" class=\"data row5 col6\" >0.022221</td>\n",
       "      <td id=\"T_7c656_row5_col7\" class=\"data row5 col7\" >-0.008353</td>\n",
       "      <td id=\"T_7c656_row5_col8\" class=\"data row5 col8\" >-0.054821</td>\n",
       "      <td id=\"T_7c656_row5_col9\" class=\"data row5 col9\" >0.024724</td>\n",
       "      <td id=\"T_7c656_row5_col10\" class=\"data row5 col10\" >0.866202</td>\n",
       "    </tr>\n",
       "    <tr>\n",
       "      <th id=\"T_7c656_level0_row6\" class=\"row_heading level0 row6\" >Host_Popularity_percentage</th>\n",
       "      <td id=\"T_7c656_row6_col0\" class=\"data row6 col0\" >-0.002424</td>\n",
       "      <td id=\"T_7c656_row6_col1\" class=\"data row6 col1\" >0.020208</td>\n",
       "      <td id=\"T_7c656_row6_col2\" class=\"data row6 col2\" >-0.008807</td>\n",
       "      <td id=\"T_7c656_row6_col3\" class=\"data row6 col3\" >-0.003698</td>\n",
       "      <td id=\"T_7c656_row6_col4\" class=\"data row6 col4\" >0.000182</td>\n",
       "      <td id=\"T_7c656_row6_col5\" class=\"data row6 col5\" >0.022221</td>\n",
       "      <td id=\"T_7c656_row6_col6\" class=\"data row6 col6\" >1.000000</td>\n",
       "      <td id=\"T_7c656_row6_col7\" class=\"data row6 col7\" >0.020060</td>\n",
       "      <td id=\"T_7c656_row6_col8\" class=\"data row6 col8\" >-0.017831</td>\n",
       "      <td id=\"T_7c656_row6_col9\" class=\"data row6 col9\" >0.007063</td>\n",
       "      <td id=\"T_7c656_row6_col10\" class=\"data row6 col10\" >0.050854</td>\n",
       "    </tr>\n",
       "    <tr>\n",
       "      <th id=\"T_7c656_level0_row7\" class=\"row_heading level0 row7\" >Guest_Popularity_percentage</th>\n",
       "      <td id=\"T_7c656_row7_col0\" class=\"data row7 col0\" >-0.004752</td>\n",
       "      <td id=\"T_7c656_row7_col1\" class=\"data row7 col1\" >0.034565</td>\n",
       "      <td id=\"T_7c656_row7_col2\" class=\"data row7 col2\" >0.007003</td>\n",
       "      <td id=\"T_7c656_row7_col3\" class=\"data row7 col3\" >0.000398</td>\n",
       "      <td id=\"T_7c656_row7_col4\" class=\"data row7 col4\" >-0.005023</td>\n",
       "      <td id=\"T_7c656_row7_col5\" class=\"data row7 col5\" >-0.008353</td>\n",
       "      <td id=\"T_7c656_row7_col6\" class=\"data row7 col6\" >0.020060</td>\n",
       "      <td id=\"T_7c656_row7_col7\" class=\"data row7 col7\" >1.000000</td>\n",
       "      <td id=\"T_7c656_row7_col8\" class=\"data row7 col8\" >0.007658</td>\n",
       "      <td id=\"T_7c656_row7_col9\" class=\"data row7 col9\" >0.000488</td>\n",
       "      <td id=\"T_7c656_row7_col10\" class=\"data row7 col10\" >-0.014399</td>\n",
       "    </tr>\n",
       "    <tr>\n",
       "      <th id=\"T_7c656_level0_row8\" class=\"row_heading level0 row8\" >Number_of_Ads</th>\n",
       "      <td id=\"T_7c656_row8_col0\" class=\"data row8 col0\" >0.008955</td>\n",
       "      <td id=\"T_7c656_row8_col1\" class=\"data row8 col1\" >0.006395</td>\n",
       "      <td id=\"T_7c656_row8_col2\" class=\"data row8 col2\" >-0.003429</td>\n",
       "      <td id=\"T_7c656_row8_col3\" class=\"data row8 col3\" >0.004986</td>\n",
       "      <td id=\"T_7c656_row8_col4\" class=\"data row8 col4\" >-0.006727</td>\n",
       "      <td id=\"T_7c656_row8_col5\" class=\"data row8 col5\" >-0.054821</td>\n",
       "      <td id=\"T_7c656_row8_col6\" class=\"data row8 col6\" >-0.017831</td>\n",
       "      <td id=\"T_7c656_row8_col7\" class=\"data row8 col7\" >0.007658</td>\n",
       "      <td id=\"T_7c656_row8_col8\" class=\"data row8 col8\" >1.000000</td>\n",
       "      <td id=\"T_7c656_row8_col9\" class=\"data row8 col9\" >-0.020627</td>\n",
       "      <td id=\"T_7c656_row8_col10\" class=\"data row8 col10\" >-0.124201</td>\n",
       "    </tr>\n",
       "    <tr>\n",
       "      <th id=\"T_7c656_level0_row9\" class=\"row_heading level0 row9\" >Episode_Sentiment</th>\n",
       "      <td id=\"T_7c656_row9_col0\" class=\"data row9 col0\" >0.003115</td>\n",
       "      <td id=\"T_7c656_row9_col1\" class=\"data row9 col1\" >-0.004845</td>\n",
       "      <td id=\"T_7c656_row9_col2\" class=\"data row9 col2\" >-0.001588</td>\n",
       "      <td id=\"T_7c656_row9_col3\" class=\"data row9 col3\" >0.004594</td>\n",
       "      <td id=\"T_7c656_row9_col4\" class=\"data row9 col4\" >0.008923</td>\n",
       "      <td id=\"T_7c656_row9_col5\" class=\"data row9 col5\" >0.024724</td>\n",
       "      <td id=\"T_7c656_row9_col6\" class=\"data row9 col6\" >0.007063</td>\n",
       "      <td id=\"T_7c656_row9_col7\" class=\"data row9 col7\" >0.000488</td>\n",
       "      <td id=\"T_7c656_row9_col8\" class=\"data row9 col8\" >-0.020627</td>\n",
       "      <td id=\"T_7c656_row9_col9\" class=\"data row9 col9\" >1.000000</td>\n",
       "      <td id=\"T_7c656_row9_col10\" class=\"data row9 col10\" >0.039470</td>\n",
       "    </tr>\n",
       "    <tr>\n",
       "      <th id=\"T_7c656_level0_row10\" class=\"row_heading level0 row10\" >Listening_Time_minutes</th>\n",
       "      <td id=\"T_7c656_row10_col0\" class=\"data row10 col0\" >0.004346</td>\n",
       "      <td id=\"T_7c656_row10_col1\" class=\"data row10 col1\" >-0.020842</td>\n",
       "      <td id=\"T_7c656_row10_col2\" class=\"data row10 col2\" >0.004940</td>\n",
       "      <td id=\"T_7c656_row10_col3\" class=\"data row10 col3\" >0.004030</td>\n",
       "      <td id=\"T_7c656_row10_col4\" class=\"data row10 col4\" >0.013225</td>\n",
       "      <td id=\"T_7c656_row10_col5\" class=\"data row10 col5\" >0.866202</td>\n",
       "      <td id=\"T_7c656_row10_col6\" class=\"data row10 col6\" >0.050854</td>\n",
       "      <td id=\"T_7c656_row10_col7\" class=\"data row10 col7\" >-0.014399</td>\n",
       "      <td id=\"T_7c656_row10_col8\" class=\"data row10 col8\" >-0.124201</td>\n",
       "      <td id=\"T_7c656_row10_col9\" class=\"data row10 col9\" >0.039470</td>\n",
       "      <td id=\"T_7c656_row10_col10\" class=\"data row10 col10\" >1.000000</td>\n",
       "    </tr>\n",
       "  </tbody>\n",
       "</table>\n"
      ],
      "text/plain": [
       "<pandas.io.formats.style.Styler at 0x7f3dec60fc90>"
      ]
     },
     "execution_count": 14,
     "metadata": {},
     "output_type": "execute_result"
    }
   ],
   "source": [
    "df_listening.corr().style.background_gradient(cmap='Greens')"
   ]
  },
  {
   "cell_type": "markdown",
   "id": "ba654103",
   "metadata": {
    "papermill": {
     "duration": 0.006597,
     "end_time": "2025-04-22T23:31:12.728947",
     "exception": false,
     "start_time": "2025-04-22T23:31:12.722350",
     "status": "completed"
    },
    "tags": []
   },
   "source": [
    "## Scaling"
   ]
  },
  {
   "cell_type": "code",
   "execution_count": 15,
   "id": "31a2daea",
   "metadata": {
    "execution": {
     "iopub.execute_input": "2025-04-22T23:31:12.743538Z",
     "iopub.status.busy": "2025-04-22T23:31:12.743293Z",
     "iopub.status.idle": "2025-04-22T23:31:12.762294Z",
     "shell.execute_reply": "2025-04-22T23:31:12.761288Z"
    },
    "papermill": {
     "duration": 0.027839,
     "end_time": "2025-04-22T23:31:12.763699",
     "exception": false,
     "start_time": "2025-04-22T23:31:12.735860",
     "status": "completed"
    },
    "tags": []
   },
   "outputs": [],
   "source": [
    "# We separate the target variable from the features and data to scale\n",
    "\n",
    "x_listening = df_listening.drop(columns=\"Listening_Time_minutes\")\n",
    "y_listening = df_listening[\"Listening_Time_minutes\"]"
   ]
  },
  {
   "cell_type": "code",
   "execution_count": 16,
   "id": "f6738eab",
   "metadata": {
    "execution": {
     "iopub.execute_input": "2025-04-22T23:31:12.778014Z",
     "iopub.status.busy": "2025-04-22T23:31:12.777779Z",
     "iopub.status.idle": "2025-04-22T23:31:12.888271Z",
     "shell.execute_reply": "2025-04-22T23:31:12.887330Z"
    },
    "papermill": {
     "duration": 0.119371,
     "end_time": "2025-04-22T23:31:12.890031",
     "exception": false,
     "start_time": "2025-04-22T23:31:12.770660",
     "status": "completed"
    },
    "tags": []
   },
   "outputs": [],
   "source": [
    "# Numerical variables to scale\n",
    "\n",
    "df_numeric = x_listening[[\n",
    "    \"Episode_Length_minutes\",\n",
    "    \"Host_Popularity_percentage\",\n",
    "    \"Guest_Popularity_percentage\"\n",
    "]]\n",
    "\n",
    "scaler = StandardScaler().set_output(transform=\"pandas\")\n",
    "scale_num = scaler.fit_transform(df_numeric)\n",
    "\n",
    "# We create a df with the remaining variables\n",
    "\n",
    "df_rest = x_listening.drop(\n",
    "    columns=[\"Episode_Length_minutes\",\n",
    "             \"Host_Popularity_percentage\",\n",
    "             \"Guest_Popularity_percentage\"]\n",
    ")\n",
    "\n",
    "# We concatenate the dataframes\n",
    "\n",
    "x_end = pd.concat([df_rest, scale_num], axis=1)"
   ]
  },
  {
   "cell_type": "code",
   "execution_count": 17,
   "id": "3f9657e5",
   "metadata": {
    "execution": {
     "iopub.execute_input": "2025-04-22T23:31:12.907145Z",
     "iopub.status.busy": "2025-04-22T23:31:12.906853Z",
     "iopub.status.idle": "2025-04-22T23:31:13.254550Z",
     "shell.execute_reply": "2025-04-22T23:31:13.253687Z"
    },
    "papermill": {
     "duration": 0.35778,
     "end_time": "2025-04-22T23:31:13.255867",
     "exception": false,
     "start_time": "2025-04-22T23:31:12.898087",
     "status": "completed"
    },
    "tags": []
   },
   "outputs": [
    {
     "data": {
      "text/html": [
       "<div>\n",
       "<style scoped>\n",
       "    .dataframe tbody tr th:only-of-type {\n",
       "        vertical-align: middle;\n",
       "    }\n",
       "\n",
       "    .dataframe tbody tr th {\n",
       "        vertical-align: top;\n",
       "    }\n",
       "\n",
       "    .dataframe thead th {\n",
       "        text-align: right;\n",
       "    }\n",
       "</style>\n",
       "<table border=\"1\" class=\"dataframe\">\n",
       "  <thead>\n",
       "    <tr style=\"text-align: right;\">\n",
       "      <th></th>\n",
       "      <th>count</th>\n",
       "      <th>mean</th>\n",
       "      <th>std</th>\n",
       "      <th>min</th>\n",
       "      <th>25%</th>\n",
       "      <th>50%</th>\n",
       "      <th>75%</th>\n",
       "      <th>max</th>\n",
       "    </tr>\n",
       "  </thead>\n",
       "  <tbody>\n",
       "    <tr>\n",
       "      <th>Podcast_Name</th>\n",
       "      <td>750000.0</td>\n",
       "      <td>2.351573e+01</td>\n",
       "      <td>14.137577</td>\n",
       "      <td>0.000000</td>\n",
       "      <td>11.000000</td>\n",
       "      <td>23.000000</td>\n",
       "      <td>37.000000</td>\n",
       "      <td>47.000000</td>\n",
       "    </tr>\n",
       "    <tr>\n",
       "      <th>Episode_Title</th>\n",
       "      <td>750000.0</td>\n",
       "      <td>5.028600e+01</td>\n",
       "      <td>28.186681</td>\n",
       "      <td>0.000000</td>\n",
       "      <td>26.000000</td>\n",
       "      <td>51.000000</td>\n",
       "      <td>74.000000</td>\n",
       "      <td>99.000000</td>\n",
       "    </tr>\n",
       "    <tr>\n",
       "      <th>Genre</th>\n",
       "      <td>750000.0</td>\n",
       "      <td>4.648788e+00</td>\n",
       "      <td>2.963073</td>\n",
       "      <td>0.000000</td>\n",
       "      <td>2.000000</td>\n",
       "      <td>5.000000</td>\n",
       "      <td>7.000000</td>\n",
       "      <td>9.000000</td>\n",
       "    </tr>\n",
       "    <tr>\n",
       "      <th>Publication_Day</th>\n",
       "      <td>750000.0</td>\n",
       "      <td>2.962776e+00</td>\n",
       "      <td>1.997399</td>\n",
       "      <td>0.000000</td>\n",
       "      <td>1.000000</td>\n",
       "      <td>3.000000</td>\n",
       "      <td>5.000000</td>\n",
       "      <td>6.000000</td>\n",
       "    </tr>\n",
       "    <tr>\n",
       "      <th>Publication_Time</th>\n",
       "      <td>750000.0</td>\n",
       "      <td>1.522868e+00</td>\n",
       "      <td>1.119361</td>\n",
       "      <td>0.000000</td>\n",
       "      <td>1.000000</td>\n",
       "      <td>1.000000</td>\n",
       "      <td>3.000000</td>\n",
       "      <td>3.000000</td>\n",
       "    </tr>\n",
       "    <tr>\n",
       "      <th>Number_of_Ads</th>\n",
       "      <td>750000.0</td>\n",
       "      <td>1.347873e+00</td>\n",
       "      <td>1.110966</td>\n",
       "      <td>0.000000</td>\n",
       "      <td>0.000000</td>\n",
       "      <td>1.000000</td>\n",
       "      <td>2.000000</td>\n",
       "      <td>3.000000</td>\n",
       "    </tr>\n",
       "    <tr>\n",
       "      <th>Episode_Sentiment</th>\n",
       "      <td>750000.0</td>\n",
       "      <td>9.979693e-01</td>\n",
       "      <td>0.815440</td>\n",
       "      <td>0.000000</td>\n",
       "      <td>0.000000</td>\n",
       "      <td>1.000000</td>\n",
       "      <td>2.000000</td>\n",
       "      <td>2.000000</td>\n",
       "    </tr>\n",
       "    <tr>\n",
       "      <th>Episode_Length_minutes</th>\n",
       "      <td>750000.0</td>\n",
       "      <td>2.563828e-16</td>\n",
       "      <td>1.000001</td>\n",
       "      <td>-2.080627</td>\n",
       "      <td>-0.809072</td>\n",
       "      <td>-0.002546</td>\n",
       "      <td>0.832465</td>\n",
       "      <td>8.410505</td>\n",
       "    </tr>\n",
       "    <tr>\n",
       "      <th>Host_Popularity_percentage</th>\n",
       "      <td>750000.0</td>\n",
       "      <td>-2.175208e-16</td>\n",
       "      <td>1.000001</td>\n",
       "      <td>-2.560290</td>\n",
       "      <td>-0.894076</td>\n",
       "      <td>0.008330</td>\n",
       "      <td>0.860018</td>\n",
       "      <td>1.754991</td>\n",
       "    </tr>\n",
       "    <tr>\n",
       "      <th>Guest_Popularity_percentage</th>\n",
       "      <td>750000.0</td>\n",
       "      <td>-3.267739e-16</td>\n",
       "      <td>1.000001</td>\n",
       "      <td>-2.045663</td>\n",
       "      <td>-0.692544</td>\n",
       "      <td>0.007787</td>\n",
       "      <td>0.736553</td>\n",
       "      <td>1.870745</td>\n",
       "    </tr>\n",
       "  </tbody>\n",
       "</table>\n",
       "</div>"
      ],
      "text/plain": [
       "                                count          mean        std       min  \\\n",
       "Podcast_Name                 750000.0  2.351573e+01  14.137577  0.000000   \n",
       "Episode_Title                750000.0  5.028600e+01  28.186681  0.000000   \n",
       "Genre                        750000.0  4.648788e+00   2.963073  0.000000   \n",
       "Publication_Day              750000.0  2.962776e+00   1.997399  0.000000   \n",
       "Publication_Time             750000.0  1.522868e+00   1.119361  0.000000   \n",
       "Number_of_Ads                750000.0  1.347873e+00   1.110966  0.000000   \n",
       "Episode_Sentiment            750000.0  9.979693e-01   0.815440  0.000000   \n",
       "Episode_Length_minutes       750000.0  2.563828e-16   1.000001 -2.080627   \n",
       "Host_Popularity_percentage   750000.0 -2.175208e-16   1.000001 -2.560290   \n",
       "Guest_Popularity_percentage  750000.0 -3.267739e-16   1.000001 -2.045663   \n",
       "\n",
       "                                   25%        50%        75%        max  \n",
       "Podcast_Name                 11.000000  23.000000  37.000000  47.000000  \n",
       "Episode_Title                26.000000  51.000000  74.000000  99.000000  \n",
       "Genre                         2.000000   5.000000   7.000000   9.000000  \n",
       "Publication_Day               1.000000   3.000000   5.000000   6.000000  \n",
       "Publication_Time              1.000000   1.000000   3.000000   3.000000  \n",
       "Number_of_Ads                 0.000000   1.000000   2.000000   3.000000  \n",
       "Episode_Sentiment             0.000000   1.000000   2.000000   2.000000  \n",
       "Episode_Length_minutes       -0.809072  -0.002546   0.832465   8.410505  \n",
       "Host_Popularity_percentage   -0.894076   0.008330   0.860018   1.754991  \n",
       "Guest_Popularity_percentage  -0.692544   0.007787   0.736553   1.870745  "
      ]
     },
     "execution_count": 17,
     "metadata": {},
     "output_type": "execute_result"
    }
   ],
   "source": [
    "x_end.describe().T"
   ]
  },
  {
   "cell_type": "markdown",
   "id": "d800feb5",
   "metadata": {
    "papermill": {
     "duration": 0.006434,
     "end_time": "2025-04-22T23:31:13.269762",
     "exception": false,
     "start_time": "2025-04-22T23:31:13.263328",
     "status": "completed"
    },
    "tags": []
   },
   "source": [
    "## Feature Selection"
   ]
  },
  {
   "cell_type": "code",
   "execution_count": 18,
   "id": "3a5abfac",
   "metadata": {
    "execution": {
     "iopub.execute_input": "2025-04-22T23:31:13.284199Z",
     "iopub.status.busy": "2025-04-22T23:31:13.283870Z",
     "iopub.status.idle": "2025-04-22T23:31:13.289292Z",
     "shell.execute_reply": "2025-04-22T23:31:13.288553Z"
    },
    "papermill": {
     "duration": 0.013847,
     "end_time": "2025-04-22T23:31:13.290355",
     "exception": false,
     "start_time": "2025-04-22T23:31:13.276508",
     "status": "completed"
    },
    "tags": []
   },
   "outputs": [
    {
     "data": {
      "text/plain": [
       "'\\nmi_scores = mutual_info_regression(x_end, y_listening)\\nmi_scores = pd.Series(mi_scores, name=\"MI Scores\", index=x_end.columns)\\nmi_scores = mi_scores.sort_values(ascending=False)\\nmi_scores\\n'"
      ]
     },
     "execution_count": 18,
     "metadata": {},
     "output_type": "execute_result"
    }
   ],
   "source": [
    "'''\n",
    "mi_scores = mutual_info_regression(x_end, y_listening)\n",
    "mi_scores = pd.Series(mi_scores, name=\"MI Scores\", index=x_end.columns)\n",
    "mi_scores = mi_scores.sort_values(ascending=False)\n",
    "mi_scores\n",
    "'''"
   ]
  },
  {
   "cell_type": "code",
   "execution_count": 19,
   "id": "fdc185d9",
   "metadata": {
    "execution": {
     "iopub.execute_input": "2025-04-22T23:31:13.305971Z",
     "iopub.status.busy": "2025-04-22T23:31:13.305717Z",
     "iopub.status.idle": "2025-04-22T23:31:13.309690Z",
     "shell.execute_reply": "2025-04-22T23:31:13.308756Z"
    },
    "papermill": {
     "duration": 0.013059,
     "end_time": "2025-04-22T23:31:13.310956",
     "exception": false,
     "start_time": "2025-04-22T23:31:13.297897",
     "status": "completed"
    },
    "tags": []
   },
   "outputs": [],
   "source": [
    "# We make a selection of variables\n",
    "\n",
    "#x_end = x_end.drop(columns=[\"Podcast_Name\", \"Episode_Title\"])"
   ]
  },
  {
   "cell_type": "code",
   "execution_count": 20,
   "id": "021e5ba7",
   "metadata": {
    "execution": {
     "iopub.execute_input": "2025-04-22T23:31:13.326711Z",
     "iopub.status.busy": "2025-04-22T23:31:13.326392Z",
     "iopub.status.idle": "2025-04-22T23:31:13.345597Z",
     "shell.execute_reply": "2025-04-22T23:31:13.344702Z"
    },
    "papermill": {
     "duration": 0.028397,
     "end_time": "2025-04-22T23:31:13.346857",
     "exception": false,
     "start_time": "2025-04-22T23:31:13.318460",
     "status": "completed"
    },
    "tags": []
   },
   "outputs": [
    {
     "name": "stdout",
     "output_type": "stream",
     "text": [
      "<class 'pandas.core.frame.DataFrame'>\n",
      "Index: 750000 entries, 0 to 749999\n",
      "Data columns (total 10 columns):\n",
      " #   Column                       Non-Null Count   Dtype  \n",
      "---  ------                       --------------   -----  \n",
      " 0   Podcast_Name                 750000 non-null  float64\n",
      " 1   Episode_Title                750000 non-null  float64\n",
      " 2   Genre                        750000 non-null  float64\n",
      " 3   Publication_Day              750000 non-null  float64\n",
      " 4   Publication_Time             750000 non-null  float64\n",
      " 5   Number_of_Ads                750000 non-null  float64\n",
      " 6   Episode_Sentiment            750000 non-null  float64\n",
      " 7   Episode_Length_minutes       750000 non-null  float64\n",
      " 8   Host_Popularity_percentage   750000 non-null  float64\n",
      " 9   Guest_Popularity_percentage  750000 non-null  float64\n",
      "dtypes: float64(10)\n",
      "memory usage: 62.9 MB\n"
     ]
    }
   ],
   "source": [
    "x_end.info()"
   ]
  },
  {
   "cell_type": "markdown",
   "id": "64f30632",
   "metadata": {
    "papermill": {
     "duration": 0.006577,
     "end_time": "2025-04-22T23:31:13.360816",
     "exception": false,
     "start_time": "2025-04-22T23:31:13.354239",
     "status": "completed"
    },
    "tags": []
   },
   "source": [
    "# Model Selection"
   ]
  },
  {
   "cell_type": "code",
   "execution_count": 21,
   "id": "164ce80e",
   "metadata": {
    "execution": {
     "iopub.execute_input": "2025-04-22T23:31:13.375787Z",
     "iopub.status.busy": "2025-04-22T23:31:13.375466Z",
     "iopub.status.idle": "2025-04-22T23:31:13.468413Z",
     "shell.execute_reply": "2025-04-22T23:31:13.467513Z"
    },
    "papermill": {
     "duration": 0.101992,
     "end_time": "2025-04-22T23:31:13.469663",
     "exception": false,
     "start_time": "2025-04-22T23:31:13.367671",
     "status": "completed"
    },
    "tags": []
   },
   "outputs": [],
   "source": [
    "# We separate the data into training and validation sets\n",
    "\n",
    "x_train, x_val, y_train, y_val = (\n",
    "    train_test_split(\n",
    "        x_end, y_listening, test_size=0.2, random_state=42\n",
    "    )\n",
    ")"
   ]
  },
  {
   "cell_type": "code",
   "execution_count": 22,
   "id": "e42ef06d",
   "metadata": {
    "execution": {
     "iopub.execute_input": "2025-04-22T23:31:13.483755Z",
     "iopub.status.busy": "2025-04-22T23:31:13.483510Z",
     "iopub.status.idle": "2025-04-22T23:31:13.487166Z",
     "shell.execute_reply": "2025-04-22T23:31:13.486281Z"
    },
    "papermill": {
     "duration": 0.012327,
     "end_time": "2025-04-22T23:31:13.488790",
     "exception": false,
     "start_time": "2025-04-22T23:31:13.476463",
     "status": "completed"
    },
    "tags": []
   },
   "outputs": [],
   "source": [
    "# Create the KFold object\n",
    "\n",
    "kfold = KFold(n_splits=10, shuffle=True, random_state=42)"
   ]
  },
  {
   "cell_type": "markdown",
   "id": "8122446b",
   "metadata": {
    "papermill": {
     "duration": 0.006716,
     "end_time": "2025-04-22T23:31:13.503205",
     "exception": false,
     "start_time": "2025-04-22T23:31:13.496489",
     "status": "completed"
    },
    "tags": []
   },
   "source": [
    "## XGBRegressor"
   ]
  },
  {
   "cell_type": "code",
   "execution_count": 23,
   "id": "50d1bca6",
   "metadata": {
    "execution": {
     "iopub.execute_input": "2025-04-22T23:31:13.518376Z",
     "iopub.status.busy": "2025-04-22T23:31:13.517684Z",
     "iopub.status.idle": "2025-04-22T23:31:13.523297Z",
     "shell.execute_reply": "2025-04-22T23:31:13.522687Z"
    },
    "papermill": {
     "duration": 0.014465,
     "end_time": "2025-04-22T23:31:13.524504",
     "exception": false,
     "start_time": "2025-04-22T23:31:13.510039",
     "status": "completed"
    },
    "tags": []
   },
   "outputs": [
    {
     "data": {
      "text/plain": [
       "{'objective': 'reg:squarederror',\n",
       " 'base_score': None,\n",
       " 'booster': None,\n",
       " 'callbacks': None,\n",
       " 'colsample_bylevel': None,\n",
       " 'colsample_bynode': None,\n",
       " 'colsample_bytree': None,\n",
       " 'device': None,\n",
       " 'early_stopping_rounds': None,\n",
       " 'enable_categorical': False,\n",
       " 'eval_metric': None,\n",
       " 'feature_types': None,\n",
       " 'gamma': None,\n",
       " 'grow_policy': None,\n",
       " 'importance_type': None,\n",
       " 'interaction_constraints': None,\n",
       " 'learning_rate': None,\n",
       " 'max_bin': None,\n",
       " 'max_cat_threshold': None,\n",
       " 'max_cat_to_onehot': None,\n",
       " 'max_delta_step': None,\n",
       " 'max_depth': None,\n",
       " 'max_leaves': None,\n",
       " 'min_child_weight': None,\n",
       " 'missing': nan,\n",
       " 'monotone_constraints': None,\n",
       " 'multi_strategy': None,\n",
       " 'n_estimators': None,\n",
       " 'n_jobs': None,\n",
       " 'num_parallel_tree': None,\n",
       " 'random_state': None,\n",
       " 'reg_alpha': None,\n",
       " 'reg_lambda': None,\n",
       " 'sampling_method': None,\n",
       " 'scale_pos_weight': None,\n",
       " 'subsample': None,\n",
       " 'tree_method': None,\n",
       " 'validate_parameters': None,\n",
       " 'verbosity': None}"
      ]
     },
     "execution_count": 23,
     "metadata": {},
     "output_type": "execute_result"
    }
   ],
   "source": [
    "# We create the model instance\n",
    "\n",
    "xgbr = XGBRegressor()\n",
    "\n",
    "xgbr.get_params()"
   ]
  },
  {
   "cell_type": "code",
   "execution_count": 24,
   "id": "5e821026",
   "metadata": {
    "execution": {
     "iopub.execute_input": "2025-04-22T23:31:13.541171Z",
     "iopub.status.busy": "2025-04-22T23:31:13.540869Z",
     "iopub.status.idle": "2025-04-22T23:31:13.545494Z",
     "shell.execute_reply": "2025-04-22T23:31:13.544825Z"
    },
    "papermill": {
     "duration": 0.013695,
     "end_time": "2025-04-22T23:31:13.546437",
     "exception": false,
     "start_time": "2025-04-22T23:31:13.532742",
     "status": "completed"
    },
    "tags": []
   },
   "outputs": [
    {
     "data": {
      "text/plain": [
       "'\\n# We establish the parameters to test\\n\\nxgbr_param_grid = {\\n    \"gamma\" : [0.1, 0.5, 0.8, 0, 1],\\n    \"max_depth\" : [3, 4, 5, 6, 7],\\n    \"learning_rate\" : [0.2, 0.1, 0.01, 0.001],\\n    \"subsample\" : [0.5, 0.6, 0.7, 0.8, 0.9, 1],\\n    \"n_estimators\" : [50, 100, 150, 200]\\n}\\n\\nxgbr_grid = RandomizedSearchCV(\\n    xgbr,\\n    xgbr_param_grid,\\n    cv=kfold,\\n    scoring=\"neg_root_mean_squared_error\",\\n    return_train_score=True\\n)\\n\\nxgbr_search = xgbr_grid.fit(x_train, y_train)\\n\\nprint(\\n    f\\'Parameters: {xgbr_search.best_params_}\\nScore: {xgbr_search.best_score_}\\'\\n)\\n'"
      ]
     },
     "execution_count": 24,
     "metadata": {},
     "output_type": "execute_result"
    }
   ],
   "source": [
    "'''\n",
    "# We establish the parameters to test\n",
    "\n",
    "xgbr_param_grid = {\n",
    "    \"gamma\" : [0.1, 0.5, 0.8, 0, 1],\n",
    "    \"max_depth\" : [3, 4, 5, 6, 7],\n",
    "    \"learning_rate\" : [0.2, 0.1, 0.01, 0.001],\n",
    "    \"subsample\" : [0.5, 0.6, 0.7, 0.8, 0.9, 1],\n",
    "    \"n_estimators\" : [50, 100, 150, 200]\n",
    "}\n",
    "\n",
    "xgbr_grid = RandomizedSearchCV(\n",
    "    xgbr,\n",
    "    xgbr_param_grid,\n",
    "    cv=kfold,\n",
    "    scoring=\"neg_root_mean_squared_error\",\n",
    "    return_train_score=True\n",
    ")\n",
    "\n",
    "xgbr_search = xgbr_grid.fit(x_train, y_train)\n",
    "\n",
    "print(\n",
    "    f'Parameters: {xgbr_search.best_params_}\\nScore: {xgbr_search.best_score_}'\n",
    ")\n",
    "'''"
   ]
  },
  {
   "cell_type": "code",
   "execution_count": 25,
   "id": "de2cb8f5",
   "metadata": {
    "execution": {
     "iopub.execute_input": "2025-04-22T23:31:13.562340Z",
     "iopub.status.busy": "2025-04-22T23:31:13.562032Z",
     "iopub.status.idle": "2025-04-22T23:31:13.566267Z",
     "shell.execute_reply": "2025-04-22T23:31:13.565280Z"
    },
    "papermill": {
     "duration": 0.013467,
     "end_time": "2025-04-22T23:31:13.567383",
     "exception": false,
     "start_time": "2025-04-22T23:31:13.553916",
     "status": "completed"
    },
    "tags": []
   },
   "outputs": [],
   "source": [
    "# We evaluate the performance after an initial optimization\n",
    "\n",
    "#y_pred_xgbr = xgbr_search.best_estimator_.predict(x_val)\n",
    "\n",
    "#r2_xgbr = r2_score(y_val, y_pred_xgbr)\n",
    "\n",
    "#rmse_xgbr = np.sqrt(mean_squared_error(y_val, y_pred_xgbr))\n",
    "\n",
    "#print(f\"XGBRegressor optimization\\n\\nR-squared score: {r2_xgbr}\\nRMSE: {rmse_xgbr}\")"
   ]
  },
  {
   "cell_type": "markdown",
   "id": "212644f7",
   "metadata": {
    "papermill": {
     "duration": 0.006569,
     "end_time": "2025-04-22T23:31:13.581434",
     "exception": false,
     "start_time": "2025-04-22T23:31:13.574865",
     "status": "completed"
    },
    "tags": []
   },
   "source": [
    "- With data dropped in variable management\n",
    "\n",
    "      RandomizedSearchCV:\n",
    "\n",
    "      Parameters: {'subsample':0.9, 'n_estimators':150, 'max_depth':6, 'learning_rate':0.2, 'gamma':0.1}\n",
    "\n",
    "      Score: -10.385593205700733\n",
    "\n",
    "      R-squared score: 0.8548779072393202\n",
    "\n",
    "      RMSE: 10.359859724404574"
   ]
  },
  {
   "cell_type": "code",
   "execution_count": 26,
   "id": "d0127460",
   "metadata": {
    "execution": {
     "iopub.execute_input": "2025-04-22T23:31:13.596939Z",
     "iopub.status.busy": "2025-04-22T23:31:13.596706Z",
     "iopub.status.idle": "2025-04-22T23:31:13.601315Z",
     "shell.execute_reply": "2025-04-22T23:31:13.600651Z"
    },
    "papermill": {
     "duration": 0.013258,
     "end_time": "2025-04-22T23:31:13.602487",
     "exception": false,
     "start_time": "2025-04-22T23:31:13.589229",
     "status": "completed"
    },
    "tags": []
   },
   "outputs": [
    {
     "data": {
      "text/plain": [
       "'\\nxgbr_final = XGBRegressor(\\n    subsample = 0.9, n_estimators = 150, max_depth = 6, learning_rate = 0.2, gamma = 0.1\\n)\\nxgbr_final.fit(x_train, y_train)\\n'"
      ]
     },
     "execution_count": 26,
     "metadata": {},
     "output_type": "execute_result"
    }
   ],
   "source": [
    "# XGBR different approaches\n",
    "\n",
    "#xgbr_final = xgbr_search.best_estimator_\n",
    "'''\n",
    "xgbr_final = XGBRegressor(\n",
    "    subsample = 0.9, n_estimators = 150, max_depth = 6, learning_rate = 0.2, gamma = 0.1\n",
    ")\n",
    "xgbr_final.fit(x_train, y_train)\n",
    "'''"
   ]
  },
  {
   "cell_type": "markdown",
   "id": "1d583850",
   "metadata": {
    "papermill": {
     "duration": 0.006402,
     "end_time": "2025-04-22T23:31:13.616554",
     "exception": false,
     "start_time": "2025-04-22T23:31:13.610152",
     "status": "completed"
    },
    "tags": []
   },
   "source": [
    "## BaggingRegressor"
   ]
  },
  {
   "cell_type": "code",
   "execution_count": 27,
   "id": "d22875ec",
   "metadata": {
    "execution": {
     "iopub.execute_input": "2025-04-22T23:31:13.630664Z",
     "iopub.status.busy": "2025-04-22T23:31:13.630392Z",
     "iopub.status.idle": "2025-04-22T23:31:55.750697Z",
     "shell.execute_reply": "2025-04-22T23:31:55.749888Z"
    },
    "papermill": {
     "duration": 42.13587,
     "end_time": "2025-04-22T23:31:55.758969",
     "exception": false,
     "start_time": "2025-04-22T23:31:13.623099",
     "status": "completed"
    },
    "tags": []
   },
   "outputs": [
    {
     "data": {
      "text/html": [
       "<style>#sk-container-id-1 {color: black;background-color: white;}#sk-container-id-1 pre{padding: 0;}#sk-container-id-1 div.sk-toggleable {background-color: white;}#sk-container-id-1 label.sk-toggleable__label {cursor: pointer;display: block;width: 100%;margin-bottom: 0;padding: 0.3em;box-sizing: border-box;text-align: center;}#sk-container-id-1 label.sk-toggleable__label-arrow:before {content: \"▸\";float: left;margin-right: 0.25em;color: #696969;}#sk-container-id-1 label.sk-toggleable__label-arrow:hover:before {color: black;}#sk-container-id-1 div.sk-estimator:hover label.sk-toggleable__label-arrow:before {color: black;}#sk-container-id-1 div.sk-toggleable__content {max-height: 0;max-width: 0;overflow: hidden;text-align: left;background-color: #f0f8ff;}#sk-container-id-1 div.sk-toggleable__content pre {margin: 0.2em;color: black;border-radius: 0.25em;background-color: #f0f8ff;}#sk-container-id-1 input.sk-toggleable__control:checked~div.sk-toggleable__content {max-height: 200px;max-width: 100%;overflow: auto;}#sk-container-id-1 input.sk-toggleable__control:checked~label.sk-toggleable__label-arrow:before {content: \"▾\";}#sk-container-id-1 div.sk-estimator input.sk-toggleable__control:checked~label.sk-toggleable__label {background-color: #d4ebff;}#sk-container-id-1 div.sk-label input.sk-toggleable__control:checked~label.sk-toggleable__label {background-color: #d4ebff;}#sk-container-id-1 input.sk-hidden--visually {border: 0;clip: rect(1px 1px 1px 1px);clip: rect(1px, 1px, 1px, 1px);height: 1px;margin: -1px;overflow: hidden;padding: 0;position: absolute;width: 1px;}#sk-container-id-1 div.sk-estimator {font-family: monospace;background-color: #f0f8ff;border: 1px dotted black;border-radius: 0.25em;box-sizing: border-box;margin-bottom: 0.5em;}#sk-container-id-1 div.sk-estimator:hover {background-color: #d4ebff;}#sk-container-id-1 div.sk-parallel-item::after {content: \"\";width: 100%;border-bottom: 1px solid gray;flex-grow: 1;}#sk-container-id-1 div.sk-label:hover label.sk-toggleable__label {background-color: #d4ebff;}#sk-container-id-1 div.sk-serial::before {content: \"\";position: absolute;border-left: 1px solid gray;box-sizing: border-box;top: 0;bottom: 0;left: 50%;z-index: 0;}#sk-container-id-1 div.sk-serial {display: flex;flex-direction: column;align-items: center;background-color: white;padding-right: 0.2em;padding-left: 0.2em;position: relative;}#sk-container-id-1 div.sk-item {position: relative;z-index: 1;}#sk-container-id-1 div.sk-parallel {display: flex;align-items: stretch;justify-content: center;background-color: white;position: relative;}#sk-container-id-1 div.sk-item::before, #sk-container-id-1 div.sk-parallel-item::before {content: \"\";position: absolute;border-left: 1px solid gray;box-sizing: border-box;top: 0;bottom: 0;left: 50%;z-index: -1;}#sk-container-id-1 div.sk-parallel-item {display: flex;flex-direction: column;z-index: 1;position: relative;background-color: white;}#sk-container-id-1 div.sk-parallel-item:first-child::after {align-self: flex-end;width: 50%;}#sk-container-id-1 div.sk-parallel-item:last-child::after {align-self: flex-start;width: 50%;}#sk-container-id-1 div.sk-parallel-item:only-child::after {width: 0;}#sk-container-id-1 div.sk-dashed-wrapped {border: 1px dashed gray;margin: 0 0.4em 0.5em 0.4em;box-sizing: border-box;padding-bottom: 0.4em;background-color: white;}#sk-container-id-1 div.sk-label label {font-family: monospace;font-weight: bold;display: inline-block;line-height: 1.2em;}#sk-container-id-1 div.sk-label-container {text-align: center;}#sk-container-id-1 div.sk-container {/* jupyter's `normalize.less` sets `[hidden] { display: none; }` but bootstrap.min.css set `[hidden] { display: none !important; }` so we also need the `!important` here to be able to override the default hidden behavior on the sphinx rendered scikit-learn.org. See: https://github.com/scikit-learn/scikit-learn/issues/21755 */display: inline-block !important;position: relative;}#sk-container-id-1 div.sk-text-repr-fallback {display: none;}</style><div id=\"sk-container-id-1\" class=\"sk-top-container\"><div class=\"sk-text-repr-fallback\"><pre>BaggingRegressor()</pre><b>In a Jupyter environment, please rerun this cell to show the HTML representation or trust the notebook. <br />On GitHub, the HTML representation is unable to render, please try loading this page with nbviewer.org.</b></div><div class=\"sk-container\" hidden><div class=\"sk-item\"><div class=\"sk-estimator sk-toggleable\"><input class=\"sk-toggleable__control sk-hidden--visually\" id=\"sk-estimator-id-1\" type=\"checkbox\" checked><label for=\"sk-estimator-id-1\" class=\"sk-toggleable__label sk-toggleable__label-arrow\">BaggingRegressor</label><div class=\"sk-toggleable__content\"><pre>BaggingRegressor()</pre></div></div></div></div></div>"
      ],
      "text/plain": [
       "BaggingRegressor()"
      ]
     },
     "execution_count": 27,
     "metadata": {},
     "output_type": "execute_result"
    }
   ],
   "source": [
    "# We create the model instance\n",
    "\n",
    "bagr = BaggingRegressor()\n",
    "\n",
    "# Train the model with the data\n",
    "\n",
    "bagr.fit(x_train, y_train)"
   ]
  },
  {
   "cell_type": "code",
   "execution_count": 28,
   "id": "d4460673",
   "metadata": {
    "execution": {
     "iopub.execute_input": "2025-04-22T23:31:55.775366Z",
     "iopub.status.busy": "2025-04-22T23:31:55.775116Z",
     "iopub.status.idle": "2025-04-22T23:31:56.820877Z",
     "shell.execute_reply": "2025-04-22T23:31:56.820237Z"
    },
    "papermill": {
     "duration": 1.055411,
     "end_time": "2025-04-22T23:31:56.822288",
     "exception": false,
     "start_time": "2025-04-22T23:31:55.766877",
     "status": "completed"
    },
    "tags": []
   },
   "outputs": [
    {
     "name": "stdout",
     "output_type": "stream",
     "text": [
      "BaggingRegressor\n",
      "\n",
      "R-squared score: 0.7572807309314757\n",
      "RMSE: 13.364111385336024\n"
     ]
    }
   ],
   "source": [
    "y_pred_bagr = bagr.predict(x_val)\n",
    "\n",
    "r2_bagr = r2_score(y_val, y_pred_bagr)\n",
    "\n",
    "rmse_bagr = np.sqrt(mean_squared_error(y_val, y_pred_bagr))\n",
    "\n",
    "print(f\"BaggingRegressor\\n\\nR-squared score: {r2_bagr}\\nRMSE: {rmse_bagr}\")"
   ]
  },
  {
   "cell_type": "code",
   "execution_count": 29,
   "id": "a21e0a3f",
   "metadata": {
    "execution": {
     "iopub.execute_input": "2025-04-22T23:31:56.838056Z",
     "iopub.status.busy": "2025-04-22T23:31:56.837769Z",
     "iopub.status.idle": "2025-04-22T23:31:56.842609Z",
     "shell.execute_reply": "2025-04-22T23:31:56.841898Z"
    },
    "papermill": {
     "duration": 0.013628,
     "end_time": "2025-04-22T23:31:56.843593",
     "exception": false,
     "start_time": "2025-04-22T23:31:56.829965",
     "status": "completed"
    },
    "tags": []
   },
   "outputs": [
    {
     "data": {
      "text/plain": [
       "{'base_estimator': 'deprecated',\n",
       " 'bootstrap': True,\n",
       " 'bootstrap_features': False,\n",
       " 'estimator': None,\n",
       " 'max_features': 1.0,\n",
       " 'max_samples': 1.0,\n",
       " 'n_estimators': 10,\n",
       " 'n_jobs': None,\n",
       " 'oob_score': False,\n",
       " 'random_state': None,\n",
       " 'verbose': 0,\n",
       " 'warm_start': False}"
      ]
     },
     "execution_count": 29,
     "metadata": {},
     "output_type": "execute_result"
    }
   ],
   "source": [
    "bagr.get_params()"
   ]
  },
  {
   "cell_type": "markdown",
   "id": "b82d669c",
   "metadata": {
    "papermill": {
     "duration": 0.006898,
     "end_time": "2025-04-22T23:31:56.857804",
     "exception": false,
     "start_time": "2025-04-22T23:31:56.850906",
     "status": "completed"
    },
    "tags": []
   },
   "source": [
    "# Final Model"
   ]
  },
  {
   "cell_type": "code",
   "execution_count": 30,
   "id": "cffd9901",
   "metadata": {
    "execution": {
     "iopub.execute_input": "2025-04-22T23:31:56.873096Z",
     "iopub.status.busy": "2025-04-22T23:31:56.872811Z",
     "iopub.status.idle": "2025-04-22T23:32:38.985071Z",
     "shell.execute_reply": "2025-04-22T23:32:38.984448Z"
    },
    "papermill": {
     "duration": 42.129257,
     "end_time": "2025-04-22T23:32:38.994027",
     "exception": false,
     "start_time": "2025-04-22T23:31:56.864770",
     "status": "completed"
    },
    "tags": []
   },
   "outputs": [
    {
     "data": {
      "text/html": [
       "<style>#sk-container-id-2 {color: black;background-color: white;}#sk-container-id-2 pre{padding: 0;}#sk-container-id-2 div.sk-toggleable {background-color: white;}#sk-container-id-2 label.sk-toggleable__label {cursor: pointer;display: block;width: 100%;margin-bottom: 0;padding: 0.3em;box-sizing: border-box;text-align: center;}#sk-container-id-2 label.sk-toggleable__label-arrow:before {content: \"▸\";float: left;margin-right: 0.25em;color: #696969;}#sk-container-id-2 label.sk-toggleable__label-arrow:hover:before {color: black;}#sk-container-id-2 div.sk-estimator:hover label.sk-toggleable__label-arrow:before {color: black;}#sk-container-id-2 div.sk-toggleable__content {max-height: 0;max-width: 0;overflow: hidden;text-align: left;background-color: #f0f8ff;}#sk-container-id-2 div.sk-toggleable__content pre {margin: 0.2em;color: black;border-radius: 0.25em;background-color: #f0f8ff;}#sk-container-id-2 input.sk-toggleable__control:checked~div.sk-toggleable__content {max-height: 200px;max-width: 100%;overflow: auto;}#sk-container-id-2 input.sk-toggleable__control:checked~label.sk-toggleable__label-arrow:before {content: \"▾\";}#sk-container-id-2 div.sk-estimator input.sk-toggleable__control:checked~label.sk-toggleable__label {background-color: #d4ebff;}#sk-container-id-2 div.sk-label input.sk-toggleable__control:checked~label.sk-toggleable__label {background-color: #d4ebff;}#sk-container-id-2 input.sk-hidden--visually {border: 0;clip: rect(1px 1px 1px 1px);clip: rect(1px, 1px, 1px, 1px);height: 1px;margin: -1px;overflow: hidden;padding: 0;position: absolute;width: 1px;}#sk-container-id-2 div.sk-estimator {font-family: monospace;background-color: #f0f8ff;border: 1px dotted black;border-radius: 0.25em;box-sizing: border-box;margin-bottom: 0.5em;}#sk-container-id-2 div.sk-estimator:hover {background-color: #d4ebff;}#sk-container-id-2 div.sk-parallel-item::after {content: \"\";width: 100%;border-bottom: 1px solid gray;flex-grow: 1;}#sk-container-id-2 div.sk-label:hover label.sk-toggleable__label {background-color: #d4ebff;}#sk-container-id-2 div.sk-serial::before {content: \"\";position: absolute;border-left: 1px solid gray;box-sizing: border-box;top: 0;bottom: 0;left: 50%;z-index: 0;}#sk-container-id-2 div.sk-serial {display: flex;flex-direction: column;align-items: center;background-color: white;padding-right: 0.2em;padding-left: 0.2em;position: relative;}#sk-container-id-2 div.sk-item {position: relative;z-index: 1;}#sk-container-id-2 div.sk-parallel {display: flex;align-items: stretch;justify-content: center;background-color: white;position: relative;}#sk-container-id-2 div.sk-item::before, #sk-container-id-2 div.sk-parallel-item::before {content: \"\";position: absolute;border-left: 1px solid gray;box-sizing: border-box;top: 0;bottom: 0;left: 50%;z-index: -1;}#sk-container-id-2 div.sk-parallel-item {display: flex;flex-direction: column;z-index: 1;position: relative;background-color: white;}#sk-container-id-2 div.sk-parallel-item:first-child::after {align-self: flex-end;width: 50%;}#sk-container-id-2 div.sk-parallel-item:last-child::after {align-self: flex-start;width: 50%;}#sk-container-id-2 div.sk-parallel-item:only-child::after {width: 0;}#sk-container-id-2 div.sk-dashed-wrapped {border: 1px dashed gray;margin: 0 0.4em 0.5em 0.4em;box-sizing: border-box;padding-bottom: 0.4em;background-color: white;}#sk-container-id-2 div.sk-label label {font-family: monospace;font-weight: bold;display: inline-block;line-height: 1.2em;}#sk-container-id-2 div.sk-label-container {text-align: center;}#sk-container-id-2 div.sk-container {/* jupyter's `normalize.less` sets `[hidden] { display: none; }` but bootstrap.min.css set `[hidden] { display: none !important; }` so we also need the `!important` here to be able to override the default hidden behavior on the sphinx rendered scikit-learn.org. See: https://github.com/scikit-learn/scikit-learn/issues/21755 */display: inline-block !important;position: relative;}#sk-container-id-2 div.sk-text-repr-fallback {display: none;}</style><div id=\"sk-container-id-2\" class=\"sk-top-container\"><div class=\"sk-text-repr-fallback\"><pre>BaggingRegressor()</pre><b>In a Jupyter environment, please rerun this cell to show the HTML representation or trust the notebook. <br />On GitHub, the HTML representation is unable to render, please try loading this page with nbviewer.org.</b></div><div class=\"sk-container\" hidden><div class=\"sk-item\"><div class=\"sk-estimator sk-toggleable\"><input class=\"sk-toggleable__control sk-hidden--visually\" id=\"sk-estimator-id-2\" type=\"checkbox\" checked><label for=\"sk-estimator-id-2\" class=\"sk-toggleable__label sk-toggleable__label-arrow\">BaggingRegressor</label><div class=\"sk-toggleable__content\"><pre>BaggingRegressor()</pre></div></div></div></div></div>"
      ],
      "text/plain": [
       "BaggingRegressor()"
      ]
     },
     "execution_count": 30,
     "metadata": {},
     "output_type": "execute_result"
    }
   ],
   "source": [
    "# We define the final model\n",
    "\n",
    "final_model = bagr\n",
    "\n",
    "# We fit the best model\n",
    "\n",
    "final_model.fit(x_train, y_train)"
   ]
  },
  {
   "cell_type": "code",
   "execution_count": 31,
   "id": "59c48a11",
   "metadata": {
    "execution": {
     "iopub.execute_input": "2025-04-22T23:32:39.010466Z",
     "iopub.status.busy": "2025-04-22T23:32:39.010205Z",
     "iopub.status.idle": "2025-04-22T23:32:40.092449Z",
     "shell.execute_reply": "2025-04-22T23:32:40.091652Z"
    },
    "papermill": {
     "duration": 1.09181,
     "end_time": "2025-04-22T23:32:40.093602",
     "exception": false,
     "start_time": "2025-04-22T23:32:39.001792",
     "status": "completed"
    },
    "tags": []
   },
   "outputs": [
    {
     "name": "stdout",
     "output_type": "stream",
     "text": [
      "Final Model RMSE Score: 13.335\n"
     ]
    }
   ],
   "source": [
    "# We evaluate the performance of the final model\n",
    "\n",
    "final_model_ypred = final_model.predict(x_val)\n",
    "\n",
    "final_model_rmse = np.sqrt(mean_squared_error(y_val, final_model_ypred))\n",
    "\n",
    "print(\"Final Model RMSE Score: %.3f\" % final_model_rmse)"
   ]
  },
  {
   "cell_type": "code",
   "execution_count": 32,
   "id": "03b71299",
   "metadata": {
    "execution": {
     "iopub.execute_input": "2025-04-22T23:32:40.110991Z",
     "iopub.status.busy": "2025-04-22T23:32:40.110677Z",
     "iopub.status.idle": "2025-04-22T23:32:40.115980Z",
     "shell.execute_reply": "2025-04-22T23:32:40.115271Z"
    },
    "papermill": {
     "duration": 0.015795,
     "end_time": "2025-04-22T23:32:40.117262",
     "exception": false,
     "start_time": "2025-04-22T23:32:40.101467",
     "status": "completed"
    },
    "tags": []
   },
   "outputs": [
    {
     "data": {
      "text/plain": [
       "'\\n# We create an explainer for the best estimator\\n\\nexplainer = shap.Explainer(final_model)\\nshap_values = explainer.shap_values(x_val)\\n\\n# we visualize the importance\\n\\nfig = shap.summary_plot(\\n    shap_values,\\n    x_val,\\n    show=False\\n)\\nplt.title(\"Feature Importance\", fontsize=20, color=\\'g\\', loc=\\'left\\')\\nplt.xlabel(\"Mean SHAP Values\", fontsize=20)\\nplt.ylabel(\"Features\", fontsize=20)\\nplt.show()\\n'"
      ]
     },
     "execution_count": 32,
     "metadata": {},
     "output_type": "execute_result"
    }
   ],
   "source": [
    "'''\n",
    "# We create an explainer for the best estimator\n",
    "\n",
    "explainer = shap.Explainer(final_model)\n",
    "shap_values = explainer.shap_values(x_val)\n",
    "\n",
    "# we visualize the importance\n",
    "\n",
    "fig = shap.summary_plot(\n",
    "    shap_values,\n",
    "    x_val,\n",
    "    show=False\n",
    ")\n",
    "plt.title(\"Feature Importance\", fontsize=20, color='g', loc='left')\n",
    "plt.xlabel(\"Mean SHAP Values\", fontsize=20)\n",
    "plt.ylabel(\"Features\", fontsize=20)\n",
    "plt.show()\n",
    "'''"
   ]
  },
  {
   "cell_type": "markdown",
   "id": "9a677099",
   "metadata": {
    "papermill": {
     "duration": 0.007396,
     "end_time": "2025-04-22T23:32:40.132879",
     "exception": false,
     "start_time": "2025-04-22T23:32:40.125483",
     "status": "completed"
    },
    "tags": []
   },
   "source": [
    "# Test data"
   ]
  },
  {
   "cell_type": "code",
   "execution_count": 33,
   "id": "f4006aa9",
   "metadata": {
    "execution": {
     "iopub.execute_input": "2025-04-22T23:32:40.149126Z",
     "iopub.status.busy": "2025-04-22T23:32:40.148853Z",
     "iopub.status.idle": "2025-04-22T23:32:40.568988Z",
     "shell.execute_reply": "2025-04-22T23:32:40.568303Z"
    },
    "papermill": {
     "duration": 0.429926,
     "end_time": "2025-04-22T23:32:40.570346",
     "exception": false,
     "start_time": "2025-04-22T23:32:40.140420",
     "status": "completed"
    },
    "tags": []
   },
   "outputs": [],
   "source": [
    "# We load the test data\n",
    "\n",
    "df_test = pd.read_csv(\"/kaggle/input/playground-series-s5e4/test.csv\")"
   ]
  },
  {
   "cell_type": "code",
   "execution_count": 34,
   "id": "82fa98a9",
   "metadata": {
    "execution": {
     "iopub.execute_input": "2025-04-22T23:32:40.587191Z",
     "iopub.status.busy": "2025-04-22T23:32:40.586920Z",
     "iopub.status.idle": "2025-04-22T23:32:40.594507Z",
     "shell.execute_reply": "2025-04-22T23:32:40.593521Z"
    },
    "papermill": {
     "duration": 0.017573,
     "end_time": "2025-04-22T23:32:40.595939",
     "exception": false,
     "start_time": "2025-04-22T23:32:40.578366",
     "status": "completed"
    },
    "tags": []
   },
   "outputs": [],
   "source": [
    "df_test_new = df_test.copy()"
   ]
  },
  {
   "cell_type": "code",
   "execution_count": 35,
   "id": "6e077582",
   "metadata": {
    "execution": {
     "iopub.execute_input": "2025-04-22T23:32:40.612855Z",
     "iopub.status.busy": "2025-04-22T23:32:40.612591Z",
     "iopub.status.idle": "2025-04-22T23:32:40.729289Z",
     "shell.execute_reply": "2025-04-22T23:32:40.728561Z"
    },
    "papermill": {
     "duration": 0.126132,
     "end_time": "2025-04-22T23:32:40.730287",
     "exception": false,
     "start_time": "2025-04-22T23:32:40.604155",
     "status": "completed"
    },
    "tags": []
   },
   "outputs": [
    {
     "data": {
      "text/html": [
       "<style type=\"text/css\">\n",
       "#T_c7fd3_row0_col0, #T_c7fd3_row0_col1, #T_c7fd3_row1_col0, #T_c7fd3_row1_col1, #T_c7fd3_row2_col0, #T_c7fd3_row2_col1, #T_c7fd3_row4_col0, #T_c7fd3_row4_col1, #T_c7fd3_row5_col0, #T_c7fd3_row5_col1, #T_c7fd3_row6_col0, #T_c7fd3_row6_col1, #T_c7fd3_row7_col0, #T_c7fd3_row7_col1, #T_c7fd3_row9_col0, #T_c7fd3_row9_col1, #T_c7fd3_row10_col0, #T_c7fd3_row10_col1 {\n",
       "  background-color: #f7fcf5;\n",
       "  color: #000000;\n",
       "}\n",
       "#T_c7fd3_row3_col0, #T_c7fd3_row3_col1 {\n",
       "  background-color: #50b264;\n",
       "  color: #f1f1f1;\n",
       "}\n",
       "#T_c7fd3_row8_col0, #T_c7fd3_row8_col1 {\n",
       "  background-color: #00441b;\n",
       "  color: #f1f1f1;\n",
       "}\n",
       "</style>\n",
       "<table id=\"T_c7fd3\">\n",
       "  <thead>\n",
       "    <tr>\n",
       "      <th class=\"blank level0\" >&nbsp;</th>\n",
       "      <th id=\"T_c7fd3_level0_col0\" class=\"col_heading level0 col0\" >Amount of Null Data</th>\n",
       "      <th id=\"T_c7fd3_level0_col1\" class=\"col_heading level0 col1\" >Percentage of Null Data</th>\n",
       "    </tr>\n",
       "  </thead>\n",
       "  <tbody>\n",
       "    <tr>\n",
       "      <th id=\"T_c7fd3_level0_row0\" class=\"row_heading level0 row0\" >id</th>\n",
       "      <td id=\"T_c7fd3_row0_col0\" class=\"data row0 col0\" >0</td>\n",
       "      <td id=\"T_c7fd3_row0_col1\" class=\"data row0 col1\" >0.000000</td>\n",
       "    </tr>\n",
       "    <tr>\n",
       "      <th id=\"T_c7fd3_level0_row1\" class=\"row_heading level0 row1\" >Podcast_Name</th>\n",
       "      <td id=\"T_c7fd3_row1_col0\" class=\"data row1 col0\" >0</td>\n",
       "      <td id=\"T_c7fd3_row1_col1\" class=\"data row1 col1\" >0.000000</td>\n",
       "    </tr>\n",
       "    <tr>\n",
       "      <th id=\"T_c7fd3_level0_row2\" class=\"row_heading level0 row2\" >Episode_Title</th>\n",
       "      <td id=\"T_c7fd3_row2_col0\" class=\"data row2 col0\" >0</td>\n",
       "      <td id=\"T_c7fd3_row2_col1\" class=\"data row2 col1\" >0.000000</td>\n",
       "    </tr>\n",
       "    <tr>\n",
       "      <th id=\"T_c7fd3_level0_row3\" class=\"row_heading level0 row3\" >Episode_Length_minutes</th>\n",
       "      <td id=\"T_c7fd3_row3_col0\" class=\"data row3 col0\" >28736</td>\n",
       "      <td id=\"T_c7fd3_row3_col1\" class=\"data row3 col1\" >11.494400</td>\n",
       "    </tr>\n",
       "    <tr>\n",
       "      <th id=\"T_c7fd3_level0_row4\" class=\"row_heading level0 row4\" >Genre</th>\n",
       "      <td id=\"T_c7fd3_row4_col0\" class=\"data row4 col0\" >0</td>\n",
       "      <td id=\"T_c7fd3_row4_col1\" class=\"data row4 col1\" >0.000000</td>\n",
       "    </tr>\n",
       "    <tr>\n",
       "      <th id=\"T_c7fd3_level0_row5\" class=\"row_heading level0 row5\" >Host_Popularity_percentage</th>\n",
       "      <td id=\"T_c7fd3_row5_col0\" class=\"data row5 col0\" >0</td>\n",
       "      <td id=\"T_c7fd3_row5_col1\" class=\"data row5 col1\" >0.000000</td>\n",
       "    </tr>\n",
       "    <tr>\n",
       "      <th id=\"T_c7fd3_level0_row6\" class=\"row_heading level0 row6\" >Publication_Day</th>\n",
       "      <td id=\"T_c7fd3_row6_col0\" class=\"data row6 col0\" >0</td>\n",
       "      <td id=\"T_c7fd3_row6_col1\" class=\"data row6 col1\" >0.000000</td>\n",
       "    </tr>\n",
       "    <tr>\n",
       "      <th id=\"T_c7fd3_level0_row7\" class=\"row_heading level0 row7\" >Publication_Time</th>\n",
       "      <td id=\"T_c7fd3_row7_col0\" class=\"data row7 col0\" >0</td>\n",
       "      <td id=\"T_c7fd3_row7_col1\" class=\"data row7 col1\" >0.000000</td>\n",
       "    </tr>\n",
       "    <tr>\n",
       "      <th id=\"T_c7fd3_level0_row8\" class=\"row_heading level0 row8\" >Guest_Popularity_percentage</th>\n",
       "      <td id=\"T_c7fd3_row8_col0\" class=\"data row8 col0\" >48832</td>\n",
       "      <td id=\"T_c7fd3_row8_col1\" class=\"data row8 col1\" >19.532800</td>\n",
       "    </tr>\n",
       "    <tr>\n",
       "      <th id=\"T_c7fd3_level0_row9\" class=\"row_heading level0 row9\" >Number_of_Ads</th>\n",
       "      <td id=\"T_c7fd3_row9_col0\" class=\"data row9 col0\" >0</td>\n",
       "      <td id=\"T_c7fd3_row9_col1\" class=\"data row9 col1\" >0.000000</td>\n",
       "    </tr>\n",
       "    <tr>\n",
       "      <th id=\"T_c7fd3_level0_row10\" class=\"row_heading level0 row10\" >Episode_Sentiment</th>\n",
       "      <td id=\"T_c7fd3_row10_col0\" class=\"data row10 col0\" >0</td>\n",
       "      <td id=\"T_c7fd3_row10_col1\" class=\"data row10 col1\" >0.000000</td>\n",
       "    </tr>\n",
       "  </tbody>\n",
       "</table>\n"
      ],
      "text/plain": [
       "<pandas.io.formats.style.Styler at 0x7f3dd31b7410>"
      ]
     },
     "execution_count": 35,
     "metadata": {},
     "output_type": "execute_result"
    }
   ],
   "source": [
    "# We check the null values\n",
    "\n",
    "null_values_test = (\n",
    "    pd.DataFrame(\n",
    "        {f'Amount of Null Data' : df_test_new.isnull().sum(), \n",
    "         'Percentage of Null Data' : (\n",
    "             df_test_new.isnull().sum()) / (len(df_test_new)) * (100)\n",
    "        }\n",
    "    ))\n",
    "\n",
    "null_values_test.style.background_gradient(cmap='Greens')"
   ]
  },
  {
   "cell_type": "code",
   "execution_count": 36,
   "id": "87ca4a63",
   "metadata": {
    "execution": {
     "iopub.execute_input": "2025-04-22T23:32:40.747250Z",
     "iopub.status.busy": "2025-04-22T23:32:40.746963Z",
     "iopub.status.idle": "2025-04-22T23:32:40.757558Z",
     "shell.execute_reply": "2025-04-22T23:32:40.756783Z"
    },
    "papermill": {
     "duration": 0.020466,
     "end_time": "2025-04-22T23:32:40.758839",
     "exception": false,
     "start_time": "2025-04-22T23:32:40.738373",
     "status": "completed"
    },
    "tags": []
   },
   "outputs": [],
   "source": [
    "# We start by removing the variables that we will not use\n",
    "\n",
    "df_test_new = df_test_new.drop(columns=\"id\")\n",
    "#df_test_new = df_test_new.drop(columns=[\"id\", \"Podcast_Name\", \"Episode_Title\"])"
   ]
  },
  {
   "cell_type": "code",
   "execution_count": 37,
   "id": "61a7bf58",
   "metadata": {
    "execution": {
     "iopub.execute_input": "2025-04-22T23:32:40.775652Z",
     "iopub.status.busy": "2025-04-22T23:32:40.774748Z",
     "iopub.status.idle": "2025-04-22T23:32:40.873904Z",
     "shell.execute_reply": "2025-04-22T23:32:40.873157Z"
    },
    "papermill": {
     "duration": 0.108538,
     "end_time": "2025-04-22T23:32:40.875252",
     "exception": false,
     "start_time": "2025-04-22T23:32:40.766714",
     "status": "completed"
    },
    "tags": []
   },
   "outputs": [],
   "source": [
    "# We replace the erroneous values\n",
    "\n",
    "df_test_new[\"Number_of_Ads\"] = (df_test_new[\"Number_of_Ads\"].apply(lambda x: np.NaN if x>3 else x))\n",
    "df_test_new[\"Number_of_Ads\"] = (df_test_new[\"Number_of_Ads\"].fillna(\n",
    "    df_test_new.groupby(\"Podcast_Name\")[\"Number_of_Ads\"].transform(lambda v: v.mode()[0])\n",
    "))\n",
    "df_test_new[\"Host_Popularity_percentage\"] = np.where(\n",
    "    df_test_new[\"Host_Popularity_percentage\"] > 100, 100, df_test_new[\"Host_Popularity_percentage\"]\n",
    ").round(decimals=2)\n",
    "df_test_new[\"Guest_Popularity_percentage\"] = np.where(\n",
    "    df_test_new[\"Guest_Popularity_percentage\"] > 100, 100, df_test_new[\"Guest_Popularity_percentage\"]\n",
    ").round(decimals=2)"
   ]
  },
  {
   "cell_type": "code",
   "execution_count": 38,
   "id": "ff509e4b",
   "metadata": {
    "execution": {
     "iopub.execute_input": "2025-04-22T23:32:40.891821Z",
     "iopub.status.busy": "2025-04-22T23:32:40.891560Z",
     "iopub.status.idle": "2025-04-22T23:32:40.895921Z",
     "shell.execute_reply": "2025-04-22T23:32:40.895275Z"
    },
    "papermill": {
     "duration": 0.013992,
     "end_time": "2025-04-22T23:32:40.897148",
     "exception": false,
     "start_time": "2025-04-22T23:32:40.883156",
     "status": "completed"
    },
    "tags": []
   },
   "outputs": [
    {
     "data": {
      "text/plain": [
       "'\\n# We filled in null values with KNNImputer\\n\\ntest_object = df_test_new.select_dtypes(include=\"object\")\\ntest_impute = df_test_new.select_dtypes(include=\"number\")\\n\\nimputer = KNNImputer().set_output(transform=\"pandas\")\\nafter_imputation = imputer.fit_transform(test_impute)\\n\\ndf_test_new = pd.concat([test_object, after_imputation], axis=1)\\n'"
      ]
     },
     "execution_count": 38,
     "metadata": {},
     "output_type": "execute_result"
    }
   ],
   "source": [
    "'''\n",
    "# We filled in null values with KNNImputer\n",
    "\n",
    "test_object = df_test_new.select_dtypes(include=\"object\")\n",
    "test_impute = df_test_new.select_dtypes(include=\"number\")\n",
    "\n",
    "imputer = KNNImputer().set_output(transform=\"pandas\")\n",
    "after_imputation = imputer.fit_transform(test_impute)\n",
    "\n",
    "df_test_new = pd.concat([test_object, after_imputation], axis=1)\n",
    "'''"
   ]
  },
  {
   "cell_type": "code",
   "execution_count": 39,
   "id": "ff8f95cc",
   "metadata": {
    "execution": {
     "iopub.execute_input": "2025-04-22T23:32:40.914083Z",
     "iopub.status.busy": "2025-04-22T23:32:40.913810Z",
     "iopub.status.idle": "2025-04-22T23:32:40.949737Z",
     "shell.execute_reply": "2025-04-22T23:32:40.948972Z"
    },
    "papermill": {
     "duration": 0.045767,
     "end_time": "2025-04-22T23:32:40.951219",
     "exception": false,
     "start_time": "2025-04-22T23:32:40.905452",
     "status": "completed"
    },
    "tags": []
   },
   "outputs": [],
   "source": [
    "# We filled in null values\n",
    "\n",
    "df_test_new[\"Episode_Length_minutes\"] = (df_test_new[\"Episode_Length_minutes\"].fillna(\n",
    "    df_test_new.groupby(\"Podcast_Name\")[\"Episode_Length_minutes\"].transform(\"mean\")\n",
    "))\n",
    "df_test_new[\"Guest_Popularity_percentage\"] = (df_test_new[\"Guest_Popularity_percentage\"].fillna(\n",
    "    df_test_new.groupby(\"Podcast_Name\")[\"Guest_Popularity_percentage\"].transform(\"mean\")\n",
    "))"
   ]
  },
  {
   "cell_type": "code",
   "execution_count": 40,
   "id": "9ebb9717",
   "metadata": {
    "execution": {
     "iopub.execute_input": "2025-04-22T23:32:40.969032Z",
     "iopub.status.busy": "2025-04-22T23:32:40.968757Z",
     "iopub.status.idle": "2025-04-22T23:32:41.203861Z",
     "shell.execute_reply": "2025-04-22T23:32:41.203095Z"
    },
    "papermill": {
     "duration": 0.245254,
     "end_time": "2025-04-22T23:32:41.205241",
     "exception": false,
     "start_time": "2025-04-22T23:32:40.959987",
     "status": "completed"
    },
    "tags": []
   },
   "outputs": [],
   "source": [
    "# We encode the categorical variables\n",
    "\n",
    "df_test_new[\"Episode_Sentiment\"] = df_test_new[\"Episode_Sentiment\"].map(eps_order)\n",
    "df_test_new[\"Episode_Sentiment\"] = df_test_new[\"Episode_Sentiment\"].astype(\"float64\")\n",
    "\n",
    "test_num = df_test_new.select_dtypes(include=\"number\")\n",
    "test_cat = df_test_new.select_dtypes(include=\"object\")\n",
    "test_enc = enc.fit_transform(test_cat)\n",
    "test_encoded = pd.concat([test_enc, test_num[[\"Number_of_Ads\", \"Episode_Sentiment\"]]], axis=1)\n",
    "\n",
    "# We transform the data\n",
    "\n",
    "test_num = test_num.drop(columns=[\"Number_of_Ads\", \"Episode_Sentiment\"])\n",
    "test_sca = scaler.transform(test_num)\n",
    "\n",
    "# We concatenate the dataframes\n",
    "\n",
    "test_end = pd.concat([test_encoded, test_sca], axis=1)"
   ]
  },
  {
   "cell_type": "code",
   "execution_count": 41,
   "id": "1e8fd398",
   "metadata": {
    "execution": {
     "iopub.execute_input": "2025-04-22T23:32:41.222455Z",
     "iopub.status.busy": "2025-04-22T23:32:41.222196Z",
     "iopub.status.idle": "2025-04-22T23:32:41.336657Z",
     "shell.execute_reply": "2025-04-22T23:32:41.336033Z"
    },
    "papermill": {
     "duration": 0.124152,
     "end_time": "2025-04-22T23:32:41.337744",
     "exception": false,
     "start_time": "2025-04-22T23:32:41.213592",
     "status": "completed"
    },
    "tags": []
   },
   "outputs": [
    {
     "data": {
      "text/html": [
       "<div>\n",
       "<style scoped>\n",
       "    .dataframe tbody tr th:only-of-type {\n",
       "        vertical-align: middle;\n",
       "    }\n",
       "\n",
       "    .dataframe tbody tr th {\n",
       "        vertical-align: top;\n",
       "    }\n",
       "\n",
       "    .dataframe thead th {\n",
       "        text-align: right;\n",
       "    }\n",
       "</style>\n",
       "<table border=\"1\" class=\"dataframe\">\n",
       "  <thead>\n",
       "    <tr style=\"text-align: right;\">\n",
       "      <th></th>\n",
       "      <th>count</th>\n",
       "      <th>mean</th>\n",
       "      <th>std</th>\n",
       "      <th>min</th>\n",
       "      <th>25%</th>\n",
       "      <th>50%</th>\n",
       "      <th>75%</th>\n",
       "      <th>max</th>\n",
       "    </tr>\n",
       "  </thead>\n",
       "  <tbody>\n",
       "    <tr>\n",
       "      <th>Podcast_Name</th>\n",
       "      <td>250000.0</td>\n",
       "      <td>23.489368</td>\n",
       "      <td>14.110784</td>\n",
       "      <td>0.000000</td>\n",
       "      <td>11.000000</td>\n",
       "      <td>23.000000</td>\n",
       "      <td>36.000000</td>\n",
       "      <td>4.700000e+01</td>\n",
       "    </tr>\n",
       "    <tr>\n",
       "      <th>Episode_Title</th>\n",
       "      <td>250000.0</td>\n",
       "      <td>50.209524</td>\n",
       "      <td>28.191980</td>\n",
       "      <td>0.000000</td>\n",
       "      <td>26.000000</td>\n",
       "      <td>51.000000</td>\n",
       "      <td>74.000000</td>\n",
       "      <td>9.900000e+01</td>\n",
       "    </tr>\n",
       "    <tr>\n",
       "      <th>Genre</th>\n",
       "      <td>250000.0</td>\n",
       "      <td>4.641336</td>\n",
       "      <td>2.959436</td>\n",
       "      <td>0.000000</td>\n",
       "      <td>2.000000</td>\n",
       "      <td>5.000000</td>\n",
       "      <td>7.000000</td>\n",
       "      <td>9.000000e+00</td>\n",
       "    </tr>\n",
       "    <tr>\n",
       "      <th>Publication_Day</th>\n",
       "      <td>250000.0</td>\n",
       "      <td>2.962788</td>\n",
       "      <td>1.993649</td>\n",
       "      <td>0.000000</td>\n",
       "      <td>1.000000</td>\n",
       "      <td>3.000000</td>\n",
       "      <td>5.000000</td>\n",
       "      <td>6.000000e+00</td>\n",
       "    </tr>\n",
       "    <tr>\n",
       "      <th>Publication_Time</th>\n",
       "      <td>250000.0</td>\n",
       "      <td>1.522652</td>\n",
       "      <td>1.118540</td>\n",
       "      <td>0.000000</td>\n",
       "      <td>1.000000</td>\n",
       "      <td>1.000000</td>\n",
       "      <td>3.000000</td>\n",
       "      <td>3.000000e+00</td>\n",
       "    </tr>\n",
       "    <tr>\n",
       "      <th>Number_of_Ads</th>\n",
       "      <td>250000.0</td>\n",
       "      <td>1.347248</td>\n",
       "      <td>1.112669</td>\n",
       "      <td>0.000000</td>\n",
       "      <td>0.000000</td>\n",
       "      <td>1.000000</td>\n",
       "      <td>2.000000</td>\n",
       "      <td>3.000000e+00</td>\n",
       "    </tr>\n",
       "    <tr>\n",
       "      <th>Episode_Sentiment</th>\n",
       "      <td>250000.0</td>\n",
       "      <td>0.997236</td>\n",
       "      <td>0.815666</td>\n",
       "      <td>0.000000</td>\n",
       "      <td>0.000000</td>\n",
       "      <td>1.000000</td>\n",
       "      <td>2.000000</td>\n",
       "      <td>2.000000e+00</td>\n",
       "    </tr>\n",
       "    <tr>\n",
       "      <th>Episode_Length_minutes</th>\n",
       "      <td>250000.0</td>\n",
       "      <td>11.420409</td>\n",
       "      <td>5063.475976</td>\n",
       "      <td>-2.000953</td>\n",
       "      <td>-0.810685</td>\n",
       "      <td>-0.002337</td>\n",
       "      <td>0.848594</td>\n",
       "      <td>2.531697e+06</td>\n",
       "    </tr>\n",
       "    <tr>\n",
       "      <th>Host_Popularity_percentage</th>\n",
       "      <td>250000.0</td>\n",
       "      <td>-0.006268</td>\n",
       "      <td>1.000309</td>\n",
       "      <td>-2.508262</td>\n",
       "      <td>-0.901071</td>\n",
       "      <td>0.001771</td>\n",
       "      <td>0.853897</td>\n",
       "      <td>1.754991e+00</td>\n",
       "    </tr>\n",
       "    <tr>\n",
       "      <th>Guest_Popularity_percentage</th>\n",
       "      <td>250000.0</td>\n",
       "      <td>-0.001742</td>\n",
       "      <td>0.999403</td>\n",
       "      <td>-2.045663</td>\n",
       "      <td>-0.692544</td>\n",
       "      <td>0.000433</td>\n",
       "      <td>0.734595</td>\n",
       "      <td>1.870745e+00</td>\n",
       "    </tr>\n",
       "  </tbody>\n",
       "</table>\n",
       "</div>"
      ],
      "text/plain": [
       "                                count       mean          std       min  \\\n",
       "Podcast_Name                 250000.0  23.489368    14.110784  0.000000   \n",
       "Episode_Title                250000.0  50.209524    28.191980  0.000000   \n",
       "Genre                        250000.0   4.641336     2.959436  0.000000   \n",
       "Publication_Day              250000.0   2.962788     1.993649  0.000000   \n",
       "Publication_Time             250000.0   1.522652     1.118540  0.000000   \n",
       "Number_of_Ads                250000.0   1.347248     1.112669  0.000000   \n",
       "Episode_Sentiment            250000.0   0.997236     0.815666  0.000000   \n",
       "Episode_Length_minutes       250000.0  11.420409  5063.475976 -2.000953   \n",
       "Host_Popularity_percentage   250000.0  -0.006268     1.000309 -2.508262   \n",
       "Guest_Popularity_percentage  250000.0  -0.001742     0.999403 -2.045663   \n",
       "\n",
       "                                   25%        50%        75%           max  \n",
       "Podcast_Name                 11.000000  23.000000  36.000000  4.700000e+01  \n",
       "Episode_Title                26.000000  51.000000  74.000000  9.900000e+01  \n",
       "Genre                         2.000000   5.000000   7.000000  9.000000e+00  \n",
       "Publication_Day               1.000000   3.000000   5.000000  6.000000e+00  \n",
       "Publication_Time              1.000000   1.000000   3.000000  3.000000e+00  \n",
       "Number_of_Ads                 0.000000   1.000000   2.000000  3.000000e+00  \n",
       "Episode_Sentiment             0.000000   1.000000   2.000000  2.000000e+00  \n",
       "Episode_Length_minutes       -0.810685  -0.002337   0.848594  2.531697e+06  \n",
       "Host_Popularity_percentage   -0.901071   0.001771   0.853897  1.754991e+00  \n",
       "Guest_Popularity_percentage  -0.692544   0.000433   0.734595  1.870745e+00  "
      ]
     },
     "execution_count": 41,
     "metadata": {},
     "output_type": "execute_result"
    }
   ],
   "source": [
    "test_end.describe().T"
   ]
  },
  {
   "cell_type": "code",
   "execution_count": 42,
   "id": "0e0751a1",
   "metadata": {
    "execution": {
     "iopub.execute_input": "2025-04-22T23:32:41.354625Z",
     "iopub.status.busy": "2025-04-22T23:32:41.354340Z",
     "iopub.status.idle": "2025-04-22T23:32:43.175524Z",
     "shell.execute_reply": "2025-04-22T23:32:43.174527Z"
    },
    "papermill": {
     "duration": 1.830942,
     "end_time": "2025-04-22T23:32:43.176906",
     "exception": false,
     "start_time": "2025-04-22T23:32:41.345964",
     "status": "completed"
    },
    "tags": []
   },
   "outputs": [],
   "source": [
    "# We apply the trained model\n",
    "\n",
    "listening_predictions = final_model.predict(test_end)"
   ]
  },
  {
   "cell_type": "code",
   "execution_count": 43,
   "id": "029d397f",
   "metadata": {
    "execution": {
     "iopub.execute_input": "2025-04-22T23:32:43.194353Z",
     "iopub.status.busy": "2025-04-22T23:32:43.194096Z",
     "iopub.status.idle": "2025-04-22T23:32:43.198816Z",
     "shell.execute_reply": "2025-04-22T23:32:43.197584Z"
    },
    "papermill": {
     "duration": 0.014723,
     "end_time": "2025-04-22T23:32:43.200191",
     "exception": false,
     "start_time": "2025-04-22T23:32:43.185468",
     "status": "completed"
    },
    "tags": []
   },
   "outputs": [
    {
     "name": "stdout",
     "output_type": "stream",
     "text": [
      "Total predictions:  250000 \n",
      "\n"
     ]
    }
   ],
   "source": [
    "# We review the result\n",
    "\n",
    "print(\"Total predictions: \", len(listening_predictions), \"\\n\")"
   ]
  },
  {
   "cell_type": "code",
   "execution_count": 44,
   "id": "fcaedc8a",
   "metadata": {
    "execution": {
     "iopub.execute_input": "2025-04-22T23:32:43.218025Z",
     "iopub.status.busy": "2025-04-22T23:32:43.217764Z",
     "iopub.status.idle": "2025-04-22T23:32:43.225955Z",
     "shell.execute_reply": "2025-04-22T23:32:43.225295Z"
    },
    "papermill": {
     "duration": 0.018186,
     "end_time": "2025-04-22T23:32:43.227042",
     "exception": false,
     "start_time": "2025-04-22T23:32:43.208856",
     "status": "completed"
    },
    "tags": []
   },
   "outputs": [
    {
     "data": {
      "text/html": [
       "<div>\n",
       "<style scoped>\n",
       "    .dataframe tbody tr th:only-of-type {\n",
       "        vertical-align: middle;\n",
       "    }\n",
       "\n",
       "    .dataframe tbody tr th {\n",
       "        vertical-align: top;\n",
       "    }\n",
       "\n",
       "    .dataframe thead th {\n",
       "        text-align: right;\n",
       "    }\n",
       "</style>\n",
       "<table border=\"1\" class=\"dataframe\">\n",
       "  <thead>\n",
       "    <tr style=\"text-align: right;\">\n",
       "      <th></th>\n",
       "      <th>id</th>\n",
       "      <th>Listening_Time_minutes</th>\n",
       "    </tr>\n",
       "  </thead>\n",
       "  <tbody>\n",
       "    <tr>\n",
       "      <th>0</th>\n",
       "      <td>750000</td>\n",
       "      <td>54.214131</td>\n",
       "    </tr>\n",
       "    <tr>\n",
       "      <th>1</th>\n",
       "      <td>750001</td>\n",
       "      <td>21.281771</td>\n",
       "    </tr>\n",
       "    <tr>\n",
       "      <th>2</th>\n",
       "      <td>750002</td>\n",
       "      <td>47.482455</td>\n",
       "    </tr>\n",
       "    <tr>\n",
       "      <th>3</th>\n",
       "      <td>750003</td>\n",
       "      <td>69.787602</td>\n",
       "    </tr>\n",
       "    <tr>\n",
       "      <th>4</th>\n",
       "      <td>750004</td>\n",
       "      <td>42.332691</td>\n",
       "    </tr>\n",
       "  </tbody>\n",
       "</table>\n",
       "</div>"
      ],
      "text/plain": [
       "       id  Listening_Time_minutes\n",
       "0  750000               54.214131\n",
       "1  750001               21.281771\n",
       "2  750002               47.482455\n",
       "3  750003               69.787602\n",
       "4  750004               42.332691"
      ]
     },
     "execution_count": 44,
     "metadata": {},
     "output_type": "execute_result"
    }
   ],
   "source": [
    "# We create the dataframe\n",
    "\n",
    "listening_submission = pd.DataFrame({\n",
    "    \"id\" : df_test[\"id\"], \n",
    "    \"Listening_Time_minutes\" : listening_predictions\n",
    "})\n",
    "\n",
    "listening_submission.head()"
   ]
  },
  {
   "cell_type": "code",
   "execution_count": 45,
   "id": "43c37462",
   "metadata": {
    "execution": {
     "iopub.execute_input": "2025-04-22T23:32:43.244571Z",
     "iopub.status.busy": "2025-04-22T23:32:43.244319Z",
     "iopub.status.idle": "2025-04-22T23:32:43.524622Z",
     "shell.execute_reply": "2025-04-22T23:32:43.523715Z"
    },
    "papermill": {
     "duration": 0.290482,
     "end_time": "2025-04-22T23:32:43.526067",
     "exception": false,
     "start_time": "2025-04-22T23:32:43.235585",
     "status": "completed"
    },
    "tags": []
   },
   "outputs": [],
   "source": [
    "# We convert the dataframe to a csv file\n",
    "\n",
    "listening_submission.to_csv(\"submission.csv\", index=False)"
   ]
  }
 ],
 "metadata": {
  "kaggle": {
   "accelerator": "none",
   "dataSources": [
    {
     "databundleVersionId": 11351736,
     "sourceId": 91715,
     "sourceType": "competition"
    }
   ],
   "dockerImageVersionId": 31012,
   "isGpuEnabled": false,
   "isInternetEnabled": true,
   "language": "python",
   "sourceType": "notebook"
  },
  "kernelspec": {
   "display_name": "Python 3",
   "language": "python",
   "name": "python3"
  },
  "language_info": {
   "codemirror_mode": {
    "name": "ipython",
    "version": 3
   },
   "file_extension": ".py",
   "mimetype": "text/x-python",
   "name": "python",
   "nbconvert_exporter": "python",
   "pygments_lexer": "ipython3",
   "version": "3.11.11"
  },
  "papermill": {
   "default_parameters": {},
   "duration": 111.999909,
   "end_time": "2025-04-22T23:32:46.172055",
   "environment_variables": {},
   "exception": null,
   "input_path": "__notebook__.ipynb",
   "output_path": "__notebook__.ipynb",
   "parameters": {},
   "start_time": "2025-04-22T23:30:54.172146",
   "version": "2.6.0"
  }
 },
 "nbformat": 4,
 "nbformat_minor": 5
}
