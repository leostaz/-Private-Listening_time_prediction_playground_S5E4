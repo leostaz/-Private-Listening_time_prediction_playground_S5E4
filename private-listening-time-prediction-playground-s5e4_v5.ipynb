{
 "cells": [
  {
   "cell_type": "code",
   "execution_count": 1,
   "id": "b1a243da",
   "metadata": {
    "_cell_guid": "b1076dfc-b9ad-4769-8c92-a6c4dae69d19",
    "_uuid": "8f2839f25d086af736a60e9eeb907d3b93b6e0e5",
    "execution": {
     "iopub.execute_input": "2025-04-23T02:51:04.217289Z",
     "iopub.status.busy": "2025-04-23T02:51:04.216815Z",
     "iopub.status.idle": "2025-04-23T02:51:04.224251Z",
     "shell.execute_reply": "2025-04-23T02:51:04.223303Z"
    },
    "papermill": {
     "duration": 0.017331,
     "end_time": "2025-04-23T02:51:04.225295",
     "exception": false,
     "start_time": "2025-04-23T02:51:04.207964",
     "status": "completed"
    },
    "tags": []
   },
   "outputs": [
    {
     "name": "stdout",
     "output_type": "stream",
     "text": [
      "/kaggle/input/playground-series-s5e4/sample_submission.csv\n",
      "/kaggle/input/playground-series-s5e4/train.csv\n",
      "/kaggle/input/playground-series-s5e4/test.csv\n"
     ]
    }
   ],
   "source": [
    "# We load the competition data\n",
    "\n",
    "import warnings\n",
    "warnings.filterwarnings(\"ignore\")\n",
    "\n",
    "import os\n",
    "for dirname, _, filenames in os.walk('/kaggle/input'):\n",
    "    for filename in filenames:\n",
    "        print(os.path.join(dirname, filename))"
   ]
  },
  {
   "cell_type": "markdown",
   "id": "3a6a752d",
   "metadata": {
    "papermill": {
     "duration": 0.006373,
     "end_time": "2025-04-23T02:51:04.238844",
     "exception": false,
     "start_time": "2025-04-23T02:51:04.232471",
     "status": "completed"
    },
    "tags": []
   },
   "source": [
    "# Libraries"
   ]
  },
  {
   "cell_type": "code",
   "execution_count": 2,
   "id": "f01a9729",
   "metadata": {
    "execution": {
     "iopub.execute_input": "2025-04-23T02:51:04.253347Z",
     "iopub.status.busy": "2025-04-23T02:51:04.252881Z",
     "iopub.status.idle": "2025-04-23T02:51:14.054663Z",
     "shell.execute_reply": "2025-04-23T02:51:14.053975Z"
    },
    "papermill": {
     "duration": 9.810561,
     "end_time": "2025-04-23T02:51:14.056020",
     "exception": false,
     "start_time": "2025-04-23T02:51:04.245459",
     "status": "completed"
    },
    "tags": []
   },
   "outputs": [],
   "source": [
    "import numpy as np\n",
    "import pandas as pd\n",
    "import matplotlib as mpl\n",
    "import matplotlib.pyplot as plt\n",
    "import seaborn as sns\n",
    "import shap\n",
    "\n",
    "from sklearn.preprocessing import (\n",
    "    OrdinalEncoder,\n",
    "    StandardScaler\n",
    ")\n",
    "from sklearn.feature_selection import (\n",
    "    mutual_info_regression\n",
    ")\n",
    "from sklearn.model_selection import (\n",
    "    train_test_split,\n",
    "    cross_val_score,\n",
    "    KFold,\n",
    "    RandomizedSearchCV\n",
    ")\n",
    "from sklearn.metrics import (\n",
    "    r2_score, \n",
    "    mean_squared_error\n",
    ")\n",
    "from sklearn.impute import KNNImputer\n",
    "from xgboost import XGBRegressor\n",
    "from sklearn.ensemble import ( \n",
    "    BaggingRegressor\n",
    ")"
   ]
  },
  {
   "cell_type": "markdown",
   "id": "e138a51c",
   "metadata": {
    "papermill": {
     "duration": 0.00631,
     "end_time": "2025-04-23T02:51:14.069177",
     "exception": false,
     "start_time": "2025-04-23T02:51:14.062867",
     "status": "completed"
    },
    "tags": []
   },
   "source": [
    "# Primer análisis"
   ]
  },
  {
   "cell_type": "markdown",
   "id": "1e5c49d1",
   "metadata": {
    "papermill": {
     "duration": 0.006367,
     "end_time": "2025-04-23T02:51:14.081960",
     "exception": false,
     "start_time": "2025-04-23T02:51:14.075593",
     "status": "completed"
    },
    "tags": []
   },
   "source": [
    "Notebook y análisis completo:\n",
    "\n",
    "https://www.kaggle.com/code/les1781/listening-time-prediction-playground-series-s5-e4"
   ]
  },
  {
   "cell_type": "code",
   "execution_count": 3,
   "id": "79886cde",
   "metadata": {
    "execution": {
     "iopub.execute_input": "2025-04-23T02:51:14.096134Z",
     "iopub.status.busy": "2025-04-23T02:51:14.095728Z",
     "iopub.status.idle": "2025-04-23T02:51:15.399017Z",
     "shell.execute_reply": "2025-04-23T02:51:15.398314Z"
    },
    "papermill": {
     "duration": 1.312063,
     "end_time": "2025-04-23T02:51:15.400332",
     "exception": false,
     "start_time": "2025-04-23T02:51:14.088269",
     "status": "completed"
    },
    "tags": []
   },
   "outputs": [],
   "source": [
    "# We load the data\n",
    "\n",
    "listening_new = pd.read_csv(\"/kaggle/input/playground-series-s5e4/train.csv\", index_col=\"id\")"
   ]
  },
  {
   "cell_type": "markdown",
   "id": "68ae59c5",
   "metadata": {
    "papermill": {
     "duration": 0.006475,
     "end_time": "2025-04-23T02:51:15.413828",
     "exception": false,
     "start_time": "2025-04-23T02:51:15.407353",
     "status": "completed"
    },
    "tags": []
   },
   "source": [
    "# Data wrangling"
   ]
  },
  {
   "cell_type": "code",
   "execution_count": 4,
   "id": "b6f4087b",
   "metadata": {
    "execution": {
     "iopub.execute_input": "2025-04-23T02:51:15.428331Z",
     "iopub.status.busy": "2025-04-23T02:51:15.428067Z",
     "iopub.status.idle": "2025-04-23T02:51:15.878866Z",
     "shell.execute_reply": "2025-04-23T02:51:15.878083Z"
    },
    "papermill": {
     "duration": 0.459503,
     "end_time": "2025-04-23T02:51:15.880048",
     "exception": false,
     "start_time": "2025-04-23T02:51:15.420545",
     "status": "completed"
    },
    "tags": []
   },
   "outputs": [
    {
     "data": {
      "text/html": [
       "<style type=\"text/css\">\n",
       "#T_e5d5f_row0_col0, #T_e5d5f_row0_col1, #T_e5d5f_row1_col0, #T_e5d5f_row1_col1, #T_e5d5f_row3_col0, #T_e5d5f_row3_col1, #T_e5d5f_row4_col0, #T_e5d5f_row4_col1, #T_e5d5f_row5_col0, #T_e5d5f_row5_col1, #T_e5d5f_row6_col0, #T_e5d5f_row6_col1, #T_e5d5f_row8_col0, #T_e5d5f_row8_col1, #T_e5d5f_row9_col0, #T_e5d5f_row9_col1, #T_e5d5f_row10_col0, #T_e5d5f_row10_col1 {\n",
       "  background-color: #f7fcf5;\n",
       "  color: #000000;\n",
       "}\n",
       "#T_e5d5f_row2_col0, #T_e5d5f_row2_col1 {\n",
       "  background-color: #4db163;\n",
       "  color: #f1f1f1;\n",
       "}\n",
       "#T_e5d5f_row7_col0, #T_e5d5f_row7_col1 {\n",
       "  background-color: #00441b;\n",
       "  color: #f1f1f1;\n",
       "}\n",
       "</style>\n",
       "<table id=\"T_e5d5f\">\n",
       "  <thead>\n",
       "    <tr>\n",
       "      <th class=\"blank level0\" >&nbsp;</th>\n",
       "      <th id=\"T_e5d5f_level0_col0\" class=\"col_heading level0 col0\" >Amount of Null Data</th>\n",
       "      <th id=\"T_e5d5f_level0_col1\" class=\"col_heading level0 col1\" >Percentage of Null Data</th>\n",
       "    </tr>\n",
       "  </thead>\n",
       "  <tbody>\n",
       "    <tr>\n",
       "      <th id=\"T_e5d5f_level0_row0\" class=\"row_heading level0 row0\" >Podcast_Name</th>\n",
       "      <td id=\"T_e5d5f_row0_col0\" class=\"data row0 col0\" >0</td>\n",
       "      <td id=\"T_e5d5f_row0_col1\" class=\"data row0 col1\" >0.000000</td>\n",
       "    </tr>\n",
       "    <tr>\n",
       "      <th id=\"T_e5d5f_level0_row1\" class=\"row_heading level0 row1\" >Episode_Title</th>\n",
       "      <td id=\"T_e5d5f_row1_col0\" class=\"data row1 col0\" >0</td>\n",
       "      <td id=\"T_e5d5f_row1_col1\" class=\"data row1 col1\" >0.000000</td>\n",
       "    </tr>\n",
       "    <tr>\n",
       "      <th id=\"T_e5d5f_level0_row2\" class=\"row_heading level0 row2\" >Episode_Length_minutes</th>\n",
       "      <td id=\"T_e5d5f_row2_col0\" class=\"data row2 col0\" >87093</td>\n",
       "      <td id=\"T_e5d5f_row2_col1\" class=\"data row2 col1\" >11.612400</td>\n",
       "    </tr>\n",
       "    <tr>\n",
       "      <th id=\"T_e5d5f_level0_row3\" class=\"row_heading level0 row3\" >Genre</th>\n",
       "      <td id=\"T_e5d5f_row3_col0\" class=\"data row3 col0\" >0</td>\n",
       "      <td id=\"T_e5d5f_row3_col1\" class=\"data row3 col1\" >0.000000</td>\n",
       "    </tr>\n",
       "    <tr>\n",
       "      <th id=\"T_e5d5f_level0_row4\" class=\"row_heading level0 row4\" >Host_Popularity_percentage</th>\n",
       "      <td id=\"T_e5d5f_row4_col0\" class=\"data row4 col0\" >0</td>\n",
       "      <td id=\"T_e5d5f_row4_col1\" class=\"data row4 col1\" >0.000000</td>\n",
       "    </tr>\n",
       "    <tr>\n",
       "      <th id=\"T_e5d5f_level0_row5\" class=\"row_heading level0 row5\" >Publication_Day</th>\n",
       "      <td id=\"T_e5d5f_row5_col0\" class=\"data row5 col0\" >0</td>\n",
       "      <td id=\"T_e5d5f_row5_col1\" class=\"data row5 col1\" >0.000000</td>\n",
       "    </tr>\n",
       "    <tr>\n",
       "      <th id=\"T_e5d5f_level0_row6\" class=\"row_heading level0 row6\" >Publication_Time</th>\n",
       "      <td id=\"T_e5d5f_row6_col0\" class=\"data row6 col0\" >0</td>\n",
       "      <td id=\"T_e5d5f_row6_col1\" class=\"data row6 col1\" >0.000000</td>\n",
       "    </tr>\n",
       "    <tr>\n",
       "      <th id=\"T_e5d5f_level0_row7\" class=\"row_heading level0 row7\" >Guest_Popularity_percentage</th>\n",
       "      <td id=\"T_e5d5f_row7_col0\" class=\"data row7 col0\" >146030</td>\n",
       "      <td id=\"T_e5d5f_row7_col1\" class=\"data row7 col1\" >19.470667</td>\n",
       "    </tr>\n",
       "    <tr>\n",
       "      <th id=\"T_e5d5f_level0_row8\" class=\"row_heading level0 row8\" >Number_of_Ads</th>\n",
       "      <td id=\"T_e5d5f_row8_col0\" class=\"data row8 col0\" >1</td>\n",
       "      <td id=\"T_e5d5f_row8_col1\" class=\"data row8 col1\" >0.000133</td>\n",
       "    </tr>\n",
       "    <tr>\n",
       "      <th id=\"T_e5d5f_level0_row9\" class=\"row_heading level0 row9\" >Episode_Sentiment</th>\n",
       "      <td id=\"T_e5d5f_row9_col0\" class=\"data row9 col0\" >0</td>\n",
       "      <td id=\"T_e5d5f_row9_col1\" class=\"data row9 col1\" >0.000000</td>\n",
       "    </tr>\n",
       "    <tr>\n",
       "      <th id=\"T_e5d5f_level0_row10\" class=\"row_heading level0 row10\" >Listening_Time_minutes</th>\n",
       "      <td id=\"T_e5d5f_row10_col0\" class=\"data row10 col0\" >0</td>\n",
       "      <td id=\"T_e5d5f_row10_col1\" class=\"data row10 col1\" >0.000000</td>\n",
       "    </tr>\n",
       "  </tbody>\n",
       "</table>\n"
      ],
      "text/plain": [
       "<pandas.io.formats.style.Styler at 0x79332cf96b90>"
      ]
     },
     "execution_count": 4,
     "metadata": {},
     "output_type": "execute_result"
    }
   ],
   "source": [
    "# We check for null values\n",
    "\n",
    "null_values = (\n",
    "    pd.DataFrame(\n",
    "        {f\"Amount of Null Data\": listening_new.isnull().sum(), \n",
    "         \"Percentage of Null Data\" : (\n",
    "             listening_new.isnull().sum()) / (len(listening_new)) * (100)\n",
    "        }))\n",
    "\n",
    "null_values.style.background_gradient(cmap=\"Greens\")"
   ]
  },
  {
   "cell_type": "code",
   "execution_count": 5,
   "id": "a2749338",
   "metadata": {
    "execution": {
     "iopub.execute_input": "2025-04-23T02:51:15.895232Z",
     "iopub.status.busy": "2025-04-23T02:51:15.894863Z",
     "iopub.status.idle": "2025-04-23T02:51:16.211794Z",
     "shell.execute_reply": "2025-04-23T02:51:16.211110Z"
    },
    "papermill": {
     "duration": 0.325715,
     "end_time": "2025-04-23T02:51:16.213022",
     "exception": false,
     "start_time": "2025-04-23T02:51:15.887307",
     "status": "completed"
    },
    "tags": []
   },
   "outputs": [],
   "source": [
    "# We replace the erroneous values\n",
    "\n",
    "listening_new[\"Number_of_Ads\"] = (listening_new[\"Number_of_Ads\"].apply(lambda x: np.NaN if x>3 else x))\n",
    "listening_new[\"Number_of_Ads\"] = (listening_new[\"Number_of_Ads\"].fillna(\n",
    "        listening_new.groupby(\"Podcast_Name\")[\"Number_of_Ads\"].transform(lambda v: v.mode()[0])))\n",
    "\n",
    "listening_new[\"Host_Popularity_percentage\"] = np.where(\n",
    "    listening_new[\"Host_Popularity_percentage\"] > 100, 100, listening_new[\"Host_Popularity_percentage\"]\n",
    ").round(decimals=2)\n",
    "\n",
    "listening_new[\"Guest_Popularity_percentage\"] = np.where(\n",
    "    listening_new[\"Guest_Popularity_percentage\"] > 100, 100, listening_new[\"Guest_Popularity_percentage\"]\n",
    ").round(decimals=2)"
   ]
  },
  {
   "cell_type": "code",
   "execution_count": 6,
   "id": "e4459c1c",
   "metadata": {
    "execution": {
     "iopub.execute_input": "2025-04-23T02:51:16.227790Z",
     "iopub.status.busy": "2025-04-23T02:51:16.227541Z",
     "iopub.status.idle": "2025-04-23T02:51:16.230721Z",
     "shell.execute_reply": "2025-04-23T02:51:16.230022Z"
    },
    "papermill": {
     "duration": 0.011588,
     "end_time": "2025-04-23T02:51:16.231672",
     "exception": false,
     "start_time": "2025-04-23T02:51:16.220084",
     "status": "completed"
    },
    "tags": []
   },
   "outputs": [],
   "source": [
    "# We drop null values\n",
    "\n",
    "#listening_new.dropna(inplace=True)"
   ]
  },
  {
   "cell_type": "code",
   "execution_count": 7,
   "id": "888ebbbc",
   "metadata": {
    "execution": {
     "iopub.execute_input": "2025-04-23T02:51:16.246629Z",
     "iopub.status.busy": "2025-04-23T02:51:16.246267Z",
     "iopub.status.idle": "2025-04-23T02:51:16.357506Z",
     "shell.execute_reply": "2025-04-23T02:51:16.356839Z"
    },
    "papermill": {
     "duration": 0.120296,
     "end_time": "2025-04-23T02:51:16.359008",
     "exception": false,
     "start_time": "2025-04-23T02:51:16.238712",
     "status": "completed"
    },
    "tags": []
   },
   "outputs": [],
   "source": [
    "# We fill null values with the mean groupby Podcast\n",
    "\n",
    "listening_new[\"Guest_Popularity_percentage\"] = (listening_new[\"Guest_Popularity_percentage\"].fillna(\n",
    "        listening_new.groupby(\"Podcast_Name\")[\"Guest_Popularity_percentage\"].transform(\"mean\")\n",
    "))\n",
    "\n",
    "listening_new[\"Episode_Length_minutes\"] = (listening_new[\"Episode_Length_minutes\"].fillna(\n",
    "    listening_new.groupby(\"Podcast_Name\")[\"Episode_Length_minutes\"].transform(\"mean\")\n",
    "))"
   ]
  },
  {
   "cell_type": "code",
   "execution_count": 8,
   "id": "97facdc5",
   "metadata": {
    "execution": {
     "iopub.execute_input": "2025-04-23T02:51:16.373886Z",
     "iopub.status.busy": "2025-04-23T02:51:16.373636Z",
     "iopub.status.idle": "2025-04-23T02:51:16.656134Z",
     "shell.execute_reply": "2025-04-23T02:51:16.655487Z"
    },
    "papermill": {
     "duration": 0.291252,
     "end_time": "2025-04-23T02:51:16.657398",
     "exception": false,
     "start_time": "2025-04-23T02:51:16.366146",
     "status": "completed"
    },
    "tags": []
   },
   "outputs": [],
   "source": [
    "# We changed the format for more efficient memory usage\n",
    "\n",
    "listening_new[listening_new.select_dtypes([\"object\"]).columns] = (\n",
    "    listening_new.select_dtypes([\"object\"]).apply(\n",
    "        lambda x: x.astype(\"category\"))\n",
    ")"
   ]
  },
  {
   "cell_type": "code",
   "execution_count": 9,
   "id": "820de383",
   "metadata": {
    "execution": {
     "iopub.execute_input": "2025-04-23T02:51:16.672526Z",
     "iopub.status.busy": "2025-04-23T02:51:16.672225Z",
     "iopub.status.idle": "2025-04-23T02:51:16.695323Z",
     "shell.execute_reply": "2025-04-23T02:51:16.694603Z"
    },
    "papermill": {
     "duration": 0.031665,
     "end_time": "2025-04-23T02:51:16.696278",
     "exception": false,
     "start_time": "2025-04-23T02:51:16.664613",
     "status": "completed"
    },
    "tags": []
   },
   "outputs": [
    {
     "name": "stdout",
     "output_type": "stream",
     "text": [
      "<class 'pandas.core.frame.DataFrame'>\n",
      "Index: 750000 entries, 0 to 749999\n",
      "Data columns (total 11 columns):\n",
      " #   Column                       Non-Null Count   Dtype   \n",
      "---  ------                       --------------   -----   \n",
      " 0   Podcast_Name                 750000 non-null  category\n",
      " 1   Episode_Title                750000 non-null  category\n",
      " 2   Episode_Length_minutes       750000 non-null  float64 \n",
      " 3   Genre                        750000 non-null  category\n",
      " 4   Host_Popularity_percentage   750000 non-null  float64 \n",
      " 5   Publication_Day              750000 non-null  category\n",
      " 6   Publication_Time             750000 non-null  category\n",
      " 7   Guest_Popularity_percentage  750000 non-null  float64 \n",
      " 8   Number_of_Ads                750000 non-null  float64 \n",
      " 9   Episode_Sentiment            750000 non-null  category\n",
      " 10  Listening_Time_minutes       750000 non-null  float64 \n",
      "dtypes: category(6), float64(5)\n",
      "memory usage: 38.6 MB\n"
     ]
    }
   ],
   "source": [
    "listening_new.info()"
   ]
  },
  {
   "cell_type": "markdown",
   "id": "ac45cd39",
   "metadata": {
    "papermill": {
     "duration": 0.006255,
     "end_time": "2025-04-23T02:51:16.709347",
     "exception": false,
     "start_time": "2025-04-23T02:51:16.703092",
     "status": "completed"
    },
    "tags": []
   },
   "source": [
    "# Data preprocessing"
   ]
  },
  {
   "cell_type": "code",
   "execution_count": 10,
   "id": "65eb67c7",
   "metadata": {
    "execution": {
     "iopub.execute_input": "2025-04-23T02:51:16.723038Z",
     "iopub.status.busy": "2025-04-23T02:51:16.722811Z",
     "iopub.status.idle": "2025-04-23T02:51:16.740101Z",
     "shell.execute_reply": "2025-04-23T02:51:16.739485Z"
    },
    "papermill": {
     "duration": 0.025543,
     "end_time": "2025-04-23T02:51:16.741250",
     "exception": false,
     "start_time": "2025-04-23T02:51:16.715707",
     "status": "completed"
    },
    "tags": []
   },
   "outputs": [],
   "source": [
    "listening_end = listening_new.copy()"
   ]
  },
  {
   "cell_type": "code",
   "execution_count": 11,
   "id": "cebace59",
   "metadata": {
    "execution": {
     "iopub.execute_input": "2025-04-23T02:51:16.755343Z",
     "iopub.status.busy": "2025-04-23T02:51:16.755149Z",
     "iopub.status.idle": "2025-04-23T02:51:16.762001Z",
     "shell.execute_reply": "2025-04-23T02:51:16.761407Z"
    },
    "papermill": {
     "duration": 0.014921,
     "end_time": "2025-04-23T02:51:16.763056",
     "exception": false,
     "start_time": "2025-04-23T02:51:16.748135",
     "status": "completed"
    },
    "tags": []
   },
   "outputs": [],
   "source": [
    "# We map the variables and change the format\n",
    "\n",
    "eps_order = {\"Negative\" : 0, \"Neutral\" : 1, \"Positive\" : 2}\n",
    "listening_end[\"Episode_Sentiment\"] = listening_end[\"Episode_Sentiment\"].map(eps_order)\n",
    "listening_end[\"Episode_Sentiment\"] = listening_end[\"Episode_Sentiment\"].astype(\"float64\")"
   ]
  },
  {
   "cell_type": "code",
   "execution_count": 12,
   "id": "684a9afc",
   "metadata": {
    "execution": {
     "iopub.execute_input": "2025-04-23T02:51:16.777814Z",
     "iopub.status.busy": "2025-04-23T02:51:16.777589Z",
     "iopub.status.idle": "2025-04-23T02:51:16.797367Z",
     "shell.execute_reply": "2025-04-23T02:51:16.796833Z"
    },
    "papermill": {
     "duration": 0.028541,
     "end_time": "2025-04-23T02:51:16.798588",
     "exception": false,
     "start_time": "2025-04-23T02:51:16.770047",
     "status": "completed"
    },
    "tags": []
   },
   "outputs": [],
   "source": [
    "# We separate the categorical variables from the numerical ones\n",
    "\n",
    "df_numerical = listening_end.select_dtypes(include=\"number\")\n",
    "df_categorical = listening_end.select_dtypes(include=\"category\")"
   ]
  },
  {
   "cell_type": "markdown",
   "id": "54b728e6",
   "metadata": {
    "papermill": {
     "duration": 0.00654,
     "end_time": "2025-04-23T02:51:16.869748",
     "exception": false,
     "start_time": "2025-04-23T02:51:16.863208",
     "status": "completed"
    },
    "tags": []
   },
   "source": [
    "## Encode"
   ]
  },
  {
   "cell_type": "code",
   "execution_count": 13,
   "id": "82c9ecc6",
   "metadata": {
    "execution": {
     "iopub.execute_input": "2025-04-23T02:51:16.884234Z",
     "iopub.status.busy": "2025-04-23T02:51:16.884023Z",
     "iopub.status.idle": "2025-04-23T02:51:17.442950Z",
     "shell.execute_reply": "2025-04-23T02:51:17.442212Z"
    },
    "papermill": {
     "duration": 0.567783,
     "end_time": "2025-04-23T02:51:17.444345",
     "exception": false,
     "start_time": "2025-04-23T02:51:16.876562",
     "status": "completed"
    },
    "tags": []
   },
   "outputs": [],
   "source": [
    "# We apply OrdinalEncoder to the remaining categorical variables\n",
    "\n",
    "enc = OrdinalEncoder(categories=\"auto\").set_output(transform=\"pandas\")\n",
    "\n",
    "enc_data = enc.fit_transform(df_categorical)\n",
    "\n",
    "df_listening = pd.concat([enc_data, df_numerical], axis=1)"
   ]
  },
  {
   "cell_type": "code",
   "execution_count": 14,
   "id": "e5653d0c",
   "metadata": {
    "execution": {
     "iopub.execute_input": "2025-04-23T02:51:17.460555Z",
     "iopub.status.busy": "2025-04-23T02:51:17.460229Z",
     "iopub.status.idle": "2025-04-23T02:51:17.681292Z",
     "shell.execute_reply": "2025-04-23T02:51:17.680506Z"
    },
    "papermill": {
     "duration": 0.230742,
     "end_time": "2025-04-23T02:51:17.682486",
     "exception": false,
     "start_time": "2025-04-23T02:51:17.451744",
     "status": "completed"
    },
    "tags": []
   },
   "outputs": [
    {
     "data": {
      "text/html": [
       "<style type=\"text/css\">\n",
       "#T_fee38_row0_col0, #T_fee38_row1_col1, #T_fee38_row2_col2, #T_fee38_row3_col3, #T_fee38_row4_col4, #T_fee38_row5_col5, #T_fee38_row6_col6, #T_fee38_row7_col7, #T_fee38_row8_col8, #T_fee38_row9_col9, #T_fee38_row10_col10 {\n",
       "  background-color: #00441b;\n",
       "  color: #f1f1f1;\n",
       "}\n",
       "#T_fee38_row0_col1, #T_fee38_row2_col1, #T_fee38_row3_col9, #T_fee38_row6_col9, #T_fee38_row8_col1, #T_fee38_row9_col6 {\n",
       "  background-color: #f4fbf1;\n",
       "  color: #000000;\n",
       "}\n",
       "#T_fee38_row0_col2, #T_fee38_row2_col0 {\n",
       "  background-color: #d5efcf;\n",
       "  color: #000000;\n",
       "}\n",
       "#T_fee38_row0_col3, #T_fee38_row0_col4, #T_fee38_row0_col7, #T_fee38_row1_col0, #T_fee38_row1_col3, #T_fee38_row1_col4, #T_fee38_row2_col3, #T_fee38_row2_col4, #T_fee38_row2_col6, #T_fee38_row3_col0, #T_fee38_row3_col4, #T_fee38_row4_col2, #T_fee38_row4_col7, #T_fee38_row5_col0, #T_fee38_row5_col2, #T_fee38_row5_col3, #T_fee38_row5_col7, #T_fee38_row6_col4, #T_fee38_row7_col3, #T_fee38_row8_col2, #T_fee38_row8_col3, #T_fee38_row9_col0, #T_fee38_row9_col2, #T_fee38_row9_col3, #T_fee38_row10_col0, #T_fee38_row10_col3 {\n",
       "  background-color: #f6fcf4;\n",
       "  color: #000000;\n",
       "}\n",
       "#T_fee38_row0_col5, #T_fee38_row3_col5 {\n",
       "  background-color: #eff9ec;\n",
       "  color: #000000;\n",
       "}\n",
       "#T_fee38_row0_col6, #T_fee38_row1_col2, #T_fee38_row1_col9, #T_fee38_row3_col2, #T_fee38_row3_col6, #T_fee38_row3_col7, #T_fee38_row8_col0, #T_fee38_row9_col4, #T_fee38_row9_col7, #T_fee38_row10_col2 {\n",
       "  background-color: #f5fbf3;\n",
       "  color: #000000;\n",
       "}\n",
       "#T_fee38_row0_col8, #T_fee38_row7_col8 {\n",
       "  background-color: #e6f5e1;\n",
       "  color: #000000;\n",
       "}\n",
       "#T_fee38_row0_col9, #T_fee38_row2_col7, #T_fee38_row3_col1, #T_fee38_row4_col1, #T_fee38_row7_col9, #T_fee38_row8_col7, #T_fee38_row10_col4 {\n",
       "  background-color: #f4fbf2;\n",
       "  color: #000000;\n",
       "}\n",
       "#T_fee38_row0_col10, #T_fee38_row1_col8, #T_fee38_row2_col10, #T_fee38_row3_col8, #T_fee38_row3_col10 {\n",
       "  background-color: #e7f6e2;\n",
       "  color: #000000;\n",
       "}\n",
       "#T_fee38_row1_col5, #T_fee38_row6_col7 {\n",
       "  background-color: #f2faf0;\n",
       "  color: #000000;\n",
       "}\n",
       "#T_fee38_row1_col6, #T_fee38_row7_col6 {\n",
       "  background-color: #f2faef;\n",
       "  color: #000000;\n",
       "}\n",
       "#T_fee38_row1_col7 {\n",
       "  background-color: #f0f9ed;\n",
       "  color: #000000;\n",
       "}\n",
       "#T_fee38_row1_col10, #T_fee38_row9_col8 {\n",
       "  background-color: #eaf7e6;\n",
       "  color: #000000;\n",
       "}\n",
       "#T_fee38_row2_col5, #T_fee38_row7_col1 {\n",
       "  background-color: #f0f9ec;\n",
       "  color: #000000;\n",
       "}\n",
       "#T_fee38_row2_col8 {\n",
       "  background-color: #e8f6e3;\n",
       "  color: #000000;\n",
       "}\n",
       "#T_fee38_row2_col9, #T_fee38_row4_col6, #T_fee38_row5_col4, #T_fee38_row7_col2, #T_fee38_row9_col1 {\n",
       "  background-color: #f5fbf2;\n",
       "  color: #000000;\n",
       "}\n",
       "#T_fee38_row4_col0, #T_fee38_row4_col3, #T_fee38_row5_col1, #T_fee38_row6_col0, #T_fee38_row6_col2, #T_fee38_row6_col3, #T_fee38_row7_col0, #T_fee38_row7_col4, #T_fee38_row8_col4, #T_fee38_row8_col5, #T_fee38_row8_col6, #T_fee38_row8_col9, #T_fee38_row8_col10, #T_fee38_row10_col1, #T_fee38_row10_col7, #T_fee38_row10_col8 {\n",
       "  background-color: #f7fcf5;\n",
       "  color: #000000;\n",
       "}\n",
       "#T_fee38_row4_col5, #T_fee38_row5_col8, #T_fee38_row10_col9 {\n",
       "  background-color: #eff9eb;\n",
       "  color: #000000;\n",
       "}\n",
       "#T_fee38_row4_col8 {\n",
       "  background-color: #e8f6e4;\n",
       "  color: #000000;\n",
       "}\n",
       "#T_fee38_row4_col9 {\n",
       "  background-color: #f3faf0;\n",
       "  color: #000000;\n",
       "}\n",
       "#T_fee38_row4_col10 {\n",
       "  background-color: #e5f5e1;\n",
       "  color: #000000;\n",
       "}\n",
       "#T_fee38_row5_col6, #T_fee38_row5_col9, #T_fee38_row6_col1, #T_fee38_row7_col5 {\n",
       "  background-color: #f1faee;\n",
       "  color: #000000;\n",
       "}\n",
       "#T_fee38_row5_col10 {\n",
       "  background-color: #006b2b;\n",
       "  color: #f1f1f1;\n",
       "}\n",
       "#T_fee38_row6_col5 {\n",
       "  background-color: #edf8e9;\n",
       "  color: #000000;\n",
       "}\n",
       "#T_fee38_row6_col8, #T_fee38_row7_col10 {\n",
       "  background-color: #e9f7e5;\n",
       "  color: #000000;\n",
       "}\n",
       "#T_fee38_row6_col10 {\n",
       "  background-color: #def2d9;\n",
       "  color: #000000;\n",
       "}\n",
       "#T_fee38_row9_col5 {\n",
       "  background-color: #ecf8e8;\n",
       "  color: #000000;\n",
       "}\n",
       "#T_fee38_row9_col10 {\n",
       "  background-color: #e0f3db;\n",
       "  color: #000000;\n",
       "}\n",
       "#T_fee38_row10_col5 {\n",
       "  background-color: #006d2c;\n",
       "  color: #f1f1f1;\n",
       "}\n",
       "#T_fee38_row10_col6 {\n",
       "  background-color: #edf8ea;\n",
       "  color: #000000;\n",
       "}\n",
       "</style>\n",
       "<table id=\"T_fee38\">\n",
       "  <thead>\n",
       "    <tr>\n",
       "      <th class=\"blank level0\" >&nbsp;</th>\n",
       "      <th id=\"T_fee38_level0_col0\" class=\"col_heading level0 col0\" >Podcast_Name</th>\n",
       "      <th id=\"T_fee38_level0_col1\" class=\"col_heading level0 col1\" >Episode_Title</th>\n",
       "      <th id=\"T_fee38_level0_col2\" class=\"col_heading level0 col2\" >Genre</th>\n",
       "      <th id=\"T_fee38_level0_col3\" class=\"col_heading level0 col3\" >Publication_Day</th>\n",
       "      <th id=\"T_fee38_level0_col4\" class=\"col_heading level0 col4\" >Publication_Time</th>\n",
       "      <th id=\"T_fee38_level0_col5\" class=\"col_heading level0 col5\" >Episode_Length_minutes</th>\n",
       "      <th id=\"T_fee38_level0_col6\" class=\"col_heading level0 col6\" >Host_Popularity_percentage</th>\n",
       "      <th id=\"T_fee38_level0_col7\" class=\"col_heading level0 col7\" >Guest_Popularity_percentage</th>\n",
       "      <th id=\"T_fee38_level0_col8\" class=\"col_heading level0 col8\" >Number_of_Ads</th>\n",
       "      <th id=\"T_fee38_level0_col9\" class=\"col_heading level0 col9\" >Episode_Sentiment</th>\n",
       "      <th id=\"T_fee38_level0_col10\" class=\"col_heading level0 col10\" >Listening_Time_minutes</th>\n",
       "    </tr>\n",
       "  </thead>\n",
       "  <tbody>\n",
       "    <tr>\n",
       "      <th id=\"T_fee38_level0_row0\" class=\"row_heading level0 row0\" >Podcast_Name</th>\n",
       "      <td id=\"T_fee38_row0_col0\" class=\"data row0 col0\" >1.000000</td>\n",
       "      <td id=\"T_fee38_row0_col1\" class=\"data row0 col1\" >0.006669</td>\n",
       "      <td id=\"T_fee38_row0_col2\" class=\"data row0 col2\" >0.188052</td>\n",
       "      <td id=\"T_fee38_row0_col3\" class=\"data row0 col3\" >0.003117</td>\n",
       "      <td id=\"T_fee38_row0_col4\" class=\"data row0 col4\" >-0.002328</td>\n",
       "      <td id=\"T_fee38_row0_col5\" class=\"data row0 col5\" >0.006335</td>\n",
       "      <td id=\"T_fee38_row0_col6\" class=\"data row0 col6\" >-0.002424</td>\n",
       "      <td id=\"T_fee38_row0_col7\" class=\"data row0 col7\" >-0.004752</td>\n",
       "      <td id=\"T_fee38_row0_col8\" class=\"data row0 col8\" >0.008955</td>\n",
       "      <td id=\"T_fee38_row0_col9\" class=\"data row0 col9\" >0.003115</td>\n",
       "      <td id=\"T_fee38_row0_col10\" class=\"data row0 col10\" >0.004346</td>\n",
       "    </tr>\n",
       "    <tr>\n",
       "      <th id=\"T_fee38_level0_row1\" class=\"row_heading level0 row1\" >Episode_Title</th>\n",
       "      <td id=\"T_fee38_row1_col0\" class=\"data row1 col0\" >0.006669</td>\n",
       "      <td id=\"T_fee38_row1_col1\" class=\"data row1 col1\" >1.000000</td>\n",
       "      <td id=\"T_fee38_row1_col2\" class=\"data row1 col2\" >0.006847</td>\n",
       "      <td id=\"T_fee38_row1_col3\" class=\"data row1 col3\" >0.001100</td>\n",
       "      <td id=\"T_fee38_row1_col4\" class=\"data row1 col4\" >-0.000304</td>\n",
       "      <td id=\"T_fee38_row1_col5\" class=\"data row1 col5\" >-0.019925</td>\n",
       "      <td id=\"T_fee38_row1_col6\" class=\"data row1 col6\" >0.020208</td>\n",
       "      <td id=\"T_fee38_row1_col7\" class=\"data row1 col7\" >0.034565</td>\n",
       "      <td id=\"T_fee38_row1_col8\" class=\"data row1 col8\" >0.006395</td>\n",
       "      <td id=\"T_fee38_row1_col9\" class=\"data row1 col9\" >-0.004845</td>\n",
       "      <td id=\"T_fee38_row1_col10\" class=\"data row1 col10\" >-0.020842</td>\n",
       "    </tr>\n",
       "    <tr>\n",
       "      <th id=\"T_fee38_level0_row2\" class=\"row_heading level0 row2\" >Genre</th>\n",
       "      <td id=\"T_fee38_row2_col0\" class=\"data row2 col0\" >0.188052</td>\n",
       "      <td id=\"T_fee38_row2_col1\" class=\"data row2 col1\" >0.006847</td>\n",
       "      <td id=\"T_fee38_row2_col2\" class=\"data row2 col2\" >1.000000</td>\n",
       "      <td id=\"T_fee38_row2_col3\" class=\"data row2 col3\" >0.003305</td>\n",
       "      <td id=\"T_fee38_row2_col4\" class=\"data row2 col4\" >-0.001329</td>\n",
       "      <td id=\"T_fee38_row2_col5\" class=\"data row2 col5\" >-0.000452</td>\n",
       "      <td id=\"T_fee38_row2_col6\" class=\"data row2 col6\" >-0.008807</td>\n",
       "      <td id=\"T_fee38_row2_col7\" class=\"data row2 col7\" >0.007003</td>\n",
       "      <td id=\"T_fee38_row2_col8\" class=\"data row2 col8\" >-0.003429</td>\n",
       "      <td id=\"T_fee38_row2_col9\" class=\"data row2 col9\" >-0.001588</td>\n",
       "      <td id=\"T_fee38_row2_col10\" class=\"data row2 col10\" >0.004940</td>\n",
       "    </tr>\n",
       "    <tr>\n",
       "      <th id=\"T_fee38_level0_row3\" class=\"row_heading level0 row3\" >Publication_Day</th>\n",
       "      <td id=\"T_fee38_row3_col0\" class=\"data row3 col0\" >0.003117</td>\n",
       "      <td id=\"T_fee38_row3_col1\" class=\"data row3 col1\" >0.001100</td>\n",
       "      <td id=\"T_fee38_row3_col2\" class=\"data row3 col2\" >0.003305</td>\n",
       "      <td id=\"T_fee38_row3_col3\" class=\"data row3 col3\" >1.000000</td>\n",
       "      <td id=\"T_fee38_row3_col4\" class=\"data row3 col4\" >-0.000860</td>\n",
       "      <td id=\"T_fee38_row3_col5\" class=\"data row3 col5\" >0.006598</td>\n",
       "      <td id=\"T_fee38_row3_col6\" class=\"data row3 col6\" >-0.003698</td>\n",
       "      <td id=\"T_fee38_row3_col7\" class=\"data row3 col7\" >0.000398</td>\n",
       "      <td id=\"T_fee38_row3_col8\" class=\"data row3 col8\" >0.004986</td>\n",
       "      <td id=\"T_fee38_row3_col9\" class=\"data row3 col9\" >0.004594</td>\n",
       "      <td id=\"T_fee38_row3_col10\" class=\"data row3 col10\" >0.004030</td>\n",
       "    </tr>\n",
       "    <tr>\n",
       "      <th id=\"T_fee38_level0_row4\" class=\"row_heading level0 row4\" >Publication_Time</th>\n",
       "      <td id=\"T_fee38_row4_col0\" class=\"data row4 col0\" >-0.002328</td>\n",
       "      <td id=\"T_fee38_row4_col1\" class=\"data row4 col1\" >-0.000304</td>\n",
       "      <td id=\"T_fee38_row4_col2\" class=\"data row4 col2\" >-0.001329</td>\n",
       "      <td id=\"T_fee38_row4_col3\" class=\"data row4 col3\" >-0.000860</td>\n",
       "      <td id=\"T_fee38_row4_col4\" class=\"data row4 col4\" >1.000000</td>\n",
       "      <td id=\"T_fee38_row4_col5\" class=\"data row4 col5\" >0.009908</td>\n",
       "      <td id=\"T_fee38_row4_col6\" class=\"data row4 col6\" >0.000182</td>\n",
       "      <td id=\"T_fee38_row4_col7\" class=\"data row4 col7\" >-0.005023</td>\n",
       "      <td id=\"T_fee38_row4_col8\" class=\"data row4 col8\" >-0.006727</td>\n",
       "      <td id=\"T_fee38_row4_col9\" class=\"data row4 col9\" >0.008923</td>\n",
       "      <td id=\"T_fee38_row4_col10\" class=\"data row4 col10\" >0.013225</td>\n",
       "    </tr>\n",
       "    <tr>\n",
       "      <th id=\"T_fee38_level0_row5\" class=\"row_heading level0 row5\" >Episode_Length_minutes</th>\n",
       "      <td id=\"T_fee38_row5_col0\" class=\"data row5 col0\" >0.006335</td>\n",
       "      <td id=\"T_fee38_row5_col1\" class=\"data row5 col1\" >-0.019925</td>\n",
       "      <td id=\"T_fee38_row5_col2\" class=\"data row5 col2\" >-0.000452</td>\n",
       "      <td id=\"T_fee38_row5_col3\" class=\"data row5 col3\" >0.006598</td>\n",
       "      <td id=\"T_fee38_row5_col4\" class=\"data row5 col4\" >0.009908</td>\n",
       "      <td id=\"T_fee38_row5_col5\" class=\"data row5 col5\" >1.000000</td>\n",
       "      <td id=\"T_fee38_row5_col6\" class=\"data row5 col6\" >0.022221</td>\n",
       "      <td id=\"T_fee38_row5_col7\" class=\"data row5 col7\" >-0.008353</td>\n",
       "      <td id=\"T_fee38_row5_col8\" class=\"data row5 col8\" >-0.054821</td>\n",
       "      <td id=\"T_fee38_row5_col9\" class=\"data row5 col9\" >0.024724</td>\n",
       "      <td id=\"T_fee38_row5_col10\" class=\"data row5 col10\" >0.866202</td>\n",
       "    </tr>\n",
       "    <tr>\n",
       "      <th id=\"T_fee38_level0_row6\" class=\"row_heading level0 row6\" >Host_Popularity_percentage</th>\n",
       "      <td id=\"T_fee38_row6_col0\" class=\"data row6 col0\" >-0.002424</td>\n",
       "      <td id=\"T_fee38_row6_col1\" class=\"data row6 col1\" >0.020208</td>\n",
       "      <td id=\"T_fee38_row6_col2\" class=\"data row6 col2\" >-0.008807</td>\n",
       "      <td id=\"T_fee38_row6_col3\" class=\"data row6 col3\" >-0.003698</td>\n",
       "      <td id=\"T_fee38_row6_col4\" class=\"data row6 col4\" >0.000182</td>\n",
       "      <td id=\"T_fee38_row6_col5\" class=\"data row6 col5\" >0.022221</td>\n",
       "      <td id=\"T_fee38_row6_col6\" class=\"data row6 col6\" >1.000000</td>\n",
       "      <td id=\"T_fee38_row6_col7\" class=\"data row6 col7\" >0.020060</td>\n",
       "      <td id=\"T_fee38_row6_col8\" class=\"data row6 col8\" >-0.017831</td>\n",
       "      <td id=\"T_fee38_row6_col9\" class=\"data row6 col9\" >0.007063</td>\n",
       "      <td id=\"T_fee38_row6_col10\" class=\"data row6 col10\" >0.050854</td>\n",
       "    </tr>\n",
       "    <tr>\n",
       "      <th id=\"T_fee38_level0_row7\" class=\"row_heading level0 row7\" >Guest_Popularity_percentage</th>\n",
       "      <td id=\"T_fee38_row7_col0\" class=\"data row7 col0\" >-0.004752</td>\n",
       "      <td id=\"T_fee38_row7_col1\" class=\"data row7 col1\" >0.034565</td>\n",
       "      <td id=\"T_fee38_row7_col2\" class=\"data row7 col2\" >0.007003</td>\n",
       "      <td id=\"T_fee38_row7_col3\" class=\"data row7 col3\" >0.000398</td>\n",
       "      <td id=\"T_fee38_row7_col4\" class=\"data row7 col4\" >-0.005023</td>\n",
       "      <td id=\"T_fee38_row7_col5\" class=\"data row7 col5\" >-0.008353</td>\n",
       "      <td id=\"T_fee38_row7_col6\" class=\"data row7 col6\" >0.020060</td>\n",
       "      <td id=\"T_fee38_row7_col7\" class=\"data row7 col7\" >1.000000</td>\n",
       "      <td id=\"T_fee38_row7_col8\" class=\"data row7 col8\" >0.007658</td>\n",
       "      <td id=\"T_fee38_row7_col9\" class=\"data row7 col9\" >0.000488</td>\n",
       "      <td id=\"T_fee38_row7_col10\" class=\"data row7 col10\" >-0.014399</td>\n",
       "    </tr>\n",
       "    <tr>\n",
       "      <th id=\"T_fee38_level0_row8\" class=\"row_heading level0 row8\" >Number_of_Ads</th>\n",
       "      <td id=\"T_fee38_row8_col0\" class=\"data row8 col0\" >0.008955</td>\n",
       "      <td id=\"T_fee38_row8_col1\" class=\"data row8 col1\" >0.006395</td>\n",
       "      <td id=\"T_fee38_row8_col2\" class=\"data row8 col2\" >-0.003429</td>\n",
       "      <td id=\"T_fee38_row8_col3\" class=\"data row8 col3\" >0.004986</td>\n",
       "      <td id=\"T_fee38_row8_col4\" class=\"data row8 col4\" >-0.006727</td>\n",
       "      <td id=\"T_fee38_row8_col5\" class=\"data row8 col5\" >-0.054821</td>\n",
       "      <td id=\"T_fee38_row8_col6\" class=\"data row8 col6\" >-0.017831</td>\n",
       "      <td id=\"T_fee38_row8_col7\" class=\"data row8 col7\" >0.007658</td>\n",
       "      <td id=\"T_fee38_row8_col8\" class=\"data row8 col8\" >1.000000</td>\n",
       "      <td id=\"T_fee38_row8_col9\" class=\"data row8 col9\" >-0.020627</td>\n",
       "      <td id=\"T_fee38_row8_col10\" class=\"data row8 col10\" >-0.124201</td>\n",
       "    </tr>\n",
       "    <tr>\n",
       "      <th id=\"T_fee38_level0_row9\" class=\"row_heading level0 row9\" >Episode_Sentiment</th>\n",
       "      <td id=\"T_fee38_row9_col0\" class=\"data row9 col0\" >0.003115</td>\n",
       "      <td id=\"T_fee38_row9_col1\" class=\"data row9 col1\" >-0.004845</td>\n",
       "      <td id=\"T_fee38_row9_col2\" class=\"data row9 col2\" >-0.001588</td>\n",
       "      <td id=\"T_fee38_row9_col3\" class=\"data row9 col3\" >0.004594</td>\n",
       "      <td id=\"T_fee38_row9_col4\" class=\"data row9 col4\" >0.008923</td>\n",
       "      <td id=\"T_fee38_row9_col5\" class=\"data row9 col5\" >0.024724</td>\n",
       "      <td id=\"T_fee38_row9_col6\" class=\"data row9 col6\" >0.007063</td>\n",
       "      <td id=\"T_fee38_row9_col7\" class=\"data row9 col7\" >0.000488</td>\n",
       "      <td id=\"T_fee38_row9_col8\" class=\"data row9 col8\" >-0.020627</td>\n",
       "      <td id=\"T_fee38_row9_col9\" class=\"data row9 col9\" >1.000000</td>\n",
       "      <td id=\"T_fee38_row9_col10\" class=\"data row9 col10\" >0.039470</td>\n",
       "    </tr>\n",
       "    <tr>\n",
       "      <th id=\"T_fee38_level0_row10\" class=\"row_heading level0 row10\" >Listening_Time_minutes</th>\n",
       "      <td id=\"T_fee38_row10_col0\" class=\"data row10 col0\" >0.004346</td>\n",
       "      <td id=\"T_fee38_row10_col1\" class=\"data row10 col1\" >-0.020842</td>\n",
       "      <td id=\"T_fee38_row10_col2\" class=\"data row10 col2\" >0.004940</td>\n",
       "      <td id=\"T_fee38_row10_col3\" class=\"data row10 col3\" >0.004030</td>\n",
       "      <td id=\"T_fee38_row10_col4\" class=\"data row10 col4\" >0.013225</td>\n",
       "      <td id=\"T_fee38_row10_col5\" class=\"data row10 col5\" >0.866202</td>\n",
       "      <td id=\"T_fee38_row10_col6\" class=\"data row10 col6\" >0.050854</td>\n",
       "      <td id=\"T_fee38_row10_col7\" class=\"data row10 col7\" >-0.014399</td>\n",
       "      <td id=\"T_fee38_row10_col8\" class=\"data row10 col8\" >-0.124201</td>\n",
       "      <td id=\"T_fee38_row10_col9\" class=\"data row10 col9\" >0.039470</td>\n",
       "      <td id=\"T_fee38_row10_col10\" class=\"data row10 col10\" >1.000000</td>\n",
       "    </tr>\n",
       "  </tbody>\n",
       "</table>\n"
      ],
      "text/plain": [
       "<pandas.io.formats.style.Styler at 0x793329edfa90>"
      ]
     },
     "execution_count": 14,
     "metadata": {},
     "output_type": "execute_result"
    }
   ],
   "source": [
    "df_listening.corr().style.background_gradient(cmap='Greens')"
   ]
  },
  {
   "cell_type": "markdown",
   "id": "7905bf5b",
   "metadata": {
    "papermill": {
     "duration": 0.006755,
     "end_time": "2025-04-23T02:51:17.696670",
     "exception": false,
     "start_time": "2025-04-23T02:51:17.689915",
     "status": "completed"
    },
    "tags": []
   },
   "source": [
    "## Scaling"
   ]
  },
  {
   "cell_type": "code",
   "execution_count": 15,
   "id": "618dbf92",
   "metadata": {
    "execution": {
     "iopub.execute_input": "2025-04-23T02:51:17.711319Z",
     "iopub.status.busy": "2025-04-23T02:51:17.711091Z",
     "iopub.status.idle": "2025-04-23T02:51:17.727282Z",
     "shell.execute_reply": "2025-04-23T02:51:17.726630Z"
    },
    "papermill": {
     "duration": 0.025065,
     "end_time": "2025-04-23T02:51:17.728610",
     "exception": false,
     "start_time": "2025-04-23T02:51:17.703545",
     "status": "completed"
    },
    "tags": []
   },
   "outputs": [],
   "source": [
    "# We separate the target variable from the features and data to scale\n",
    "\n",
    "x_listening = df_listening.drop(columns=\"Listening_Time_minutes\")\n",
    "y_listening = df_listening[\"Listening_Time_minutes\"]"
   ]
  },
  {
   "cell_type": "code",
   "execution_count": 16,
   "id": "ec2c0356",
   "metadata": {
    "execution": {
     "iopub.execute_input": "2025-04-23T02:51:17.744642Z",
     "iopub.status.busy": "2025-04-23T02:51:17.743908Z",
     "iopub.status.idle": "2025-04-23T02:51:17.830292Z",
     "shell.execute_reply": "2025-04-23T02:51:17.829596Z"
    },
    "papermill": {
     "duration": 0.095545,
     "end_time": "2025-04-23T02:51:17.831560",
     "exception": false,
     "start_time": "2025-04-23T02:51:17.736015",
     "status": "completed"
    },
    "tags": []
   },
   "outputs": [],
   "source": [
    "# Numerical variables to scale\n",
    "\n",
    "df_numeric = x_listening[[\n",
    "    \"Episode_Length_minutes\",\n",
    "    \"Host_Popularity_percentage\",\n",
    "    \"Guest_Popularity_percentage\"\n",
    "]]\n",
    "\n",
    "scaler = StandardScaler().set_output(transform=\"pandas\")\n",
    "scale_num = scaler.fit_transform(df_numeric)\n",
    "\n",
    "# We create a df with the remaining variables\n",
    "\n",
    "df_rest = x_listening.drop(\n",
    "    columns=[\"Episode_Length_minutes\",\n",
    "             \"Host_Popularity_percentage\",\n",
    "             \"Guest_Popularity_percentage\"]\n",
    ")\n",
    "\n",
    "# We concatenate the dataframes\n",
    "\n",
    "x_end = pd.concat([df_rest, scale_num], axis=1)"
   ]
  },
  {
   "cell_type": "code",
   "execution_count": 17,
   "id": "a2dcf8d9",
   "metadata": {
    "execution": {
     "iopub.execute_input": "2025-04-23T02:51:17.846870Z",
     "iopub.status.busy": "2025-04-23T02:51:17.846595Z",
     "iopub.status.idle": "2025-04-23T02:51:18.131755Z",
     "shell.execute_reply": "2025-04-23T02:51:18.131164Z"
    },
    "papermill": {
     "duration": 0.293848,
     "end_time": "2025-04-23T02:51:18.132852",
     "exception": false,
     "start_time": "2025-04-23T02:51:17.839004",
     "status": "completed"
    },
    "tags": []
   },
   "outputs": [
    {
     "data": {
      "text/html": [
       "<div>\n",
       "<style scoped>\n",
       "    .dataframe tbody tr th:only-of-type {\n",
       "        vertical-align: middle;\n",
       "    }\n",
       "\n",
       "    .dataframe tbody tr th {\n",
       "        vertical-align: top;\n",
       "    }\n",
       "\n",
       "    .dataframe thead th {\n",
       "        text-align: right;\n",
       "    }\n",
       "</style>\n",
       "<table border=\"1\" class=\"dataframe\">\n",
       "  <thead>\n",
       "    <tr style=\"text-align: right;\">\n",
       "      <th></th>\n",
       "      <th>count</th>\n",
       "      <th>mean</th>\n",
       "      <th>std</th>\n",
       "      <th>min</th>\n",
       "      <th>25%</th>\n",
       "      <th>50%</th>\n",
       "      <th>75%</th>\n",
       "      <th>max</th>\n",
       "    </tr>\n",
       "  </thead>\n",
       "  <tbody>\n",
       "    <tr>\n",
       "      <th>Podcast_Name</th>\n",
       "      <td>750000.0</td>\n",
       "      <td>2.351573e+01</td>\n",
       "      <td>14.137577</td>\n",
       "      <td>0.000000</td>\n",
       "      <td>11.000000</td>\n",
       "      <td>23.000000</td>\n",
       "      <td>37.000000</td>\n",
       "      <td>47.000000</td>\n",
       "    </tr>\n",
       "    <tr>\n",
       "      <th>Episode_Title</th>\n",
       "      <td>750000.0</td>\n",
       "      <td>5.028600e+01</td>\n",
       "      <td>28.186681</td>\n",
       "      <td>0.000000</td>\n",
       "      <td>26.000000</td>\n",
       "      <td>51.000000</td>\n",
       "      <td>74.000000</td>\n",
       "      <td>99.000000</td>\n",
       "    </tr>\n",
       "    <tr>\n",
       "      <th>Genre</th>\n",
       "      <td>750000.0</td>\n",
       "      <td>4.648788e+00</td>\n",
       "      <td>2.963073</td>\n",
       "      <td>0.000000</td>\n",
       "      <td>2.000000</td>\n",
       "      <td>5.000000</td>\n",
       "      <td>7.000000</td>\n",
       "      <td>9.000000</td>\n",
       "    </tr>\n",
       "    <tr>\n",
       "      <th>Publication_Day</th>\n",
       "      <td>750000.0</td>\n",
       "      <td>2.962776e+00</td>\n",
       "      <td>1.997399</td>\n",
       "      <td>0.000000</td>\n",
       "      <td>1.000000</td>\n",
       "      <td>3.000000</td>\n",
       "      <td>5.000000</td>\n",
       "      <td>6.000000</td>\n",
       "    </tr>\n",
       "    <tr>\n",
       "      <th>Publication_Time</th>\n",
       "      <td>750000.0</td>\n",
       "      <td>1.522868e+00</td>\n",
       "      <td>1.119361</td>\n",
       "      <td>0.000000</td>\n",
       "      <td>1.000000</td>\n",
       "      <td>1.000000</td>\n",
       "      <td>3.000000</td>\n",
       "      <td>3.000000</td>\n",
       "    </tr>\n",
       "    <tr>\n",
       "      <th>Number_of_Ads</th>\n",
       "      <td>750000.0</td>\n",
       "      <td>1.347873e+00</td>\n",
       "      <td>1.110966</td>\n",
       "      <td>0.000000</td>\n",
       "      <td>0.000000</td>\n",
       "      <td>1.000000</td>\n",
       "      <td>2.000000</td>\n",
       "      <td>3.000000</td>\n",
       "    </tr>\n",
       "    <tr>\n",
       "      <th>Episode_Sentiment</th>\n",
       "      <td>750000.0</td>\n",
       "      <td>9.979693e-01</td>\n",
       "      <td>0.815440</td>\n",
       "      <td>0.000000</td>\n",
       "      <td>0.000000</td>\n",
       "      <td>1.000000</td>\n",
       "      <td>2.000000</td>\n",
       "      <td>2.000000</td>\n",
       "    </tr>\n",
       "    <tr>\n",
       "      <th>Episode_Length_minutes</th>\n",
       "      <td>750000.0</td>\n",
       "      <td>2.563828e-16</td>\n",
       "      <td>1.000001</td>\n",
       "      <td>-2.080627</td>\n",
       "      <td>-0.809072</td>\n",
       "      <td>-0.002546</td>\n",
       "      <td>0.832465</td>\n",
       "      <td>8.410505</td>\n",
       "    </tr>\n",
       "    <tr>\n",
       "      <th>Host_Popularity_percentage</th>\n",
       "      <td>750000.0</td>\n",
       "      <td>-2.175208e-16</td>\n",
       "      <td>1.000001</td>\n",
       "      <td>-2.560290</td>\n",
       "      <td>-0.894076</td>\n",
       "      <td>0.008330</td>\n",
       "      <td>0.860018</td>\n",
       "      <td>1.754991</td>\n",
       "    </tr>\n",
       "    <tr>\n",
       "      <th>Guest_Popularity_percentage</th>\n",
       "      <td>750000.0</td>\n",
       "      <td>-3.267739e-16</td>\n",
       "      <td>1.000001</td>\n",
       "      <td>-2.045663</td>\n",
       "      <td>-0.692544</td>\n",
       "      <td>0.007787</td>\n",
       "      <td>0.736553</td>\n",
       "      <td>1.870745</td>\n",
       "    </tr>\n",
       "  </tbody>\n",
       "</table>\n",
       "</div>"
      ],
      "text/plain": [
       "                                count          mean        std       min  \\\n",
       "Podcast_Name                 750000.0  2.351573e+01  14.137577  0.000000   \n",
       "Episode_Title                750000.0  5.028600e+01  28.186681  0.000000   \n",
       "Genre                        750000.0  4.648788e+00   2.963073  0.000000   \n",
       "Publication_Day              750000.0  2.962776e+00   1.997399  0.000000   \n",
       "Publication_Time             750000.0  1.522868e+00   1.119361  0.000000   \n",
       "Number_of_Ads                750000.0  1.347873e+00   1.110966  0.000000   \n",
       "Episode_Sentiment            750000.0  9.979693e-01   0.815440  0.000000   \n",
       "Episode_Length_minutes       750000.0  2.563828e-16   1.000001 -2.080627   \n",
       "Host_Popularity_percentage   750000.0 -2.175208e-16   1.000001 -2.560290   \n",
       "Guest_Popularity_percentage  750000.0 -3.267739e-16   1.000001 -2.045663   \n",
       "\n",
       "                                   25%        50%        75%        max  \n",
       "Podcast_Name                 11.000000  23.000000  37.000000  47.000000  \n",
       "Episode_Title                26.000000  51.000000  74.000000  99.000000  \n",
       "Genre                         2.000000   5.000000   7.000000   9.000000  \n",
       "Publication_Day               1.000000   3.000000   5.000000   6.000000  \n",
       "Publication_Time              1.000000   1.000000   3.000000   3.000000  \n",
       "Number_of_Ads                 0.000000   1.000000   2.000000   3.000000  \n",
       "Episode_Sentiment             0.000000   1.000000   2.000000   2.000000  \n",
       "Episode_Length_minutes       -0.809072  -0.002546   0.832465   8.410505  \n",
       "Host_Popularity_percentage   -0.894076   0.008330   0.860018   1.754991  \n",
       "Guest_Popularity_percentage  -0.692544   0.007787   0.736553   1.870745  "
      ]
     },
     "execution_count": 17,
     "metadata": {},
     "output_type": "execute_result"
    }
   ],
   "source": [
    "x_end.describe().T"
   ]
  },
  {
   "cell_type": "markdown",
   "id": "0f183444",
   "metadata": {
    "papermill": {
     "duration": 0.00723,
     "end_time": "2025-04-23T02:51:18.147862",
     "exception": false,
     "start_time": "2025-04-23T02:51:18.140632",
     "status": "completed"
    },
    "tags": []
   },
   "source": [
    "## Feature Selection"
   ]
  },
  {
   "cell_type": "code",
   "execution_count": 18,
   "id": "5d7e0f0e",
   "metadata": {
    "execution": {
     "iopub.execute_input": "2025-04-23T02:51:18.163481Z",
     "iopub.status.busy": "2025-04-23T02:51:18.163175Z",
     "iopub.status.idle": "2025-04-23T02:51:18.167526Z",
     "shell.execute_reply": "2025-04-23T02:51:18.166937Z"
    },
    "papermill": {
     "duration": 0.013732,
     "end_time": "2025-04-23T02:51:18.168802",
     "exception": false,
     "start_time": "2025-04-23T02:51:18.155070",
     "status": "completed"
    },
    "tags": []
   },
   "outputs": [
    {
     "data": {
      "text/plain": [
       "'\\nmi_scores = mutual_info_regression(x_end, y_listening)\\nmi_scores = pd.Series(mi_scores, name=\"MI Scores\", index=x_end.columns)\\nmi_scores = mi_scores.sort_values(ascending=False)\\nmi_scores\\n'"
      ]
     },
     "execution_count": 18,
     "metadata": {},
     "output_type": "execute_result"
    }
   ],
   "source": [
    "'''\n",
    "mi_scores = mutual_info_regression(x_end, y_listening)\n",
    "mi_scores = pd.Series(mi_scores, name=\"MI Scores\", index=x_end.columns)\n",
    "mi_scores = mi_scores.sort_values(ascending=False)\n",
    "mi_scores\n",
    "'''"
   ]
  },
  {
   "cell_type": "code",
   "execution_count": 19,
   "id": "a158229d",
   "metadata": {
    "execution": {
     "iopub.execute_input": "2025-04-23T02:51:18.185061Z",
     "iopub.status.busy": "2025-04-23T02:51:18.184811Z",
     "iopub.status.idle": "2025-04-23T02:51:18.187948Z",
     "shell.execute_reply": "2025-04-23T02:51:18.187375Z"
    },
    "papermill": {
     "duration": 0.0123,
     "end_time": "2025-04-23T02:51:18.189077",
     "exception": false,
     "start_time": "2025-04-23T02:51:18.176777",
     "status": "completed"
    },
    "tags": []
   },
   "outputs": [],
   "source": [
    "# We make a selection of variables\n",
    "\n",
    "#x_end = x_end.drop(columns=[\"Podcast_Name\", \"Episode_Title\"])"
   ]
  },
  {
   "cell_type": "code",
   "execution_count": 20,
   "id": "51c03e3b",
   "metadata": {
    "execution": {
     "iopub.execute_input": "2025-04-23T02:51:18.205250Z",
     "iopub.status.busy": "2025-04-23T02:51:18.205003Z",
     "iopub.status.idle": "2025-04-23T02:51:18.223226Z",
     "shell.execute_reply": "2025-04-23T02:51:18.222553Z"
    },
    "papermill": {
     "duration": 0.027743,
     "end_time": "2025-04-23T02:51:18.224607",
     "exception": false,
     "start_time": "2025-04-23T02:51:18.196864",
     "status": "completed"
    },
    "tags": []
   },
   "outputs": [
    {
     "name": "stdout",
     "output_type": "stream",
     "text": [
      "<class 'pandas.core.frame.DataFrame'>\n",
      "Index: 750000 entries, 0 to 749999\n",
      "Data columns (total 10 columns):\n",
      " #   Column                       Non-Null Count   Dtype  \n",
      "---  ------                       --------------   -----  \n",
      " 0   Podcast_Name                 750000 non-null  float64\n",
      " 1   Episode_Title                750000 non-null  float64\n",
      " 2   Genre                        750000 non-null  float64\n",
      " 3   Publication_Day              750000 non-null  float64\n",
      " 4   Publication_Time             750000 non-null  float64\n",
      " 5   Number_of_Ads                750000 non-null  float64\n",
      " 6   Episode_Sentiment            750000 non-null  float64\n",
      " 7   Episode_Length_minutes       750000 non-null  float64\n",
      " 8   Host_Popularity_percentage   750000 non-null  float64\n",
      " 9   Guest_Popularity_percentage  750000 non-null  float64\n",
      "dtypes: float64(10)\n",
      "memory usage: 62.9 MB\n"
     ]
    }
   ],
   "source": [
    "x_end.info()"
   ]
  },
  {
   "cell_type": "markdown",
   "id": "75529d4b",
   "metadata": {
    "papermill": {
     "duration": 0.007167,
     "end_time": "2025-04-23T02:51:18.239459",
     "exception": false,
     "start_time": "2025-04-23T02:51:18.232292",
     "status": "completed"
    },
    "tags": []
   },
   "source": [
    "# Model Selection"
   ]
  },
  {
   "cell_type": "code",
   "execution_count": 21,
   "id": "6bcc4930",
   "metadata": {
    "execution": {
     "iopub.execute_input": "2025-04-23T02:51:18.255369Z",
     "iopub.status.busy": "2025-04-23T02:51:18.254649Z",
     "iopub.status.idle": "2025-04-23T02:51:18.350841Z",
     "shell.execute_reply": "2025-04-23T02:51:18.350059Z"
    },
    "papermill": {
     "duration": 0.105533,
     "end_time": "2025-04-23T02:51:18.352223",
     "exception": false,
     "start_time": "2025-04-23T02:51:18.246690",
     "status": "completed"
    },
    "tags": []
   },
   "outputs": [],
   "source": [
    "# We separate the data into training and validation sets\n",
    "\n",
    "x_train, x_val, y_train, y_val = (\n",
    "    train_test_split(\n",
    "        x_end, y_listening, test_size=0.2, random_state=42\n",
    "    )\n",
    ")"
   ]
  },
  {
   "cell_type": "code",
   "execution_count": 22,
   "id": "f989fcbb",
   "metadata": {
    "execution": {
     "iopub.execute_input": "2025-04-23T02:51:18.368599Z",
     "iopub.status.busy": "2025-04-23T02:51:18.368064Z",
     "iopub.status.idle": "2025-04-23T02:51:18.371720Z",
     "shell.execute_reply": "2025-04-23T02:51:18.371005Z"
    },
    "papermill": {
     "duration": 0.01292,
     "end_time": "2025-04-23T02:51:18.372949",
     "exception": false,
     "start_time": "2025-04-23T02:51:18.360029",
     "status": "completed"
    },
    "tags": []
   },
   "outputs": [],
   "source": [
    "# Create the KFold object\n",
    "\n",
    "kfold = KFold(n_splits=10, shuffle=True, random_state=42)"
   ]
  },
  {
   "cell_type": "markdown",
   "id": "3af86bcb",
   "metadata": {
    "papermill": {
     "duration": 0.007322,
     "end_time": "2025-04-23T02:51:18.388362",
     "exception": false,
     "start_time": "2025-04-23T02:51:18.381040",
     "status": "completed"
    },
    "tags": []
   },
   "source": [
    "## XGBRegressor"
   ]
  },
  {
   "cell_type": "code",
   "execution_count": 23,
   "id": "5512ce7a",
   "metadata": {
    "execution": {
     "iopub.execute_input": "2025-04-23T02:51:18.404575Z",
     "iopub.status.busy": "2025-04-23T02:51:18.404274Z",
     "iopub.status.idle": "2025-04-23T02:51:18.407554Z",
     "shell.execute_reply": "2025-04-23T02:51:18.406964Z"
    },
    "papermill": {
     "duration": 0.012489,
     "end_time": "2025-04-23T02:51:18.408583",
     "exception": false,
     "start_time": "2025-04-23T02:51:18.396094",
     "status": "completed"
    },
    "tags": []
   },
   "outputs": [],
   "source": [
    "# We create the model instance\n",
    "\n",
    "xgbr = XGBRegressor()\n",
    "\n",
    "# Train the model with the data\n",
    "\n",
    "#xgbr.fit(x_train, y_train)"
   ]
  },
  {
   "cell_type": "code",
   "execution_count": 24,
   "id": "6eca51df",
   "metadata": {
    "execution": {
     "iopub.execute_input": "2025-04-23T02:51:18.425417Z",
     "iopub.status.busy": "2025-04-23T02:51:18.424873Z",
     "iopub.status.idle": "2025-04-23T02:51:18.430264Z",
     "shell.execute_reply": "2025-04-23T02:51:18.429613Z"
    },
    "papermill": {
     "duration": 0.014598,
     "end_time": "2025-04-23T02:51:18.431295",
     "exception": false,
     "start_time": "2025-04-23T02:51:18.416697",
     "status": "completed"
    },
    "tags": []
   },
   "outputs": [
    {
     "data": {
      "text/plain": [
       "{'objective': 'reg:squarederror',\n",
       " 'base_score': None,\n",
       " 'booster': None,\n",
       " 'callbacks': None,\n",
       " 'colsample_bylevel': None,\n",
       " 'colsample_bynode': None,\n",
       " 'colsample_bytree': None,\n",
       " 'device': None,\n",
       " 'early_stopping_rounds': None,\n",
       " 'enable_categorical': False,\n",
       " 'eval_metric': None,\n",
       " 'feature_types': None,\n",
       " 'gamma': None,\n",
       " 'grow_policy': None,\n",
       " 'importance_type': None,\n",
       " 'interaction_constraints': None,\n",
       " 'learning_rate': None,\n",
       " 'max_bin': None,\n",
       " 'max_cat_threshold': None,\n",
       " 'max_cat_to_onehot': None,\n",
       " 'max_delta_step': None,\n",
       " 'max_depth': None,\n",
       " 'max_leaves': None,\n",
       " 'min_child_weight': None,\n",
       " 'missing': nan,\n",
       " 'monotone_constraints': None,\n",
       " 'multi_strategy': None,\n",
       " 'n_estimators': None,\n",
       " 'n_jobs': None,\n",
       " 'num_parallel_tree': None,\n",
       " 'random_state': None,\n",
       " 'reg_alpha': None,\n",
       " 'reg_lambda': None,\n",
       " 'sampling_method': None,\n",
       " 'scale_pos_weight': None,\n",
       " 'subsample': None,\n",
       " 'tree_method': None,\n",
       " 'validate_parameters': None,\n",
       " 'verbosity': None}"
      ]
     },
     "execution_count": 24,
     "metadata": {},
     "output_type": "execute_result"
    }
   ],
   "source": [
    "xgbr.get_params()"
   ]
  },
  {
   "cell_type": "code",
   "execution_count": 25,
   "id": "2c12aa99",
   "metadata": {
    "execution": {
     "iopub.execute_input": "2025-04-23T02:51:18.448158Z",
     "iopub.status.busy": "2025-04-23T02:51:18.447923Z",
     "iopub.status.idle": "2025-04-23T02:51:18.452639Z",
     "shell.execute_reply": "2025-04-23T02:51:18.451931Z"
    },
    "papermill": {
     "duration": 0.014066,
     "end_time": "2025-04-23T02:51:18.453789",
     "exception": false,
     "start_time": "2025-04-23T02:51:18.439723",
     "status": "completed"
    },
    "tags": []
   },
   "outputs": [
    {
     "data": {
      "text/plain": [
       "'\\n# We establish the parameters to test\\n\\nxgbr_param_grid = {\\n    \"gamma\" : [0.1, 0.5, 0.8, 0, 1],\\n    \"max_depth\" : [3, 4, 5, 6, 7],\\n    \"learning_rate\" : [0.2, 0.1, 0.01, 0.001],\\n    \"subsample\" : [0.5, 0.6, 0.7, 0.8, 0.9, 1],\\n    \"n_estimators\" : [50, 100, 150, 200]\\n}\\n\\nxgbr_grid = RandomizedSearchCV(\\n    xgbr,\\n    xgbr_param_grid,\\n    cv=kfold,\\n    scoring=\"neg_root_mean_squared_error\",\\n    return_train_score=True\\n)\\n\\nxgbr_search = xgbr_grid.fit(x_train, y_train)\\n\\nprint(\\n    f\\'Parameters: {xgbr_search.best_params_}\\nScore: {xgbr_search.best_score_}\\'\\n)\\n'"
      ]
     },
     "execution_count": 25,
     "metadata": {},
     "output_type": "execute_result"
    }
   ],
   "source": [
    "'''\n",
    "# We establish the parameters to test\n",
    "\n",
    "xgbr_param_grid = {\n",
    "    \"gamma\" : [0.1, 0.5, 0.8, 0, 1],\n",
    "    \"max_depth\" : [3, 4, 5, 6, 7],\n",
    "    \"learning_rate\" : [0.2, 0.1, 0.01, 0.001],\n",
    "    \"subsample\" : [0.5, 0.6, 0.7, 0.8, 0.9, 1],\n",
    "    \"n_estimators\" : [50, 100, 150, 200]\n",
    "}\n",
    "\n",
    "xgbr_grid = RandomizedSearchCV(\n",
    "    xgbr,\n",
    "    xgbr_param_grid,\n",
    "    cv=kfold,\n",
    "    scoring=\"neg_root_mean_squared_error\",\n",
    "    return_train_score=True\n",
    ")\n",
    "\n",
    "xgbr_search = xgbr_grid.fit(x_train, y_train)\n",
    "\n",
    "print(\n",
    "    f'Parameters: {xgbr_search.best_params_}\\nScore: {xgbr_search.best_score_}'\n",
    ")\n",
    "'''"
   ]
  },
  {
   "cell_type": "code",
   "execution_count": 26,
   "id": "f0fac228",
   "metadata": {
    "execution": {
     "iopub.execute_input": "2025-04-23T02:51:18.471912Z",
     "iopub.status.busy": "2025-04-23T02:51:18.471619Z",
     "iopub.status.idle": "2025-04-23T02:51:18.475113Z",
     "shell.execute_reply": "2025-04-23T02:51:18.474549Z"
    },
    "papermill": {
     "duration": 0.013224,
     "end_time": "2025-04-23T02:51:18.476355",
     "exception": false,
     "start_time": "2025-04-23T02:51:18.463131",
     "status": "completed"
    },
    "tags": []
   },
   "outputs": [],
   "source": [
    "# We evaluate the performance after an initial optimization\n",
    "\n",
    "#y_pred_xgbr = xgbr_search.best_estimator_.predict(x_val)\n",
    "\n",
    "#r2_xgbr = r2_score(y_val, y_pred_xgbr)\n",
    "\n",
    "#rmse_xgbr = np.sqrt(mean_squared_error(y_val, y_pred_xgbr))\n",
    "\n",
    "#print(f\"XGBRegressor optimization\\n\\nR-squared score: {r2_xgbr}\\nRMSE: {rmse_xgbr}\")"
   ]
  },
  {
   "cell_type": "markdown",
   "id": "615a2c7c",
   "metadata": {
    "papermill": {
     "duration": 0.007329,
     "end_time": "2025-04-23T02:51:18.491829",
     "exception": false,
     "start_time": "2025-04-23T02:51:18.484500",
     "status": "completed"
    },
    "tags": []
   },
   "source": [
    "- With data dropped in variable management\n",
    "\n",
    "      RandomizedSearchCV:\n",
    "\n",
    "      Parameters: {'subsample':0.9, 'n_estimators':150, 'max_depth':6, 'learning_rate':0.2, 'gamma':0.1}\n",
    "\n",
    "      Score: -10.385593205700733\n",
    "\n",
    "      R-squared score: 0.8548779072393202\n",
    "\n",
    "      RMSE: 10.359859724404574"
   ]
  },
  {
   "cell_type": "code",
   "execution_count": 27,
   "id": "3158de76",
   "metadata": {
    "execution": {
     "iopub.execute_input": "2025-04-23T02:51:18.508355Z",
     "iopub.status.busy": "2025-04-23T02:51:18.508108Z",
     "iopub.status.idle": "2025-04-23T02:51:21.373050Z",
     "shell.execute_reply": "2025-04-23T02:51:21.372482Z"
    },
    "papermill": {
     "duration": 2.874497,
     "end_time": "2025-04-23T02:51:21.373951",
     "exception": false,
     "start_time": "2025-04-23T02:51:18.499454",
     "status": "completed"
    },
    "tags": []
   },
   "outputs": [
    {
     "data": {
      "text/html": [
       "<style>#sk-container-id-1 {color: black;background-color: white;}#sk-container-id-1 pre{padding: 0;}#sk-container-id-1 div.sk-toggleable {background-color: white;}#sk-container-id-1 label.sk-toggleable__label {cursor: pointer;display: block;width: 100%;margin-bottom: 0;padding: 0.3em;box-sizing: border-box;text-align: center;}#sk-container-id-1 label.sk-toggleable__label-arrow:before {content: \"▸\";float: left;margin-right: 0.25em;color: #696969;}#sk-container-id-1 label.sk-toggleable__label-arrow:hover:before {color: black;}#sk-container-id-1 div.sk-estimator:hover label.sk-toggleable__label-arrow:before {color: black;}#sk-container-id-1 div.sk-toggleable__content {max-height: 0;max-width: 0;overflow: hidden;text-align: left;background-color: #f0f8ff;}#sk-container-id-1 div.sk-toggleable__content pre {margin: 0.2em;color: black;border-radius: 0.25em;background-color: #f0f8ff;}#sk-container-id-1 input.sk-toggleable__control:checked~div.sk-toggleable__content {max-height: 200px;max-width: 100%;overflow: auto;}#sk-container-id-1 input.sk-toggleable__control:checked~label.sk-toggleable__label-arrow:before {content: \"▾\";}#sk-container-id-1 div.sk-estimator input.sk-toggleable__control:checked~label.sk-toggleable__label {background-color: #d4ebff;}#sk-container-id-1 div.sk-label input.sk-toggleable__control:checked~label.sk-toggleable__label {background-color: #d4ebff;}#sk-container-id-1 input.sk-hidden--visually {border: 0;clip: rect(1px 1px 1px 1px);clip: rect(1px, 1px, 1px, 1px);height: 1px;margin: -1px;overflow: hidden;padding: 0;position: absolute;width: 1px;}#sk-container-id-1 div.sk-estimator {font-family: monospace;background-color: #f0f8ff;border: 1px dotted black;border-radius: 0.25em;box-sizing: border-box;margin-bottom: 0.5em;}#sk-container-id-1 div.sk-estimator:hover {background-color: #d4ebff;}#sk-container-id-1 div.sk-parallel-item::after {content: \"\";width: 100%;border-bottom: 1px solid gray;flex-grow: 1;}#sk-container-id-1 div.sk-label:hover label.sk-toggleable__label {background-color: #d4ebff;}#sk-container-id-1 div.sk-serial::before {content: \"\";position: absolute;border-left: 1px solid gray;box-sizing: border-box;top: 0;bottom: 0;left: 50%;z-index: 0;}#sk-container-id-1 div.sk-serial {display: flex;flex-direction: column;align-items: center;background-color: white;padding-right: 0.2em;padding-left: 0.2em;position: relative;}#sk-container-id-1 div.sk-item {position: relative;z-index: 1;}#sk-container-id-1 div.sk-parallel {display: flex;align-items: stretch;justify-content: center;background-color: white;position: relative;}#sk-container-id-1 div.sk-item::before, #sk-container-id-1 div.sk-parallel-item::before {content: \"\";position: absolute;border-left: 1px solid gray;box-sizing: border-box;top: 0;bottom: 0;left: 50%;z-index: -1;}#sk-container-id-1 div.sk-parallel-item {display: flex;flex-direction: column;z-index: 1;position: relative;background-color: white;}#sk-container-id-1 div.sk-parallel-item:first-child::after {align-self: flex-end;width: 50%;}#sk-container-id-1 div.sk-parallel-item:last-child::after {align-self: flex-start;width: 50%;}#sk-container-id-1 div.sk-parallel-item:only-child::after {width: 0;}#sk-container-id-1 div.sk-dashed-wrapped {border: 1px dashed gray;margin: 0 0.4em 0.5em 0.4em;box-sizing: border-box;padding-bottom: 0.4em;background-color: white;}#sk-container-id-1 div.sk-label label {font-family: monospace;font-weight: bold;display: inline-block;line-height: 1.2em;}#sk-container-id-1 div.sk-label-container {text-align: center;}#sk-container-id-1 div.sk-container {/* jupyter's `normalize.less` sets `[hidden] { display: none; }` but bootstrap.min.css set `[hidden] { display: none !important; }` so we also need the `!important` here to be able to override the default hidden behavior on the sphinx rendered scikit-learn.org. See: https://github.com/scikit-learn/scikit-learn/issues/21755 */display: inline-block !important;position: relative;}#sk-container-id-1 div.sk-text-repr-fallback {display: none;}</style><div id=\"sk-container-id-1\" class=\"sk-top-container\"><div class=\"sk-text-repr-fallback\"><pre>XGBRegressor(base_score=None, booster=None, callbacks=None,\n",
       "             colsample_bylevel=None, colsample_bynode=None,\n",
       "             colsample_bytree=None, device=None, early_stopping_rounds=None,\n",
       "             enable_categorical=False, eval_metric=None, feature_types=None,\n",
       "             gamma=0.1, grow_policy=None, importance_type=None,\n",
       "             interaction_constraints=None, learning_rate=0.2, max_bin=None,\n",
       "             max_cat_threshold=None, max_cat_to_onehot=None,\n",
       "             max_delta_step=None, max_depth=6, max_leaves=None,\n",
       "             min_child_weight=None, missing=nan, monotone_constraints=None,\n",
       "             multi_strategy=None, n_estimators=150, n_jobs=None,\n",
       "             num_parallel_tree=None, random_state=None, ...)</pre><b>In a Jupyter environment, please rerun this cell to show the HTML representation or trust the notebook. <br />On GitHub, the HTML representation is unable to render, please try loading this page with nbviewer.org.</b></div><div class=\"sk-container\" hidden><div class=\"sk-item\"><div class=\"sk-estimator sk-toggleable\"><input class=\"sk-toggleable__control sk-hidden--visually\" id=\"sk-estimator-id-1\" type=\"checkbox\" checked><label for=\"sk-estimator-id-1\" class=\"sk-toggleable__label sk-toggleable__label-arrow\">XGBRegressor</label><div class=\"sk-toggleable__content\"><pre>XGBRegressor(base_score=None, booster=None, callbacks=None,\n",
       "             colsample_bylevel=None, colsample_bynode=None,\n",
       "             colsample_bytree=None, device=None, early_stopping_rounds=None,\n",
       "             enable_categorical=False, eval_metric=None, feature_types=None,\n",
       "             gamma=0.1, grow_policy=None, importance_type=None,\n",
       "             interaction_constraints=None, learning_rate=0.2, max_bin=None,\n",
       "             max_cat_threshold=None, max_cat_to_onehot=None,\n",
       "             max_delta_step=None, max_depth=6, max_leaves=None,\n",
       "             min_child_weight=None, missing=nan, monotone_constraints=None,\n",
       "             multi_strategy=None, n_estimators=150, n_jobs=None,\n",
       "             num_parallel_tree=None, random_state=None, ...)</pre></div></div></div></div></div>"
      ],
      "text/plain": [
       "XGBRegressor(base_score=None, booster=None, callbacks=None,\n",
       "             colsample_bylevel=None, colsample_bynode=None,\n",
       "             colsample_bytree=None, device=None, early_stopping_rounds=None,\n",
       "             enable_categorical=False, eval_metric=None, feature_types=None,\n",
       "             gamma=0.1, grow_policy=None, importance_type=None,\n",
       "             interaction_constraints=None, learning_rate=0.2, max_bin=None,\n",
       "             max_cat_threshold=None, max_cat_to_onehot=None,\n",
       "             max_delta_step=None, max_depth=6, max_leaves=None,\n",
       "             min_child_weight=None, missing=nan, monotone_constraints=None,\n",
       "             multi_strategy=None, n_estimators=150, n_jobs=None,\n",
       "             num_parallel_tree=None, random_state=None, ...)"
      ]
     },
     "execution_count": 27,
     "metadata": {},
     "output_type": "execute_result"
    }
   ],
   "source": [
    "# XGBR different approaches\n",
    "\n",
    "#xgbr_final = xgbr_search.best_estimator_\n",
    "xgbr_final = XGBRegressor(\n",
    "    subsample = 0.9, n_estimators = 150, max_depth = 6, learning_rate = 0.2, gamma = 0.1\n",
    ")\n",
    "xgbr_final.fit(x_train, y_train)"
   ]
  },
  {
   "cell_type": "markdown",
   "id": "30874909",
   "metadata": {
    "papermill": {
     "duration": 0.007401,
     "end_time": "2025-04-23T02:51:21.389471",
     "exception": false,
     "start_time": "2025-04-23T02:51:21.382070",
     "status": "completed"
    },
    "tags": []
   },
   "source": [
    "## BaggingRegressor"
   ]
  },
  {
   "cell_type": "code",
   "execution_count": 28,
   "id": "b6c00a62",
   "metadata": {
    "execution": {
     "iopub.execute_input": "2025-04-23T02:51:21.405891Z",
     "iopub.status.busy": "2025-04-23T02:51:21.405663Z",
     "iopub.status.idle": "2025-04-23T02:51:21.408849Z",
     "shell.execute_reply": "2025-04-23T02:51:21.408321Z"
    },
    "papermill": {
     "duration": 0.01258,
     "end_time": "2025-04-23T02:51:21.409859",
     "exception": false,
     "start_time": "2025-04-23T02:51:21.397279",
     "status": "completed"
    },
    "tags": []
   },
   "outputs": [],
   "source": [
    "# We create the model instance\n",
    "\n",
    "bagr = BaggingRegressor()\n",
    "\n",
    "# Train the model with the data\n",
    "\n",
    "#bagr.fit(x_train, y_train)"
   ]
  },
  {
   "cell_type": "code",
   "execution_count": 29,
   "id": "590ece82",
   "metadata": {
    "execution": {
     "iopub.execute_input": "2025-04-23T02:51:21.427158Z",
     "iopub.status.busy": "2025-04-23T02:51:21.426901Z",
     "iopub.status.idle": "2025-04-23T02:51:21.431071Z",
     "shell.execute_reply": "2025-04-23T02:51:21.430485Z"
    },
    "papermill": {
     "duration": 0.01389,
     "end_time": "2025-04-23T02:51:21.432007",
     "exception": false,
     "start_time": "2025-04-23T02:51:21.418117",
     "status": "completed"
    },
    "tags": []
   },
   "outputs": [
    {
     "data": {
      "text/plain": [
       "'\\ny_pred_bagr = bagr.predict(x_val)\\n\\nr2_bagr = r2_score(y_val, y_pred_bagr)\\n\\nrmse_bagr = np.sqrt(mean_squared_error(y_val, y_pred_bagr))\\n\\nprint(f\"BaggingRegressor\\n\\nR-squared score: {r2_bagr}\\nRMSE: {rmse_bagr}\")\\n'"
      ]
     },
     "execution_count": 29,
     "metadata": {},
     "output_type": "execute_result"
    }
   ],
   "source": [
    "'''\n",
    "y_pred_bagr = bagr.predict(x_val)\n",
    "\n",
    "r2_bagr = r2_score(y_val, y_pred_bagr)\n",
    "\n",
    "rmse_bagr = np.sqrt(mean_squared_error(y_val, y_pred_bagr))\n",
    "\n",
    "print(f\"BaggingRegressor\\n\\nR-squared score: {r2_bagr}\\nRMSE: {rmse_bagr}\")\n",
    "'''"
   ]
  },
  {
   "cell_type": "markdown",
   "id": "263421ea",
   "metadata": {
    "papermill": {
     "duration": 0.00768,
     "end_time": "2025-04-23T02:51:21.447881",
     "exception": false,
     "start_time": "2025-04-23T02:51:21.440201",
     "status": "completed"
    },
    "tags": []
   },
   "source": [
    "BaggingRegressor (Default)\n",
    "\n",
    "R-squared score: 0.7586370826352582\n",
    "\n",
    "RMSE: 13.326718743148652"
   ]
  },
  {
   "cell_type": "code",
   "execution_count": 30,
   "id": "a85c3440",
   "metadata": {
    "execution": {
     "iopub.execute_input": "2025-04-23T02:51:21.465345Z",
     "iopub.status.busy": "2025-04-23T02:51:21.464661Z",
     "iopub.status.idle": "2025-04-23T02:51:21.469268Z",
     "shell.execute_reply": "2025-04-23T02:51:21.468672Z"
    },
    "papermill": {
     "duration": 0.014375,
     "end_time": "2025-04-23T02:51:21.470172",
     "exception": false,
     "start_time": "2025-04-23T02:51:21.455797",
     "status": "completed"
    },
    "tags": []
   },
   "outputs": [
    {
     "data": {
      "text/plain": [
       "{'base_estimator': 'deprecated',\n",
       " 'bootstrap': True,\n",
       " 'bootstrap_features': False,\n",
       " 'estimator': None,\n",
       " 'max_features': 1.0,\n",
       " 'max_samples': 1.0,\n",
       " 'n_estimators': 10,\n",
       " 'n_jobs': None,\n",
       " 'oob_score': False,\n",
       " 'random_state': None,\n",
       " 'verbose': 0,\n",
       " 'warm_start': False}"
      ]
     },
     "execution_count": 30,
     "metadata": {},
     "output_type": "execute_result"
    }
   ],
   "source": [
    "bagr.get_params()"
   ]
  },
  {
   "cell_type": "code",
   "execution_count": 31,
   "id": "c886130b",
   "metadata": {
    "execution": {
     "iopub.execute_input": "2025-04-23T02:51:21.487794Z",
     "iopub.status.busy": "2025-04-23T02:51:21.487512Z",
     "iopub.status.idle": "2025-04-23T02:51:21.492017Z",
     "shell.execute_reply": "2025-04-23T02:51:21.491178Z"
    },
    "papermill": {
     "duration": 0.014575,
     "end_time": "2025-04-23T02:51:21.493217",
     "exception": false,
     "start_time": "2025-04-23T02:51:21.478642",
     "status": "completed"
    },
    "tags": []
   },
   "outputs": [
    {
     "data": {
      "text/plain": [
       "'\\n# We establish the parameters to test\\n\\nbagr_param_grid = {\\n    \"estimator\" : [None, xgbr, xgbr_final],\\n    \"max_features\" : [0.2, 0.5, 1.0],\\n    \"max_samples\" : [0.2, 0.5, 1.0],\\n    \"n_estimators\" : [10, 20, 30]\\n}\\n\\nbagr_grid = RandomizedSearchCV(\\n    bagr,\\n    bagr_param_grid,\\n    cv=kfold,\\n    scoring=\"neg_root_mean_squared_error\",\\n    return_train_score=True\\n)\\n\\nbagr_search = bagr_grid.fit(x_train, y_train)\\n\\nprint(\\n    f\\'Parameters: {bagr_search.best_params_}\\nScore: {bagr_search.best_score_}\\'\\n)\\n'"
      ]
     },
     "execution_count": 31,
     "metadata": {},
     "output_type": "execute_result"
    }
   ],
   "source": [
    "'''\n",
    "# We establish the parameters to test\n",
    "\n",
    "bagr_param_grid = {\n",
    "    \"estimator\" : [None, xgbr, xgbr_final],\n",
    "    \"max_features\" : [0.2, 0.5, 1.0],\n",
    "    \"max_samples\" : [0.2, 0.5, 1.0],\n",
    "    \"n_estimators\" : [10, 20, 30]\n",
    "}\n",
    "\n",
    "bagr_grid = RandomizedSearchCV(\n",
    "    bagr,\n",
    "    bagr_param_grid,\n",
    "    cv=kfold,\n",
    "    scoring=\"neg_root_mean_squared_error\",\n",
    "    return_train_score=True\n",
    ")\n",
    "\n",
    "bagr_search = bagr_grid.fit(x_train, y_train)\n",
    "\n",
    "print(\n",
    "    f'Parameters: {bagr_search.best_params_}\\nScore: {bagr_search.best_score_}'\n",
    ")\n",
    "'''"
   ]
  },
  {
   "cell_type": "markdown",
   "id": "f98b696a",
   "metadata": {
    "papermill": {
     "duration": 0.007787,
     "end_time": "2025-04-23T02:51:21.509669",
     "exception": false,
     "start_time": "2025-04-23T02:51:21.501882",
     "status": "completed"
    },
    "tags": []
   },
   "source": [
    "Parameters: {'n_estimators': 20, 'max_samples': 1.0, 'max_features': 1.0, 'estimator': XGBRegressor(base_score=None, booster=None, callbacks=None,\n",
    "             colsample_bylevel=None, colsample_bynode=None,\n",
    "             colsample_bytree=None, device=None, early_stopping_rounds=None,\n",
    "             enable_categorical=False, eval_metric=None, feature_types=None,\n",
    "             gamma=0.1, grow_policy=None, importance_type=None,\n",
    "             interaction_constraints=None, learning_rate=0.2, max_bin=None,\n",
    "             max_cat_threshold=None, max_cat_to_onehot=None,\n",
    "             max_delta_step=None, max_depth=6, max_leaves=None,\n",
    "             min_child_weight=None, missing=nan, monotone_constraints=None,\n",
    "             multi_strategy=None, n_estimators=150, n_jobs=None,\n",
    "             num_parallel_tree=None, random_state=None, ...)}\n",
    "             \n",
    "Score: -13.031101049045333"
   ]
  },
  {
   "cell_type": "code",
   "execution_count": 32,
   "id": "8c56cab8",
   "metadata": {
    "execution": {
     "iopub.execute_input": "2025-04-23T02:51:21.526725Z",
     "iopub.status.busy": "2025-04-23T02:51:21.526434Z",
     "iopub.status.idle": "2025-04-23T02:51:21.530887Z",
     "shell.execute_reply": "2025-04-23T02:51:21.530270Z"
    },
    "papermill": {
     "duration": 0.014279,
     "end_time": "2025-04-23T02:51:21.531971",
     "exception": false,
     "start_time": "2025-04-23T02:51:21.517692",
     "status": "completed"
    },
    "tags": []
   },
   "outputs": [
    {
     "data": {
      "text/plain": [
       "'\\n# We evaluate the performance after an initial optimization\\n\\ny_pred_bagr = bagr_search.best_estimator_.predict(x_val)\\n\\nr2_bagr = r2_score(y_val, y_pred_bagr)\\n\\nrmse_bagr = np.sqrt(mean_squared_error(y_val, y_pred_bagr))\\n\\nprint(f\"BaggingRegressor optimization\\n\\nR-squared score: {r2_bagr}\\nRMSE: {rmse_bagr}\")\\n'"
      ]
     },
     "execution_count": 32,
     "metadata": {},
     "output_type": "execute_result"
    }
   ],
   "source": [
    "'''\n",
    "# We evaluate the performance after an initial optimization\n",
    "\n",
    "y_pred_bagr = bagr_search.best_estimator_.predict(x_val)\n",
    "\n",
    "r2_bagr = r2_score(y_val, y_pred_bagr)\n",
    "\n",
    "rmse_bagr = np.sqrt(mean_squared_error(y_val, y_pred_bagr))\n",
    "\n",
    "print(f\"BaggingRegressor optimization\\n\\nR-squared score: {r2_bagr}\\nRMSE: {rmse_bagr}\")\n",
    "'''"
   ]
  },
  {
   "cell_type": "markdown",
   "id": "d8ebbf0c",
   "metadata": {
    "papermill": {
     "duration": 0.007671,
     "end_time": "2025-04-23T02:51:21.548220",
     "exception": false,
     "start_time": "2025-04-23T02:51:21.540549",
     "status": "completed"
    },
    "tags": []
   },
   "source": [
    "BaggingRegressor optimization\n",
    "\n",
    "R-squared score: 0.7705749925584561\n",
    "\n",
    "RMSE: 12.992967020835195"
   ]
  },
  {
   "cell_type": "code",
   "execution_count": 33,
   "id": "7f4ad027",
   "metadata": {
    "execution": {
     "iopub.execute_input": "2025-04-23T02:51:21.565478Z",
     "iopub.status.busy": "2025-04-23T02:51:21.565198Z",
     "iopub.status.idle": "2025-04-23T02:51:21.568575Z",
     "shell.execute_reply": "2025-04-23T02:51:21.567962Z"
    },
    "papermill": {
     "duration": 0.013407,
     "end_time": "2025-04-23T02:51:21.569641",
     "exception": false,
     "start_time": "2025-04-23T02:51:21.556234",
     "status": "completed"
    },
    "tags": []
   },
   "outputs": [],
   "source": [
    "# BAGR different approaches\n",
    "\n",
    "#bagr_final = bagr_search.best_estimator_\n",
    "\n",
    "#bagr_final = BaggingRegressor(n_estimators=20, max_samples=1.0, max_features=1.0, estimator=xgbr_final)\n",
    "\n",
    "#bagr_final.fit(x_train, y_train)"
   ]
  },
  {
   "cell_type": "markdown",
   "id": "e8d18971",
   "metadata": {
    "papermill": {
     "duration": 0.007809,
     "end_time": "2025-04-23T02:51:21.585843",
     "exception": false,
     "start_time": "2025-04-23T02:51:21.578034",
     "status": "completed"
    },
    "tags": []
   },
   "source": [
    "# Final Model"
   ]
  },
  {
   "cell_type": "code",
   "execution_count": 34,
   "id": "7e3d3635",
   "metadata": {
    "execution": {
     "iopub.execute_input": "2025-04-23T02:51:21.603229Z",
     "iopub.status.busy": "2025-04-23T02:51:21.602954Z",
     "iopub.status.idle": "2025-04-23T02:52:19.041294Z",
     "shell.execute_reply": "2025-04-23T02:52:19.040662Z"
    },
    "papermill": {
     "duration": 57.456341,
     "end_time": "2025-04-23T02:52:19.050394",
     "exception": false,
     "start_time": "2025-04-23T02:51:21.594053",
     "status": "completed"
    },
    "tags": []
   },
   "outputs": [
    {
     "data": {
      "text/html": [
       "<style>#sk-container-id-2 {color: black;background-color: white;}#sk-container-id-2 pre{padding: 0;}#sk-container-id-2 div.sk-toggleable {background-color: white;}#sk-container-id-2 label.sk-toggleable__label {cursor: pointer;display: block;width: 100%;margin-bottom: 0;padding: 0.3em;box-sizing: border-box;text-align: center;}#sk-container-id-2 label.sk-toggleable__label-arrow:before {content: \"▸\";float: left;margin-right: 0.25em;color: #696969;}#sk-container-id-2 label.sk-toggleable__label-arrow:hover:before {color: black;}#sk-container-id-2 div.sk-estimator:hover label.sk-toggleable__label-arrow:before {color: black;}#sk-container-id-2 div.sk-toggleable__content {max-height: 0;max-width: 0;overflow: hidden;text-align: left;background-color: #f0f8ff;}#sk-container-id-2 div.sk-toggleable__content pre {margin: 0.2em;color: black;border-radius: 0.25em;background-color: #f0f8ff;}#sk-container-id-2 input.sk-toggleable__control:checked~div.sk-toggleable__content {max-height: 200px;max-width: 100%;overflow: auto;}#sk-container-id-2 input.sk-toggleable__control:checked~label.sk-toggleable__label-arrow:before {content: \"▾\";}#sk-container-id-2 div.sk-estimator input.sk-toggleable__control:checked~label.sk-toggleable__label {background-color: #d4ebff;}#sk-container-id-2 div.sk-label input.sk-toggleable__control:checked~label.sk-toggleable__label {background-color: #d4ebff;}#sk-container-id-2 input.sk-hidden--visually {border: 0;clip: rect(1px 1px 1px 1px);clip: rect(1px, 1px, 1px, 1px);height: 1px;margin: -1px;overflow: hidden;padding: 0;position: absolute;width: 1px;}#sk-container-id-2 div.sk-estimator {font-family: monospace;background-color: #f0f8ff;border: 1px dotted black;border-radius: 0.25em;box-sizing: border-box;margin-bottom: 0.5em;}#sk-container-id-2 div.sk-estimator:hover {background-color: #d4ebff;}#sk-container-id-2 div.sk-parallel-item::after {content: \"\";width: 100%;border-bottom: 1px solid gray;flex-grow: 1;}#sk-container-id-2 div.sk-label:hover label.sk-toggleable__label {background-color: #d4ebff;}#sk-container-id-2 div.sk-serial::before {content: \"\";position: absolute;border-left: 1px solid gray;box-sizing: border-box;top: 0;bottom: 0;left: 50%;z-index: 0;}#sk-container-id-2 div.sk-serial {display: flex;flex-direction: column;align-items: center;background-color: white;padding-right: 0.2em;padding-left: 0.2em;position: relative;}#sk-container-id-2 div.sk-item {position: relative;z-index: 1;}#sk-container-id-2 div.sk-parallel {display: flex;align-items: stretch;justify-content: center;background-color: white;position: relative;}#sk-container-id-2 div.sk-item::before, #sk-container-id-2 div.sk-parallel-item::before {content: \"\";position: absolute;border-left: 1px solid gray;box-sizing: border-box;top: 0;bottom: 0;left: 50%;z-index: -1;}#sk-container-id-2 div.sk-parallel-item {display: flex;flex-direction: column;z-index: 1;position: relative;background-color: white;}#sk-container-id-2 div.sk-parallel-item:first-child::after {align-self: flex-end;width: 50%;}#sk-container-id-2 div.sk-parallel-item:last-child::after {align-self: flex-start;width: 50%;}#sk-container-id-2 div.sk-parallel-item:only-child::after {width: 0;}#sk-container-id-2 div.sk-dashed-wrapped {border: 1px dashed gray;margin: 0 0.4em 0.5em 0.4em;box-sizing: border-box;padding-bottom: 0.4em;background-color: white;}#sk-container-id-2 div.sk-label label {font-family: monospace;font-weight: bold;display: inline-block;line-height: 1.2em;}#sk-container-id-2 div.sk-label-container {text-align: center;}#sk-container-id-2 div.sk-container {/* jupyter's `normalize.less` sets `[hidden] { display: none; }` but bootstrap.min.css set `[hidden] { display: none !important; }` so we also need the `!important` here to be able to override the default hidden behavior on the sphinx rendered scikit-learn.org. See: https://github.com/scikit-learn/scikit-learn/issues/21755 */display: inline-block !important;position: relative;}#sk-container-id-2 div.sk-text-repr-fallback {display: none;}</style><div id=\"sk-container-id-2\" class=\"sk-top-container\"><div class=\"sk-text-repr-fallback\"><pre>BaggingRegressor(estimator=XGBRegressor(base_score=None, booster=None,\n",
       "                                        callbacks=None, colsample_bylevel=None,\n",
       "                                        colsample_bynode=None,\n",
       "                                        colsample_bytree=None, device=None,\n",
       "                                        early_stopping_rounds=None,\n",
       "                                        enable_categorical=False,\n",
       "                                        eval_metric=None, feature_types=None,\n",
       "                                        gamma=0.1, grow_policy=None,\n",
       "                                        importance_type=None,\n",
       "                                        interaction_constraints=None,\n",
       "                                        learning_rate=0.2, max_bin=None,\n",
       "                                        max_cat_threshold=None,\n",
       "                                        max_cat_to_onehot=None,\n",
       "                                        max_delta_step=None, max_depth=6,\n",
       "                                        max_leaves=None, min_child_weight=None,\n",
       "                                        missing=nan, monotone_constraints=None,\n",
       "                                        multi_strategy=None, n_estimators=150,\n",
       "                                        n_jobs=None, num_parallel_tree=None,\n",
       "                                        random_state=None, ...),\n",
       "                 n_estimators=20)</pre><b>In a Jupyter environment, please rerun this cell to show the HTML representation or trust the notebook. <br />On GitHub, the HTML representation is unable to render, please try loading this page with nbviewer.org.</b></div><div class=\"sk-container\" hidden><div class=\"sk-item sk-dashed-wrapped\"><div class=\"sk-label-container\"><div class=\"sk-label sk-toggleable\"><input class=\"sk-toggleable__control sk-hidden--visually\" id=\"sk-estimator-id-2\" type=\"checkbox\" ><label for=\"sk-estimator-id-2\" class=\"sk-toggleable__label sk-toggleable__label-arrow\">BaggingRegressor</label><div class=\"sk-toggleable__content\"><pre>BaggingRegressor(estimator=XGBRegressor(base_score=None, booster=None,\n",
       "                                        callbacks=None, colsample_bylevel=None,\n",
       "                                        colsample_bynode=None,\n",
       "                                        colsample_bytree=None, device=None,\n",
       "                                        early_stopping_rounds=None,\n",
       "                                        enable_categorical=False,\n",
       "                                        eval_metric=None, feature_types=None,\n",
       "                                        gamma=0.1, grow_policy=None,\n",
       "                                        importance_type=None,\n",
       "                                        interaction_constraints=None,\n",
       "                                        learning_rate=0.2, max_bin=None,\n",
       "                                        max_cat_threshold=None,\n",
       "                                        max_cat_to_onehot=None,\n",
       "                                        max_delta_step=None, max_depth=6,\n",
       "                                        max_leaves=None, min_child_weight=None,\n",
       "                                        missing=nan, monotone_constraints=None,\n",
       "                                        multi_strategy=None, n_estimators=150,\n",
       "                                        n_jobs=None, num_parallel_tree=None,\n",
       "                                        random_state=None, ...),\n",
       "                 n_estimators=20)</pre></div></div></div><div class=\"sk-parallel\"><div class=\"sk-parallel-item\"><div class=\"sk-item\"><div class=\"sk-label-container\"><div class=\"sk-label sk-toggleable\"><input class=\"sk-toggleable__control sk-hidden--visually\" id=\"sk-estimator-id-3\" type=\"checkbox\" ><label for=\"sk-estimator-id-3\" class=\"sk-toggleable__label sk-toggleable__label-arrow\">estimator: XGBRegressor</label><div class=\"sk-toggleable__content\"><pre>XGBRegressor(base_score=None, booster=None, callbacks=None,\n",
       "             colsample_bylevel=None, colsample_bynode=None,\n",
       "             colsample_bytree=None, device=None, early_stopping_rounds=None,\n",
       "             enable_categorical=False, eval_metric=None, feature_types=None,\n",
       "             gamma=0.1, grow_policy=None, importance_type=None,\n",
       "             interaction_constraints=None, learning_rate=0.2, max_bin=None,\n",
       "             max_cat_threshold=None, max_cat_to_onehot=None,\n",
       "             max_delta_step=None, max_depth=6, max_leaves=None,\n",
       "             min_child_weight=None, missing=nan, monotone_constraints=None,\n",
       "             multi_strategy=None, n_estimators=150, n_jobs=None,\n",
       "             num_parallel_tree=None, random_state=None, ...)</pre></div></div></div><div class=\"sk-serial\"><div class=\"sk-item\"><div class=\"sk-estimator sk-toggleable\"><input class=\"sk-toggleable__control sk-hidden--visually\" id=\"sk-estimator-id-4\" type=\"checkbox\" ><label for=\"sk-estimator-id-4\" class=\"sk-toggleable__label sk-toggleable__label-arrow\">XGBRegressor</label><div class=\"sk-toggleable__content\"><pre>XGBRegressor(base_score=None, booster=None, callbacks=None,\n",
       "             colsample_bylevel=None, colsample_bynode=None,\n",
       "             colsample_bytree=None, device=None, early_stopping_rounds=None,\n",
       "             enable_categorical=False, eval_metric=None, feature_types=None,\n",
       "             gamma=0.1, grow_policy=None, importance_type=None,\n",
       "             interaction_constraints=None, learning_rate=0.2, max_bin=None,\n",
       "             max_cat_threshold=None, max_cat_to_onehot=None,\n",
       "             max_delta_step=None, max_depth=6, max_leaves=None,\n",
       "             min_child_weight=None, missing=nan, monotone_constraints=None,\n",
       "             multi_strategy=None, n_estimators=150, n_jobs=None,\n",
       "             num_parallel_tree=None, random_state=None, ...)</pre></div></div></div></div></div></div></div></div></div></div>"
      ],
      "text/plain": [
       "BaggingRegressor(estimator=XGBRegressor(base_score=None, booster=None,\n",
       "                                        callbacks=None, colsample_bylevel=None,\n",
       "                                        colsample_bynode=None,\n",
       "                                        colsample_bytree=None, device=None,\n",
       "                                        early_stopping_rounds=None,\n",
       "                                        enable_categorical=False,\n",
       "                                        eval_metric=None, feature_types=None,\n",
       "                                        gamma=0.1, grow_policy=None,\n",
       "                                        importance_type=None,\n",
       "                                        interaction_constraints=None,\n",
       "                                        learning_rate=0.2, max_bin=None,\n",
       "                                        max_cat_threshold=None,\n",
       "                                        max_cat_to_onehot=None,\n",
       "                                        max_delta_step=None, max_depth=6,\n",
       "                                        max_leaves=None, min_child_weight=None,\n",
       "                                        missing=nan, monotone_constraints=None,\n",
       "                                        multi_strategy=None, n_estimators=150,\n",
       "                                        n_jobs=None, num_parallel_tree=None,\n",
       "                                        random_state=None, ...),\n",
       "                 n_estimators=20)"
      ]
     },
     "execution_count": 34,
     "metadata": {},
     "output_type": "execute_result"
    }
   ],
   "source": [
    "# We define the final model\n",
    "\n",
    "final_model = BaggingRegressor(n_estimators=20, max_samples=1.0, max_features=1.0, estimator=xgbr_final)\n",
    "\n",
    "# We fit the best model\n",
    "\n",
    "final_model.fit(x_train, y_train)"
   ]
  },
  {
   "cell_type": "code",
   "execution_count": 35,
   "id": "8e7c927e",
   "metadata": {
    "execution": {
     "iopub.execute_input": "2025-04-23T02:52:19.068021Z",
     "iopub.status.busy": "2025-04-23T02:52:19.067768Z",
     "iopub.status.idle": "2025-04-23T02:52:23.064481Z",
     "shell.execute_reply": "2025-04-23T02:52:23.063856Z"
    },
    "papermill": {
     "duration": 4.006967,
     "end_time": "2025-04-23T02:52:23.065672",
     "exception": false,
     "start_time": "2025-04-23T02:52:19.058705",
     "status": "completed"
    },
    "tags": []
   },
   "outputs": [
    {
     "name": "stdout",
     "output_type": "stream",
     "text": [
      "Final Model RMSE Score: 12.992\n"
     ]
    }
   ],
   "source": [
    "# We evaluate the performance of the final model\n",
    "\n",
    "final_model_ypred = final_model.predict(x_val)\n",
    "\n",
    "final_model_rmse = np.sqrt(mean_squared_error(y_val, final_model_ypred))\n",
    "\n",
    "print(\"Final Model RMSE Score: %.3f\" % final_model_rmse)"
   ]
  },
  {
   "cell_type": "markdown",
   "id": "ab8af05c",
   "metadata": {
    "papermill": {
     "duration": 0.007821,
     "end_time": "2025-04-23T02:52:23.082506",
     "exception": false,
     "start_time": "2025-04-23T02:52:23.074685",
     "status": "completed"
    },
    "tags": []
   },
   "source": [
    "bagr Model RMSE Score: 13.337\n",
    "\n",
    "bagr, estimator=xgbr_final Model RMSE Score: 12.992"
   ]
  },
  {
   "cell_type": "code",
   "execution_count": 36,
   "id": "a6fdcf2d",
   "metadata": {
    "execution": {
     "iopub.execute_input": "2025-04-23T02:52:23.100066Z",
     "iopub.status.busy": "2025-04-23T02:52:23.099275Z",
     "iopub.status.idle": "2025-04-23T02:52:23.103861Z",
     "shell.execute_reply": "2025-04-23T02:52:23.103260Z"
    },
    "papermill": {
     "duration": 0.014391,
     "end_time": "2025-04-23T02:52:23.104942",
     "exception": false,
     "start_time": "2025-04-23T02:52:23.090551",
     "status": "completed"
    },
    "tags": []
   },
   "outputs": [
    {
     "data": {
      "text/plain": [
       "'\\n# We create an explainer for the best estimator\\n\\nexplainer = shap.Explainer(final_model)\\nshap_values = explainer.shap_values(x_val)\\n\\n# we visualize the importance\\n\\nfig = shap.summary_plot(\\n    shap_values,\\n    x_val,\\n    show=False\\n)\\nplt.title(\"Feature Importance\", fontsize=20, color=\\'g\\', loc=\\'left\\')\\nplt.xlabel(\"Mean SHAP Values\", fontsize=20)\\nplt.ylabel(\"Features\", fontsize=20)\\nplt.show()\\n'"
      ]
     },
     "execution_count": 36,
     "metadata": {},
     "output_type": "execute_result"
    }
   ],
   "source": [
    "'''\n",
    "# We create an explainer for the best estimator\n",
    "\n",
    "explainer = shap.Explainer(final_model)\n",
    "shap_values = explainer.shap_values(x_val)\n",
    "\n",
    "# we visualize the importance\n",
    "\n",
    "fig = shap.summary_plot(\n",
    "    shap_values,\n",
    "    x_val,\n",
    "    show=False\n",
    ")\n",
    "plt.title(\"Feature Importance\", fontsize=20, color='g', loc='left')\n",
    "plt.xlabel(\"Mean SHAP Values\", fontsize=20)\n",
    "plt.ylabel(\"Features\", fontsize=20)\n",
    "plt.show()\n",
    "'''"
   ]
  },
  {
   "cell_type": "markdown",
   "id": "5980116a",
   "metadata": {
    "papermill": {
     "duration": 0.007928,
     "end_time": "2025-04-23T02:52:23.121769",
     "exception": false,
     "start_time": "2025-04-23T02:52:23.113841",
     "status": "completed"
    },
    "tags": []
   },
   "source": [
    "# Test data"
   ]
  },
  {
   "cell_type": "code",
   "execution_count": 37,
   "id": "ae320dc0",
   "metadata": {
    "execution": {
     "iopub.execute_input": "2025-04-23T02:52:23.139299Z",
     "iopub.status.busy": "2025-04-23T02:52:23.139029Z",
     "iopub.status.idle": "2025-04-23T02:52:23.475198Z",
     "shell.execute_reply": "2025-04-23T02:52:23.474617Z"
    },
    "papermill": {
     "duration": 0.346344,
     "end_time": "2025-04-23T02:52:23.476404",
     "exception": false,
     "start_time": "2025-04-23T02:52:23.130060",
     "status": "completed"
    },
    "tags": []
   },
   "outputs": [],
   "source": [
    "# We load the test data\n",
    "\n",
    "df_test = pd.read_csv(\"/kaggle/input/playground-series-s5e4/test.csv\")"
   ]
  },
  {
   "cell_type": "code",
   "execution_count": 38,
   "id": "87d24c84",
   "metadata": {
    "execution": {
     "iopub.execute_input": "2025-04-23T02:52:23.494236Z",
     "iopub.status.busy": "2025-04-23T02:52:23.493992Z",
     "iopub.status.idle": "2025-04-23T02:52:23.501074Z",
     "shell.execute_reply": "2025-04-23T02:52:23.500487Z"
    },
    "papermill": {
     "duration": 0.017178,
     "end_time": "2025-04-23T02:52:23.502138",
     "exception": false,
     "start_time": "2025-04-23T02:52:23.484960",
     "status": "completed"
    },
    "tags": []
   },
   "outputs": [],
   "source": [
    "df_test_new = df_test.copy()"
   ]
  },
  {
   "cell_type": "code",
   "execution_count": 39,
   "id": "07a5d900",
   "metadata": {
    "execution": {
     "iopub.execute_input": "2025-04-23T02:52:23.520301Z",
     "iopub.status.busy": "2025-04-23T02:52:23.519593Z",
     "iopub.status.idle": "2025-04-23T02:52:23.638473Z",
     "shell.execute_reply": "2025-04-23T02:52:23.637779Z"
    },
    "papermill": {
     "duration": 0.128941,
     "end_time": "2025-04-23T02:52:23.639491",
     "exception": false,
     "start_time": "2025-04-23T02:52:23.510550",
     "status": "completed"
    },
    "tags": []
   },
   "outputs": [
    {
     "data": {
      "text/html": [
       "<style type=\"text/css\">\n",
       "#T_1b659_row0_col0, #T_1b659_row0_col1, #T_1b659_row1_col0, #T_1b659_row1_col1, #T_1b659_row2_col0, #T_1b659_row2_col1, #T_1b659_row4_col0, #T_1b659_row4_col1, #T_1b659_row5_col0, #T_1b659_row5_col1, #T_1b659_row6_col0, #T_1b659_row6_col1, #T_1b659_row7_col0, #T_1b659_row7_col1, #T_1b659_row9_col0, #T_1b659_row9_col1, #T_1b659_row10_col0, #T_1b659_row10_col1 {\n",
       "  background-color: #f7fcf5;\n",
       "  color: #000000;\n",
       "}\n",
       "#T_1b659_row3_col0, #T_1b659_row3_col1 {\n",
       "  background-color: #50b264;\n",
       "  color: #f1f1f1;\n",
       "}\n",
       "#T_1b659_row8_col0, #T_1b659_row8_col1 {\n",
       "  background-color: #00441b;\n",
       "  color: #f1f1f1;\n",
       "}\n",
       "</style>\n",
       "<table id=\"T_1b659\">\n",
       "  <thead>\n",
       "    <tr>\n",
       "      <th class=\"blank level0\" >&nbsp;</th>\n",
       "      <th id=\"T_1b659_level0_col0\" class=\"col_heading level0 col0\" >Amount of Null Data</th>\n",
       "      <th id=\"T_1b659_level0_col1\" class=\"col_heading level0 col1\" >Percentage of Null Data</th>\n",
       "    </tr>\n",
       "  </thead>\n",
       "  <tbody>\n",
       "    <tr>\n",
       "      <th id=\"T_1b659_level0_row0\" class=\"row_heading level0 row0\" >id</th>\n",
       "      <td id=\"T_1b659_row0_col0\" class=\"data row0 col0\" >0</td>\n",
       "      <td id=\"T_1b659_row0_col1\" class=\"data row0 col1\" >0.000000</td>\n",
       "    </tr>\n",
       "    <tr>\n",
       "      <th id=\"T_1b659_level0_row1\" class=\"row_heading level0 row1\" >Podcast_Name</th>\n",
       "      <td id=\"T_1b659_row1_col0\" class=\"data row1 col0\" >0</td>\n",
       "      <td id=\"T_1b659_row1_col1\" class=\"data row1 col1\" >0.000000</td>\n",
       "    </tr>\n",
       "    <tr>\n",
       "      <th id=\"T_1b659_level0_row2\" class=\"row_heading level0 row2\" >Episode_Title</th>\n",
       "      <td id=\"T_1b659_row2_col0\" class=\"data row2 col0\" >0</td>\n",
       "      <td id=\"T_1b659_row2_col1\" class=\"data row2 col1\" >0.000000</td>\n",
       "    </tr>\n",
       "    <tr>\n",
       "      <th id=\"T_1b659_level0_row3\" class=\"row_heading level0 row3\" >Episode_Length_minutes</th>\n",
       "      <td id=\"T_1b659_row3_col0\" class=\"data row3 col0\" >28736</td>\n",
       "      <td id=\"T_1b659_row3_col1\" class=\"data row3 col1\" >11.494400</td>\n",
       "    </tr>\n",
       "    <tr>\n",
       "      <th id=\"T_1b659_level0_row4\" class=\"row_heading level0 row4\" >Genre</th>\n",
       "      <td id=\"T_1b659_row4_col0\" class=\"data row4 col0\" >0</td>\n",
       "      <td id=\"T_1b659_row4_col1\" class=\"data row4 col1\" >0.000000</td>\n",
       "    </tr>\n",
       "    <tr>\n",
       "      <th id=\"T_1b659_level0_row5\" class=\"row_heading level0 row5\" >Host_Popularity_percentage</th>\n",
       "      <td id=\"T_1b659_row5_col0\" class=\"data row5 col0\" >0</td>\n",
       "      <td id=\"T_1b659_row5_col1\" class=\"data row5 col1\" >0.000000</td>\n",
       "    </tr>\n",
       "    <tr>\n",
       "      <th id=\"T_1b659_level0_row6\" class=\"row_heading level0 row6\" >Publication_Day</th>\n",
       "      <td id=\"T_1b659_row6_col0\" class=\"data row6 col0\" >0</td>\n",
       "      <td id=\"T_1b659_row6_col1\" class=\"data row6 col1\" >0.000000</td>\n",
       "    </tr>\n",
       "    <tr>\n",
       "      <th id=\"T_1b659_level0_row7\" class=\"row_heading level0 row7\" >Publication_Time</th>\n",
       "      <td id=\"T_1b659_row7_col0\" class=\"data row7 col0\" >0</td>\n",
       "      <td id=\"T_1b659_row7_col1\" class=\"data row7 col1\" >0.000000</td>\n",
       "    </tr>\n",
       "    <tr>\n",
       "      <th id=\"T_1b659_level0_row8\" class=\"row_heading level0 row8\" >Guest_Popularity_percentage</th>\n",
       "      <td id=\"T_1b659_row8_col0\" class=\"data row8 col0\" >48832</td>\n",
       "      <td id=\"T_1b659_row8_col1\" class=\"data row8 col1\" >19.532800</td>\n",
       "    </tr>\n",
       "    <tr>\n",
       "      <th id=\"T_1b659_level0_row9\" class=\"row_heading level0 row9\" >Number_of_Ads</th>\n",
       "      <td id=\"T_1b659_row9_col0\" class=\"data row9 col0\" >0</td>\n",
       "      <td id=\"T_1b659_row9_col1\" class=\"data row9 col1\" >0.000000</td>\n",
       "    </tr>\n",
       "    <tr>\n",
       "      <th id=\"T_1b659_level0_row10\" class=\"row_heading level0 row10\" >Episode_Sentiment</th>\n",
       "      <td id=\"T_1b659_row10_col0\" class=\"data row10 col0\" >0</td>\n",
       "      <td id=\"T_1b659_row10_col1\" class=\"data row10 col1\" >0.000000</td>\n",
       "    </tr>\n",
       "  </tbody>\n",
       "</table>\n"
      ],
      "text/plain": [
       "<pandas.io.formats.style.Styler at 0x793310a61890>"
      ]
     },
     "execution_count": 39,
     "metadata": {},
     "output_type": "execute_result"
    }
   ],
   "source": [
    "# We check the null values\n",
    "\n",
    "null_values_test = (\n",
    "    pd.DataFrame(\n",
    "        {f'Amount of Null Data' : df_test_new.isnull().sum(), \n",
    "         'Percentage of Null Data' : (\n",
    "             df_test_new.isnull().sum()) / (len(df_test_new)) * (100)\n",
    "        }\n",
    "    ))\n",
    "\n",
    "null_values_test.style.background_gradient(cmap='Greens')"
   ]
  },
  {
   "cell_type": "code",
   "execution_count": 40,
   "id": "44146050",
   "metadata": {
    "execution": {
     "iopub.execute_input": "2025-04-23T02:52:23.657695Z",
     "iopub.status.busy": "2025-04-23T02:52:23.657429Z",
     "iopub.status.idle": "2025-04-23T02:52:23.667866Z",
     "shell.execute_reply": "2025-04-23T02:52:23.667128Z"
    },
    "papermill": {
     "duration": 0.020893,
     "end_time": "2025-04-23T02:52:23.669123",
     "exception": false,
     "start_time": "2025-04-23T02:52:23.648230",
     "status": "completed"
    },
    "tags": []
   },
   "outputs": [],
   "source": [
    "# We start by removing the variables that we will not use\n",
    "\n",
    "df_test_new = df_test_new.drop(columns=\"id\")\n",
    "#df_test_new = df_test_new.drop(columns=[\"id\", \"Podcast_Name\", \"Episode_Title\"])"
   ]
  },
  {
   "cell_type": "code",
   "execution_count": 41,
   "id": "cfa1dff9",
   "metadata": {
    "execution": {
     "iopub.execute_input": "2025-04-23T02:52:23.687669Z",
     "iopub.status.busy": "2025-04-23T02:52:23.687081Z",
     "iopub.status.idle": "2025-04-23T02:52:23.784785Z",
     "shell.execute_reply": "2025-04-23T02:52:23.784081Z"
    },
    "papermill": {
     "duration": 0.108156,
     "end_time": "2025-04-23T02:52:23.786049",
     "exception": false,
     "start_time": "2025-04-23T02:52:23.677893",
     "status": "completed"
    },
    "tags": []
   },
   "outputs": [],
   "source": [
    "# We replace the erroneous values\n",
    "\n",
    "df_test_new[\"Number_of_Ads\"] = (df_test_new[\"Number_of_Ads\"].apply(lambda x: np.NaN if x>3 else x))\n",
    "df_test_new[\"Number_of_Ads\"] = (df_test_new[\"Number_of_Ads\"].fillna(\n",
    "    df_test_new.groupby(\"Podcast_Name\")[\"Number_of_Ads\"].transform(lambda v: v.mode()[0])\n",
    "))\n",
    "df_test_new[\"Host_Popularity_percentage\"] = np.where(\n",
    "    df_test_new[\"Host_Popularity_percentage\"] > 100, 100, df_test_new[\"Host_Popularity_percentage\"]\n",
    ").round(decimals=2)\n",
    "df_test_new[\"Guest_Popularity_percentage\"] = np.where(\n",
    "    df_test_new[\"Guest_Popularity_percentage\"] > 100, 100, df_test_new[\"Guest_Popularity_percentage\"]\n",
    ").round(decimals=2)"
   ]
  },
  {
   "cell_type": "code",
   "execution_count": 42,
   "id": "5e48e443",
   "metadata": {
    "execution": {
     "iopub.execute_input": "2025-04-23T02:52:23.804297Z",
     "iopub.status.busy": "2025-04-23T02:52:23.804079Z",
     "iopub.status.idle": "2025-04-23T02:52:23.807970Z",
     "shell.execute_reply": "2025-04-23T02:52:23.807477Z"
    },
    "papermill": {
     "duration": 0.013951,
     "end_time": "2025-04-23T02:52:23.808885",
     "exception": false,
     "start_time": "2025-04-23T02:52:23.794934",
     "status": "completed"
    },
    "tags": []
   },
   "outputs": [
    {
     "data": {
      "text/plain": [
       "'\\n# We filled in null values with KNNImputer\\n\\ntest_object = df_test_new.select_dtypes(include=\"object\")\\ntest_impute = df_test_new.select_dtypes(include=\"number\")\\n\\nimputer = KNNImputer().set_output(transform=\"pandas\")\\nafter_imputation = imputer.fit_transform(test_impute)\\n\\ndf_test_new = pd.concat([test_object, after_imputation], axis=1)\\n'"
      ]
     },
     "execution_count": 42,
     "metadata": {},
     "output_type": "execute_result"
    }
   ],
   "source": [
    "'''\n",
    "# We filled in null values with KNNImputer\n",
    "\n",
    "test_object = df_test_new.select_dtypes(include=\"object\")\n",
    "test_impute = df_test_new.select_dtypes(include=\"number\")\n",
    "\n",
    "imputer = KNNImputer().set_output(transform=\"pandas\")\n",
    "after_imputation = imputer.fit_transform(test_impute)\n",
    "\n",
    "df_test_new = pd.concat([test_object, after_imputation], axis=1)\n",
    "'''"
   ]
  },
  {
   "cell_type": "code",
   "execution_count": 43,
   "id": "43341cd5",
   "metadata": {
    "execution": {
     "iopub.execute_input": "2025-04-23T02:52:23.826834Z",
     "iopub.status.busy": "2025-04-23T02:52:23.826612Z",
     "iopub.status.idle": "2025-04-23T02:52:23.862588Z",
     "shell.execute_reply": "2025-04-23T02:52:23.861800Z"
    },
    "papermill": {
     "duration": 0.046397,
     "end_time": "2025-04-23T02:52:23.863977",
     "exception": false,
     "start_time": "2025-04-23T02:52:23.817580",
     "status": "completed"
    },
    "tags": []
   },
   "outputs": [],
   "source": [
    "# We filled in null values\n",
    "\n",
    "df_test_new[\"Episode_Length_minutes\"] = (df_test_new[\"Episode_Length_minutes\"].fillna(\n",
    "    df_test_new.groupby(\"Podcast_Name\")[\"Episode_Length_minutes\"].transform(\"mean\")\n",
    "))\n",
    "df_test_new[\"Guest_Popularity_percentage\"] = (df_test_new[\"Guest_Popularity_percentage\"].fillna(\n",
    "    df_test_new.groupby(\"Podcast_Name\")[\"Guest_Popularity_percentage\"].transform(\"mean\")\n",
    "))"
   ]
  },
  {
   "cell_type": "code",
   "execution_count": 44,
   "id": "420d3e33",
   "metadata": {
    "execution": {
     "iopub.execute_input": "2025-04-23T02:52:23.881832Z",
     "iopub.status.busy": "2025-04-23T02:52:23.881594Z",
     "iopub.status.idle": "2025-04-23T02:52:24.102295Z",
     "shell.execute_reply": "2025-04-23T02:52:24.101691Z"
    },
    "papermill": {
     "duration": 0.230859,
     "end_time": "2025-04-23T02:52:24.103550",
     "exception": false,
     "start_time": "2025-04-23T02:52:23.872691",
     "status": "completed"
    },
    "tags": []
   },
   "outputs": [],
   "source": [
    "# We encode the categorical variables\n",
    "\n",
    "df_test_new[\"Episode_Sentiment\"] = df_test_new[\"Episode_Sentiment\"].map(eps_order)\n",
    "df_test_new[\"Episode_Sentiment\"] = df_test_new[\"Episode_Sentiment\"].astype(\"float64\")\n",
    "\n",
    "test_num = df_test_new.select_dtypes(include=\"number\")\n",
    "test_cat = df_test_new.select_dtypes(include=\"object\")\n",
    "test_enc = enc.fit_transform(test_cat)\n",
    "test_encoded = pd.concat([test_enc, test_num[[\"Number_of_Ads\", \"Episode_Sentiment\"]]], axis=1)\n",
    "\n",
    "# We transform the data\n",
    "\n",
    "test_num = test_num.drop(columns=[\"Number_of_Ads\", \"Episode_Sentiment\"])\n",
    "test_sca = scaler.transform(test_num)\n",
    "\n",
    "# We concatenate the dataframes\n",
    "\n",
    "test_end = pd.concat([test_encoded, test_sca], axis=1)"
   ]
  },
  {
   "cell_type": "code",
   "execution_count": 45,
   "id": "93cd978d",
   "metadata": {
    "execution": {
     "iopub.execute_input": "2025-04-23T02:52:24.122930Z",
     "iopub.status.busy": "2025-04-23T02:52:24.122690Z",
     "iopub.status.idle": "2025-04-23T02:52:24.230546Z",
     "shell.execute_reply": "2025-04-23T02:52:24.229868Z"
    },
    "papermill": {
     "duration": 0.118972,
     "end_time": "2025-04-23T02:52:24.231540",
     "exception": false,
     "start_time": "2025-04-23T02:52:24.112568",
     "status": "completed"
    },
    "tags": []
   },
   "outputs": [
    {
     "data": {
      "text/html": [
       "<div>\n",
       "<style scoped>\n",
       "    .dataframe tbody tr th:only-of-type {\n",
       "        vertical-align: middle;\n",
       "    }\n",
       "\n",
       "    .dataframe tbody tr th {\n",
       "        vertical-align: top;\n",
       "    }\n",
       "\n",
       "    .dataframe thead th {\n",
       "        text-align: right;\n",
       "    }\n",
       "</style>\n",
       "<table border=\"1\" class=\"dataframe\">\n",
       "  <thead>\n",
       "    <tr style=\"text-align: right;\">\n",
       "      <th></th>\n",
       "      <th>count</th>\n",
       "      <th>mean</th>\n",
       "      <th>std</th>\n",
       "      <th>min</th>\n",
       "      <th>25%</th>\n",
       "      <th>50%</th>\n",
       "      <th>75%</th>\n",
       "      <th>max</th>\n",
       "    </tr>\n",
       "  </thead>\n",
       "  <tbody>\n",
       "    <tr>\n",
       "      <th>Podcast_Name</th>\n",
       "      <td>250000.0</td>\n",
       "      <td>23.489368</td>\n",
       "      <td>14.110784</td>\n",
       "      <td>0.000000</td>\n",
       "      <td>11.000000</td>\n",
       "      <td>23.000000</td>\n",
       "      <td>36.000000</td>\n",
       "      <td>4.700000e+01</td>\n",
       "    </tr>\n",
       "    <tr>\n",
       "      <th>Episode_Title</th>\n",
       "      <td>250000.0</td>\n",
       "      <td>50.209524</td>\n",
       "      <td>28.191980</td>\n",
       "      <td>0.000000</td>\n",
       "      <td>26.000000</td>\n",
       "      <td>51.000000</td>\n",
       "      <td>74.000000</td>\n",
       "      <td>9.900000e+01</td>\n",
       "    </tr>\n",
       "    <tr>\n",
       "      <th>Genre</th>\n",
       "      <td>250000.0</td>\n",
       "      <td>4.641336</td>\n",
       "      <td>2.959436</td>\n",
       "      <td>0.000000</td>\n",
       "      <td>2.000000</td>\n",
       "      <td>5.000000</td>\n",
       "      <td>7.000000</td>\n",
       "      <td>9.000000e+00</td>\n",
       "    </tr>\n",
       "    <tr>\n",
       "      <th>Publication_Day</th>\n",
       "      <td>250000.0</td>\n",
       "      <td>2.962788</td>\n",
       "      <td>1.993649</td>\n",
       "      <td>0.000000</td>\n",
       "      <td>1.000000</td>\n",
       "      <td>3.000000</td>\n",
       "      <td>5.000000</td>\n",
       "      <td>6.000000e+00</td>\n",
       "    </tr>\n",
       "    <tr>\n",
       "      <th>Publication_Time</th>\n",
       "      <td>250000.0</td>\n",
       "      <td>1.522652</td>\n",
       "      <td>1.118540</td>\n",
       "      <td>0.000000</td>\n",
       "      <td>1.000000</td>\n",
       "      <td>1.000000</td>\n",
       "      <td>3.000000</td>\n",
       "      <td>3.000000e+00</td>\n",
       "    </tr>\n",
       "    <tr>\n",
       "      <th>Number_of_Ads</th>\n",
       "      <td>250000.0</td>\n",
       "      <td>1.347248</td>\n",
       "      <td>1.112669</td>\n",
       "      <td>0.000000</td>\n",
       "      <td>0.000000</td>\n",
       "      <td>1.000000</td>\n",
       "      <td>2.000000</td>\n",
       "      <td>3.000000e+00</td>\n",
       "    </tr>\n",
       "    <tr>\n",
       "      <th>Episode_Sentiment</th>\n",
       "      <td>250000.0</td>\n",
       "      <td>0.997236</td>\n",
       "      <td>0.815666</td>\n",
       "      <td>0.000000</td>\n",
       "      <td>0.000000</td>\n",
       "      <td>1.000000</td>\n",
       "      <td>2.000000</td>\n",
       "      <td>2.000000e+00</td>\n",
       "    </tr>\n",
       "    <tr>\n",
       "      <th>Episode_Length_minutes</th>\n",
       "      <td>250000.0</td>\n",
       "      <td>11.420409</td>\n",
       "      <td>5063.475976</td>\n",
       "      <td>-2.000953</td>\n",
       "      <td>-0.810685</td>\n",
       "      <td>-0.002337</td>\n",
       "      <td>0.848594</td>\n",
       "      <td>2.531697e+06</td>\n",
       "    </tr>\n",
       "    <tr>\n",
       "      <th>Host_Popularity_percentage</th>\n",
       "      <td>250000.0</td>\n",
       "      <td>-0.006268</td>\n",
       "      <td>1.000309</td>\n",
       "      <td>-2.508262</td>\n",
       "      <td>-0.901071</td>\n",
       "      <td>0.001771</td>\n",
       "      <td>0.853897</td>\n",
       "      <td>1.754991e+00</td>\n",
       "    </tr>\n",
       "    <tr>\n",
       "      <th>Guest_Popularity_percentage</th>\n",
       "      <td>250000.0</td>\n",
       "      <td>-0.001742</td>\n",
       "      <td>0.999403</td>\n",
       "      <td>-2.045663</td>\n",
       "      <td>-0.692544</td>\n",
       "      <td>0.000433</td>\n",
       "      <td>0.734595</td>\n",
       "      <td>1.870745e+00</td>\n",
       "    </tr>\n",
       "  </tbody>\n",
       "</table>\n",
       "</div>"
      ],
      "text/plain": [
       "                                count       mean          std       min  \\\n",
       "Podcast_Name                 250000.0  23.489368    14.110784  0.000000   \n",
       "Episode_Title                250000.0  50.209524    28.191980  0.000000   \n",
       "Genre                        250000.0   4.641336     2.959436  0.000000   \n",
       "Publication_Day              250000.0   2.962788     1.993649  0.000000   \n",
       "Publication_Time             250000.0   1.522652     1.118540  0.000000   \n",
       "Number_of_Ads                250000.0   1.347248     1.112669  0.000000   \n",
       "Episode_Sentiment            250000.0   0.997236     0.815666  0.000000   \n",
       "Episode_Length_minutes       250000.0  11.420409  5063.475976 -2.000953   \n",
       "Host_Popularity_percentage   250000.0  -0.006268     1.000309 -2.508262   \n",
       "Guest_Popularity_percentage  250000.0  -0.001742     0.999403 -2.045663   \n",
       "\n",
       "                                   25%        50%        75%           max  \n",
       "Podcast_Name                 11.000000  23.000000  36.000000  4.700000e+01  \n",
       "Episode_Title                26.000000  51.000000  74.000000  9.900000e+01  \n",
       "Genre                         2.000000   5.000000   7.000000  9.000000e+00  \n",
       "Publication_Day               1.000000   3.000000   5.000000  6.000000e+00  \n",
       "Publication_Time              1.000000   1.000000   3.000000  3.000000e+00  \n",
       "Number_of_Ads                 0.000000   1.000000   2.000000  3.000000e+00  \n",
       "Episode_Sentiment             0.000000   1.000000   2.000000  2.000000e+00  \n",
       "Episode_Length_minutes       -0.810685  -0.002337   0.848594  2.531697e+06  \n",
       "Host_Popularity_percentage   -0.901071   0.001771   0.853897  1.754991e+00  \n",
       "Guest_Popularity_percentage  -0.692544   0.000433   0.734595  1.870745e+00  "
      ]
     },
     "execution_count": 45,
     "metadata": {},
     "output_type": "execute_result"
    }
   ],
   "source": [
    "test_end.describe().T"
   ]
  },
  {
   "cell_type": "code",
   "execution_count": 46,
   "id": "01c63230",
   "metadata": {
    "execution": {
     "iopub.execute_input": "2025-04-23T02:52:24.250182Z",
     "iopub.status.busy": "2025-04-23T02:52:24.249936Z",
     "iopub.status.idle": "2025-04-23T02:52:30.749570Z",
     "shell.execute_reply": "2025-04-23T02:52:30.748974Z"
    },
    "papermill": {
     "duration": 6.510526,
     "end_time": "2025-04-23T02:52:30.750866",
     "exception": false,
     "start_time": "2025-04-23T02:52:24.240340",
     "status": "completed"
    },
    "tags": []
   },
   "outputs": [],
   "source": [
    "# We apply the trained model\n",
    "\n",
    "listening_predictions = final_model.predict(test_end)"
   ]
  },
  {
   "cell_type": "code",
   "execution_count": 47,
   "id": "ac7fafc3",
   "metadata": {
    "execution": {
     "iopub.execute_input": "2025-04-23T02:52:30.770000Z",
     "iopub.status.busy": "2025-04-23T02:52:30.769768Z",
     "iopub.status.idle": "2025-04-23T02:52:30.773294Z",
     "shell.execute_reply": "2025-04-23T02:52:30.772773Z"
    },
    "papermill": {
     "duration": 0.014,
     "end_time": "2025-04-23T02:52:30.774234",
     "exception": false,
     "start_time": "2025-04-23T02:52:30.760234",
     "status": "completed"
    },
    "tags": []
   },
   "outputs": [
    {
     "name": "stdout",
     "output_type": "stream",
     "text": [
      "Total predictions:  250000 \n",
      "\n"
     ]
    }
   ],
   "source": [
    "# We review the result\n",
    "\n",
    "print(\"Total predictions: \", len(listening_predictions), \"\\n\")"
   ]
  },
  {
   "cell_type": "code",
   "execution_count": 48,
   "id": "169dcdab",
   "metadata": {
    "execution": {
     "iopub.execute_input": "2025-04-23T02:52:30.793143Z",
     "iopub.status.busy": "2025-04-23T02:52:30.792916Z",
     "iopub.status.idle": "2025-04-23T02:52:30.800224Z",
     "shell.execute_reply": "2025-04-23T02:52:30.799644Z"
    },
    "papermill": {
     "duration": 0.017837,
     "end_time": "2025-04-23T02:52:30.801168",
     "exception": false,
     "start_time": "2025-04-23T02:52:30.783331",
     "status": "completed"
    },
    "tags": []
   },
   "outputs": [
    {
     "data": {
      "text/html": [
       "<div>\n",
       "<style scoped>\n",
       "    .dataframe tbody tr th:only-of-type {\n",
       "        vertical-align: middle;\n",
       "    }\n",
       "\n",
       "    .dataframe tbody tr th {\n",
       "        vertical-align: top;\n",
       "    }\n",
       "\n",
       "    .dataframe thead th {\n",
       "        text-align: right;\n",
       "    }\n",
       "</style>\n",
       "<table border=\"1\" class=\"dataframe\">\n",
       "  <thead>\n",
       "    <tr style=\"text-align: right;\">\n",
       "      <th></th>\n",
       "      <th>id</th>\n",
       "      <th>Listening_Time_minutes</th>\n",
       "    </tr>\n",
       "  </thead>\n",
       "  <tbody>\n",
       "    <tr>\n",
       "      <th>0</th>\n",
       "      <td>750000</td>\n",
       "      <td>55.587147</td>\n",
       "    </tr>\n",
       "    <tr>\n",
       "      <th>1</th>\n",
       "      <td>750001</td>\n",
       "      <td>17.614498</td>\n",
       "    </tr>\n",
       "    <tr>\n",
       "      <th>2</th>\n",
       "      <td>750002</td>\n",
       "      <td>49.638718</td>\n",
       "    </tr>\n",
       "    <tr>\n",
       "      <th>3</th>\n",
       "      <td>750003</td>\n",
       "      <td>78.239273</td>\n",
       "    </tr>\n",
       "    <tr>\n",
       "      <th>4</th>\n",
       "      <td>750004</td>\n",
       "      <td>49.173161</td>\n",
       "    </tr>\n",
       "  </tbody>\n",
       "</table>\n",
       "</div>"
      ],
      "text/plain": [
       "       id  Listening_Time_minutes\n",
       "0  750000               55.587147\n",
       "1  750001               17.614498\n",
       "2  750002               49.638718\n",
       "3  750003               78.239273\n",
       "4  750004               49.173161"
      ]
     },
     "execution_count": 48,
     "metadata": {},
     "output_type": "execute_result"
    }
   ],
   "source": [
    "# We create the dataframe\n",
    "\n",
    "listening_submission = pd.DataFrame({\n",
    "    \"id\" : df_test[\"id\"], \n",
    "    \"Listening_Time_minutes\" : listening_predictions\n",
    "})\n",
    "\n",
    "listening_submission.head()"
   ]
  },
  {
   "cell_type": "code",
   "execution_count": 49,
   "id": "e6de7ff4",
   "metadata": {
    "execution": {
     "iopub.execute_input": "2025-04-23T02:52:30.820390Z",
     "iopub.status.busy": "2025-04-23T02:52:30.819771Z",
     "iopub.status.idle": "2025-04-23T02:52:31.050356Z",
     "shell.execute_reply": "2025-04-23T02:52:31.049740Z"
    },
    "papermill": {
     "duration": 0.241558,
     "end_time": "2025-04-23T02:52:31.051794",
     "exception": false,
     "start_time": "2025-04-23T02:52:30.810236",
     "status": "completed"
    },
    "tags": []
   },
   "outputs": [],
   "source": [
    "# We convert the dataframe to a csv file\n",
    "\n",
    "listening_submission.to_csv(\"submission.csv\", index=False)"
   ]
  }
 ],
 "metadata": {
  "kaggle": {
   "accelerator": "none",
   "dataSources": [
    {
     "databundleVersionId": 11351736,
     "sourceId": 91715,
     "sourceType": "competition"
    }
   ],
   "dockerImageVersionId": 31012,
   "isGpuEnabled": false,
   "isInternetEnabled": true,
   "language": "python",
   "sourceType": "notebook"
  },
  "kernelspec": {
   "display_name": "Python 3",
   "language": "python",
   "name": "python3"
  },
  "language_info": {
   "codemirror_mode": {
    "name": "ipython",
    "version": 3
   },
   "file_extension": ".py",
   "mimetype": "text/x-python",
   "name": "python",
   "nbconvert_exporter": "python",
   "pygments_lexer": "ipython3",
   "version": "3.11.11"
  },
  "papermill": {
   "default_parameters": {},
   "duration": 92.90868,
   "end_time": "2025-04-23T02:52:33.498489",
   "environment_variables": {},
   "exception": null,
   "input_path": "__notebook__.ipynb",
   "output_path": "__notebook__.ipynb",
   "parameters": {},
   "start_time": "2025-04-23T02:51:00.589809",
   "version": "2.6.0"
  }
 },
 "nbformat": 4,
 "nbformat_minor": 5
}
