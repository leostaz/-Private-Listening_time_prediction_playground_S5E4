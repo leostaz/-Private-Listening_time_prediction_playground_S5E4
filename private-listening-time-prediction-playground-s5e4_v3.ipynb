{
 "cells": [
  {
   "cell_type": "code",
   "execution_count": 1,
   "id": "fb124eaf",
   "metadata": {
    "_cell_guid": "b1076dfc-b9ad-4769-8c92-a6c4dae69d19",
    "_uuid": "8f2839f25d086af736a60e9eeb907d3b93b6e0e5",
    "execution": {
     "iopub.execute_input": "2025-04-20T18:54:22.701420Z",
     "iopub.status.busy": "2025-04-20T18:54:22.700973Z",
     "iopub.status.idle": "2025-04-20T18:54:22.717844Z",
     "shell.execute_reply": "2025-04-20T18:54:22.716816Z"
    },
    "papermill": {
     "duration": 0.0293,
     "end_time": "2025-04-20T18:54:22.719550",
     "exception": false,
     "start_time": "2025-04-20T18:54:22.690250",
     "status": "completed"
    },
    "tags": []
   },
   "outputs": [
    {
     "name": "stdout",
     "output_type": "stream",
     "text": [
      "/kaggle/input/playground-series-s5e4/sample_submission.csv\n",
      "/kaggle/input/playground-series-s5e4/train.csv\n",
      "/kaggle/input/playground-series-s5e4/test.csv\n"
     ]
    }
   ],
   "source": [
    "# We load the competition data\n",
    "\n",
    "import warnings\n",
    "warnings.filterwarnings(\"ignore\")\n",
    "\n",
    "import os\n",
    "for dirname, _, filenames in os.walk('/kaggle/input'):\n",
    "    for filename in filenames:\n",
    "        print(os.path.join(dirname, filename))"
   ]
  },
  {
   "cell_type": "markdown",
   "id": "9df64952",
   "metadata": {
    "papermill": {
     "duration": 0.008588,
     "end_time": "2025-04-20T18:54:22.737824",
     "exception": false,
     "start_time": "2025-04-20T18:54:22.729236",
     "status": "completed"
    },
    "tags": []
   },
   "source": [
    "# Libraries"
   ]
  },
  {
   "cell_type": "code",
   "execution_count": 2,
   "id": "a4d6e4d2",
   "metadata": {
    "execution": {
     "iopub.execute_input": "2025-04-20T18:54:22.755860Z",
     "iopub.status.busy": "2025-04-20T18:54:22.755428Z",
     "iopub.status.idle": "2025-04-20T18:54:36.128289Z",
     "shell.execute_reply": "2025-04-20T18:54:36.127161Z"
    },
    "papermill": {
     "duration": 13.383722,
     "end_time": "2025-04-20T18:54:36.129991",
     "exception": false,
     "start_time": "2025-04-20T18:54:22.746269",
     "status": "completed"
    },
    "tags": []
   },
   "outputs": [],
   "source": [
    "import numpy as np\n",
    "import pandas as pd\n",
    "import matplotlib as mpl\n",
    "import matplotlib.pyplot as plt\n",
    "import seaborn as sns\n",
    "import shap\n",
    "\n",
    "from sklearn.preprocessing import (\n",
    "    OrdinalEncoder,\n",
    "    StandardScaler\n",
    ")\n",
    "from sklearn.feature_selection import (\n",
    "    mutual_info_regression\n",
    ")\n",
    "from sklearn.model_selection import (\n",
    "    train_test_split,\n",
    "    cross_val_score,\n",
    "    KFold,\n",
    "    RandomizedSearchCV\n",
    ")\n",
    "from sklearn.metrics import (\n",
    "    r2_score, \n",
    "    mean_squared_error\n",
    ")\n",
    "from xgboost import XGBRegressor\n",
    "from sklearn.impute import KNNImputer"
   ]
  },
  {
   "cell_type": "markdown",
   "id": "72cdefb0",
   "metadata": {
    "papermill": {
     "duration": 0.00804,
     "end_time": "2025-04-20T18:54:36.147011",
     "exception": false,
     "start_time": "2025-04-20T18:54:36.138971",
     "status": "completed"
    },
    "tags": []
   },
   "source": [
    "# Primer análisis"
   ]
  },
  {
   "cell_type": "markdown",
   "id": "0ee0b77a",
   "metadata": {
    "papermill": {
     "duration": 0.00904,
     "end_time": "2025-04-20T18:54:36.164684",
     "exception": false,
     "start_time": "2025-04-20T18:54:36.155644",
     "status": "completed"
    },
    "tags": []
   },
   "source": [
    "Notebook y análisis completo:\n",
    "\n",
    "https://www.kaggle.com/code/les1781/listening-time-prediction-playground-series-s5-e4"
   ]
  },
  {
   "cell_type": "code",
   "execution_count": 3,
   "id": "af5b1c66",
   "metadata": {
    "execution": {
     "iopub.execute_input": "2025-04-20T18:54:36.183174Z",
     "iopub.status.busy": "2025-04-20T18:54:36.182601Z",
     "iopub.status.idle": "2025-04-20T18:54:38.277877Z",
     "shell.execute_reply": "2025-04-20T18:54:38.276767Z"
    },
    "papermill": {
     "duration": 2.106891,
     "end_time": "2025-04-20T18:54:38.279774",
     "exception": false,
     "start_time": "2025-04-20T18:54:36.172883",
     "status": "completed"
    },
    "tags": []
   },
   "outputs": [],
   "source": [
    "# We load the data\n",
    "\n",
    "listening_new = pd.read_csv(\"/kaggle/input/playground-series-s5e4/train.csv\", index_col=\"id\")"
   ]
  },
  {
   "cell_type": "markdown",
   "id": "7a2f2707",
   "metadata": {
    "papermill": {
     "duration": 0.008237,
     "end_time": "2025-04-20T18:54:38.296718",
     "exception": false,
     "start_time": "2025-04-20T18:54:38.288481",
     "status": "completed"
    },
    "tags": []
   },
   "source": [
    "# Data wrangling"
   ]
  },
  {
   "cell_type": "code",
   "execution_count": 4,
   "id": "dcfebfcb",
   "metadata": {
    "execution": {
     "iopub.execute_input": "2025-04-20T18:54:38.314986Z",
     "iopub.status.busy": "2025-04-20T18:54:38.314655Z",
     "iopub.status.idle": "2025-04-20T18:54:39.001714Z",
     "shell.execute_reply": "2025-04-20T18:54:39.000718Z"
    },
    "papermill": {
     "duration": 0.698571,
     "end_time": "2025-04-20T18:54:39.003496",
     "exception": false,
     "start_time": "2025-04-20T18:54:38.304925",
     "status": "completed"
    },
    "tags": []
   },
   "outputs": [
    {
     "data": {
      "text/html": [
       "<style type=\"text/css\">\n",
       "#T_73bd8_row0_col0, #T_73bd8_row0_col1, #T_73bd8_row1_col0, #T_73bd8_row1_col1, #T_73bd8_row3_col0, #T_73bd8_row3_col1, #T_73bd8_row4_col0, #T_73bd8_row4_col1, #T_73bd8_row5_col0, #T_73bd8_row5_col1, #T_73bd8_row6_col0, #T_73bd8_row6_col1, #T_73bd8_row8_col0, #T_73bd8_row8_col1, #T_73bd8_row9_col0, #T_73bd8_row9_col1, #T_73bd8_row10_col0, #T_73bd8_row10_col1 {\n",
       "  background-color: #f7fcf5;\n",
       "  color: #000000;\n",
       "}\n",
       "#T_73bd8_row2_col0, #T_73bd8_row2_col1 {\n",
       "  background-color: #4db163;\n",
       "  color: #f1f1f1;\n",
       "}\n",
       "#T_73bd8_row7_col0, #T_73bd8_row7_col1 {\n",
       "  background-color: #00441b;\n",
       "  color: #f1f1f1;\n",
       "}\n",
       "</style>\n",
       "<table id=\"T_73bd8\">\n",
       "  <thead>\n",
       "    <tr>\n",
       "      <th class=\"blank level0\" >&nbsp;</th>\n",
       "      <th id=\"T_73bd8_level0_col0\" class=\"col_heading level0 col0\" >Amount of Null Data</th>\n",
       "      <th id=\"T_73bd8_level0_col1\" class=\"col_heading level0 col1\" >Percentage of Null Data</th>\n",
       "    </tr>\n",
       "  </thead>\n",
       "  <tbody>\n",
       "    <tr>\n",
       "      <th id=\"T_73bd8_level0_row0\" class=\"row_heading level0 row0\" >Podcast_Name</th>\n",
       "      <td id=\"T_73bd8_row0_col0\" class=\"data row0 col0\" >0</td>\n",
       "      <td id=\"T_73bd8_row0_col1\" class=\"data row0 col1\" >0.000000</td>\n",
       "    </tr>\n",
       "    <tr>\n",
       "      <th id=\"T_73bd8_level0_row1\" class=\"row_heading level0 row1\" >Episode_Title</th>\n",
       "      <td id=\"T_73bd8_row1_col0\" class=\"data row1 col0\" >0</td>\n",
       "      <td id=\"T_73bd8_row1_col1\" class=\"data row1 col1\" >0.000000</td>\n",
       "    </tr>\n",
       "    <tr>\n",
       "      <th id=\"T_73bd8_level0_row2\" class=\"row_heading level0 row2\" >Episode_Length_minutes</th>\n",
       "      <td id=\"T_73bd8_row2_col0\" class=\"data row2 col0\" >87093</td>\n",
       "      <td id=\"T_73bd8_row2_col1\" class=\"data row2 col1\" >11.612400</td>\n",
       "    </tr>\n",
       "    <tr>\n",
       "      <th id=\"T_73bd8_level0_row3\" class=\"row_heading level0 row3\" >Genre</th>\n",
       "      <td id=\"T_73bd8_row3_col0\" class=\"data row3 col0\" >0</td>\n",
       "      <td id=\"T_73bd8_row3_col1\" class=\"data row3 col1\" >0.000000</td>\n",
       "    </tr>\n",
       "    <tr>\n",
       "      <th id=\"T_73bd8_level0_row4\" class=\"row_heading level0 row4\" >Host_Popularity_percentage</th>\n",
       "      <td id=\"T_73bd8_row4_col0\" class=\"data row4 col0\" >0</td>\n",
       "      <td id=\"T_73bd8_row4_col1\" class=\"data row4 col1\" >0.000000</td>\n",
       "    </tr>\n",
       "    <tr>\n",
       "      <th id=\"T_73bd8_level0_row5\" class=\"row_heading level0 row5\" >Publication_Day</th>\n",
       "      <td id=\"T_73bd8_row5_col0\" class=\"data row5 col0\" >0</td>\n",
       "      <td id=\"T_73bd8_row5_col1\" class=\"data row5 col1\" >0.000000</td>\n",
       "    </tr>\n",
       "    <tr>\n",
       "      <th id=\"T_73bd8_level0_row6\" class=\"row_heading level0 row6\" >Publication_Time</th>\n",
       "      <td id=\"T_73bd8_row6_col0\" class=\"data row6 col0\" >0</td>\n",
       "      <td id=\"T_73bd8_row6_col1\" class=\"data row6 col1\" >0.000000</td>\n",
       "    </tr>\n",
       "    <tr>\n",
       "      <th id=\"T_73bd8_level0_row7\" class=\"row_heading level0 row7\" >Guest_Popularity_percentage</th>\n",
       "      <td id=\"T_73bd8_row7_col0\" class=\"data row7 col0\" >146030</td>\n",
       "      <td id=\"T_73bd8_row7_col1\" class=\"data row7 col1\" >19.470667</td>\n",
       "    </tr>\n",
       "    <tr>\n",
       "      <th id=\"T_73bd8_level0_row8\" class=\"row_heading level0 row8\" >Number_of_Ads</th>\n",
       "      <td id=\"T_73bd8_row8_col0\" class=\"data row8 col0\" >1</td>\n",
       "      <td id=\"T_73bd8_row8_col1\" class=\"data row8 col1\" >0.000133</td>\n",
       "    </tr>\n",
       "    <tr>\n",
       "      <th id=\"T_73bd8_level0_row9\" class=\"row_heading level0 row9\" >Episode_Sentiment</th>\n",
       "      <td id=\"T_73bd8_row9_col0\" class=\"data row9 col0\" >0</td>\n",
       "      <td id=\"T_73bd8_row9_col1\" class=\"data row9 col1\" >0.000000</td>\n",
       "    </tr>\n",
       "    <tr>\n",
       "      <th id=\"T_73bd8_level0_row10\" class=\"row_heading level0 row10\" >Listening_Time_minutes</th>\n",
       "      <td id=\"T_73bd8_row10_col0\" class=\"data row10 col0\" >0</td>\n",
       "      <td id=\"T_73bd8_row10_col1\" class=\"data row10 col1\" >0.000000</td>\n",
       "    </tr>\n",
       "  </tbody>\n",
       "</table>\n"
      ],
      "text/plain": [
       "<pandas.io.formats.style.Styler at 0x7d6a51b526d0>"
      ]
     },
     "execution_count": 4,
     "metadata": {},
     "output_type": "execute_result"
    }
   ],
   "source": [
    "# We check for null values\n",
    "\n",
    "null_values = (\n",
    "    pd.DataFrame(\n",
    "        {f\"Amount of Null Data\": listening_new.isnull().sum(), \n",
    "         \"Percentage of Null Data\" : (\n",
    "             listening_new.isnull().sum()) / (len(listening_new)) * (100)\n",
    "        }))\n",
    "\n",
    "null_values.style.background_gradient(cmap=\"Greens\")"
   ]
  },
  {
   "cell_type": "code",
   "execution_count": 5,
   "id": "1cf1f3fa",
   "metadata": {
    "execution": {
     "iopub.execute_input": "2025-04-20T18:54:39.022174Z",
     "iopub.status.busy": "2025-04-20T18:54:39.021672Z",
     "iopub.status.idle": "2025-04-20T18:54:39.552272Z",
     "shell.execute_reply": "2025-04-20T18:54:39.551235Z"
    },
    "papermill": {
     "duration": 0.542132,
     "end_time": "2025-04-20T18:54:39.554435",
     "exception": false,
     "start_time": "2025-04-20T18:54:39.012303",
     "status": "completed"
    },
    "tags": []
   },
   "outputs": [
    {
     "name": "stdout",
     "output_type": "stream",
     "text": [
      "Number of null values:  0 \n",
      "\n",
      " Distribution of values: \n",
      " Number_of_Ads\n",
      "0.0    217597\n",
      "1.0    214074\n",
      "3.0    160173\n",
      "2.0    158156\n",
      "Name: count, dtype: int64\n"
     ]
    }
   ],
   "source": [
    "# We replace the erroneous values with the mode of the Podcasts\n",
    "\n",
    "listening_new[\"Number_of_Ads\"] = (listening_new[\"Number_of_Ads\"].apply(lambda x: np.NaN if x>3 else x))\n",
    "\n",
    "listening_new[\"Number_of_Ads\"] = (listening_new[\"Number_of_Ads\"].fillna(\n",
    "        listening_new.groupby(\"Podcast_Name\")[\"Number_of_Ads\"].transform(lambda v: v.mode()[0])))\n",
    "\n",
    "print(\n",
    "    \"Number of null values: \", listening_new[\"Number_of_Ads\"].isnull().sum(), \"\\n\\n\",\n",
    "    \"Distribution of values: \\n\", listening_new[\"Number_of_Ads\"].value_counts()\n",
    ")"
   ]
  },
  {
   "cell_type": "code",
   "execution_count": 6,
   "id": "17284cb5",
   "metadata": {
    "execution": {
     "iopub.execute_input": "2025-04-20T18:54:39.580788Z",
     "iopub.status.busy": "2025-04-20T18:54:39.580051Z",
     "iopub.status.idle": "2025-04-20T18:54:39.648363Z",
     "shell.execute_reply": "2025-04-20T18:54:39.647360Z"
    },
    "papermill": {
     "duration": 0.081576,
     "end_time": "2025-04-20T18:54:39.650423",
     "exception": false,
     "start_time": "2025-04-20T18:54:39.568847",
     "status": "completed"
    },
    "tags": []
   },
   "outputs": [
    {
     "name": "stdout",
     "output_type": "stream",
     "text": [
      "Number of Unique values:  8007 \n",
      " Distribution of values: \n",
      " Host_Popularity_percentage\n",
      "38.68    0.000747\n",
      "26.72    0.000697\n",
      "56.29    0.000653\n",
      "30.14    0.000593\n",
      "31.57    0.000585\n",
      "           ...   \n",
      "1.77     0.000003\n",
      "1.30     0.000001\n",
      "39.18    0.000001\n",
      "1.73     0.000001\n",
      "1.47     0.000001\n",
      "Name: proportion, Length: 8007, dtype: float64\n"
     ]
    }
   ],
   "source": [
    "# We replace the erroneous values\n",
    "\n",
    "listening_new[\"Host_Popularity_percentage\"] = np.where(\n",
    "    listening_new[\"Host_Popularity_percentage\"] > 100, 100, listening_new[\"Host_Popularity_percentage\"]\n",
    ").round(decimals=2)\n",
    "\n",
    "print(\n",
    "    \"Number of Unique values: \", listening_new[\"Host_Popularity_percentage\"].nunique(), \"\\n\",\n",
    "    \"Distribution of values: \\n\", listening_new[\"Host_Popularity_percentage\"].value_counts(normalize=True)\n",
    ")"
   ]
  },
  {
   "cell_type": "code",
   "execution_count": 7,
   "id": "1ff7cb3d",
   "metadata": {
    "execution": {
     "iopub.execute_input": "2025-04-20T18:54:39.674787Z",
     "iopub.status.busy": "2025-04-20T18:54:39.674390Z",
     "iopub.status.idle": "2025-04-20T18:54:39.684340Z",
     "shell.execute_reply": "2025-04-20T18:54:39.683224Z"
    },
    "papermill": {
     "duration": 0.021787,
     "end_time": "2025-04-20T18:54:39.686413",
     "exception": false,
     "start_time": "2025-04-20T18:54:39.664626",
     "status": "completed"
    },
    "tags": []
   },
   "outputs": [],
   "source": [
    "# We replace the erroneous values\n",
    "\n",
    "listening_new[\"Guest_Popularity_percentage\"] = np.where(\n",
    "    listening_new[\"Guest_Popularity_percentage\"] > 100, 100, listening_new[\"Guest_Popularity_percentage\"]\n",
    ")"
   ]
  },
  {
   "cell_type": "code",
   "execution_count": 8,
   "id": "49591b8c",
   "metadata": {
    "execution": {
     "iopub.execute_input": "2025-04-20T18:54:39.712538Z",
     "iopub.status.busy": "2025-04-20T18:54:39.712151Z",
     "iopub.status.idle": "2025-04-20T18:54:40.022862Z",
     "shell.execute_reply": "2025-04-20T18:54:40.021961Z"
    },
    "papermill": {
     "duration": 0.326931,
     "end_time": "2025-04-20T18:54:40.025004",
     "exception": false,
     "start_time": "2025-04-20T18:54:39.698073",
     "status": "completed"
    },
    "tags": []
   },
   "outputs": [],
   "source": [
    "listening_new.dropna(inplace=True)"
   ]
  },
  {
   "cell_type": "code",
   "execution_count": 9,
   "id": "aeb247e5",
   "metadata": {
    "execution": {
     "iopub.execute_input": "2025-04-20T18:54:40.051492Z",
     "iopub.status.busy": "2025-04-20T18:54:40.050464Z",
     "iopub.status.idle": "2025-04-20T18:54:40.057990Z",
     "shell.execute_reply": "2025-04-20T18:54:40.057165Z"
    },
    "papermill": {
     "duration": 0.018786,
     "end_time": "2025-04-20T18:54:40.059504",
     "exception": false,
     "start_time": "2025-04-20T18:54:40.040718",
     "status": "completed"
    },
    "tags": []
   },
   "outputs": [
    {
     "data": {
      "text/plain": [
       "'\\n# We replace the erroneous values\\n\\nlistening_new[\"Guest_Popularity_percentage\"] = np.where(\\n    listening_new[\"Guest_Popularity_percentage\"] > 100, 100, listening_new[\"Guest_Popularity_percentage\"]\\n)\\n\\n# We fill null values with the mean groupby Podcast\\n\\nlistening_new[\"Guest_Popularity_percentage\"] = (\\n    listening_new[\"Guest_Popularity_percentage\"].fillna(\\n        listening_new.groupby(\"Podcast_Name\")[\"Guest_Popularity_percentage\"].transform(\"mean\")\\n    )\\n).round(decimals=2)\\n\\nprint(\\n    \"Number of Unique values: \", listening_new[\"Guest_Popularity_percentage\"].nunique(), \"\\n\",\\n    \"Number of null values: \", listening_new[\"Guest_Popularity_percentage\"].isnull().sum(), \"\\n\\n\",\\n    \"Distribution of values: \\n\", listening_new[\"Guest_Popularity_percentage\"].value_counts(normalize=True)\\n)\\n'"
      ]
     },
     "execution_count": 9,
     "metadata": {},
     "output_type": "execute_result"
    }
   ],
   "source": [
    "'''\n",
    "# We replace the erroneous values\n",
    "\n",
    "listening_new[\"Guest_Popularity_percentage\"] = np.where(\n",
    "    listening_new[\"Guest_Popularity_percentage\"] > 100, 100, listening_new[\"Guest_Popularity_percentage\"]\n",
    ")\n",
    "\n",
    "# We fill null values with the mean groupby Podcast\n",
    "\n",
    "listening_new[\"Guest_Popularity_percentage\"] = (\n",
    "    listening_new[\"Guest_Popularity_percentage\"].fillna(\n",
    "        listening_new.groupby(\"Podcast_Name\")[\"Guest_Popularity_percentage\"].transform(\"mean\")\n",
    "    )\n",
    ").round(decimals=2)\n",
    "\n",
    "print(\n",
    "    \"Number of Unique values: \", listening_new[\"Guest_Popularity_percentage\"].nunique(), \"\\n\",\n",
    "    \"Number of null values: \", listening_new[\"Guest_Popularity_percentage\"].isnull().sum(), \"\\n\\n\",\n",
    "    \"Distribution of values: \\n\", listening_new[\"Guest_Popularity_percentage\"].value_counts(normalize=True)\n",
    ")\n",
    "'''"
   ]
  },
  {
   "cell_type": "code",
   "execution_count": 10,
   "id": "970297d3",
   "metadata": {
    "execution": {
     "iopub.execute_input": "2025-04-20T18:54:40.079199Z",
     "iopub.status.busy": "2025-04-20T18:54:40.078286Z",
     "iopub.status.idle": "2025-04-20T18:54:40.084940Z",
     "shell.execute_reply": "2025-04-20T18:54:40.084072Z"
    },
    "papermill": {
     "duration": 0.01798,
     "end_time": "2025-04-20T18:54:40.086402",
     "exception": false,
     "start_time": "2025-04-20T18:54:40.068422",
     "status": "completed"
    },
    "tags": []
   },
   "outputs": [
    {
     "data": {
      "text/plain": [
       "'\\n# We fill null values with the mean groupby Podcast\\n\\nlistening_new[\"Episode_Length_minutes\"] = (listening_new[\"Episode_Length_minutes\"].fillna(\\n    listening_new.groupby(\"Podcast_Name\")[\"Episode_Length_minutes\"].transform(\"mean\")\\n))\\nprint(\\n    \"Number of null values: \", listening_new[\"Episode_Length_minutes\"].isnull().sum(), \"\\n\\n\",\\n    \"Distribution of values: \\n\", listening_new[\"Episode_Length_minutes\"].value_counts(normalize=True)\\n)\\n'"
      ]
     },
     "execution_count": 10,
     "metadata": {},
     "output_type": "execute_result"
    }
   ],
   "source": [
    "'''\n",
    "# We fill null values with the mean groupby Podcast\n",
    "\n",
    "listening_new[\"Episode_Length_minutes\"] = (listening_new[\"Episode_Length_minutes\"].fillna(\n",
    "    listening_new.groupby(\"Podcast_Name\")[\"Episode_Length_minutes\"].transform(\"mean\")\n",
    "))\n",
    "print(\n",
    "    \"Number of null values: \", listening_new[\"Episode_Length_minutes\"].isnull().sum(), \"\\n\\n\",\n",
    "    \"Distribution of values: \\n\", listening_new[\"Episode_Length_minutes\"].value_counts(normalize=True)\n",
    ")\n",
    "'''"
   ]
  },
  {
   "cell_type": "code",
   "execution_count": 11,
   "id": "dac4cfa5",
   "metadata": {
    "execution": {
     "iopub.execute_input": "2025-04-20T18:54:40.106169Z",
     "iopub.status.busy": "2025-04-20T18:54:40.105373Z",
     "iopub.status.idle": "2025-04-20T18:54:40.379155Z",
     "shell.execute_reply": "2025-04-20T18:54:40.378181Z"
    },
    "papermill": {
     "duration": 0.285854,
     "end_time": "2025-04-20T18:54:40.381202",
     "exception": false,
     "start_time": "2025-04-20T18:54:40.095348",
     "status": "completed"
    },
    "tags": []
   },
   "outputs": [],
   "source": [
    "# We changed the format for more efficient memory usage\n",
    "\n",
    "listening_new[listening_new.select_dtypes([\"object\"]).columns] = (\n",
    "    listening_new.select_dtypes([\"object\"]).apply(\n",
    "        lambda x: x.astype(\"category\"))\n",
    ")"
   ]
  },
  {
   "cell_type": "code",
   "execution_count": 12,
   "id": "e839996d",
   "metadata": {
    "execution": {
     "iopub.execute_input": "2025-04-20T18:54:40.407835Z",
     "iopub.status.busy": "2025-04-20T18:54:40.407439Z",
     "iopub.status.idle": "2025-04-20T18:54:40.449094Z",
     "shell.execute_reply": "2025-04-20T18:54:40.447928Z"
    },
    "papermill": {
     "duration": 0.053175,
     "end_time": "2025-04-20T18:54:40.450676",
     "exception": false,
     "start_time": "2025-04-20T18:54:40.397501",
     "status": "completed"
    },
    "tags": []
   },
   "outputs": [
    {
     "name": "stdout",
     "output_type": "stream",
     "text": [
      "<class 'pandas.core.frame.DataFrame'>\n",
      "Index: 539049 entries, 1 to 749999\n",
      "Data columns (total 11 columns):\n",
      " #   Column                       Non-Null Count   Dtype   \n",
      "---  ------                       --------------   -----   \n",
      " 0   Podcast_Name                 539049 non-null  category\n",
      " 1   Episode_Title                539049 non-null  category\n",
      " 2   Episode_Length_minutes       539049 non-null  float64 \n",
      " 3   Genre                        539049 non-null  category\n",
      " 4   Host_Popularity_percentage   539049 non-null  float64 \n",
      " 5   Publication_Day              539049 non-null  category\n",
      " 6   Publication_Time             539049 non-null  category\n",
      " 7   Guest_Popularity_percentage  539049 non-null  float64 \n",
      " 8   Number_of_Ads                539049 non-null  float64 \n",
      " 9   Episode_Sentiment            539049 non-null  category\n",
      " 10  Listening_Time_minutes       539049 non-null  float64 \n",
      "dtypes: category(6), float64(5)\n",
      "memory usage: 27.8 MB\n"
     ]
    }
   ],
   "source": [
    "listening_new.info()"
   ]
  },
  {
   "cell_type": "markdown",
   "id": "9093db67",
   "metadata": {
    "papermill": {
     "duration": 0.008659,
     "end_time": "2025-04-20T18:54:40.468291",
     "exception": false,
     "start_time": "2025-04-20T18:54:40.459632",
     "status": "completed"
    },
    "tags": []
   },
   "source": [
    "# Data preprocessing"
   ]
  },
  {
   "cell_type": "code",
   "execution_count": 13,
   "id": "e5527bd1",
   "metadata": {
    "execution": {
     "iopub.execute_input": "2025-04-20T18:54:40.551223Z",
     "iopub.status.busy": "2025-04-20T18:54:40.550890Z",
     "iopub.status.idle": "2025-04-20T18:54:40.571776Z",
     "shell.execute_reply": "2025-04-20T18:54:40.570821Z"
    },
    "papermill": {
     "duration": 0.032562,
     "end_time": "2025-04-20T18:54:40.573465",
     "exception": false,
     "start_time": "2025-04-20T18:54:40.540903",
     "status": "completed"
    },
    "tags": []
   },
   "outputs": [],
   "source": [
    "listening_end = listening_new.copy()"
   ]
  },
  {
   "cell_type": "code",
   "execution_count": 14,
   "id": "53b879c2",
   "metadata": {
    "execution": {
     "iopub.execute_input": "2025-04-20T18:54:40.593207Z",
     "iopub.status.busy": "2025-04-20T18:54:40.592773Z",
     "iopub.status.idle": "2025-04-20T18:54:40.604851Z",
     "shell.execute_reply": "2025-04-20T18:54:40.603665Z"
    },
    "papermill": {
     "duration": 0.024244,
     "end_time": "2025-04-20T18:54:40.606680",
     "exception": false,
     "start_time": "2025-04-20T18:54:40.582436",
     "status": "completed"
    },
    "tags": []
   },
   "outputs": [],
   "source": [
    "# We map the variables and change the format\n",
    "\n",
    "eps_order = {\"Negative\" : 0, \"Neutral\" : 1, \"Positive\" : 2}\n",
    "listening_end[\"Episode_Sentiment\"] = listening_end[\"Episode_Sentiment\"].map(eps_order)\n",
    "listening_end[\"Episode_Sentiment\"] = listening_end[\"Episode_Sentiment\"].astype(\"float64\")"
   ]
  },
  {
   "cell_type": "code",
   "execution_count": 15,
   "id": "9653b667",
   "metadata": {
    "execution": {
     "iopub.execute_input": "2025-04-20T18:54:40.628027Z",
     "iopub.status.busy": "2025-04-20T18:54:40.627202Z",
     "iopub.status.idle": "2025-04-20T18:54:40.657542Z",
     "shell.execute_reply": "2025-04-20T18:54:40.656456Z"
    },
    "papermill": {
     "duration": 0.042895,
     "end_time": "2025-04-20T18:54:40.659630",
     "exception": false,
     "start_time": "2025-04-20T18:54:40.616735",
     "status": "completed"
    },
    "tags": []
   },
   "outputs": [],
   "source": [
    "# We separate the categorical variables from the numerical ones\n",
    "\n",
    "df_numerical = listening_end.select_dtypes(include=\"number\")\n",
    "df_categorical = listening_end.select_dtypes(include=\"category\")"
   ]
  },
  {
   "cell_type": "markdown",
   "id": "b6c720f8",
   "metadata": {
    "papermill": {
     "duration": 0.008815,
     "end_time": "2025-04-20T18:54:40.678149",
     "exception": false,
     "start_time": "2025-04-20T18:54:40.669334",
     "status": "completed"
    },
    "tags": []
   },
   "source": [
    "## Encode"
   ]
  },
  {
   "cell_type": "code",
   "execution_count": 16,
   "id": "fd19528f",
   "metadata": {
    "execution": {
     "iopub.execute_input": "2025-04-20T18:54:40.698039Z",
     "iopub.status.busy": "2025-04-20T18:54:40.697136Z",
     "iopub.status.idle": "2025-04-20T18:54:41.303285Z",
     "shell.execute_reply": "2025-04-20T18:54:41.302017Z"
    },
    "papermill": {
     "duration": 0.617885,
     "end_time": "2025-04-20T18:54:41.305019",
     "exception": false,
     "start_time": "2025-04-20T18:54:40.687134",
     "status": "completed"
    },
    "tags": []
   },
   "outputs": [],
   "source": [
    "# We apply OrdinalEncoder to the remaining categorical variables\n",
    "\n",
    "enc = OrdinalEncoder(categories=\"auto\").set_output(transform=\"pandas\")\n",
    "\n",
    "enc_data = enc.fit_transform(df_categorical)\n",
    "\n",
    "df_listening = pd.concat([enc_data, df_numerical], axis=1)"
   ]
  },
  {
   "cell_type": "code",
   "execution_count": 17,
   "id": "46eba23d",
   "metadata": {
    "execution": {
     "iopub.execute_input": "2025-04-20T18:54:41.325631Z",
     "iopub.status.busy": "2025-04-20T18:54:41.325285Z",
     "iopub.status.idle": "2025-04-20T18:54:41.587925Z",
     "shell.execute_reply": "2025-04-20T18:54:41.587033Z"
    },
    "papermill": {
     "duration": 0.275325,
     "end_time": "2025-04-20T18:54:41.589500",
     "exception": false,
     "start_time": "2025-04-20T18:54:41.314175",
     "status": "completed"
    },
    "tags": []
   },
   "outputs": [
    {
     "data": {
      "text/html": [
       "<style type=\"text/css\">\n",
       "#T_81c12_row0_col0, #T_81c12_row1_col1, #T_81c12_row2_col2, #T_81c12_row3_col3, #T_81c12_row4_col4, #T_81c12_row5_col5, #T_81c12_row6_col6, #T_81c12_row7_col7, #T_81c12_row8_col8, #T_81c12_row9_col9, #T_81c12_row10_col10 {\n",
       "  background-color: #00441b;\n",
       "  color: #f1f1f1;\n",
       "}\n",
       "#T_81c12_row0_col1, #T_81c12_row0_col9, #T_81c12_row2_col1, #T_81c12_row3_col9, #T_81c12_row6_col9, #T_81c12_row9_col6 {\n",
       "  background-color: #f4fbf1;\n",
       "  color: #000000;\n",
       "}\n",
       "#T_81c12_row0_col2 {\n",
       "  background-color: #d7efd1;\n",
       "  color: #000000;\n",
       "}\n",
       "#T_81c12_row0_col3, #T_81c12_row0_col4, #T_81c12_row0_col7, #T_81c12_row1_col0, #T_81c12_row1_col4, #T_81c12_row2_col3, #T_81c12_row2_col4, #T_81c12_row3_col0, #T_81c12_row3_col4, #T_81c12_row4_col2, #T_81c12_row4_col7, #T_81c12_row5_col0, #T_81c12_row5_col2, #T_81c12_row5_col3, #T_81c12_row6_col4, #T_81c12_row8_col3, #T_81c12_row9_col0, #T_81c12_row9_col2, #T_81c12_row9_col3, #T_81c12_row10_col0, #T_81c12_row10_col3 {\n",
       "  background-color: #f6fcf4;\n",
       "  color: #000000;\n",
       "}\n",
       "#T_81c12_row0_col5, #T_81c12_row3_col5, #T_81c12_row7_col1, #T_81c12_row10_col9 {\n",
       "  background-color: #eff9ec;\n",
       "  color: #000000;\n",
       "}\n",
       "#T_81c12_row0_col6, #T_81c12_row1_col9, #T_81c12_row2_col7, #T_81c12_row2_col9, #T_81c12_row3_col6, #T_81c12_row4_col6, #T_81c12_row5_col4, #T_81c12_row9_col1, #T_81c12_row9_col4 {\n",
       "  background-color: #f5fbf2;\n",
       "  color: #000000;\n",
       "}\n",
       "#T_81c12_row0_col8, #T_81c12_row0_col10, #T_81c12_row1_col8, #T_81c12_row2_col10, #T_81c12_row3_col8, #T_81c12_row3_col10 {\n",
       "  background-color: #e7f6e2;\n",
       "  color: #000000;\n",
       "}\n",
       "#T_81c12_row1_col2, #T_81c12_row2_col6, #T_81c12_row3_col2, #T_81c12_row3_col7, #T_81c12_row7_col2, #T_81c12_row8_col0, #T_81c12_row9_col7, #T_81c12_row10_col2 {\n",
       "  background-color: #f5fbf3;\n",
       "  color: #000000;\n",
       "}\n",
       "#T_81c12_row1_col3, #T_81c12_row4_col0, #T_81c12_row4_col3, #T_81c12_row5_col1, #T_81c12_row5_col7, #T_81c12_row6_col0, #T_81c12_row6_col2, #T_81c12_row6_col3, #T_81c12_row7_col0, #T_81c12_row7_col3, #T_81c12_row7_col4, #T_81c12_row8_col2, #T_81c12_row8_col4, #T_81c12_row8_col5, #T_81c12_row8_col6, #T_81c12_row8_col9, #T_81c12_row8_col10, #T_81c12_row10_col1, #T_81c12_row10_col7, #T_81c12_row10_col8 {\n",
       "  background-color: #f7fcf5;\n",
       "  color: #000000;\n",
       "}\n",
       "#T_81c12_row1_col5, #T_81c12_row4_col9 {\n",
       "  background-color: #f2faf0;\n",
       "  color: #000000;\n",
       "}\n",
       "#T_81c12_row1_col6, #T_81c12_row5_col6, #T_81c12_row5_col9, #T_81c12_row6_col1, #T_81c12_row7_col5, #T_81c12_row7_col6 {\n",
       "  background-color: #f1faee;\n",
       "  color: #000000;\n",
       "}\n",
       "#T_81c12_row1_col7 {\n",
       "  background-color: #f0f9ec;\n",
       "  color: #000000;\n",
       "}\n",
       "#T_81c12_row1_col10, #T_81c12_row6_col8, #T_81c12_row9_col8 {\n",
       "  background-color: #eaf7e6;\n",
       "  color: #000000;\n",
       "}\n",
       "#T_81c12_row2_col0 {\n",
       "  background-color: #d8f0d2;\n",
       "  color: #000000;\n",
       "}\n",
       "#T_81c12_row2_col5 {\n",
       "  background-color: #f0f9ed;\n",
       "  color: #000000;\n",
       "}\n",
       "#T_81c12_row2_col8 {\n",
       "  background-color: #e8f6e3;\n",
       "  color: #000000;\n",
       "}\n",
       "#T_81c12_row3_col1, #T_81c12_row4_col1, #T_81c12_row7_col9, #T_81c12_row8_col7, #T_81c12_row10_col4 {\n",
       "  background-color: #f4fbf2;\n",
       "  color: #000000;\n",
       "}\n",
       "#T_81c12_row4_col5, #T_81c12_row5_col8 {\n",
       "  background-color: #eff9eb;\n",
       "  color: #000000;\n",
       "}\n",
       "#T_81c12_row4_col8 {\n",
       "  background-color: #e8f6e4;\n",
       "  color: #000000;\n",
       "}\n",
       "#T_81c12_row4_col10, #T_81c12_row7_col8 {\n",
       "  background-color: #e6f5e1;\n",
       "  color: #000000;\n",
       "}\n",
       "#T_81c12_row5_col10 {\n",
       "  background-color: #005c25;\n",
       "  color: #f1f1f1;\n",
       "}\n",
       "#T_81c12_row6_col5, #T_81c12_row9_col5 {\n",
       "  background-color: #edf8e9;\n",
       "  color: #000000;\n",
       "}\n",
       "#T_81c12_row6_col7 {\n",
       "  background-color: #f2faef;\n",
       "  color: #000000;\n",
       "}\n",
       "#T_81c12_row6_col10 {\n",
       "  background-color: #dff3da;\n",
       "  color: #000000;\n",
       "}\n",
       "#T_81c12_row7_col10 {\n",
       "  background-color: #e9f7e5;\n",
       "  color: #000000;\n",
       "}\n",
       "#T_81c12_row8_col1 {\n",
       "  background-color: #f3faf0;\n",
       "  color: #000000;\n",
       "}\n",
       "#T_81c12_row9_col10 {\n",
       "  background-color: #e1f3dc;\n",
       "  color: #000000;\n",
       "}\n",
       "#T_81c12_row10_col5 {\n",
       "  background-color: #005e26;\n",
       "  color: #f1f1f1;\n",
       "}\n",
       "#T_81c12_row10_col6 {\n",
       "  background-color: #eef8ea;\n",
       "  color: #000000;\n",
       "}\n",
       "</style>\n",
       "<table id=\"T_81c12\">\n",
       "  <thead>\n",
       "    <tr>\n",
       "      <th class=\"blank level0\" >&nbsp;</th>\n",
       "      <th id=\"T_81c12_level0_col0\" class=\"col_heading level0 col0\" >Podcast_Name</th>\n",
       "      <th id=\"T_81c12_level0_col1\" class=\"col_heading level0 col1\" >Episode_Title</th>\n",
       "      <th id=\"T_81c12_level0_col2\" class=\"col_heading level0 col2\" >Genre</th>\n",
       "      <th id=\"T_81c12_level0_col3\" class=\"col_heading level0 col3\" >Publication_Day</th>\n",
       "      <th id=\"T_81c12_level0_col4\" class=\"col_heading level0 col4\" >Publication_Time</th>\n",
       "      <th id=\"T_81c12_level0_col5\" class=\"col_heading level0 col5\" >Episode_Length_minutes</th>\n",
       "      <th id=\"T_81c12_level0_col6\" class=\"col_heading level0 col6\" >Host_Popularity_percentage</th>\n",
       "      <th id=\"T_81c12_level0_col7\" class=\"col_heading level0 col7\" >Guest_Popularity_percentage</th>\n",
       "      <th id=\"T_81c12_level0_col8\" class=\"col_heading level0 col8\" >Number_of_Ads</th>\n",
       "      <th id=\"T_81c12_level0_col9\" class=\"col_heading level0 col9\" >Episode_Sentiment</th>\n",
       "      <th id=\"T_81c12_level0_col10\" class=\"col_heading level0 col10\" >Listening_Time_minutes</th>\n",
       "    </tr>\n",
       "  </thead>\n",
       "  <tbody>\n",
       "    <tr>\n",
       "      <th id=\"T_81c12_level0_row0\" class=\"row_heading level0 row0\" >Podcast_Name</th>\n",
       "      <td id=\"T_81c12_row0_col0\" class=\"data row0 col0\" >1.000000</td>\n",
       "      <td id=\"T_81c12_row0_col1\" class=\"data row0 col1\" >0.006888</td>\n",
       "      <td id=\"T_81c12_row0_col2\" class=\"data row0 col2\" >0.178960</td>\n",
       "      <td id=\"T_81c12_row0_col3\" class=\"data row0 col3\" >0.002305</td>\n",
       "      <td id=\"T_81c12_row0_col4\" class=\"data row0 col4\" >-0.003920</td>\n",
       "      <td id=\"T_81c12_row0_col5\" class=\"data row0 col5\" >0.005552</td>\n",
       "      <td id=\"T_81c12_row0_col6\" class=\"data row0 col6\" >-0.002932</td>\n",
       "      <td id=\"T_81c12_row0_col7\" class=\"data row0 col7\" >-0.004145</td>\n",
       "      <td id=\"T_81c12_row0_col8\" class=\"data row0 col8\" >0.008332</td>\n",
       "      <td id=\"T_81c12_row0_col9\" class=\"data row0 col9\" >0.002715</td>\n",
       "      <td id=\"T_81c12_row0_col10\" class=\"data row0 col10\" >0.004926</td>\n",
       "    </tr>\n",
       "    <tr>\n",
       "      <th id=\"T_81c12_level0_row1\" class=\"row_heading level0 row1\" >Episode_Title</th>\n",
       "      <td id=\"T_81c12_row1_col0\" class=\"data row1 col0\" >0.006888</td>\n",
       "      <td id=\"T_81c12_row1_col1\" class=\"data row1 col1\" >1.000000</td>\n",
       "      <td id=\"T_81c12_row1_col2\" class=\"data row1 col2\" >0.006393</td>\n",
       "      <td id=\"T_81c12_row1_col3\" class=\"data row1 col3\" >0.000483</td>\n",
       "      <td id=\"T_81c12_row1_col4\" class=\"data row1 col4\" >0.000421</td>\n",
       "      <td id=\"T_81c12_row1_col5\" class=\"data row1 col5\" >-0.020702</td>\n",
       "      <td id=\"T_81c12_row1_col6\" class=\"data row1 col6\" >0.021065</td>\n",
       "      <td id=\"T_81c12_row1_col7\" class=\"data row1 col7\" >0.038394</td>\n",
       "      <td id=\"T_81c12_row1_col8\" class=\"data row1 col8\" >0.007482</td>\n",
       "      <td id=\"T_81c12_row1_col9\" class=\"data row1 col9\" >-0.004185</td>\n",
       "      <td id=\"T_81c12_row1_col10\" class=\"data row1 col10\" >-0.019772</td>\n",
       "    </tr>\n",
       "    <tr>\n",
       "      <th id=\"T_81c12_level0_row2\" class=\"row_heading level0 row2\" >Genre</th>\n",
       "      <td id=\"T_81c12_row2_col0\" class=\"data row2 col0\" >0.178960</td>\n",
       "      <td id=\"T_81c12_row2_col1\" class=\"data row2 col1\" >0.006393</td>\n",
       "      <td id=\"T_81c12_row2_col2\" class=\"data row2 col2\" >1.000000</td>\n",
       "      <td id=\"T_81c12_row2_col3\" class=\"data row2 col3\" >0.003841</td>\n",
       "      <td id=\"T_81c12_row2_col4\" class=\"data row2 col4\" >-0.001384</td>\n",
       "      <td id=\"T_81c12_row2_col5\" class=\"data row2 col5\" >-0.003672</td>\n",
       "      <td id=\"T_81c12_row2_col6\" class=\"data row2 col6\" >-0.008252</td>\n",
       "      <td id=\"T_81c12_row2_col7\" class=\"data row2 col7\" >0.006257</td>\n",
       "      <td id=\"T_81c12_row2_col8\" class=\"data row2 col8\" >-0.004431</td>\n",
       "      <td id=\"T_81c12_row2_col9\" class=\"data row2 col9\" >-0.003389</td>\n",
       "      <td id=\"T_81c12_row2_col10\" class=\"data row2 col10\" >0.004616</td>\n",
       "    </tr>\n",
       "    <tr>\n",
       "      <th id=\"T_81c12_level0_row3\" class=\"row_heading level0 row3\" >Publication_Day</th>\n",
       "      <td id=\"T_81c12_row3_col0\" class=\"data row3 col0\" >0.002305</td>\n",
       "      <td id=\"T_81c12_row3_col1\" class=\"data row3 col1\" >0.000483</td>\n",
       "      <td id=\"T_81c12_row3_col2\" class=\"data row3 col2\" >0.003841</td>\n",
       "      <td id=\"T_81c12_row3_col3\" class=\"data row3 col3\" >1.000000</td>\n",
       "      <td id=\"T_81c12_row3_col4\" class=\"data row3 col4\" >-0.000826</td>\n",
       "      <td id=\"T_81c12_row3_col5\" class=\"data row3 col5\" >0.005649</td>\n",
       "      <td id=\"T_81c12_row3_col6\" class=\"data row3 col6\" >-0.002642</td>\n",
       "      <td id=\"T_81c12_row3_col7\" class=\"data row3 col7\" >0.000103</td>\n",
       "      <td id=\"T_81c12_row3_col8\" class=\"data row3 col8\" >0.007247</td>\n",
       "      <td id=\"T_81c12_row3_col9\" class=\"data row3 col9\" >0.003195</td>\n",
       "      <td id=\"T_81c12_row3_col10\" class=\"data row3 col10\" >0.004828</td>\n",
       "    </tr>\n",
       "    <tr>\n",
       "      <th id=\"T_81c12_level0_row4\" class=\"row_heading level0 row4\" >Publication_Time</th>\n",
       "      <td id=\"T_81c12_row4_col0\" class=\"data row4 col0\" >-0.003920</td>\n",
       "      <td id=\"T_81c12_row4_col1\" class=\"data row4 col1\" >0.000421</td>\n",
       "      <td id=\"T_81c12_row4_col2\" class=\"data row4 col2\" >-0.001384</td>\n",
       "      <td id=\"T_81c12_row4_col3\" class=\"data row4 col3\" >-0.000826</td>\n",
       "      <td id=\"T_81c12_row4_col4\" class=\"data row4 col4\" >1.000000</td>\n",
       "      <td id=\"T_81c12_row4_col5\" class=\"data row4 col5\" >0.010177</td>\n",
       "      <td id=\"T_81c12_row4_col6\" class=\"data row4 col6\" >-0.001841</td>\n",
       "      <td id=\"T_81c12_row4_col7\" class=\"data row4 col7\" >-0.006775</td>\n",
       "      <td id=\"T_81c12_row4_col8\" class=\"data row4 col8\" >-0.008343</td>\n",
       "      <td id=\"T_81c12_row4_col9\" class=\"data row4 col9\" >0.010675</td>\n",
       "      <td id=\"T_81c12_row4_col10\" class=\"data row4 col10\" >0.011506</td>\n",
       "    </tr>\n",
       "    <tr>\n",
       "      <th id=\"T_81c12_level0_row5\" class=\"row_heading level0 row5\" >Episode_Length_minutes</th>\n",
       "      <td id=\"T_81c12_row5_col0\" class=\"data row5 col0\" >0.005552</td>\n",
       "      <td id=\"T_81c12_row5_col1\" class=\"data row5 col1\" >-0.020702</td>\n",
       "      <td id=\"T_81c12_row5_col2\" class=\"data row5 col2\" >-0.003672</td>\n",
       "      <td id=\"T_81c12_row5_col3\" class=\"data row5 col3\" >0.005649</td>\n",
       "      <td id=\"T_81c12_row5_col4\" class=\"data row5 col4\" >0.010177</td>\n",
       "      <td id=\"T_81c12_row5_col5\" class=\"data row5 col5\" >1.000000</td>\n",
       "      <td id=\"T_81c12_row5_col6\" class=\"data row5 col6\" >0.021038</td>\n",
       "      <td id=\"T_81c12_row5_col7\" class=\"data row5 col7\" >-0.009699</td>\n",
       "      <td id=\"T_81c12_row5_col8\" class=\"data row5 col8\" >-0.054865</td>\n",
       "      <td id=\"T_81c12_row5_col9\" class=\"data row5 col9\" >0.020101</td>\n",
       "      <td id=\"T_81c12_row5_col10\" class=\"data row5 col10\" >0.915462</td>\n",
       "    </tr>\n",
       "    <tr>\n",
       "      <th id=\"T_81c12_level0_row6\" class=\"row_heading level0 row6\" >Host_Popularity_percentage</th>\n",
       "      <td id=\"T_81c12_row6_col0\" class=\"data row6 col0\" >-0.002932</td>\n",
       "      <td id=\"T_81c12_row6_col1\" class=\"data row6 col1\" >0.021065</td>\n",
       "      <td id=\"T_81c12_row6_col2\" class=\"data row6 col2\" >-0.008252</td>\n",
       "      <td id=\"T_81c12_row6_col3\" class=\"data row6 col3\" >-0.002642</td>\n",
       "      <td id=\"T_81c12_row6_col4\" class=\"data row6 col4\" >-0.001841</td>\n",
       "      <td id=\"T_81c12_row6_col5\" class=\"data row6 col5\" >0.021038</td>\n",
       "      <td id=\"T_81c12_row6_col6\" class=\"data row6 col6\" >1.000000</td>\n",
       "      <td id=\"T_81c12_row6_col7\" class=\"data row6 col7\" >0.023072</td>\n",
       "      <td id=\"T_81c12_row6_col8\" class=\"data row6 col8\" >-0.021174</td>\n",
       "      <td id=\"T_81c12_row6_col9\" class=\"data row6 col9\" >0.004831</td>\n",
       "      <td id=\"T_81c12_row6_col10\" class=\"data row6 col10\" >0.046092</td>\n",
       "    </tr>\n",
       "    <tr>\n",
       "      <th id=\"T_81c12_level0_row7\" class=\"row_heading level0 row7\" >Guest_Popularity_percentage</th>\n",
       "      <td id=\"T_81c12_row7_col0\" class=\"data row7 col0\" >-0.004145</td>\n",
       "      <td id=\"T_81c12_row7_col1\" class=\"data row7 col1\" >0.038394</td>\n",
       "      <td id=\"T_81c12_row7_col2\" class=\"data row7 col2\" >0.006257</td>\n",
       "      <td id=\"T_81c12_row7_col3\" class=\"data row7 col3\" >0.000103</td>\n",
       "      <td id=\"T_81c12_row7_col4\" class=\"data row7 col4\" >-0.006775</td>\n",
       "      <td id=\"T_81c12_row7_col5\" class=\"data row7 col5\" >-0.009699</td>\n",
       "      <td id=\"T_81c12_row7_col6\" class=\"data row7 col6\" >0.023072</td>\n",
       "      <td id=\"T_81c12_row7_col7\" class=\"data row7 col7\" >1.000000</td>\n",
       "      <td id=\"T_81c12_row7_col8\" class=\"data row7 col8\" >0.009071</td>\n",
       "      <td id=\"T_81c12_row7_col9\" class=\"data row7 col9\" >0.001149</td>\n",
       "      <td id=\"T_81c12_row7_col10\" class=\"data row7 col10\" >-0.013246</td>\n",
       "    </tr>\n",
       "    <tr>\n",
       "      <th id=\"T_81c12_level0_row8\" class=\"row_heading level0 row8\" >Number_of_Ads</th>\n",
       "      <td id=\"T_81c12_row8_col0\" class=\"data row8 col0\" >0.008332</td>\n",
       "      <td id=\"T_81c12_row8_col1\" class=\"data row8 col1\" >0.007482</td>\n",
       "      <td id=\"T_81c12_row8_col2\" class=\"data row8 col2\" >-0.004431</td>\n",
       "      <td id=\"T_81c12_row8_col3\" class=\"data row8 col3\" >0.007247</td>\n",
       "      <td id=\"T_81c12_row8_col4\" class=\"data row8 col4\" >-0.008343</td>\n",
       "      <td id=\"T_81c12_row8_col5\" class=\"data row8 col5\" >-0.054865</td>\n",
       "      <td id=\"T_81c12_row8_col6\" class=\"data row8 col6\" >-0.021174</td>\n",
       "      <td id=\"T_81c12_row8_col7\" class=\"data row8 col7\" >0.009071</td>\n",
       "      <td id=\"T_81c12_row8_col8\" class=\"data row8 col8\" >1.000000</td>\n",
       "      <td id=\"T_81c12_row8_col9\" class=\"data row8 col9\" >-0.021429</td>\n",
       "      <td id=\"T_81c12_row8_col10\" class=\"data row8 col10\" >-0.122978</td>\n",
       "    </tr>\n",
       "    <tr>\n",
       "      <th id=\"T_81c12_level0_row9\" class=\"row_heading level0 row9\" >Episode_Sentiment</th>\n",
       "      <td id=\"T_81c12_row9_col0\" class=\"data row9 col0\" >0.002715</td>\n",
       "      <td id=\"T_81c12_row9_col1\" class=\"data row9 col1\" >-0.004185</td>\n",
       "      <td id=\"T_81c12_row9_col2\" class=\"data row9 col2\" >-0.003389</td>\n",
       "      <td id=\"T_81c12_row9_col3\" class=\"data row9 col3\" >0.003195</td>\n",
       "      <td id=\"T_81c12_row9_col4\" class=\"data row9 col4\" >0.010675</td>\n",
       "      <td id=\"T_81c12_row9_col5\" class=\"data row9 col5\" >0.020101</td>\n",
       "      <td id=\"T_81c12_row9_col6\" class=\"data row9 col6\" >0.004831</td>\n",
       "      <td id=\"T_81c12_row9_col7\" class=\"data row9 col7\" >0.001149</td>\n",
       "      <td id=\"T_81c12_row9_col8\" class=\"data row9 col8\" >-0.021429</td>\n",
       "      <td id=\"T_81c12_row9_col9\" class=\"data row9 col9\" >1.000000</td>\n",
       "      <td id=\"T_81c12_row9_col10\" class=\"data row9 col10\" >0.035618</td>\n",
       "    </tr>\n",
       "    <tr>\n",
       "      <th id=\"T_81c12_level0_row10\" class=\"row_heading level0 row10\" >Listening_Time_minutes</th>\n",
       "      <td id=\"T_81c12_row10_col0\" class=\"data row10 col0\" >0.004926</td>\n",
       "      <td id=\"T_81c12_row10_col1\" class=\"data row10 col1\" >-0.019772</td>\n",
       "      <td id=\"T_81c12_row10_col2\" class=\"data row10 col2\" >0.004616</td>\n",
       "      <td id=\"T_81c12_row10_col3\" class=\"data row10 col3\" >0.004828</td>\n",
       "      <td id=\"T_81c12_row10_col4\" class=\"data row10 col4\" >0.011506</td>\n",
       "      <td id=\"T_81c12_row10_col5\" class=\"data row10 col5\" >0.915462</td>\n",
       "      <td id=\"T_81c12_row10_col6\" class=\"data row10 col6\" >0.046092</td>\n",
       "      <td id=\"T_81c12_row10_col7\" class=\"data row10 col7\" >-0.013246</td>\n",
       "      <td id=\"T_81c12_row10_col8\" class=\"data row10 col8\" >-0.122978</td>\n",
       "      <td id=\"T_81c12_row10_col9\" class=\"data row10 col9\" >0.035618</td>\n",
       "      <td id=\"T_81c12_row10_col10\" class=\"data row10 col10\" >1.000000</td>\n",
       "    </tr>\n",
       "  </tbody>\n",
       "</table>\n"
      ],
      "text/plain": [
       "<pandas.io.formats.style.Styler at 0x7d6a61f22090>"
      ]
     },
     "execution_count": 17,
     "metadata": {},
     "output_type": "execute_result"
    }
   ],
   "source": [
    "df_listening.corr().style.background_gradient(cmap='Greens')"
   ]
  },
  {
   "cell_type": "markdown",
   "id": "0e7f64c1",
   "metadata": {
    "papermill": {
     "duration": 0.009275,
     "end_time": "2025-04-20T18:54:41.608571",
     "exception": false,
     "start_time": "2025-04-20T18:54:41.599296",
     "status": "completed"
    },
    "tags": []
   },
   "source": [
    "## Scaling"
   ]
  },
  {
   "cell_type": "code",
   "execution_count": 18,
   "id": "759836bd",
   "metadata": {
    "execution": {
     "iopub.execute_input": "2025-04-20T18:54:41.628561Z",
     "iopub.status.busy": "2025-04-20T18:54:41.628219Z",
     "iopub.status.idle": "2025-04-20T18:54:41.650850Z",
     "shell.execute_reply": "2025-04-20T18:54:41.649847Z"
    },
    "papermill": {
     "duration": 0.034737,
     "end_time": "2025-04-20T18:54:41.652559",
     "exception": false,
     "start_time": "2025-04-20T18:54:41.617822",
     "status": "completed"
    },
    "tags": []
   },
   "outputs": [],
   "source": [
    "# We separate the target variable from the features and data to scale\n",
    "\n",
    "x_listening = df_listening.drop(columns=\"Listening_Time_minutes\")\n",
    "y_listening = df_listening[\"Listening_Time_minutes\"]"
   ]
  },
  {
   "cell_type": "code",
   "execution_count": 19,
   "id": "2d83f54b",
   "metadata": {
    "execution": {
     "iopub.execute_input": "2025-04-20T18:54:41.672651Z",
     "iopub.status.busy": "2025-04-20T18:54:41.672347Z",
     "iopub.status.idle": "2025-04-20T18:54:41.798237Z",
     "shell.execute_reply": "2025-04-20T18:54:41.797235Z"
    },
    "papermill": {
     "duration": 0.137935,
     "end_time": "2025-04-20T18:54:41.799973",
     "exception": false,
     "start_time": "2025-04-20T18:54:41.662038",
     "status": "completed"
    },
    "tags": []
   },
   "outputs": [],
   "source": [
    "# Numerical variables to scale\n",
    "\n",
    "df_numeric = x_listening[[\n",
    "    \"Episode_Length_minutes\",\n",
    "    \"Host_Popularity_percentage\",\n",
    "    \"Guest_Popularity_percentage\"\n",
    "]]\n",
    "\n",
    "scaler = StandardScaler().set_output(transform=\"pandas\")\n",
    "scale_num = scaler.fit_transform(df_numeric)\n",
    "\n",
    "# We create a df with the remaining variables\n",
    "\n",
    "df_rest = x_listening.drop(\n",
    "    columns=[\"Episode_Length_minutes\",\n",
    "             \"Host_Popularity_percentage\",\n",
    "             \"Guest_Popularity_percentage\"]\n",
    ")\n",
    "\n",
    "# We concatenate the dataframes\n",
    "\n",
    "x_end = pd.concat([df_rest, scale_num], axis=1)"
   ]
  },
  {
   "cell_type": "code",
   "execution_count": 20,
   "id": "971c117c",
   "metadata": {
    "execution": {
     "iopub.execute_input": "2025-04-20T18:54:41.820212Z",
     "iopub.status.busy": "2025-04-20T18:54:41.819862Z",
     "iopub.status.idle": "2025-04-20T18:54:42.162021Z",
     "shell.execute_reply": "2025-04-20T18:54:42.161091Z"
    },
    "papermill": {
     "duration": 0.354121,
     "end_time": "2025-04-20T18:54:42.163721",
     "exception": false,
     "start_time": "2025-04-20T18:54:41.809600",
     "status": "completed"
    },
    "tags": []
   },
   "outputs": [
    {
     "data": {
      "text/html": [
       "<div>\n",
       "<style scoped>\n",
       "    .dataframe tbody tr th:only-of-type {\n",
       "        vertical-align: middle;\n",
       "    }\n",
       "\n",
       "    .dataframe tbody tr th {\n",
       "        vertical-align: top;\n",
       "    }\n",
       "\n",
       "    .dataframe thead th {\n",
       "        text-align: right;\n",
       "    }\n",
       "</style>\n",
       "<table border=\"1\" class=\"dataframe\">\n",
       "  <thead>\n",
       "    <tr style=\"text-align: right;\">\n",
       "      <th></th>\n",
       "      <th>count</th>\n",
       "      <th>mean</th>\n",
       "      <th>std</th>\n",
       "      <th>min</th>\n",
       "      <th>25%</th>\n",
       "      <th>50%</th>\n",
       "      <th>75%</th>\n",
       "      <th>max</th>\n",
       "    </tr>\n",
       "  </thead>\n",
       "  <tbody>\n",
       "    <tr>\n",
       "      <th>Podcast_Name</th>\n",
       "      <td>539049.0</td>\n",
       "      <td>2.352814e+01</td>\n",
       "      <td>14.111985</td>\n",
       "      <td>0.000000</td>\n",
       "      <td>11.000000</td>\n",
       "      <td>23.000000</td>\n",
       "      <td>36.000000</td>\n",
       "      <td>47.000000</td>\n",
       "    </tr>\n",
       "    <tr>\n",
       "      <th>Episode_Title</th>\n",
       "      <td>539049.0</td>\n",
       "      <td>5.043880e+01</td>\n",
       "      <td>28.106487</td>\n",
       "      <td>0.000000</td>\n",
       "      <td>26.000000</td>\n",
       "      <td>52.000000</td>\n",
       "      <td>75.000000</td>\n",
       "      <td>99.000000</td>\n",
       "    </tr>\n",
       "    <tr>\n",
       "      <th>Genre</th>\n",
       "      <td>539049.0</td>\n",
       "      <td>4.646507e+00</td>\n",
       "      <td>2.959459</td>\n",
       "      <td>0.000000</td>\n",
       "      <td>2.000000</td>\n",
       "      <td>5.000000</td>\n",
       "      <td>7.000000</td>\n",
       "      <td>9.000000</td>\n",
       "    </tr>\n",
       "    <tr>\n",
       "      <th>Publication_Day</th>\n",
       "      <td>539049.0</td>\n",
       "      <td>2.956527e+00</td>\n",
       "      <td>2.000536</td>\n",
       "      <td>0.000000</td>\n",
       "      <td>1.000000</td>\n",
       "      <td>3.000000</td>\n",
       "      <td>5.000000</td>\n",
       "      <td>6.000000</td>\n",
       "    </tr>\n",
       "    <tr>\n",
       "      <th>Publication_Time</th>\n",
       "      <td>539049.0</td>\n",
       "      <td>1.529894e+00</td>\n",
       "      <td>1.121581</td>\n",
       "      <td>0.000000</td>\n",
       "      <td>1.000000</td>\n",
       "      <td>2.000000</td>\n",
       "      <td>3.000000</td>\n",
       "      <td>3.000000</td>\n",
       "    </tr>\n",
       "    <tr>\n",
       "      <th>Number_of_Ads</th>\n",
       "      <td>539049.0</td>\n",
       "      <td>1.323776e+00</td>\n",
       "      <td>1.104495</td>\n",
       "      <td>0.000000</td>\n",
       "      <td>0.000000</td>\n",
       "      <td>1.000000</td>\n",
       "      <td>2.000000</td>\n",
       "      <td>3.000000</td>\n",
       "    </tr>\n",
       "    <tr>\n",
       "      <th>Episode_Sentiment</th>\n",
       "      <td>539049.0</td>\n",
       "      <td>9.963640e-01</td>\n",
       "      <td>0.815434</td>\n",
       "      <td>0.000000</td>\n",
       "      <td>0.000000</td>\n",
       "      <td>1.000000</td>\n",
       "      <td>2.000000</td>\n",
       "      <td>2.000000</td>\n",
       "    </tr>\n",
       "    <tr>\n",
       "      <th>Episode_Length_minutes</th>\n",
       "      <td>539049.0</td>\n",
       "      <td>2.024665e-16</td>\n",
       "      <td>1.000001</td>\n",
       "      <td>-1.925046</td>\n",
       "      <td>-0.869745</td>\n",
       "      <td>-0.026965</td>\n",
       "      <td>0.895777</td>\n",
       "      <td>7.925639</td>\n",
       "    </tr>\n",
       "    <tr>\n",
       "      <th>Host_Popularity_percentage</th>\n",
       "      <td>539049.0</td>\n",
       "      <td>-7.782306e-17</td>\n",
       "      <td>1.000001</td>\n",
       "      <td>-2.557827</td>\n",
       "      <td>-0.891669</td>\n",
       "      <td>0.000948</td>\n",
       "      <td>0.859855</td>\n",
       "      <td>1.762978</td>\n",
       "    </tr>\n",
       "    <tr>\n",
       "      <th>Guest_Popularity_percentage</th>\n",
       "      <td>539049.0</td>\n",
       "      <td>-3.732976e-17</td>\n",
       "      <td>1.000001</td>\n",
       "      <td>-1.832130</td>\n",
       "      <td>-0.840894</td>\n",
       "      <td>0.048974</td>\n",
       "      <td>0.857817</td>\n",
       "      <td>1.675429</td>\n",
       "    </tr>\n",
       "  </tbody>\n",
       "</table>\n",
       "</div>"
      ],
      "text/plain": [
       "                                count          mean        std       min  \\\n",
       "Podcast_Name                 539049.0  2.352814e+01  14.111985  0.000000   \n",
       "Episode_Title                539049.0  5.043880e+01  28.106487  0.000000   \n",
       "Genre                        539049.0  4.646507e+00   2.959459  0.000000   \n",
       "Publication_Day              539049.0  2.956527e+00   2.000536  0.000000   \n",
       "Publication_Time             539049.0  1.529894e+00   1.121581  0.000000   \n",
       "Number_of_Ads                539049.0  1.323776e+00   1.104495  0.000000   \n",
       "Episode_Sentiment            539049.0  9.963640e-01   0.815434  0.000000   \n",
       "Episode_Length_minutes       539049.0  2.024665e-16   1.000001 -1.925046   \n",
       "Host_Popularity_percentage   539049.0 -7.782306e-17   1.000001 -2.557827   \n",
       "Guest_Popularity_percentage  539049.0 -3.732976e-17   1.000001 -1.832130   \n",
       "\n",
       "                                   25%        50%        75%        max  \n",
       "Podcast_Name                 11.000000  23.000000  36.000000  47.000000  \n",
       "Episode_Title                26.000000  52.000000  75.000000  99.000000  \n",
       "Genre                         2.000000   5.000000   7.000000   9.000000  \n",
       "Publication_Day               1.000000   3.000000   5.000000   6.000000  \n",
       "Publication_Time              1.000000   2.000000   3.000000   3.000000  \n",
       "Number_of_Ads                 0.000000   1.000000   2.000000   3.000000  \n",
       "Episode_Sentiment             0.000000   1.000000   2.000000   2.000000  \n",
       "Episode_Length_minutes       -0.869745  -0.026965   0.895777   7.925639  \n",
       "Host_Popularity_percentage   -0.891669   0.000948   0.859855   1.762978  \n",
       "Guest_Popularity_percentage  -0.840894   0.048974   0.857817   1.675429  "
      ]
     },
     "execution_count": 20,
     "metadata": {},
     "output_type": "execute_result"
    }
   ],
   "source": [
    "x_end.describe().T"
   ]
  },
  {
   "cell_type": "markdown",
   "id": "cb917c4c",
   "metadata": {
    "papermill": {
     "duration": 0.009505,
     "end_time": "2025-04-20T18:54:42.184321",
     "exception": false,
     "start_time": "2025-04-20T18:54:42.174816",
     "status": "completed"
    },
    "tags": []
   },
   "source": [
    "## Feature Selection"
   ]
  },
  {
   "cell_type": "code",
   "execution_count": 21,
   "id": "440f396c",
   "metadata": {
    "execution": {
     "iopub.execute_input": "2025-04-20T18:54:42.204721Z",
     "iopub.status.busy": "2025-04-20T18:54:42.204440Z",
     "iopub.status.idle": "2025-04-20T18:54:42.210108Z",
     "shell.execute_reply": "2025-04-20T18:54:42.209211Z"
    },
    "papermill": {
     "duration": 0.017935,
     "end_time": "2025-04-20T18:54:42.211738",
     "exception": false,
     "start_time": "2025-04-20T18:54:42.193803",
     "status": "completed"
    },
    "tags": []
   },
   "outputs": [
    {
     "data": {
      "text/plain": [
       "'\\nmi_scores = mutual_info_regression(x_end, y_listening)\\nmi_scores = pd.Series(mi_scores, name=\"MI Scores\", index=x_end.columns)\\nmi_scores = mi_scores.sort_values(ascending=False)\\nmi_scores\\n'"
      ]
     },
     "execution_count": 21,
     "metadata": {},
     "output_type": "execute_result"
    }
   ],
   "source": [
    "'''\n",
    "mi_scores = mutual_info_regression(x_end, y_listening)\n",
    "mi_scores = pd.Series(mi_scores, name=\"MI Scores\", index=x_end.columns)\n",
    "mi_scores = mi_scores.sort_values(ascending=False)\n",
    "mi_scores\n",
    "'''"
   ]
  },
  {
   "cell_type": "code",
   "execution_count": 22,
   "id": "db1761df",
   "metadata": {
    "execution": {
     "iopub.execute_input": "2025-04-20T18:54:42.233215Z",
     "iopub.status.busy": "2025-04-20T18:54:42.232861Z",
     "iopub.status.idle": "2025-04-20T18:54:42.237154Z",
     "shell.execute_reply": "2025-04-20T18:54:42.236187Z"
    },
    "papermill": {
     "duration": 0.016632,
     "end_time": "2025-04-20T18:54:42.238802",
     "exception": false,
     "start_time": "2025-04-20T18:54:42.222170",
     "status": "completed"
    },
    "tags": []
   },
   "outputs": [],
   "source": [
    "#x_end = x_end.drop(columns=[\"Podcast_Name\", \"Episode_Title\"])"
   ]
  },
  {
   "cell_type": "code",
   "execution_count": 23,
   "id": "23bc3954",
   "metadata": {
    "execution": {
     "iopub.execute_input": "2025-04-20T18:54:42.259921Z",
     "iopub.status.busy": "2025-04-20T18:54:42.259567Z",
     "iopub.status.idle": "2025-04-20T18:54:42.287808Z",
     "shell.execute_reply": "2025-04-20T18:54:42.286807Z"
    },
    "papermill": {
     "duration": 0.040462,
     "end_time": "2025-04-20T18:54:42.289429",
     "exception": false,
     "start_time": "2025-04-20T18:54:42.248967",
     "status": "completed"
    },
    "tags": []
   },
   "outputs": [
    {
     "name": "stdout",
     "output_type": "stream",
     "text": [
      "<class 'pandas.core.frame.DataFrame'>\n",
      "Index: 539049 entries, 1 to 749999\n",
      "Data columns (total 10 columns):\n",
      " #   Column                       Non-Null Count   Dtype  \n",
      "---  ------                       --------------   -----  \n",
      " 0   Podcast_Name                 539049 non-null  float64\n",
      " 1   Episode_Title                539049 non-null  float64\n",
      " 2   Genre                        539049 non-null  float64\n",
      " 3   Publication_Day              539049 non-null  float64\n",
      " 4   Publication_Time             539049 non-null  float64\n",
      " 5   Number_of_Ads                539049 non-null  float64\n",
      " 6   Episode_Sentiment            539049 non-null  float64\n",
      " 7   Episode_Length_minutes       539049 non-null  float64\n",
      " 8   Host_Popularity_percentage   539049 non-null  float64\n",
      " 9   Guest_Popularity_percentage  539049 non-null  float64\n",
      "dtypes: float64(10)\n",
      "memory usage: 45.2 MB\n"
     ]
    }
   ],
   "source": [
    "x_end.info()"
   ]
  },
  {
   "cell_type": "markdown",
   "id": "7408190f",
   "metadata": {
    "papermill": {
     "duration": 0.010032,
     "end_time": "2025-04-20T18:54:42.309313",
     "exception": false,
     "start_time": "2025-04-20T18:54:42.299281",
     "status": "completed"
    },
    "tags": []
   },
   "source": [
    "# Model Selection"
   ]
  },
  {
   "cell_type": "code",
   "execution_count": 24,
   "id": "e1b82e03",
   "metadata": {
    "execution": {
     "iopub.execute_input": "2025-04-20T18:54:42.330341Z",
     "iopub.status.busy": "2025-04-20T18:54:42.329671Z",
     "iopub.status.idle": "2025-04-20T18:54:42.424166Z",
     "shell.execute_reply": "2025-04-20T18:54:42.423174Z"
    },
    "papermill": {
     "duration": 0.107049,
     "end_time": "2025-04-20T18:54:42.425933",
     "exception": false,
     "start_time": "2025-04-20T18:54:42.318884",
     "status": "completed"
    },
    "tags": []
   },
   "outputs": [],
   "source": [
    "# We separate the data into training and validation sets\n",
    "\n",
    "x_train, x_val, y_train, y_val = (\n",
    "    train_test_split(\n",
    "        x_end, y_listening, test_size=0.2, random_state=42\n",
    "    )\n",
    ")"
   ]
  },
  {
   "cell_type": "code",
   "execution_count": 25,
   "id": "642f781e",
   "metadata": {
    "execution": {
     "iopub.execute_input": "2025-04-20T18:54:42.447304Z",
     "iopub.status.busy": "2025-04-20T18:54:42.446673Z",
     "iopub.status.idle": "2025-04-20T18:54:42.450929Z",
     "shell.execute_reply": "2025-04-20T18:54:42.450068Z"
    },
    "papermill": {
     "duration": 0.016569,
     "end_time": "2025-04-20T18:54:42.452477",
     "exception": false,
     "start_time": "2025-04-20T18:54:42.435908",
     "status": "completed"
    },
    "tags": []
   },
   "outputs": [],
   "source": [
    "# Create the KFold object\n",
    "\n",
    "kfold = KFold(n_splits=10, shuffle=True, random_state=42)"
   ]
  },
  {
   "cell_type": "markdown",
   "id": "987542e6",
   "metadata": {
    "papermill": {
     "duration": 0.009457,
     "end_time": "2025-04-20T18:54:42.472692",
     "exception": false,
     "start_time": "2025-04-20T18:54:42.463235",
     "status": "completed"
    },
    "tags": []
   },
   "source": [
    "## XGBRegressor"
   ]
  },
  {
   "cell_type": "code",
   "execution_count": 26,
   "id": "4eb7e781",
   "metadata": {
    "execution": {
     "iopub.execute_input": "2025-04-20T18:54:42.493658Z",
     "iopub.status.busy": "2025-04-20T18:54:42.493219Z",
     "iopub.status.idle": "2025-04-20T18:54:42.497920Z",
     "shell.execute_reply": "2025-04-20T18:54:42.497040Z"
    },
    "papermill": {
     "duration": 0.017125,
     "end_time": "2025-04-20T18:54:42.499503",
     "exception": false,
     "start_time": "2025-04-20T18:54:42.482378",
     "status": "completed"
    },
    "tags": []
   },
   "outputs": [],
   "source": [
    "# We create the model instance\n",
    "\n",
    "xgbr = XGBRegressor(\n",
    "    subsample = 0.9, \n",
    "    n_estimators = 150, \n",
    "    max_depth = 6, \n",
    "    learning_rate = 0.2, \n",
    "    gamma = 0.1\n",
    ")"
   ]
  },
  {
   "cell_type": "code",
   "execution_count": 27,
   "id": "5a6e6121",
   "metadata": {
    "execution": {
     "iopub.execute_input": "2025-04-20T18:54:42.520629Z",
     "iopub.status.busy": "2025-04-20T18:54:42.520302Z",
     "iopub.status.idle": "2025-04-20T18:54:42.526157Z",
     "shell.execute_reply": "2025-04-20T18:54:42.525330Z"
    },
    "papermill": {
     "duration": 0.018028,
     "end_time": "2025-04-20T18:54:42.527609",
     "exception": false,
     "start_time": "2025-04-20T18:54:42.509581",
     "status": "completed"
    },
    "tags": []
   },
   "outputs": [
    {
     "data": {
      "text/plain": [
       "'\\n# We establish the parameters to test\\n\\nxgbr_param_grid = {\\n    \"gamma\" : [0.1, 0.5, 0.8, 0, 1],\\n    \"max_depth\" : [3, 4, 5, 6, 7],\\n    \"learning_rate\" : [0.2, 0.1, 0.01, 0.001],\\n    \"subsample\" : [0.5, 0.6, 0.7, 0.8, 0.9, 1],\\n    \"n_estimators\" : [50, 100, 150, 200]\\n}\\n\\nxgbr_grid = RandomizedSearchCV(\\n    xgbr,\\n    xgbr_param_grid,\\n    cv=kfold,\\n    scoring=\"neg_root_mean_squared_error\",\\n    return_train_score=True\\n)\\n\\nxgbr_search = xgbr_grid.fit(x_train, y_train)\\n\\nprint(\\n    f\\'Parameters: {xgbr_search.best_params_}\\nScore: {xgbr_search.best_score_}\\'\\n)\\n'"
      ]
     },
     "execution_count": 27,
     "metadata": {},
     "output_type": "execute_result"
    }
   ],
   "source": [
    "'''\n",
    "# We establish the parameters to test\n",
    "\n",
    "xgbr_param_grid = {\n",
    "    \"gamma\" : [0.1, 0.5, 0.8, 0, 1],\n",
    "    \"max_depth\" : [3, 4, 5, 6, 7],\n",
    "    \"learning_rate\" : [0.2, 0.1, 0.01, 0.001],\n",
    "    \"subsample\" : [0.5, 0.6, 0.7, 0.8, 0.9, 1],\n",
    "    \"n_estimators\" : [50, 100, 150, 200]\n",
    "}\n",
    "\n",
    "xgbr_grid = RandomizedSearchCV(\n",
    "    xgbr,\n",
    "    xgbr_param_grid,\n",
    "    cv=kfold,\n",
    "    scoring=\"neg_root_mean_squared_error\",\n",
    "    return_train_score=True\n",
    ")\n",
    "\n",
    "xgbr_search = xgbr_grid.fit(x_train, y_train)\n",
    "\n",
    "print(\n",
    "    f'Parameters: {xgbr_search.best_params_}\\nScore: {xgbr_search.best_score_}'\n",
    ")\n",
    "'''"
   ]
  },
  {
   "cell_type": "code",
   "execution_count": 28,
   "id": "0713bfb8",
   "metadata": {
    "execution": {
     "iopub.execute_input": "2025-04-20T18:54:42.549147Z",
     "iopub.status.busy": "2025-04-20T18:54:42.548459Z",
     "iopub.status.idle": "2025-04-20T18:54:42.552873Z",
     "shell.execute_reply": "2025-04-20T18:54:42.551868Z"
    },
    "papermill": {
     "duration": 0.016869,
     "end_time": "2025-04-20T18:54:42.554440",
     "exception": false,
     "start_time": "2025-04-20T18:54:42.537571",
     "status": "completed"
    },
    "tags": []
   },
   "outputs": [],
   "source": [
    "# We evaluate the performance after an initial optimization\n",
    "\n",
    "#y_pred_xgbr = xgbr_search.best_estimator_.predict(x_val)\n",
    "\n",
    "#r2_xgbr = r2_score(y_val, y_pred_xgbr)\n",
    "\n",
    "#rmse_xgbr = np.sqrt(mean_squared_error(y_val, y_pred_xgbr))\n",
    "\n",
    "#print(f\"XGBRegressor optimization\\n\\nR-squared score: {r2_xgbr}\\nRMSE: {rmse_xgbr}\")"
   ]
  },
  {
   "cell_type": "markdown",
   "id": "158942b3",
   "metadata": {
    "papermill": {
     "duration": 0.009635,
     "end_time": "2025-04-20T18:54:42.574202",
     "exception": false,
     "start_time": "2025-04-20T18:54:42.564567",
     "status": "completed"
    },
    "tags": []
   },
   "source": [
    "RandomizedSearchCV:\n",
    "\n",
    "Parameters: {'subsample': 0.9, 'n_estimators': 150, 'max_depth': 6, 'learning_rate': 0.2, 'gamma': 0.1}\n",
    "\n",
    "Score: -10.385593205700733\n",
    "\n",
    "R-squared score: 0.8548779072393202\n",
    "\n",
    "RMSE: 10.359859724404574"
   ]
  },
  {
   "cell_type": "markdown",
   "id": "7d7abfe3",
   "metadata": {
    "papermill": {
     "duration": 0.009488,
     "end_time": "2025-04-20T18:54:42.593582",
     "exception": false,
     "start_time": "2025-04-20T18:54:42.584094",
     "status": "completed"
    },
    "tags": []
   },
   "source": [
    "# Final Model"
   ]
  },
  {
   "cell_type": "code",
   "execution_count": 29,
   "id": "61879a61",
   "metadata": {
    "execution": {
     "iopub.execute_input": "2025-04-20T18:54:42.615551Z",
     "iopub.status.busy": "2025-04-20T18:54:42.614839Z",
     "iopub.status.idle": "2025-04-20T18:54:45.875930Z",
     "shell.execute_reply": "2025-04-20T18:54:45.874894Z"
    },
    "papermill": {
     "duration": 3.274213,
     "end_time": "2025-04-20T18:54:45.877668",
     "exception": false,
     "start_time": "2025-04-20T18:54:42.603455",
     "status": "completed"
    },
    "tags": []
   },
   "outputs": [
    {
     "data": {
      "text/html": [
       "<style>#sk-container-id-1 {color: black;background-color: white;}#sk-container-id-1 pre{padding: 0;}#sk-container-id-1 div.sk-toggleable {background-color: white;}#sk-container-id-1 label.sk-toggleable__label {cursor: pointer;display: block;width: 100%;margin-bottom: 0;padding: 0.3em;box-sizing: border-box;text-align: center;}#sk-container-id-1 label.sk-toggleable__label-arrow:before {content: \"▸\";float: left;margin-right: 0.25em;color: #696969;}#sk-container-id-1 label.sk-toggleable__label-arrow:hover:before {color: black;}#sk-container-id-1 div.sk-estimator:hover label.sk-toggleable__label-arrow:before {color: black;}#sk-container-id-1 div.sk-toggleable__content {max-height: 0;max-width: 0;overflow: hidden;text-align: left;background-color: #f0f8ff;}#sk-container-id-1 div.sk-toggleable__content pre {margin: 0.2em;color: black;border-radius: 0.25em;background-color: #f0f8ff;}#sk-container-id-1 input.sk-toggleable__control:checked~div.sk-toggleable__content {max-height: 200px;max-width: 100%;overflow: auto;}#sk-container-id-1 input.sk-toggleable__control:checked~label.sk-toggleable__label-arrow:before {content: \"▾\";}#sk-container-id-1 div.sk-estimator input.sk-toggleable__control:checked~label.sk-toggleable__label {background-color: #d4ebff;}#sk-container-id-1 div.sk-label input.sk-toggleable__control:checked~label.sk-toggleable__label {background-color: #d4ebff;}#sk-container-id-1 input.sk-hidden--visually {border: 0;clip: rect(1px 1px 1px 1px);clip: rect(1px, 1px, 1px, 1px);height: 1px;margin: -1px;overflow: hidden;padding: 0;position: absolute;width: 1px;}#sk-container-id-1 div.sk-estimator {font-family: monospace;background-color: #f0f8ff;border: 1px dotted black;border-radius: 0.25em;box-sizing: border-box;margin-bottom: 0.5em;}#sk-container-id-1 div.sk-estimator:hover {background-color: #d4ebff;}#sk-container-id-1 div.sk-parallel-item::after {content: \"\";width: 100%;border-bottom: 1px solid gray;flex-grow: 1;}#sk-container-id-1 div.sk-label:hover label.sk-toggleable__label {background-color: #d4ebff;}#sk-container-id-1 div.sk-serial::before {content: \"\";position: absolute;border-left: 1px solid gray;box-sizing: border-box;top: 0;bottom: 0;left: 50%;z-index: 0;}#sk-container-id-1 div.sk-serial {display: flex;flex-direction: column;align-items: center;background-color: white;padding-right: 0.2em;padding-left: 0.2em;position: relative;}#sk-container-id-1 div.sk-item {position: relative;z-index: 1;}#sk-container-id-1 div.sk-parallel {display: flex;align-items: stretch;justify-content: center;background-color: white;position: relative;}#sk-container-id-1 div.sk-item::before, #sk-container-id-1 div.sk-parallel-item::before {content: \"\";position: absolute;border-left: 1px solid gray;box-sizing: border-box;top: 0;bottom: 0;left: 50%;z-index: -1;}#sk-container-id-1 div.sk-parallel-item {display: flex;flex-direction: column;z-index: 1;position: relative;background-color: white;}#sk-container-id-1 div.sk-parallel-item:first-child::after {align-self: flex-end;width: 50%;}#sk-container-id-1 div.sk-parallel-item:last-child::after {align-self: flex-start;width: 50%;}#sk-container-id-1 div.sk-parallel-item:only-child::after {width: 0;}#sk-container-id-1 div.sk-dashed-wrapped {border: 1px dashed gray;margin: 0 0.4em 0.5em 0.4em;box-sizing: border-box;padding-bottom: 0.4em;background-color: white;}#sk-container-id-1 div.sk-label label {font-family: monospace;font-weight: bold;display: inline-block;line-height: 1.2em;}#sk-container-id-1 div.sk-label-container {text-align: center;}#sk-container-id-1 div.sk-container {/* jupyter's `normalize.less` sets `[hidden] { display: none; }` but bootstrap.min.css set `[hidden] { display: none !important; }` so we also need the `!important` here to be able to override the default hidden behavior on the sphinx rendered scikit-learn.org. See: https://github.com/scikit-learn/scikit-learn/issues/21755 */display: inline-block !important;position: relative;}#sk-container-id-1 div.sk-text-repr-fallback {display: none;}</style><div id=\"sk-container-id-1\" class=\"sk-top-container\"><div class=\"sk-text-repr-fallback\"><pre>XGBRegressor(base_score=None, booster=None, callbacks=None,\n",
       "             colsample_bylevel=None, colsample_bynode=None,\n",
       "             colsample_bytree=None, device=None, early_stopping_rounds=None,\n",
       "             enable_categorical=False, eval_metric=None, feature_types=None,\n",
       "             gamma=0.1, grow_policy=None, importance_type=None,\n",
       "             interaction_constraints=None, learning_rate=0.2, max_bin=None,\n",
       "             max_cat_threshold=None, max_cat_to_onehot=None,\n",
       "             max_delta_step=None, max_depth=6, max_leaves=None,\n",
       "             min_child_weight=None, missing=nan, monotone_constraints=None,\n",
       "             multi_strategy=None, n_estimators=150, n_jobs=None,\n",
       "             num_parallel_tree=None, random_state=None, ...)</pre><b>In a Jupyter environment, please rerun this cell to show the HTML representation or trust the notebook. <br />On GitHub, the HTML representation is unable to render, please try loading this page with nbviewer.org.</b></div><div class=\"sk-container\" hidden><div class=\"sk-item\"><div class=\"sk-estimator sk-toggleable\"><input class=\"sk-toggleable__control sk-hidden--visually\" id=\"sk-estimator-id-1\" type=\"checkbox\" checked><label for=\"sk-estimator-id-1\" class=\"sk-toggleable__label sk-toggleable__label-arrow\">XGBRegressor</label><div class=\"sk-toggleable__content\"><pre>XGBRegressor(base_score=None, booster=None, callbacks=None,\n",
       "             colsample_bylevel=None, colsample_bynode=None,\n",
       "             colsample_bytree=None, device=None, early_stopping_rounds=None,\n",
       "             enable_categorical=False, eval_metric=None, feature_types=None,\n",
       "             gamma=0.1, grow_policy=None, importance_type=None,\n",
       "             interaction_constraints=None, learning_rate=0.2, max_bin=None,\n",
       "             max_cat_threshold=None, max_cat_to_onehot=None,\n",
       "             max_delta_step=None, max_depth=6, max_leaves=None,\n",
       "             min_child_weight=None, missing=nan, monotone_constraints=None,\n",
       "             multi_strategy=None, n_estimators=150, n_jobs=None,\n",
       "             num_parallel_tree=None, random_state=None, ...)</pre></div></div></div></div></div>"
      ],
      "text/plain": [
       "XGBRegressor(base_score=None, booster=None, callbacks=None,\n",
       "             colsample_bylevel=None, colsample_bynode=None,\n",
       "             colsample_bytree=None, device=None, early_stopping_rounds=None,\n",
       "             enable_categorical=False, eval_metric=None, feature_types=None,\n",
       "             gamma=0.1, grow_policy=None, importance_type=None,\n",
       "             interaction_constraints=None, learning_rate=0.2, max_bin=None,\n",
       "             max_cat_threshold=None, max_cat_to_onehot=None,\n",
       "             max_delta_step=None, max_depth=6, max_leaves=None,\n",
       "             min_child_weight=None, missing=nan, monotone_constraints=None,\n",
       "             multi_strategy=None, n_estimators=150, n_jobs=None,\n",
       "             num_parallel_tree=None, random_state=None, ...)"
      ]
     },
     "execution_count": 29,
     "metadata": {},
     "output_type": "execute_result"
    }
   ],
   "source": [
    "#final_model = xgbr_search.best_estimator_\n",
    "final_model = xgbr\n",
    "# We fit the best model\n",
    "\n",
    "final_model.fit(x_train, y_train)"
   ]
  },
  {
   "cell_type": "code",
   "execution_count": 30,
   "id": "cc09b020",
   "metadata": {
    "execution": {
     "iopub.execute_input": "2025-04-20T18:54:45.901442Z",
     "iopub.status.busy": "2025-04-20T18:54:45.900662Z",
     "iopub.status.idle": "2025-04-20T18:54:46.158765Z",
     "shell.execute_reply": "2025-04-20T18:54:46.157648Z"
    },
    "papermill": {
     "duration": 0.271465,
     "end_time": "2025-04-20T18:54:46.160445",
     "exception": false,
     "start_time": "2025-04-20T18:54:45.888980",
     "status": "completed"
    },
    "tags": []
   },
   "outputs": [
    {
     "name": "stdout",
     "output_type": "stream",
     "text": [
      "Final Model RMSE Score: 10.360\n"
     ]
    }
   ],
   "source": [
    "# We evaluate the performance of the final model\n",
    "\n",
    "final_model_ypred = final_model.predict(x_val)\n",
    "\n",
    "final_model_rmse = np.sqrt(mean_squared_error(y_val, final_model_ypred))\n",
    "\n",
    "print(\"Final Model RMSE Score: %.3f\" % final_model_rmse)"
   ]
  },
  {
   "cell_type": "code",
   "execution_count": 31,
   "id": "c1325029",
   "metadata": {
    "execution": {
     "iopub.execute_input": "2025-04-20T18:54:46.183045Z",
     "iopub.status.busy": "2025-04-20T18:54:46.182722Z",
     "iopub.status.idle": "2025-04-20T18:54:46.189094Z",
     "shell.execute_reply": "2025-04-20T18:54:46.188045Z"
    },
    "papermill": {
     "duration": 0.019783,
     "end_time": "2025-04-20T18:54:46.190651",
     "exception": false,
     "start_time": "2025-04-20T18:54:46.170868",
     "status": "completed"
    },
    "tags": []
   },
   "outputs": [
    {
     "data": {
      "text/plain": [
       "'\\n# We create an explainer for the best estimator\\n\\nexplainer = shap.Explainer(final_model)\\nshap_values = explainer.shap_values(x_val)\\n\\n# we visualize the importance\\n\\nfig = shap.summary_plot(\\n    shap_values,\\n    x_val,\\n    show=False\\n)\\nplt.title(\"Feature Importance\", fontsize=20, color=\\'g\\', loc=\\'left\\')\\nplt.xlabel(\"Mean SHAP Values\", fontsize=20)\\nplt.ylabel(\"Features\", fontsize=20)\\nplt.show()\\n'"
      ]
     },
     "execution_count": 31,
     "metadata": {},
     "output_type": "execute_result"
    }
   ],
   "source": [
    "'''\n",
    "# We create an explainer for the best estimator\n",
    "\n",
    "explainer = shap.Explainer(final_model)\n",
    "shap_values = explainer.shap_values(x_val)\n",
    "\n",
    "# we visualize the importance\n",
    "\n",
    "fig = shap.summary_plot(\n",
    "    shap_values,\n",
    "    x_val,\n",
    "    show=False\n",
    ")\n",
    "plt.title(\"Feature Importance\", fontsize=20, color='g', loc='left')\n",
    "plt.xlabel(\"Mean SHAP Values\", fontsize=20)\n",
    "plt.ylabel(\"Features\", fontsize=20)\n",
    "plt.show()\n",
    "'''"
   ]
  },
  {
   "cell_type": "markdown",
   "id": "865c34d5",
   "metadata": {
    "papermill": {
     "duration": 0.010275,
     "end_time": "2025-04-20T18:54:46.211871",
     "exception": false,
     "start_time": "2025-04-20T18:54:46.201596",
     "status": "completed"
    },
    "tags": []
   },
   "source": [
    "# Test data"
   ]
  },
  {
   "cell_type": "code",
   "execution_count": 32,
   "id": "b4e2d38c",
   "metadata": {
    "execution": {
     "iopub.execute_input": "2025-04-20T18:54:46.234422Z",
     "iopub.status.busy": "2025-04-20T18:54:46.233620Z",
     "iopub.status.idle": "2025-04-20T18:54:46.810813Z",
     "shell.execute_reply": "2025-04-20T18:54:46.809877Z"
    },
    "papermill": {
     "duration": 0.590294,
     "end_time": "2025-04-20T18:54:46.812472",
     "exception": false,
     "start_time": "2025-04-20T18:54:46.222178",
     "status": "completed"
    },
    "tags": []
   },
   "outputs": [],
   "source": [
    "# We load the test data\n",
    "\n",
    "df_test = pd.read_csv(\"/kaggle/input/playground-series-s5e4/test.csv\")"
   ]
  },
  {
   "cell_type": "code",
   "execution_count": 33,
   "id": "51bc7222",
   "metadata": {
    "execution": {
     "iopub.execute_input": "2025-04-20T18:54:46.834673Z",
     "iopub.status.busy": "2025-04-20T18:54:46.834350Z",
     "iopub.status.idle": "2025-04-20T18:54:46.847050Z",
     "shell.execute_reply": "2025-04-20T18:54:46.846005Z"
    },
    "papermill": {
     "duration": 0.025861,
     "end_time": "2025-04-20T18:54:46.848778",
     "exception": false,
     "start_time": "2025-04-20T18:54:46.822917",
     "status": "completed"
    },
    "tags": []
   },
   "outputs": [],
   "source": [
    "df_test_new = df_test.copy()"
   ]
  },
  {
   "cell_type": "code",
   "execution_count": 34,
   "id": "8fb1790e",
   "metadata": {
    "execution": {
     "iopub.execute_input": "2025-04-20T18:54:46.870751Z",
     "iopub.status.busy": "2025-04-20T18:54:46.870449Z",
     "iopub.status.idle": "2025-04-20T18:54:47.046928Z",
     "shell.execute_reply": "2025-04-20T18:54:47.046036Z"
    },
    "papermill": {
     "duration": 0.189443,
     "end_time": "2025-04-20T18:54:47.048623",
     "exception": false,
     "start_time": "2025-04-20T18:54:46.859180",
     "status": "completed"
    },
    "tags": []
   },
   "outputs": [
    {
     "data": {
      "text/html": [
       "<style type=\"text/css\">\n",
       "#T_9c436_row0_col0, #T_9c436_row0_col1, #T_9c436_row1_col0, #T_9c436_row1_col1, #T_9c436_row2_col0, #T_9c436_row2_col1, #T_9c436_row4_col0, #T_9c436_row4_col1, #T_9c436_row5_col0, #T_9c436_row5_col1, #T_9c436_row6_col0, #T_9c436_row6_col1, #T_9c436_row7_col0, #T_9c436_row7_col1, #T_9c436_row9_col0, #T_9c436_row9_col1, #T_9c436_row10_col0, #T_9c436_row10_col1 {\n",
       "  background-color: #f7fcf5;\n",
       "  color: #000000;\n",
       "}\n",
       "#T_9c436_row3_col0, #T_9c436_row3_col1 {\n",
       "  background-color: #50b264;\n",
       "  color: #f1f1f1;\n",
       "}\n",
       "#T_9c436_row8_col0, #T_9c436_row8_col1 {\n",
       "  background-color: #00441b;\n",
       "  color: #f1f1f1;\n",
       "}\n",
       "</style>\n",
       "<table id=\"T_9c436\">\n",
       "  <thead>\n",
       "    <tr>\n",
       "      <th class=\"blank level0\" >&nbsp;</th>\n",
       "      <th id=\"T_9c436_level0_col0\" class=\"col_heading level0 col0\" >Amount of Null Data</th>\n",
       "      <th id=\"T_9c436_level0_col1\" class=\"col_heading level0 col1\" >Percentage of Null Data</th>\n",
       "    </tr>\n",
       "  </thead>\n",
       "  <tbody>\n",
       "    <tr>\n",
       "      <th id=\"T_9c436_level0_row0\" class=\"row_heading level0 row0\" >id</th>\n",
       "      <td id=\"T_9c436_row0_col0\" class=\"data row0 col0\" >0</td>\n",
       "      <td id=\"T_9c436_row0_col1\" class=\"data row0 col1\" >0.000000</td>\n",
       "    </tr>\n",
       "    <tr>\n",
       "      <th id=\"T_9c436_level0_row1\" class=\"row_heading level0 row1\" >Podcast_Name</th>\n",
       "      <td id=\"T_9c436_row1_col0\" class=\"data row1 col0\" >0</td>\n",
       "      <td id=\"T_9c436_row1_col1\" class=\"data row1 col1\" >0.000000</td>\n",
       "    </tr>\n",
       "    <tr>\n",
       "      <th id=\"T_9c436_level0_row2\" class=\"row_heading level0 row2\" >Episode_Title</th>\n",
       "      <td id=\"T_9c436_row2_col0\" class=\"data row2 col0\" >0</td>\n",
       "      <td id=\"T_9c436_row2_col1\" class=\"data row2 col1\" >0.000000</td>\n",
       "    </tr>\n",
       "    <tr>\n",
       "      <th id=\"T_9c436_level0_row3\" class=\"row_heading level0 row3\" >Episode_Length_minutes</th>\n",
       "      <td id=\"T_9c436_row3_col0\" class=\"data row3 col0\" >28736</td>\n",
       "      <td id=\"T_9c436_row3_col1\" class=\"data row3 col1\" >11.494400</td>\n",
       "    </tr>\n",
       "    <tr>\n",
       "      <th id=\"T_9c436_level0_row4\" class=\"row_heading level0 row4\" >Genre</th>\n",
       "      <td id=\"T_9c436_row4_col0\" class=\"data row4 col0\" >0</td>\n",
       "      <td id=\"T_9c436_row4_col1\" class=\"data row4 col1\" >0.000000</td>\n",
       "    </tr>\n",
       "    <tr>\n",
       "      <th id=\"T_9c436_level0_row5\" class=\"row_heading level0 row5\" >Host_Popularity_percentage</th>\n",
       "      <td id=\"T_9c436_row5_col0\" class=\"data row5 col0\" >0</td>\n",
       "      <td id=\"T_9c436_row5_col1\" class=\"data row5 col1\" >0.000000</td>\n",
       "    </tr>\n",
       "    <tr>\n",
       "      <th id=\"T_9c436_level0_row6\" class=\"row_heading level0 row6\" >Publication_Day</th>\n",
       "      <td id=\"T_9c436_row6_col0\" class=\"data row6 col0\" >0</td>\n",
       "      <td id=\"T_9c436_row6_col1\" class=\"data row6 col1\" >0.000000</td>\n",
       "    </tr>\n",
       "    <tr>\n",
       "      <th id=\"T_9c436_level0_row7\" class=\"row_heading level0 row7\" >Publication_Time</th>\n",
       "      <td id=\"T_9c436_row7_col0\" class=\"data row7 col0\" >0</td>\n",
       "      <td id=\"T_9c436_row7_col1\" class=\"data row7 col1\" >0.000000</td>\n",
       "    </tr>\n",
       "    <tr>\n",
       "      <th id=\"T_9c436_level0_row8\" class=\"row_heading level0 row8\" >Guest_Popularity_percentage</th>\n",
       "      <td id=\"T_9c436_row8_col0\" class=\"data row8 col0\" >48832</td>\n",
       "      <td id=\"T_9c436_row8_col1\" class=\"data row8 col1\" >19.532800</td>\n",
       "    </tr>\n",
       "    <tr>\n",
       "      <th id=\"T_9c436_level0_row9\" class=\"row_heading level0 row9\" >Number_of_Ads</th>\n",
       "      <td id=\"T_9c436_row9_col0\" class=\"data row9 col0\" >0</td>\n",
       "      <td id=\"T_9c436_row9_col1\" class=\"data row9 col1\" >0.000000</td>\n",
       "    </tr>\n",
       "    <tr>\n",
       "      <th id=\"T_9c436_level0_row10\" class=\"row_heading level0 row10\" >Episode_Sentiment</th>\n",
       "      <td id=\"T_9c436_row10_col0\" class=\"data row10 col0\" >0</td>\n",
       "      <td id=\"T_9c436_row10_col1\" class=\"data row10 col1\" >0.000000</td>\n",
       "    </tr>\n",
       "  </tbody>\n",
       "</table>\n"
      ],
      "text/plain": [
       "<pandas.io.formats.style.Styler at 0x7d6b5fdac1d0>"
      ]
     },
     "execution_count": 34,
     "metadata": {},
     "output_type": "execute_result"
    }
   ],
   "source": [
    "# We check the null values\n",
    "\n",
    "null_values_test = (\n",
    "    pd.DataFrame(\n",
    "        {f'Amount of Null Data' : df_test_new.isnull().sum(), \n",
    "         'Percentage of Null Data' : (\n",
    "             df_test_new.isnull().sum()) / (len(df_test_new)) * (100)\n",
    "        }\n",
    "    ))\n",
    "\n",
    "null_values_test.style.background_gradient(cmap='Greens')"
   ]
  },
  {
   "cell_type": "code",
   "execution_count": 35,
   "id": "410d577e",
   "metadata": {
    "execution": {
     "iopub.execute_input": "2025-04-20T18:54:47.072584Z",
     "iopub.status.busy": "2025-04-20T18:54:47.072248Z",
     "iopub.status.idle": "2025-04-20T18:54:47.089755Z",
     "shell.execute_reply": "2025-04-20T18:54:47.088655Z"
    },
    "papermill": {
     "duration": 0.03173,
     "end_time": "2025-04-20T18:54:47.091512",
     "exception": false,
     "start_time": "2025-04-20T18:54:47.059782",
     "status": "completed"
    },
    "tags": []
   },
   "outputs": [],
   "source": [
    "# We start by removing the variables that we will not use\n",
    "\n",
    "df_test_new = df_test_new.drop(columns=\"id\")\n",
    "#df_test_new = df_test_new.drop(columns=[\"id\", \"Podcast_Name\", \"Episode_Title\"])"
   ]
  },
  {
   "cell_type": "code",
   "execution_count": 36,
   "id": "697825b3",
   "metadata": {
    "execution": {
     "iopub.execute_input": "2025-04-20T18:54:47.114489Z",
     "iopub.status.busy": "2025-04-20T18:54:47.114170Z",
     "iopub.status.idle": "2025-04-20T18:54:47.260603Z",
     "shell.execute_reply": "2025-04-20T18:54:47.259710Z"
    },
    "papermill": {
     "duration": 0.159935,
     "end_time": "2025-04-20T18:54:47.262252",
     "exception": false,
     "start_time": "2025-04-20T18:54:47.102317",
     "status": "completed"
    },
    "tags": []
   },
   "outputs": [],
   "source": [
    "# We replace the erroneous values\n",
    "\n",
    "df_test_new[\"Number_of_Ads\"] = (df_test_new[\"Number_of_Ads\"].apply(lambda x: np.NaN if x>3 else x))\n",
    "df_test_new[\"Number_of_Ads\"] = (df_test_new[\"Number_of_Ads\"].fillna(\n",
    "    df_test_new.groupby(\"Podcast_Name\")[\"Number_of_Ads\"].transform(lambda v: v.mode()[0])\n",
    "))\n",
    "df_test_new[\"Host_Popularity_percentage\"] = np.where(\n",
    "    df_test_new[\"Host_Popularity_percentage\"] > 100, 100, df_test_new[\"Host_Popularity_percentage\"]\n",
    ").round(decimals=2)\n",
    "df_test_new[\"Guest_Popularity_percentage\"] = np.where(\n",
    "    df_test_new[\"Guest_Popularity_percentage\"] > 100, 100, df_test_new[\"Guest_Popularity_percentage\"]\n",
    ").round(decimals=2)"
   ]
  },
  {
   "cell_type": "code",
   "execution_count": 37,
   "id": "0419d079",
   "metadata": {
    "execution": {
     "iopub.execute_input": "2025-04-20T18:54:47.284674Z",
     "iopub.status.busy": "2025-04-20T18:54:47.284324Z",
     "iopub.status.idle": "2025-04-20T19:13:27.110269Z",
     "shell.execute_reply": "2025-04-20T19:13:27.109274Z"
    },
    "papermill": {
     "duration": 1119.83915,
     "end_time": "2025-04-20T19:13:27.112107",
     "exception": false,
     "start_time": "2025-04-20T18:54:47.272957",
     "status": "completed"
    },
    "tags": []
   },
   "outputs": [],
   "source": [
    "# We filled in null values\n",
    "\n",
    "test_object = df_test_new.select_dtypes(include=\"object\")\n",
    "test_impute = df_test_new.select_dtypes(include=\"number\")\n",
    "\n",
    "imputer = KNNImputer().set_output(transform=\"pandas\")\n",
    "after_imputation = imputer.fit_transform(test_impute)\n",
    "\n",
    "df_test_new = pd.concat([test_object, after_imputation], axis=1)"
   ]
  },
  {
   "cell_type": "code",
   "execution_count": 38,
   "id": "49855548",
   "metadata": {
    "execution": {
     "iopub.execute_input": "2025-04-20T19:13:27.135295Z",
     "iopub.status.busy": "2025-04-20T19:13:27.134939Z",
     "iopub.status.idle": "2025-04-20T19:13:27.225875Z",
     "shell.execute_reply": "2025-04-20T19:13:27.224872Z"
    },
    "papermill": {
     "duration": 0.104219,
     "end_time": "2025-04-20T19:13:27.227604",
     "exception": false,
     "start_time": "2025-04-20T19:13:27.123385",
     "status": "completed"
    },
    "tags": []
   },
   "outputs": [
    {
     "name": "stdout",
     "output_type": "stream",
     "text": [
      "<class 'pandas.core.frame.DataFrame'>\n",
      "RangeIndex: 250000 entries, 0 to 249999\n",
      "Data columns (total 10 columns):\n",
      " #   Column                       Non-Null Count   Dtype  \n",
      "---  ------                       --------------   -----  \n",
      " 0   Podcast_Name                 250000 non-null  object \n",
      " 1   Episode_Title                250000 non-null  object \n",
      " 2   Genre                        250000 non-null  object \n",
      " 3   Publication_Day              250000 non-null  object \n",
      " 4   Publication_Time             250000 non-null  object \n",
      " 5   Episode_Sentiment            250000 non-null  object \n",
      " 6   Episode_Length_minutes       250000 non-null  float64\n",
      " 7   Host_Popularity_percentage   250000 non-null  float64\n",
      " 8   Guest_Popularity_percentage  250000 non-null  float64\n",
      " 9   Number_of_Ads                250000 non-null  float64\n",
      "dtypes: float64(4), object(6)\n",
      "memory usage: 19.1+ MB\n"
     ]
    }
   ],
   "source": [
    "df_test_new.info()"
   ]
  },
  {
   "cell_type": "code",
   "execution_count": 39,
   "id": "8c975b4e",
   "metadata": {
    "execution": {
     "iopub.execute_input": "2025-04-20T19:13:27.252217Z",
     "iopub.status.busy": "2025-04-20T19:13:27.251877Z",
     "iopub.status.idle": "2025-04-20T19:13:27.258048Z",
     "shell.execute_reply": "2025-04-20T19:13:27.256885Z"
    },
    "papermill": {
     "duration": 0.020028,
     "end_time": "2025-04-20T19:13:27.259671",
     "exception": false,
     "start_time": "2025-04-20T19:13:27.239643",
     "status": "completed"
    },
    "tags": []
   },
   "outputs": [
    {
     "data": {
      "text/plain": [
       "'\\n# We filled in null values\\n\\ndf_test_new[\"Episode_Length_minutes\"] = (df_test_new[\"Episode_Length_minutes\"].fillna(\\n    df_test_new.groupby(\"Podcast_Name\")[\"Episode_Length_minutes\"].transform(\"mean\")\\n))\\ndf_test_new[\"Guest_Popularity_percentage\"] = (df_test_new[\"Guest_Popularity_percentage\"].fillna(\\n    df_test_new.groupby(\"Podcast_Name\")[\"Guest_Popularity_percentage\"].transform(\"mean\")\\n))\\n'"
      ]
     },
     "execution_count": 39,
     "metadata": {},
     "output_type": "execute_result"
    }
   ],
   "source": [
    "'''\n",
    "# We filled in null values\n",
    "\n",
    "df_test_new[\"Episode_Length_minutes\"] = (df_test_new[\"Episode_Length_minutes\"].fillna(\n",
    "    df_test_new.groupby(\"Podcast_Name\")[\"Episode_Length_minutes\"].transform(\"mean\")\n",
    "))\n",
    "df_test_new[\"Guest_Popularity_percentage\"] = (df_test_new[\"Guest_Popularity_percentage\"].fillna(\n",
    "    df_test_new.groupby(\"Podcast_Name\")[\"Guest_Popularity_percentage\"].transform(\"mean\")\n",
    "))\n",
    "'''"
   ]
  },
  {
   "cell_type": "code",
   "execution_count": 40,
   "id": "9d971e89",
   "metadata": {
    "execution": {
     "iopub.execute_input": "2025-04-20T19:13:27.283498Z",
     "iopub.status.busy": "2025-04-20T19:13:27.283203Z",
     "iopub.status.idle": "2025-04-20T19:13:27.644592Z",
     "shell.execute_reply": "2025-04-20T19:13:27.643386Z"
    },
    "papermill": {
     "duration": 0.375814,
     "end_time": "2025-04-20T19:13:27.646474",
     "exception": false,
     "start_time": "2025-04-20T19:13:27.270660",
     "status": "completed"
    },
    "tags": []
   },
   "outputs": [],
   "source": [
    "# We encode the categorical variables\n",
    "\n",
    "df_test_new[\"Episode_Sentiment\"] = df_test_new[\"Episode_Sentiment\"].map(eps_order)\n",
    "df_test_new[\"Episode_Sentiment\"] = df_test_new[\"Episode_Sentiment\"].astype(\"float64\")\n",
    "\n",
    "test_num = df_test_new.select_dtypes(include=\"number\")\n",
    "test_cat = df_test_new.select_dtypes(include=\"object\")\n",
    "test_enc = enc.fit_transform(test_cat)\n",
    "test_encoded = pd.concat([test_enc, test_num[[\"Number_of_Ads\", \"Episode_Sentiment\"]]], axis=1)\n",
    "\n",
    "# We transform the data\n",
    "\n",
    "test_num = test_num.drop(columns=[\"Number_of_Ads\", \"Episode_Sentiment\"])\n",
    "test_sca = scaler.transform(test_num)\n",
    "\n",
    "# We concatenate the dataframes\n",
    "\n",
    "test_end = pd.concat([test_encoded, test_sca], axis=1)"
   ]
  },
  {
   "cell_type": "code",
   "execution_count": 41,
   "id": "98efe45c",
   "metadata": {
    "execution": {
     "iopub.execute_input": "2025-04-20T19:13:27.673404Z",
     "iopub.status.busy": "2025-04-20T19:13:27.673042Z",
     "iopub.status.idle": "2025-04-20T19:13:27.837187Z",
     "shell.execute_reply": "2025-04-20T19:13:27.836228Z"
    },
    "papermill": {
     "duration": 0.179038,
     "end_time": "2025-04-20T19:13:27.838883",
     "exception": false,
     "start_time": "2025-04-20T19:13:27.659845",
     "status": "completed"
    },
    "tags": []
   },
   "outputs": [
    {
     "data": {
      "text/html": [
       "<div>\n",
       "<style scoped>\n",
       "    .dataframe tbody tr th:only-of-type {\n",
       "        vertical-align: middle;\n",
       "    }\n",
       "\n",
       "    .dataframe tbody tr th {\n",
       "        vertical-align: top;\n",
       "    }\n",
       "\n",
       "    .dataframe thead th {\n",
       "        text-align: right;\n",
       "    }\n",
       "</style>\n",
       "<table border=\"1\" class=\"dataframe\">\n",
       "  <thead>\n",
       "    <tr style=\"text-align: right;\">\n",
       "      <th></th>\n",
       "      <th>count</th>\n",
       "      <th>mean</th>\n",
       "      <th>std</th>\n",
       "      <th>min</th>\n",
       "      <th>25%</th>\n",
       "      <th>50%</th>\n",
       "      <th>75%</th>\n",
       "      <th>max</th>\n",
       "    </tr>\n",
       "  </thead>\n",
       "  <tbody>\n",
       "    <tr>\n",
       "      <th>Podcast_Name</th>\n",
       "      <td>250000.0</td>\n",
       "      <td>23.489368</td>\n",
       "      <td>14.110784</td>\n",
       "      <td>0.000000</td>\n",
       "      <td>11.000000</td>\n",
       "      <td>23.000000</td>\n",
       "      <td>36.000000</td>\n",
       "      <td>4.700000e+01</td>\n",
       "    </tr>\n",
       "    <tr>\n",
       "      <th>Episode_Title</th>\n",
       "      <td>250000.0</td>\n",
       "      <td>50.209524</td>\n",
       "      <td>28.191980</td>\n",
       "      <td>0.000000</td>\n",
       "      <td>26.000000</td>\n",
       "      <td>51.000000</td>\n",
       "      <td>74.000000</td>\n",
       "      <td>9.900000e+01</td>\n",
       "    </tr>\n",
       "    <tr>\n",
       "      <th>Genre</th>\n",
       "      <td>250000.0</td>\n",
       "      <td>4.641336</td>\n",
       "      <td>2.959436</td>\n",
       "      <td>0.000000</td>\n",
       "      <td>2.000000</td>\n",
       "      <td>5.000000</td>\n",
       "      <td>7.000000</td>\n",
       "      <td>9.000000e+00</td>\n",
       "    </tr>\n",
       "    <tr>\n",
       "      <th>Publication_Day</th>\n",
       "      <td>250000.0</td>\n",
       "      <td>2.962788</td>\n",
       "      <td>1.993649</td>\n",
       "      <td>0.000000</td>\n",
       "      <td>1.000000</td>\n",
       "      <td>3.000000</td>\n",
       "      <td>5.000000</td>\n",
       "      <td>6.000000e+00</td>\n",
       "    </tr>\n",
       "    <tr>\n",
       "      <th>Publication_Time</th>\n",
       "      <td>250000.0</td>\n",
       "      <td>1.522652</td>\n",
       "      <td>1.118540</td>\n",
       "      <td>0.000000</td>\n",
       "      <td>1.000000</td>\n",
       "      <td>1.000000</td>\n",
       "      <td>3.000000</td>\n",
       "      <td>3.000000e+00</td>\n",
       "    </tr>\n",
       "    <tr>\n",
       "      <th>Number_of_Ads</th>\n",
       "      <td>250000.0</td>\n",
       "      <td>1.347248</td>\n",
       "      <td>1.112669</td>\n",
       "      <td>0.000000</td>\n",
       "      <td>0.000000</td>\n",
       "      <td>1.000000</td>\n",
       "      <td>2.000000</td>\n",
       "      <td>3.000000e+00</td>\n",
       "    </tr>\n",
       "    <tr>\n",
       "      <th>Episode_Sentiment</th>\n",
       "      <td>250000.0</td>\n",
       "      <td>0.997236</td>\n",
       "      <td>0.815666</td>\n",
       "      <td>0.000000</td>\n",
       "      <td>0.000000</td>\n",
       "      <td>1.000000</td>\n",
       "      <td>2.000000</td>\n",
       "      <td>2.000000e+00</td>\n",
       "    </tr>\n",
       "    <tr>\n",
       "      <th>Episode_Length_minutes</th>\n",
       "      <td>250000.0</td>\n",
       "      <td>36.273930</td>\n",
       "      <td>5960.734191</td>\n",
       "      <td>-1.887650</td>\n",
       "      <td>-0.784008</td>\n",
       "      <td>-0.009331</td>\n",
       "      <td>0.811864</td>\n",
       "      <td>2.386243e+06</td>\n",
       "    </tr>\n",
       "    <tr>\n",
       "      <th>Host_Popularity_percentage</th>\n",
       "      <td>250000.0</td>\n",
       "      <td>-0.000536</td>\n",
       "      <td>1.001589</td>\n",
       "      <td>-2.505733</td>\n",
       "      <td>-0.896484</td>\n",
       "      <td>0.007514</td>\n",
       "      <td>0.860731</td>\n",
       "      <td>1.762978e+00</td>\n",
       "    </tr>\n",
       "    <tr>\n",
       "      <th>Guest_Popularity_percentage</th>\n",
       "      <td>250000.0</td>\n",
       "      <td>-0.001943</td>\n",
       "      <td>0.917108</td>\n",
       "      <td>-1.832130</td>\n",
       "      <td>-0.682370</td>\n",
       "      <td>0.023614</td>\n",
       "      <td>0.694856</td>\n",
       "      <td>1.675429e+00</td>\n",
       "    </tr>\n",
       "  </tbody>\n",
       "</table>\n",
       "</div>"
      ],
      "text/plain": [
       "                                count       mean          std       min  \\\n",
       "Podcast_Name                 250000.0  23.489368    14.110784  0.000000   \n",
       "Episode_Title                250000.0  50.209524    28.191980  0.000000   \n",
       "Genre                        250000.0   4.641336     2.959436  0.000000   \n",
       "Publication_Day              250000.0   2.962788     1.993649  0.000000   \n",
       "Publication_Time             250000.0   1.522652     1.118540  0.000000   \n",
       "Number_of_Ads                250000.0   1.347248     1.112669  0.000000   \n",
       "Episode_Sentiment            250000.0   0.997236     0.815666  0.000000   \n",
       "Episode_Length_minutes       250000.0  36.273930  5960.734191 -1.887650   \n",
       "Host_Popularity_percentage   250000.0  -0.000536     1.001589 -2.505733   \n",
       "Guest_Popularity_percentage  250000.0  -0.001943     0.917108 -1.832130   \n",
       "\n",
       "                                   25%        50%        75%           max  \n",
       "Podcast_Name                 11.000000  23.000000  36.000000  4.700000e+01  \n",
       "Episode_Title                26.000000  51.000000  74.000000  9.900000e+01  \n",
       "Genre                         2.000000   5.000000   7.000000  9.000000e+00  \n",
       "Publication_Day               1.000000   3.000000   5.000000  6.000000e+00  \n",
       "Publication_Time              1.000000   1.000000   3.000000  3.000000e+00  \n",
       "Number_of_Ads                 0.000000   1.000000   2.000000  3.000000e+00  \n",
       "Episode_Sentiment             0.000000   1.000000   2.000000  2.000000e+00  \n",
       "Episode_Length_minutes       -0.784008  -0.009331   0.811864  2.386243e+06  \n",
       "Host_Popularity_percentage   -0.896484   0.007514   0.860731  1.762978e+00  \n",
       "Guest_Popularity_percentage  -0.682370   0.023614   0.694856  1.675429e+00  "
      ]
     },
     "execution_count": 41,
     "metadata": {},
     "output_type": "execute_result"
    }
   ],
   "source": [
    "test_end.describe().T"
   ]
  },
  {
   "cell_type": "code",
   "execution_count": 42,
   "id": "d535bcb7",
   "metadata": {
    "execution": {
     "iopub.execute_input": "2025-04-20T19:13:27.864518Z",
     "iopub.status.busy": "2025-04-20T19:13:27.864176Z",
     "iopub.status.idle": "2025-04-20T19:13:28.377562Z",
     "shell.execute_reply": "2025-04-20T19:13:28.376499Z"
    },
    "papermill": {
     "duration": 0.528249,
     "end_time": "2025-04-20T19:13:28.379563",
     "exception": false,
     "start_time": "2025-04-20T19:13:27.851314",
     "status": "completed"
    },
    "tags": []
   },
   "outputs": [],
   "source": [
    "# We apply the trained model\n",
    "\n",
    "listening_predictions = final_model.predict(test_end)"
   ]
  },
  {
   "cell_type": "code",
   "execution_count": 43,
   "id": "0a8e5e46",
   "metadata": {
    "execution": {
     "iopub.execute_input": "2025-04-20T19:13:28.402931Z",
     "iopub.status.busy": "2025-04-20T19:13:28.402614Z",
     "iopub.status.idle": "2025-04-20T19:13:28.407604Z",
     "shell.execute_reply": "2025-04-20T19:13:28.406630Z"
    },
    "papermill": {
     "duration": 0.018435,
     "end_time": "2025-04-20T19:13:28.409191",
     "exception": false,
     "start_time": "2025-04-20T19:13:28.390756",
     "status": "completed"
    },
    "tags": []
   },
   "outputs": [
    {
     "name": "stdout",
     "output_type": "stream",
     "text": [
      "Total predictions:  250000 \n",
      "\n"
     ]
    }
   ],
   "source": [
    "# We review the result\n",
    "\n",
    "print(\"Total predictions: \", len(listening_predictions), \"\\n\")"
   ]
  },
  {
   "cell_type": "code",
   "execution_count": 44,
   "id": "2404972f",
   "metadata": {
    "execution": {
     "iopub.execute_input": "2025-04-20T19:13:28.431999Z",
     "iopub.status.busy": "2025-04-20T19:13:28.431714Z",
     "iopub.status.idle": "2025-04-20T19:13:28.441333Z",
     "shell.execute_reply": "2025-04-20T19:13:28.440363Z"
    },
    "papermill": {
     "duration": 0.02294,
     "end_time": "2025-04-20T19:13:28.442971",
     "exception": false,
     "start_time": "2025-04-20T19:13:28.420031",
     "status": "completed"
    },
    "tags": []
   },
   "outputs": [
    {
     "data": {
      "text/html": [
       "<div>\n",
       "<style scoped>\n",
       "    .dataframe tbody tr th:only-of-type {\n",
       "        vertical-align: middle;\n",
       "    }\n",
       "\n",
       "    .dataframe tbody tr th {\n",
       "        vertical-align: top;\n",
       "    }\n",
       "\n",
       "    .dataframe thead th {\n",
       "        text-align: right;\n",
       "    }\n",
       "</style>\n",
       "<table border=\"1\" class=\"dataframe\">\n",
       "  <thead>\n",
       "    <tr style=\"text-align: right;\">\n",
       "      <th></th>\n",
       "      <th>id</th>\n",
       "      <th>Listening_Time_minutes</th>\n",
       "    </tr>\n",
       "  </thead>\n",
       "  <tbody>\n",
       "    <tr>\n",
       "      <th>0</th>\n",
       "      <td>750000</td>\n",
       "      <td>55.400085</td>\n",
       "    </tr>\n",
       "    <tr>\n",
       "      <th>1</th>\n",
       "      <td>750001</td>\n",
       "      <td>17.408251</td>\n",
       "    </tr>\n",
       "    <tr>\n",
       "      <th>2</th>\n",
       "      <td>750002</td>\n",
       "      <td>49.367138</td>\n",
       "    </tr>\n",
       "    <tr>\n",
       "      <th>3</th>\n",
       "      <td>750003</td>\n",
       "      <td>78.209641</td>\n",
       "    </tr>\n",
       "    <tr>\n",
       "      <th>4</th>\n",
       "      <td>750004</td>\n",
       "      <td>48.604496</td>\n",
       "    </tr>\n",
       "  </tbody>\n",
       "</table>\n",
       "</div>"
      ],
      "text/plain": [
       "       id  Listening_Time_minutes\n",
       "0  750000               55.400085\n",
       "1  750001               17.408251\n",
       "2  750002               49.367138\n",
       "3  750003               78.209641\n",
       "4  750004               48.604496"
      ]
     },
     "execution_count": 44,
     "metadata": {},
     "output_type": "execute_result"
    }
   ],
   "source": [
    "# We create the dataframe\n",
    "\n",
    "listening_submission = pd.DataFrame({\n",
    "    \"id\" : df_test[\"id\"], \n",
    "    \"Listening_Time_minutes\" : listening_predictions\n",
    "})\n",
    "\n",
    "listening_submission.head()"
   ]
  },
  {
   "cell_type": "code",
   "execution_count": 45,
   "id": "d5d49ee1",
   "metadata": {
    "execution": {
     "iopub.execute_input": "2025-04-20T19:13:28.469939Z",
     "iopub.status.busy": "2025-04-20T19:13:28.469640Z",
     "iopub.status.idle": "2025-04-20T19:13:28.892805Z",
     "shell.execute_reply": "2025-04-20T19:13:28.891767Z"
    },
    "papermill": {
     "duration": 0.437835,
     "end_time": "2025-04-20T19:13:28.894597",
     "exception": false,
     "start_time": "2025-04-20T19:13:28.456762",
     "status": "completed"
    },
    "tags": []
   },
   "outputs": [],
   "source": [
    "# We convert the dataframe to a csv file\n",
    "\n",
    "listening_submission.to_csv(\"submission.csv\", index=False)"
   ]
  }
 ],
 "metadata": {
  "kaggle": {
   "accelerator": "none",
   "dataSources": [
    {
     "databundleVersionId": 11351736,
     "sourceId": 91715,
     "sourceType": "competition"
    }
   ],
   "dockerImageVersionId": 31012,
   "isGpuEnabled": false,
   "isInternetEnabled": true,
   "language": "python",
   "sourceType": "notebook"
  },
  "kernelspec": {
   "display_name": "Python 3",
   "language": "python",
   "name": "python3"
  },
  "language_info": {
   "codemirror_mode": {
    "name": "ipython",
    "version": 3
   },
   "file_extension": ".py",
   "mimetype": "text/x-python",
   "name": "python",
   "nbconvert_exporter": "python",
   "pygments_lexer": "ipython3",
   "version": "3.11.11"
  },
  "papermill": {
   "default_parameters": {},
   "duration": 1153.778446,
   "end_time": "2025-04-20T19:13:31.592181",
   "environment_variables": {},
   "exception": null,
   "input_path": "__notebook__.ipynb",
   "output_path": "__notebook__.ipynb",
   "parameters": {},
   "start_time": "2025-04-20T18:54:17.813735",
   "version": "2.6.0"
  }
 },
 "nbformat": 4,
 "nbformat_minor": 5
}
