{
 "cells": [
  {
   "cell_type": "code",
   "execution_count": 1,
   "id": "e1d2788d",
   "metadata": {
    "_cell_guid": "b1076dfc-b9ad-4769-8c92-a6c4dae69d19",
    "_uuid": "8f2839f25d086af736a60e9eeb907d3b93b6e0e5",
    "execution": {
     "iopub.execute_input": "2025-04-18T23:36:19.100469Z",
     "iopub.status.busy": "2025-04-18T23:36:19.099480Z",
     "iopub.status.idle": "2025-04-18T23:36:19.113529Z",
     "shell.execute_reply": "2025-04-18T23:36:19.112519Z"
    },
    "papermill": {
     "duration": 0.026664,
     "end_time": "2025-04-18T23:36:19.115295",
     "exception": false,
     "start_time": "2025-04-18T23:36:19.088631",
     "status": "completed"
    },
    "tags": []
   },
   "outputs": [
    {
     "name": "stdout",
     "output_type": "stream",
     "text": [
      "/kaggle/input/playground-series-s5e4/sample_submission.csv\n",
      "/kaggle/input/playground-series-s5e4/train.csv\n",
      "/kaggle/input/playground-series-s5e4/test.csv\n"
     ]
    }
   ],
   "source": [
    "# We load the competition data\n",
    "\n",
    "import warnings\n",
    "warnings.filterwarnings(\"ignore\")\n",
    "\n",
    "import os\n",
    "for dirname, _, filenames in os.walk('/kaggle/input'):\n",
    "    for filename in filenames:\n",
    "        print(os.path.join(dirname, filename))"
   ]
  },
  {
   "cell_type": "markdown",
   "id": "9e281b05",
   "metadata": {
    "papermill": {
     "duration": 0.009356,
     "end_time": "2025-04-18T23:36:19.134996",
     "exception": false,
     "start_time": "2025-04-18T23:36:19.125640",
     "status": "completed"
    },
    "tags": []
   },
   "source": [
    "# Libraries"
   ]
  },
  {
   "cell_type": "code",
   "execution_count": 2,
   "id": "22ba387e",
   "metadata": {
    "execution": {
     "iopub.execute_input": "2025-04-18T23:36:19.151737Z",
     "iopub.status.busy": "2025-04-18T23:36:19.151403Z",
     "iopub.status.idle": "2025-04-18T23:36:31.812537Z",
     "shell.execute_reply": "2025-04-18T23:36:31.811767Z"
    },
    "papermill": {
     "duration": 12.671226,
     "end_time": "2025-04-18T23:36:31.814140",
     "exception": false,
     "start_time": "2025-04-18T23:36:19.142914",
     "status": "completed"
    },
    "tags": []
   },
   "outputs": [],
   "source": [
    "import numpy as np\n",
    "import pandas as pd\n",
    "import matplotlib as mpl\n",
    "import matplotlib.pyplot as plt\n",
    "import seaborn as sns\n",
    "import shap\n",
    "\n",
    "from sklearn.preprocessing import (\n",
    "    OrdinalEncoder,\n",
    "    StandardScaler\n",
    ")\n",
    "from sklearn.feature_selection import (\n",
    "    mutual_info_regression\n",
    ")\n",
    "from sklearn.inspection import (\n",
    "    permutation_importance\n",
    ")\n",
    "from sklearn.model_selection import (\n",
    "    train_test_split,\n",
    "    cross_val_score,\n",
    "    KFold,\n",
    "    RandomizedSearchCV\n",
    ")\n",
    "from sklearn.metrics import (\n",
    "    r2_score, \n",
    "    mean_squared_error\n",
    ")\n",
    "from sklearn.linear_model import LinearRegression\n",
    "from sklearn.ensemble import RandomForestRegressor\n",
    "from xgboost import XGBRegressor"
   ]
  },
  {
   "cell_type": "markdown",
   "id": "d8ee1a1d",
   "metadata": {
    "papermill": {
     "duration": 0.007191,
     "end_time": "2025-04-18T23:36:31.829110",
     "exception": false,
     "start_time": "2025-04-18T23:36:31.821919",
     "status": "completed"
    },
    "tags": []
   },
   "source": [
    "# Primer análisis"
   ]
  },
  {
   "cell_type": "markdown",
   "id": "2e49db3c",
   "metadata": {
    "papermill": {
     "duration": 0.007153,
     "end_time": "2025-04-18T23:36:31.843722",
     "exception": false,
     "start_time": "2025-04-18T23:36:31.836569",
     "status": "completed"
    },
    "tags": []
   },
   "source": [
    "https://www.kaggle.com/code/les1781/listening-time-prediction-playground-series-s5-e4"
   ]
  },
  {
   "cell_type": "code",
   "execution_count": 3,
   "id": "06882235",
   "metadata": {
    "execution": {
     "iopub.execute_input": "2025-04-18T23:36:31.861053Z",
     "iopub.status.busy": "2025-04-18T23:36:31.860174Z",
     "iopub.status.idle": "2025-04-18T23:36:33.798594Z",
     "shell.execute_reply": "2025-04-18T23:36:33.797602Z"
    },
    "papermill": {
     "duration": 1.948847,
     "end_time": "2025-04-18T23:36:33.800394",
     "exception": false,
     "start_time": "2025-04-18T23:36:31.851547",
     "status": "completed"
    },
    "tags": []
   },
   "outputs": [],
   "source": [
    "# We load the data\n",
    "\n",
    "listening_new = pd.read_csv(\"/kaggle/input/playground-series-s5e4/train.csv\", index_col=\"id\")"
   ]
  },
  {
   "cell_type": "markdown",
   "id": "fc738648",
   "metadata": {
    "papermill": {
     "duration": 0.007095,
     "end_time": "2025-04-18T23:36:33.815099",
     "exception": false,
     "start_time": "2025-04-18T23:36:33.808004",
     "status": "completed"
    },
    "tags": []
   },
   "source": [
    "# Data wrangling"
   ]
  },
  {
   "cell_type": "code",
   "execution_count": 4,
   "id": "bcc40c53",
   "metadata": {
    "execution": {
     "iopub.execute_input": "2025-04-18T23:36:33.831696Z",
     "iopub.status.busy": "2025-04-18T23:36:33.830727Z",
     "iopub.status.idle": "2025-04-18T23:36:34.513482Z",
     "shell.execute_reply": "2025-04-18T23:36:34.512597Z"
    },
    "papermill": {
     "duration": 0.692505,
     "end_time": "2025-04-18T23:36:34.514907",
     "exception": false,
     "start_time": "2025-04-18T23:36:33.822402",
     "status": "completed"
    },
    "tags": []
   },
   "outputs": [
    {
     "data": {
      "text/html": [
       "<style type=\"text/css\">\n",
       "#T_59677_row0_col0, #T_59677_row0_col1, #T_59677_row1_col0, #T_59677_row1_col1, #T_59677_row3_col0, #T_59677_row3_col1, #T_59677_row4_col0, #T_59677_row4_col1, #T_59677_row5_col0, #T_59677_row5_col1, #T_59677_row6_col0, #T_59677_row6_col1, #T_59677_row8_col0, #T_59677_row8_col1, #T_59677_row9_col0, #T_59677_row9_col1, #T_59677_row10_col0, #T_59677_row10_col1 {\n",
       "  background-color: #f7fcf5;\n",
       "  color: #000000;\n",
       "}\n",
       "#T_59677_row2_col0, #T_59677_row2_col1 {\n",
       "  background-color: #4db163;\n",
       "  color: #f1f1f1;\n",
       "}\n",
       "#T_59677_row7_col0, #T_59677_row7_col1 {\n",
       "  background-color: #00441b;\n",
       "  color: #f1f1f1;\n",
       "}\n",
       "</style>\n",
       "<table id=\"T_59677\">\n",
       "  <thead>\n",
       "    <tr>\n",
       "      <th class=\"blank level0\" >&nbsp;</th>\n",
       "      <th id=\"T_59677_level0_col0\" class=\"col_heading level0 col0\" >Amount of Null Data</th>\n",
       "      <th id=\"T_59677_level0_col1\" class=\"col_heading level0 col1\" >Percentage of Null Data</th>\n",
       "    </tr>\n",
       "  </thead>\n",
       "  <tbody>\n",
       "    <tr>\n",
       "      <th id=\"T_59677_level0_row0\" class=\"row_heading level0 row0\" >Podcast_Name</th>\n",
       "      <td id=\"T_59677_row0_col0\" class=\"data row0 col0\" >0</td>\n",
       "      <td id=\"T_59677_row0_col1\" class=\"data row0 col1\" >0.000000</td>\n",
       "    </tr>\n",
       "    <tr>\n",
       "      <th id=\"T_59677_level0_row1\" class=\"row_heading level0 row1\" >Episode_Title</th>\n",
       "      <td id=\"T_59677_row1_col0\" class=\"data row1 col0\" >0</td>\n",
       "      <td id=\"T_59677_row1_col1\" class=\"data row1 col1\" >0.000000</td>\n",
       "    </tr>\n",
       "    <tr>\n",
       "      <th id=\"T_59677_level0_row2\" class=\"row_heading level0 row2\" >Episode_Length_minutes</th>\n",
       "      <td id=\"T_59677_row2_col0\" class=\"data row2 col0\" >87093</td>\n",
       "      <td id=\"T_59677_row2_col1\" class=\"data row2 col1\" >11.612400</td>\n",
       "    </tr>\n",
       "    <tr>\n",
       "      <th id=\"T_59677_level0_row3\" class=\"row_heading level0 row3\" >Genre</th>\n",
       "      <td id=\"T_59677_row3_col0\" class=\"data row3 col0\" >0</td>\n",
       "      <td id=\"T_59677_row3_col1\" class=\"data row3 col1\" >0.000000</td>\n",
       "    </tr>\n",
       "    <tr>\n",
       "      <th id=\"T_59677_level0_row4\" class=\"row_heading level0 row4\" >Host_Popularity_percentage</th>\n",
       "      <td id=\"T_59677_row4_col0\" class=\"data row4 col0\" >0</td>\n",
       "      <td id=\"T_59677_row4_col1\" class=\"data row4 col1\" >0.000000</td>\n",
       "    </tr>\n",
       "    <tr>\n",
       "      <th id=\"T_59677_level0_row5\" class=\"row_heading level0 row5\" >Publication_Day</th>\n",
       "      <td id=\"T_59677_row5_col0\" class=\"data row5 col0\" >0</td>\n",
       "      <td id=\"T_59677_row5_col1\" class=\"data row5 col1\" >0.000000</td>\n",
       "    </tr>\n",
       "    <tr>\n",
       "      <th id=\"T_59677_level0_row6\" class=\"row_heading level0 row6\" >Publication_Time</th>\n",
       "      <td id=\"T_59677_row6_col0\" class=\"data row6 col0\" >0</td>\n",
       "      <td id=\"T_59677_row6_col1\" class=\"data row6 col1\" >0.000000</td>\n",
       "    </tr>\n",
       "    <tr>\n",
       "      <th id=\"T_59677_level0_row7\" class=\"row_heading level0 row7\" >Guest_Popularity_percentage</th>\n",
       "      <td id=\"T_59677_row7_col0\" class=\"data row7 col0\" >146030</td>\n",
       "      <td id=\"T_59677_row7_col1\" class=\"data row7 col1\" >19.470667</td>\n",
       "    </tr>\n",
       "    <tr>\n",
       "      <th id=\"T_59677_level0_row8\" class=\"row_heading level0 row8\" >Number_of_Ads</th>\n",
       "      <td id=\"T_59677_row8_col0\" class=\"data row8 col0\" >1</td>\n",
       "      <td id=\"T_59677_row8_col1\" class=\"data row8 col1\" >0.000133</td>\n",
       "    </tr>\n",
       "    <tr>\n",
       "      <th id=\"T_59677_level0_row9\" class=\"row_heading level0 row9\" >Episode_Sentiment</th>\n",
       "      <td id=\"T_59677_row9_col0\" class=\"data row9 col0\" >0</td>\n",
       "      <td id=\"T_59677_row9_col1\" class=\"data row9 col1\" >0.000000</td>\n",
       "    </tr>\n",
       "    <tr>\n",
       "      <th id=\"T_59677_level0_row10\" class=\"row_heading level0 row10\" >Listening_Time_minutes</th>\n",
       "      <td id=\"T_59677_row10_col0\" class=\"data row10 col0\" >0</td>\n",
       "      <td id=\"T_59677_row10_col1\" class=\"data row10 col1\" >0.000000</td>\n",
       "    </tr>\n",
       "  </tbody>\n",
       "</table>\n"
      ],
      "text/plain": [
       "<pandas.io.formats.style.Styler at 0x7dbe46f2db50>"
      ]
     },
     "execution_count": 4,
     "metadata": {},
     "output_type": "execute_result"
    }
   ],
   "source": [
    "# We check for null values\n",
    "\n",
    "null_values = (\n",
    "    pd.DataFrame(\n",
    "        {f\"Amount of Null Data\": listening_new.isnull().sum(), \n",
    "         \"Percentage of Null Data\" : (\n",
    "             listening_new.isnull().sum()) / (len(listening_new)) * (100)\n",
    "        }))\n",
    "\n",
    "null_values.style.background_gradient(cmap=\"Greens\")"
   ]
  },
  {
   "cell_type": "code",
   "execution_count": 5,
   "id": "04cdfd84",
   "metadata": {
    "execution": {
     "iopub.execute_input": "2025-04-18T23:36:34.531940Z",
     "iopub.status.busy": "2025-04-18T23:36:34.531433Z",
     "iopub.status.idle": "2025-04-18T23:36:34.647564Z",
     "shell.execute_reply": "2025-04-18T23:36:34.646367Z"
    },
    "papermill": {
     "duration": 0.126597,
     "end_time": "2025-04-18T23:36:34.649367",
     "exception": false,
     "start_time": "2025-04-18T23:36:34.522770",
     "status": "completed"
    },
    "tags": []
   },
   "outputs": [
    {
     "name": "stdout",
     "output_type": "stream",
     "text": [
      "Number of null values:  0 \n",
      "\n",
      " Distribution of values: \n",
      " Episode_Length_minutes\n",
      "64.307741    0.003676\n",
      "67.117406    0.003409\n",
      "63.733542    0.003273\n",
      "62.711968    0.003211\n",
      "62.850526    0.003109\n",
      "               ...   \n",
      "44.000846    0.000001\n",
      "8.438445     0.000001\n",
      "86.442500    0.000001\n",
      "77.137000    0.000001\n",
      "62.167294    0.000001\n",
      "Name: proportion, Length: 12316, dtype: float64\n"
     ]
    }
   ],
   "source": [
    "# We fill null values with the mean groupby Podcast\n",
    "\n",
    "listening_new[\"Episode_Length_minutes\"] = (listening_new[\"Episode_Length_minutes\"].fillna(\n",
    "    listening_new.groupby(\"Podcast_Name\")[\"Episode_Length_minutes\"].transform(\"mean\")\n",
    "))\n",
    "print(\n",
    "    \"Number of null values: \", listening_new[\"Episode_Length_minutes\"].isnull().sum(), \"\\n\\n\",\n",
    "    \"Distribution of values: \\n\", listening_new[\"Episode_Length_minutes\"].value_counts(normalize=True)\n",
    ")"
   ]
  },
  {
   "cell_type": "code",
   "execution_count": 6,
   "id": "4e76af5c",
   "metadata": {
    "execution": {
     "iopub.execute_input": "2025-04-18T23:36:34.667767Z",
     "iopub.status.busy": "2025-04-18T23:36:34.667447Z",
     "iopub.status.idle": "2025-04-18T23:36:35.111001Z",
     "shell.execute_reply": "2025-04-18T23:36:35.109716Z"
    },
    "papermill": {
     "duration": 0.455532,
     "end_time": "2025-04-18T23:36:35.113142",
     "exception": false,
     "start_time": "2025-04-18T23:36:34.657610",
     "status": "completed"
    },
    "tags": []
   },
   "outputs": [
    {
     "name": "stdout",
     "output_type": "stream",
     "text": [
      "Number of null values:  0 \n",
      "\n",
      " Distribution of values: \n",
      " Number_of_Ads\n",
      "0.0    217597\n",
      "1.0    214074\n",
      "3.0    160173\n",
      "2.0    158156\n",
      "Name: count, dtype: int64\n"
     ]
    }
   ],
   "source": [
    "# We replace the erroneous values with the mode of the Podcasts\n",
    "\n",
    "listening_new[\"Number_of_Ads\"] = (listening_new[\"Number_of_Ads\"].apply(lambda x: np.NaN if x>3 else x))\n",
    "\n",
    "listening_new[\"Number_of_Ads\"] = (listening_new[\"Number_of_Ads\"].fillna(\n",
    "        listening_new.groupby(\"Podcast_Name\")[\"Number_of_Ads\"].transform(lambda v: v.mode()[0])))\n",
    "\n",
    "print(\n",
    "    \"Number of null values: \", listening_new[\"Number_of_Ads\"].isnull().sum(), \"\\n\\n\",\n",
    "    \"Distribution of values: \\n\", listening_new[\"Number_of_Ads\"].value_counts()\n",
    ")"
   ]
  },
  {
   "cell_type": "code",
   "execution_count": 7,
   "id": "970fc241",
   "metadata": {
    "execution": {
     "iopub.execute_input": "2025-04-18T23:36:35.131000Z",
     "iopub.status.busy": "2025-04-18T23:36:35.130209Z",
     "iopub.status.idle": "2025-04-18T23:36:35.189281Z",
     "shell.execute_reply": "2025-04-18T23:36:35.188122Z"
    },
    "papermill": {
     "duration": 0.069276,
     "end_time": "2025-04-18T23:36:35.190762",
     "exception": false,
     "start_time": "2025-04-18T23:36:35.121486",
     "status": "completed"
    },
    "tags": []
   },
   "outputs": [
    {
     "name": "stdout",
     "output_type": "stream",
     "text": [
      "Number of Unique values:  8007 \n",
      " Distribution of values: \n",
      " Host_Popularity_percentage\n",
      "38.68    0.000747\n",
      "26.72    0.000697\n",
      "56.29    0.000653\n",
      "30.14    0.000593\n",
      "31.57    0.000585\n",
      "           ...   \n",
      "1.77     0.000003\n",
      "1.30     0.000001\n",
      "39.18    0.000001\n",
      "1.73     0.000001\n",
      "1.47     0.000001\n",
      "Name: proportion, Length: 8007, dtype: float64\n"
     ]
    }
   ],
   "source": [
    "# We replace the erroneous values\n",
    "\n",
    "listening_new[\"Host_Popularity_percentage\"] = np.where(\n",
    "    listening_new[\"Host_Popularity_percentage\"] > 100, 100, listening_new[\"Host_Popularity_percentage\"]\n",
    ").round(decimals=2)\n",
    "\n",
    "print(\n",
    "    \"Number of Unique values: \", listening_new[\"Host_Popularity_percentage\"].nunique(), \"\\n\",\n",
    "    \"Distribution of values: \\n\", listening_new[\"Host_Popularity_percentage\"].value_counts(normalize=True)\n",
    ")"
   ]
  },
  {
   "cell_type": "code",
   "execution_count": 8,
   "id": "e270cbcc",
   "metadata": {
    "execution": {
     "iopub.execute_input": "2025-04-18T23:36:35.209140Z",
     "iopub.status.busy": "2025-04-18T23:36:35.208373Z",
     "iopub.status.idle": "2025-04-18T23:36:35.344927Z",
     "shell.execute_reply": "2025-04-18T23:36:35.343903Z"
    },
    "papermill": {
     "duration": 0.147331,
     "end_time": "2025-04-18T23:36:35.346583",
     "exception": false,
     "start_time": "2025-04-18T23:36:35.199252",
     "status": "completed"
    },
    "tags": []
   },
   "outputs": [
    {
     "name": "stdout",
     "output_type": "stream",
     "text": [
      "Number of Unique values:  9991 \n",
      " Number of null values:  0 \n",
      "\n",
      " Distribution of values: \n",
      " Guest_Popularity_percentage\n",
      "52.24    0.009640\n",
      "51.27    0.008721\n",
      "51.88    0.006383\n",
      "52.60    0.006055\n",
      "52.63    0.005424\n",
      "           ...   \n",
      "42.36    0.000001\n",
      "59.65    0.000001\n",
      "3.88     0.000001\n",
      "49.24    0.000001\n",
      "11.60    0.000001\n",
      "Name: proportion, Length: 9991, dtype: float64\n"
     ]
    }
   ],
   "source": [
    "# We replace the erroneous values\n",
    "\n",
    "listening_new[\"Guest_Popularity_percentage\"] = np.where(\n",
    "    listening_new[\"Guest_Popularity_percentage\"] > 100, 100, listening_new[\"Guest_Popularity_percentage\"]\n",
    ")\n",
    "\n",
    "# We fill null values with the mean groupby Podcast\n",
    "\n",
    "listening_new[\"Guest_Popularity_percentage\"] = (\n",
    "    listening_new[\"Guest_Popularity_percentage\"].fillna(\n",
    "        listening_new.groupby(\"Podcast_Name\")[\"Guest_Popularity_percentage\"].transform(\"mean\")\n",
    "    )\n",
    ").round(decimals=2)\n",
    "\n",
    "print(\n",
    "    \"Number of Unique values: \", listening_new[\"Guest_Popularity_percentage\"].nunique(), \"\\n\",\n",
    "    \"Number of null values: \", listening_new[\"Guest_Popularity_percentage\"].isnull().sum(), \"\\n\\n\",\n",
    "    \"Distribution of values: \\n\", listening_new[\"Guest_Popularity_percentage\"].value_counts(normalize=True)\n",
    ")"
   ]
  },
  {
   "cell_type": "code",
   "execution_count": 9,
   "id": "9873a7cb",
   "metadata": {
    "execution": {
     "iopub.execute_input": "2025-04-18T23:36:35.365117Z",
     "iopub.status.busy": "2025-04-18T23:36:35.364772Z",
     "iopub.status.idle": "2025-04-18T23:36:35.778694Z",
     "shell.execute_reply": "2025-04-18T23:36:35.777884Z"
    },
    "papermill": {
     "duration": 0.424471,
     "end_time": "2025-04-18T23:36:35.780415",
     "exception": false,
     "start_time": "2025-04-18T23:36:35.355944",
     "status": "completed"
    },
    "tags": []
   },
   "outputs": [],
   "source": [
    "# We changed the format for more efficient memory usage\n",
    "\n",
    "listening_new[listening_new.select_dtypes([\"object\"]).columns] = (\n",
    "    listening_new.select_dtypes([\"object\"]).apply(\n",
    "        lambda x: x.astype(\"category\"))\n",
    ")"
   ]
  },
  {
   "cell_type": "code",
   "execution_count": 10,
   "id": "1ffe3f6a",
   "metadata": {
    "execution": {
     "iopub.execute_input": "2025-04-18T23:36:35.798168Z",
     "iopub.status.busy": "2025-04-18T23:36:35.797449Z",
     "iopub.status.idle": "2025-04-18T23:36:35.834369Z",
     "shell.execute_reply": "2025-04-18T23:36:35.833308Z"
    },
    "papermill": {
     "duration": 0.047477,
     "end_time": "2025-04-18T23:36:35.836059",
     "exception": false,
     "start_time": "2025-04-18T23:36:35.788582",
     "status": "completed"
    },
    "tags": []
   },
   "outputs": [
    {
     "name": "stdout",
     "output_type": "stream",
     "text": [
      "<class 'pandas.core.frame.DataFrame'>\n",
      "Index: 750000 entries, 0 to 749999\n",
      "Data columns (total 11 columns):\n",
      " #   Column                       Non-Null Count   Dtype   \n",
      "---  ------                       --------------   -----   \n",
      " 0   Podcast_Name                 750000 non-null  category\n",
      " 1   Episode_Title                750000 non-null  category\n",
      " 2   Episode_Length_minutes       750000 non-null  float64 \n",
      " 3   Genre                        750000 non-null  category\n",
      " 4   Host_Popularity_percentage   750000 non-null  float64 \n",
      " 5   Publication_Day              750000 non-null  category\n",
      " 6   Publication_Time             750000 non-null  category\n",
      " 7   Guest_Popularity_percentage  750000 non-null  float64 \n",
      " 8   Number_of_Ads                750000 non-null  float64 \n",
      " 9   Episode_Sentiment            750000 non-null  category\n",
      " 10  Listening_Time_minutes       750000 non-null  float64 \n",
      "dtypes: category(6), float64(5)\n",
      "memory usage: 38.6 MB\n"
     ]
    }
   ],
   "source": [
    "listening_new.info()"
   ]
  },
  {
   "cell_type": "markdown",
   "id": "9896b6ab",
   "metadata": {
    "papermill": {
     "duration": 0.007787,
     "end_time": "2025-04-18T23:36:35.851965",
     "exception": false,
     "start_time": "2025-04-18T23:36:35.844178",
     "status": "completed"
    },
    "tags": []
   },
   "source": [
    "# Data preprocessing"
   ]
  },
  {
   "cell_type": "code",
   "execution_count": 11,
   "id": "a4f65ba6",
   "metadata": {
    "execution": {
     "iopub.execute_input": "2025-04-18T23:36:35.868947Z",
     "iopub.status.busy": "2025-04-18T23:36:35.868600Z",
     "iopub.status.idle": "2025-04-18T23:36:35.903289Z",
     "shell.execute_reply": "2025-04-18T23:36:35.902503Z"
    },
    "papermill": {
     "duration": 0.045112,
     "end_time": "2025-04-18T23:36:35.904893",
     "exception": false,
     "start_time": "2025-04-18T23:36:35.859781",
     "status": "completed"
    },
    "tags": []
   },
   "outputs": [],
   "source": [
    "listening_end = listening_new.copy()"
   ]
  },
  {
   "cell_type": "code",
   "execution_count": 12,
   "id": "4c4db9a7",
   "metadata": {
    "execution": {
     "iopub.execute_input": "2025-04-18T23:36:35.922691Z",
     "iopub.status.busy": "2025-04-18T23:36:35.921906Z",
     "iopub.status.idle": "2025-04-18T23:36:35.932003Z",
     "shell.execute_reply": "2025-04-18T23:36:35.931067Z"
    },
    "papermill": {
     "duration": 0.020427,
     "end_time": "2025-04-18T23:36:35.933516",
     "exception": false,
     "start_time": "2025-04-18T23:36:35.913089",
     "status": "completed"
    },
    "tags": []
   },
   "outputs": [],
   "source": [
    "# We map the variables and change the format\n",
    "\n",
    "eps_order = {\"Negative\" : 0, \"Neutral\" : 1, \"Positive\" : 2}\n",
    "listening_end[\"Episode_Sentiment\"] = listening_end[\"Episode_Sentiment\"].map(eps_order)\n",
    "listening_end[\"Episode_Sentiment\"] = listening_end[\"Episode_Sentiment\"].astype(\"float64\")"
   ]
  },
  {
   "cell_type": "code",
   "execution_count": 13,
   "id": "417be15a",
   "metadata": {
    "execution": {
     "iopub.execute_input": "2025-04-18T23:36:36.015990Z",
     "iopub.status.busy": "2025-04-18T23:36:36.015065Z",
     "iopub.status.idle": "2025-04-18T23:36:36.056450Z",
     "shell.execute_reply": "2025-04-18T23:36:36.055432Z"
    },
    "papermill": {
     "duration": 0.116683,
     "end_time": "2025-04-18T23:36:36.058287",
     "exception": false,
     "start_time": "2025-04-18T23:36:35.941604",
     "status": "completed"
    },
    "tags": []
   },
   "outputs": [],
   "source": [
    "# We separate the categorical variables from the numerical ones\n",
    "\n",
    "df_numerical = listening_end.select_dtypes(include=\"number\")\n",
    "df_categorical = listening_end.select_dtypes(include=\"category\")"
   ]
  },
  {
   "cell_type": "markdown",
   "id": "caf2c716",
   "metadata": {
    "papermill": {
     "duration": 0.007937,
     "end_time": "2025-04-18T23:36:36.074577",
     "exception": false,
     "start_time": "2025-04-18T23:36:36.066640",
     "status": "completed"
    },
    "tags": []
   },
   "source": [
    "## Encode"
   ]
  },
  {
   "cell_type": "code",
   "execution_count": 14,
   "id": "178f1ab9",
   "metadata": {
    "execution": {
     "iopub.execute_input": "2025-04-18T23:36:36.092038Z",
     "iopub.status.busy": "2025-04-18T23:36:36.091583Z",
     "iopub.status.idle": "2025-04-18T23:36:36.932484Z",
     "shell.execute_reply": "2025-04-18T23:36:36.931543Z"
    },
    "papermill": {
     "duration": 0.851684,
     "end_time": "2025-04-18T23:36:36.934240",
     "exception": false,
     "start_time": "2025-04-18T23:36:36.082556",
     "status": "completed"
    },
    "tags": []
   },
   "outputs": [],
   "source": [
    "# We apply OrdinalEncoder to the remaining categorical variables\n",
    "\n",
    "enc = OrdinalEncoder(categories=\"auto\").set_output(transform=\"pandas\")\n",
    "\n",
    "enc_data = enc.fit_transform(df_categorical)\n",
    "\n",
    "df_listening = pd.concat([enc_data, df_numerical], axis=1)"
   ]
  },
  {
   "cell_type": "code",
   "execution_count": 15,
   "id": "0b48241d",
   "metadata": {
    "execution": {
     "iopub.execute_input": "2025-04-18T23:36:36.953128Z",
     "iopub.status.busy": "2025-04-18T23:36:36.952706Z",
     "iopub.status.idle": "2025-04-18T23:36:37.300490Z",
     "shell.execute_reply": "2025-04-18T23:36:37.299513Z"
    },
    "papermill": {
     "duration": 0.359531,
     "end_time": "2025-04-18T23:36:37.302121",
     "exception": false,
     "start_time": "2025-04-18T23:36:36.942590",
     "status": "completed"
    },
    "tags": []
   },
   "outputs": [
    {
     "data": {
      "text/html": [
       "<style type=\"text/css\">\n",
       "#T_4882e_row0_col0, #T_4882e_row1_col1, #T_4882e_row2_col2, #T_4882e_row3_col3, #T_4882e_row4_col4, #T_4882e_row5_col5, #T_4882e_row6_col6, #T_4882e_row7_col7, #T_4882e_row8_col8, #T_4882e_row9_col9, #T_4882e_row10_col10 {\n",
       "  background-color: #00441b;\n",
       "  color: #f1f1f1;\n",
       "}\n",
       "#T_4882e_row0_col1, #T_4882e_row2_col1, #T_4882e_row3_col9, #T_4882e_row6_col9, #T_4882e_row8_col1, #T_4882e_row9_col6 {\n",
       "  background-color: #f4fbf1;\n",
       "  color: #000000;\n",
       "}\n",
       "#T_4882e_row0_col2, #T_4882e_row2_col0 {\n",
       "  background-color: #d5efcf;\n",
       "  color: #000000;\n",
       "}\n",
       "#T_4882e_row0_col3, #T_4882e_row0_col4, #T_4882e_row0_col7, #T_4882e_row1_col0, #T_4882e_row1_col3, #T_4882e_row1_col4, #T_4882e_row2_col3, #T_4882e_row2_col4, #T_4882e_row2_col6, #T_4882e_row3_col0, #T_4882e_row3_col4, #T_4882e_row4_col2, #T_4882e_row4_col7, #T_4882e_row5_col0, #T_4882e_row5_col2, #T_4882e_row5_col3, #T_4882e_row5_col7, #T_4882e_row6_col4, #T_4882e_row7_col3, #T_4882e_row8_col2, #T_4882e_row8_col3, #T_4882e_row9_col0, #T_4882e_row9_col2, #T_4882e_row9_col3, #T_4882e_row10_col0, #T_4882e_row10_col3 {\n",
       "  background-color: #f6fcf4;\n",
       "  color: #000000;\n",
       "}\n",
       "#T_4882e_row0_col5, #T_4882e_row3_col5 {\n",
       "  background-color: #eff9ec;\n",
       "  color: #000000;\n",
       "}\n",
       "#T_4882e_row0_col6, #T_4882e_row1_col2, #T_4882e_row1_col9, #T_4882e_row3_col2, #T_4882e_row3_col6, #T_4882e_row3_col7, #T_4882e_row8_col0, #T_4882e_row9_col4, #T_4882e_row9_col7, #T_4882e_row10_col2 {\n",
       "  background-color: #f5fbf3;\n",
       "  color: #000000;\n",
       "}\n",
       "#T_4882e_row0_col8, #T_4882e_row7_col8 {\n",
       "  background-color: #e6f5e1;\n",
       "  color: #000000;\n",
       "}\n",
       "#T_4882e_row0_col9, #T_4882e_row2_col7, #T_4882e_row3_col1, #T_4882e_row4_col1, #T_4882e_row7_col9, #T_4882e_row8_col7, #T_4882e_row10_col4 {\n",
       "  background-color: #f4fbf2;\n",
       "  color: #000000;\n",
       "}\n",
       "#T_4882e_row0_col10, #T_4882e_row1_col8, #T_4882e_row2_col10, #T_4882e_row3_col8, #T_4882e_row3_col10 {\n",
       "  background-color: #e7f6e2;\n",
       "  color: #000000;\n",
       "}\n",
       "#T_4882e_row1_col5, #T_4882e_row6_col7 {\n",
       "  background-color: #f2faf0;\n",
       "  color: #000000;\n",
       "}\n",
       "#T_4882e_row1_col6, #T_4882e_row7_col6 {\n",
       "  background-color: #f2faef;\n",
       "  color: #000000;\n",
       "}\n",
       "#T_4882e_row1_col7 {\n",
       "  background-color: #f0f9ed;\n",
       "  color: #000000;\n",
       "}\n",
       "#T_4882e_row1_col10, #T_4882e_row9_col8 {\n",
       "  background-color: #eaf7e6;\n",
       "  color: #000000;\n",
       "}\n",
       "#T_4882e_row2_col5, #T_4882e_row7_col1 {\n",
       "  background-color: #f0f9ec;\n",
       "  color: #000000;\n",
       "}\n",
       "#T_4882e_row2_col8 {\n",
       "  background-color: #e8f6e3;\n",
       "  color: #000000;\n",
       "}\n",
       "#T_4882e_row2_col9, #T_4882e_row4_col6, #T_4882e_row5_col4, #T_4882e_row7_col2, #T_4882e_row9_col1 {\n",
       "  background-color: #f5fbf2;\n",
       "  color: #000000;\n",
       "}\n",
       "#T_4882e_row4_col0, #T_4882e_row4_col3, #T_4882e_row5_col1, #T_4882e_row6_col0, #T_4882e_row6_col2, #T_4882e_row6_col3, #T_4882e_row7_col0, #T_4882e_row7_col4, #T_4882e_row8_col4, #T_4882e_row8_col5, #T_4882e_row8_col6, #T_4882e_row8_col9, #T_4882e_row8_col10, #T_4882e_row10_col1, #T_4882e_row10_col7, #T_4882e_row10_col8 {\n",
       "  background-color: #f7fcf5;\n",
       "  color: #000000;\n",
       "}\n",
       "#T_4882e_row4_col5, #T_4882e_row5_col8, #T_4882e_row10_col9 {\n",
       "  background-color: #eff9eb;\n",
       "  color: #000000;\n",
       "}\n",
       "#T_4882e_row4_col8 {\n",
       "  background-color: #e8f6e4;\n",
       "  color: #000000;\n",
       "}\n",
       "#T_4882e_row4_col9 {\n",
       "  background-color: #f3faf0;\n",
       "  color: #000000;\n",
       "}\n",
       "#T_4882e_row4_col10 {\n",
       "  background-color: #e5f5e1;\n",
       "  color: #000000;\n",
       "}\n",
       "#T_4882e_row5_col6, #T_4882e_row5_col9, #T_4882e_row6_col1, #T_4882e_row7_col5 {\n",
       "  background-color: #f1faee;\n",
       "  color: #000000;\n",
       "}\n",
       "#T_4882e_row5_col10 {\n",
       "  background-color: #006b2b;\n",
       "  color: #f1f1f1;\n",
       "}\n",
       "#T_4882e_row6_col5 {\n",
       "  background-color: #edf8e9;\n",
       "  color: #000000;\n",
       "}\n",
       "#T_4882e_row6_col8, #T_4882e_row7_col10 {\n",
       "  background-color: #e9f7e5;\n",
       "  color: #000000;\n",
       "}\n",
       "#T_4882e_row6_col10 {\n",
       "  background-color: #def2d9;\n",
       "  color: #000000;\n",
       "}\n",
       "#T_4882e_row9_col5 {\n",
       "  background-color: #ecf8e8;\n",
       "  color: #000000;\n",
       "}\n",
       "#T_4882e_row9_col10 {\n",
       "  background-color: #e0f3db;\n",
       "  color: #000000;\n",
       "}\n",
       "#T_4882e_row10_col5 {\n",
       "  background-color: #006d2c;\n",
       "  color: #f1f1f1;\n",
       "}\n",
       "#T_4882e_row10_col6 {\n",
       "  background-color: #edf8ea;\n",
       "  color: #000000;\n",
       "}\n",
       "</style>\n",
       "<table id=\"T_4882e\">\n",
       "  <thead>\n",
       "    <tr>\n",
       "      <th class=\"blank level0\" >&nbsp;</th>\n",
       "      <th id=\"T_4882e_level0_col0\" class=\"col_heading level0 col0\" >Podcast_Name</th>\n",
       "      <th id=\"T_4882e_level0_col1\" class=\"col_heading level0 col1\" >Episode_Title</th>\n",
       "      <th id=\"T_4882e_level0_col2\" class=\"col_heading level0 col2\" >Genre</th>\n",
       "      <th id=\"T_4882e_level0_col3\" class=\"col_heading level0 col3\" >Publication_Day</th>\n",
       "      <th id=\"T_4882e_level0_col4\" class=\"col_heading level0 col4\" >Publication_Time</th>\n",
       "      <th id=\"T_4882e_level0_col5\" class=\"col_heading level0 col5\" >Episode_Length_minutes</th>\n",
       "      <th id=\"T_4882e_level0_col6\" class=\"col_heading level0 col6\" >Host_Popularity_percentage</th>\n",
       "      <th id=\"T_4882e_level0_col7\" class=\"col_heading level0 col7\" >Guest_Popularity_percentage</th>\n",
       "      <th id=\"T_4882e_level0_col8\" class=\"col_heading level0 col8\" >Number_of_Ads</th>\n",
       "      <th id=\"T_4882e_level0_col9\" class=\"col_heading level0 col9\" >Episode_Sentiment</th>\n",
       "      <th id=\"T_4882e_level0_col10\" class=\"col_heading level0 col10\" >Listening_Time_minutes</th>\n",
       "    </tr>\n",
       "  </thead>\n",
       "  <tbody>\n",
       "    <tr>\n",
       "      <th id=\"T_4882e_level0_row0\" class=\"row_heading level0 row0\" >Podcast_Name</th>\n",
       "      <td id=\"T_4882e_row0_col0\" class=\"data row0 col0\" >1.000000</td>\n",
       "      <td id=\"T_4882e_row0_col1\" class=\"data row0 col1\" >0.006669</td>\n",
       "      <td id=\"T_4882e_row0_col2\" class=\"data row0 col2\" >0.188052</td>\n",
       "      <td id=\"T_4882e_row0_col3\" class=\"data row0 col3\" >0.003117</td>\n",
       "      <td id=\"T_4882e_row0_col4\" class=\"data row0 col4\" >-0.002328</td>\n",
       "      <td id=\"T_4882e_row0_col5\" class=\"data row0 col5\" >0.006335</td>\n",
       "      <td id=\"T_4882e_row0_col6\" class=\"data row0 col6\" >-0.002424</td>\n",
       "      <td id=\"T_4882e_row0_col7\" class=\"data row0 col7\" >-0.004750</td>\n",
       "      <td id=\"T_4882e_row0_col8\" class=\"data row0 col8\" >0.008955</td>\n",
       "      <td id=\"T_4882e_row0_col9\" class=\"data row0 col9\" >0.003115</td>\n",
       "      <td id=\"T_4882e_row0_col10\" class=\"data row0 col10\" >0.004346</td>\n",
       "    </tr>\n",
       "    <tr>\n",
       "      <th id=\"T_4882e_level0_row1\" class=\"row_heading level0 row1\" >Episode_Title</th>\n",
       "      <td id=\"T_4882e_row1_col0\" class=\"data row1 col0\" >0.006669</td>\n",
       "      <td id=\"T_4882e_row1_col1\" class=\"data row1 col1\" >1.000000</td>\n",
       "      <td id=\"T_4882e_row1_col2\" class=\"data row1 col2\" >0.006847</td>\n",
       "      <td id=\"T_4882e_row1_col3\" class=\"data row1 col3\" >0.001100</td>\n",
       "      <td id=\"T_4882e_row1_col4\" class=\"data row1 col4\" >-0.000304</td>\n",
       "      <td id=\"T_4882e_row1_col5\" class=\"data row1 col5\" >-0.019925</td>\n",
       "      <td id=\"T_4882e_row1_col6\" class=\"data row1 col6\" >0.020208</td>\n",
       "      <td id=\"T_4882e_row1_col7\" class=\"data row1 col7\" >0.034565</td>\n",
       "      <td id=\"T_4882e_row1_col8\" class=\"data row1 col8\" >0.006395</td>\n",
       "      <td id=\"T_4882e_row1_col9\" class=\"data row1 col9\" >-0.004845</td>\n",
       "      <td id=\"T_4882e_row1_col10\" class=\"data row1 col10\" >-0.020842</td>\n",
       "    </tr>\n",
       "    <tr>\n",
       "      <th id=\"T_4882e_level0_row2\" class=\"row_heading level0 row2\" >Genre</th>\n",
       "      <td id=\"T_4882e_row2_col0\" class=\"data row2 col0\" >0.188052</td>\n",
       "      <td id=\"T_4882e_row2_col1\" class=\"data row2 col1\" >0.006847</td>\n",
       "      <td id=\"T_4882e_row2_col2\" class=\"data row2 col2\" >1.000000</td>\n",
       "      <td id=\"T_4882e_row2_col3\" class=\"data row2 col3\" >0.003305</td>\n",
       "      <td id=\"T_4882e_row2_col4\" class=\"data row2 col4\" >-0.001329</td>\n",
       "      <td id=\"T_4882e_row2_col5\" class=\"data row2 col5\" >-0.000452</td>\n",
       "      <td id=\"T_4882e_row2_col6\" class=\"data row2 col6\" >-0.008807</td>\n",
       "      <td id=\"T_4882e_row2_col7\" class=\"data row2 col7\" >0.007005</td>\n",
       "      <td id=\"T_4882e_row2_col8\" class=\"data row2 col8\" >-0.003429</td>\n",
       "      <td id=\"T_4882e_row2_col9\" class=\"data row2 col9\" >-0.001588</td>\n",
       "      <td id=\"T_4882e_row2_col10\" class=\"data row2 col10\" >0.004940</td>\n",
       "    </tr>\n",
       "    <tr>\n",
       "      <th id=\"T_4882e_level0_row3\" class=\"row_heading level0 row3\" >Publication_Day</th>\n",
       "      <td id=\"T_4882e_row3_col0\" class=\"data row3 col0\" >0.003117</td>\n",
       "      <td id=\"T_4882e_row3_col1\" class=\"data row3 col1\" >0.001100</td>\n",
       "      <td id=\"T_4882e_row3_col2\" class=\"data row3 col2\" >0.003305</td>\n",
       "      <td id=\"T_4882e_row3_col3\" class=\"data row3 col3\" >1.000000</td>\n",
       "      <td id=\"T_4882e_row3_col4\" class=\"data row3 col4\" >-0.000860</td>\n",
       "      <td id=\"T_4882e_row3_col5\" class=\"data row3 col5\" >0.006598</td>\n",
       "      <td id=\"T_4882e_row3_col6\" class=\"data row3 col6\" >-0.003698</td>\n",
       "      <td id=\"T_4882e_row3_col7\" class=\"data row3 col7\" >0.000398</td>\n",
       "      <td id=\"T_4882e_row3_col8\" class=\"data row3 col8\" >0.004986</td>\n",
       "      <td id=\"T_4882e_row3_col9\" class=\"data row3 col9\" >0.004594</td>\n",
       "      <td id=\"T_4882e_row3_col10\" class=\"data row3 col10\" >0.004030</td>\n",
       "    </tr>\n",
       "    <tr>\n",
       "      <th id=\"T_4882e_level0_row4\" class=\"row_heading level0 row4\" >Publication_Time</th>\n",
       "      <td id=\"T_4882e_row4_col0\" class=\"data row4 col0\" >-0.002328</td>\n",
       "      <td id=\"T_4882e_row4_col1\" class=\"data row4 col1\" >-0.000304</td>\n",
       "      <td id=\"T_4882e_row4_col2\" class=\"data row4 col2\" >-0.001329</td>\n",
       "      <td id=\"T_4882e_row4_col3\" class=\"data row4 col3\" >-0.000860</td>\n",
       "      <td id=\"T_4882e_row4_col4\" class=\"data row4 col4\" >1.000000</td>\n",
       "      <td id=\"T_4882e_row4_col5\" class=\"data row4 col5\" >0.009908</td>\n",
       "      <td id=\"T_4882e_row4_col6\" class=\"data row4 col6\" >0.000182</td>\n",
       "      <td id=\"T_4882e_row4_col7\" class=\"data row4 col7\" >-0.005023</td>\n",
       "      <td id=\"T_4882e_row4_col8\" class=\"data row4 col8\" >-0.006727</td>\n",
       "      <td id=\"T_4882e_row4_col9\" class=\"data row4 col9\" >0.008923</td>\n",
       "      <td id=\"T_4882e_row4_col10\" class=\"data row4 col10\" >0.013225</td>\n",
       "    </tr>\n",
       "    <tr>\n",
       "      <th id=\"T_4882e_level0_row5\" class=\"row_heading level0 row5\" >Episode_Length_minutes</th>\n",
       "      <td id=\"T_4882e_row5_col0\" class=\"data row5 col0\" >0.006335</td>\n",
       "      <td id=\"T_4882e_row5_col1\" class=\"data row5 col1\" >-0.019925</td>\n",
       "      <td id=\"T_4882e_row5_col2\" class=\"data row5 col2\" >-0.000452</td>\n",
       "      <td id=\"T_4882e_row5_col3\" class=\"data row5 col3\" >0.006598</td>\n",
       "      <td id=\"T_4882e_row5_col4\" class=\"data row5 col4\" >0.009908</td>\n",
       "      <td id=\"T_4882e_row5_col5\" class=\"data row5 col5\" >1.000000</td>\n",
       "      <td id=\"T_4882e_row5_col6\" class=\"data row5 col6\" >0.022221</td>\n",
       "      <td id=\"T_4882e_row5_col7\" class=\"data row5 col7\" >-0.008353</td>\n",
       "      <td id=\"T_4882e_row5_col8\" class=\"data row5 col8\" >-0.054821</td>\n",
       "      <td id=\"T_4882e_row5_col9\" class=\"data row5 col9\" >0.024724</td>\n",
       "      <td id=\"T_4882e_row5_col10\" class=\"data row5 col10\" >0.866202</td>\n",
       "    </tr>\n",
       "    <tr>\n",
       "      <th id=\"T_4882e_level0_row6\" class=\"row_heading level0 row6\" >Host_Popularity_percentage</th>\n",
       "      <td id=\"T_4882e_row6_col0\" class=\"data row6 col0\" >-0.002424</td>\n",
       "      <td id=\"T_4882e_row6_col1\" class=\"data row6 col1\" >0.020208</td>\n",
       "      <td id=\"T_4882e_row6_col2\" class=\"data row6 col2\" >-0.008807</td>\n",
       "      <td id=\"T_4882e_row6_col3\" class=\"data row6 col3\" >-0.003698</td>\n",
       "      <td id=\"T_4882e_row6_col4\" class=\"data row6 col4\" >0.000182</td>\n",
       "      <td id=\"T_4882e_row6_col5\" class=\"data row6 col5\" >0.022221</td>\n",
       "      <td id=\"T_4882e_row6_col6\" class=\"data row6 col6\" >1.000000</td>\n",
       "      <td id=\"T_4882e_row6_col7\" class=\"data row6 col7\" >0.020061</td>\n",
       "      <td id=\"T_4882e_row6_col8\" class=\"data row6 col8\" >-0.017831</td>\n",
       "      <td id=\"T_4882e_row6_col9\" class=\"data row6 col9\" >0.007063</td>\n",
       "      <td id=\"T_4882e_row6_col10\" class=\"data row6 col10\" >0.050854</td>\n",
       "    </tr>\n",
       "    <tr>\n",
       "      <th id=\"T_4882e_level0_row7\" class=\"row_heading level0 row7\" >Guest_Popularity_percentage</th>\n",
       "      <td id=\"T_4882e_row7_col0\" class=\"data row7 col0\" >-0.004750</td>\n",
       "      <td id=\"T_4882e_row7_col1\" class=\"data row7 col1\" >0.034565</td>\n",
       "      <td id=\"T_4882e_row7_col2\" class=\"data row7 col2\" >0.007005</td>\n",
       "      <td id=\"T_4882e_row7_col3\" class=\"data row7 col3\" >0.000398</td>\n",
       "      <td id=\"T_4882e_row7_col4\" class=\"data row7 col4\" >-0.005023</td>\n",
       "      <td id=\"T_4882e_row7_col5\" class=\"data row7 col5\" >-0.008353</td>\n",
       "      <td id=\"T_4882e_row7_col6\" class=\"data row7 col6\" >0.020061</td>\n",
       "      <td id=\"T_4882e_row7_col7\" class=\"data row7 col7\" >1.000000</td>\n",
       "      <td id=\"T_4882e_row7_col8\" class=\"data row7 col8\" >0.007659</td>\n",
       "      <td id=\"T_4882e_row7_col9\" class=\"data row7 col9\" >0.000488</td>\n",
       "      <td id=\"T_4882e_row7_col10\" class=\"data row7 col10\" >-0.014399</td>\n",
       "    </tr>\n",
       "    <tr>\n",
       "      <th id=\"T_4882e_level0_row8\" class=\"row_heading level0 row8\" >Number_of_Ads</th>\n",
       "      <td id=\"T_4882e_row8_col0\" class=\"data row8 col0\" >0.008955</td>\n",
       "      <td id=\"T_4882e_row8_col1\" class=\"data row8 col1\" >0.006395</td>\n",
       "      <td id=\"T_4882e_row8_col2\" class=\"data row8 col2\" >-0.003429</td>\n",
       "      <td id=\"T_4882e_row8_col3\" class=\"data row8 col3\" >0.004986</td>\n",
       "      <td id=\"T_4882e_row8_col4\" class=\"data row8 col4\" >-0.006727</td>\n",
       "      <td id=\"T_4882e_row8_col5\" class=\"data row8 col5\" >-0.054821</td>\n",
       "      <td id=\"T_4882e_row8_col6\" class=\"data row8 col6\" >-0.017831</td>\n",
       "      <td id=\"T_4882e_row8_col7\" class=\"data row8 col7\" >0.007659</td>\n",
       "      <td id=\"T_4882e_row8_col8\" class=\"data row8 col8\" >1.000000</td>\n",
       "      <td id=\"T_4882e_row8_col9\" class=\"data row8 col9\" >-0.020627</td>\n",
       "      <td id=\"T_4882e_row8_col10\" class=\"data row8 col10\" >-0.124201</td>\n",
       "    </tr>\n",
       "    <tr>\n",
       "      <th id=\"T_4882e_level0_row9\" class=\"row_heading level0 row9\" >Episode_Sentiment</th>\n",
       "      <td id=\"T_4882e_row9_col0\" class=\"data row9 col0\" >0.003115</td>\n",
       "      <td id=\"T_4882e_row9_col1\" class=\"data row9 col1\" >-0.004845</td>\n",
       "      <td id=\"T_4882e_row9_col2\" class=\"data row9 col2\" >-0.001588</td>\n",
       "      <td id=\"T_4882e_row9_col3\" class=\"data row9 col3\" >0.004594</td>\n",
       "      <td id=\"T_4882e_row9_col4\" class=\"data row9 col4\" >0.008923</td>\n",
       "      <td id=\"T_4882e_row9_col5\" class=\"data row9 col5\" >0.024724</td>\n",
       "      <td id=\"T_4882e_row9_col6\" class=\"data row9 col6\" >0.007063</td>\n",
       "      <td id=\"T_4882e_row9_col7\" class=\"data row9 col7\" >0.000488</td>\n",
       "      <td id=\"T_4882e_row9_col8\" class=\"data row9 col8\" >-0.020627</td>\n",
       "      <td id=\"T_4882e_row9_col9\" class=\"data row9 col9\" >1.000000</td>\n",
       "      <td id=\"T_4882e_row9_col10\" class=\"data row9 col10\" >0.039470</td>\n",
       "    </tr>\n",
       "    <tr>\n",
       "      <th id=\"T_4882e_level0_row10\" class=\"row_heading level0 row10\" >Listening_Time_minutes</th>\n",
       "      <td id=\"T_4882e_row10_col0\" class=\"data row10 col0\" >0.004346</td>\n",
       "      <td id=\"T_4882e_row10_col1\" class=\"data row10 col1\" >-0.020842</td>\n",
       "      <td id=\"T_4882e_row10_col2\" class=\"data row10 col2\" >0.004940</td>\n",
       "      <td id=\"T_4882e_row10_col3\" class=\"data row10 col3\" >0.004030</td>\n",
       "      <td id=\"T_4882e_row10_col4\" class=\"data row10 col4\" >0.013225</td>\n",
       "      <td id=\"T_4882e_row10_col5\" class=\"data row10 col5\" >0.866202</td>\n",
       "      <td id=\"T_4882e_row10_col6\" class=\"data row10 col6\" >0.050854</td>\n",
       "      <td id=\"T_4882e_row10_col7\" class=\"data row10 col7\" >-0.014399</td>\n",
       "      <td id=\"T_4882e_row10_col8\" class=\"data row10 col8\" >-0.124201</td>\n",
       "      <td id=\"T_4882e_row10_col9\" class=\"data row10 col9\" >0.039470</td>\n",
       "      <td id=\"T_4882e_row10_col10\" class=\"data row10 col10\" >1.000000</td>\n",
       "    </tr>\n",
       "  </tbody>\n",
       "</table>\n"
      ],
      "text/plain": [
       "<pandas.io.formats.style.Styler at 0x7dbe46f23c10>"
      ]
     },
     "execution_count": 15,
     "metadata": {},
     "output_type": "execute_result"
    }
   ],
   "source": [
    "df_listening.corr().style.background_gradient(cmap='Greens')"
   ]
  },
  {
   "cell_type": "markdown",
   "id": "3714f2a1",
   "metadata": {
    "papermill": {
     "duration": 0.008439,
     "end_time": "2025-04-18T23:36:37.319691",
     "exception": false,
     "start_time": "2025-04-18T23:36:37.311252",
     "status": "completed"
    },
    "tags": []
   },
   "source": [
    "## Scaling"
   ]
  },
  {
   "cell_type": "code",
   "execution_count": 16,
   "id": "33096dd6",
   "metadata": {
    "execution": {
     "iopub.execute_input": "2025-04-18T23:36:37.338867Z",
     "iopub.status.busy": "2025-04-18T23:36:37.338484Z",
     "iopub.status.idle": "2025-04-18T23:36:37.367841Z",
     "shell.execute_reply": "2025-04-18T23:36:37.366776Z"
    },
    "papermill": {
     "duration": 0.041261,
     "end_time": "2025-04-18T23:36:37.369621",
     "exception": false,
     "start_time": "2025-04-18T23:36:37.328360",
     "status": "completed"
    },
    "tags": []
   },
   "outputs": [],
   "source": [
    "# We separate the target variable from the features and data to scale\n",
    "\n",
    "x_listening = df_listening.drop(columns=\"Listening_Time_minutes\")\n",
    "y_listening = df_listening[\"Listening_Time_minutes\"]"
   ]
  },
  {
   "cell_type": "code",
   "execution_count": 17,
   "id": "f81aa8c1",
   "metadata": {
    "execution": {
     "iopub.execute_input": "2025-04-18T23:36:37.388361Z",
     "iopub.status.busy": "2025-04-18T23:36:37.388009Z",
     "iopub.status.idle": "2025-04-18T23:36:37.530418Z",
     "shell.execute_reply": "2025-04-18T23:36:37.529287Z"
    },
    "papermill": {
     "duration": 0.153848,
     "end_time": "2025-04-18T23:36:37.532165",
     "exception": false,
     "start_time": "2025-04-18T23:36:37.378317",
     "status": "completed"
    },
    "tags": []
   },
   "outputs": [],
   "source": [
    "# Numerical variables to scale\n",
    "\n",
    "df_numeric = x_listening[[\n",
    "    \"Episode_Length_minutes\",\n",
    "    \"Host_Popularity_percentage\",\n",
    "    \"Guest_Popularity_percentage\"\n",
    "]]\n",
    "\n",
    "scaler = StandardScaler().set_output(transform=\"pandas\")\n",
    "scale_num = scaler.fit_transform(df_numeric)\n",
    "\n",
    "# We create a df with the remaining variables\n",
    "\n",
    "df_rest = x_listening.drop(\n",
    "    columns=[\"Episode_Length_minutes\",\n",
    "             \"Host_Popularity_percentage\",\n",
    "             \"Guest_Popularity_percentage\"]\n",
    ")\n",
    "\n",
    "# We concatenate the dataframes\n",
    "\n",
    "x_end = pd.concat([df_rest, scale_num], axis=1)"
   ]
  },
  {
   "cell_type": "code",
   "execution_count": 18,
   "id": "a6292a6f",
   "metadata": {
    "execution": {
     "iopub.execute_input": "2025-04-18T23:36:37.550911Z",
     "iopub.status.busy": "2025-04-18T23:36:37.550508Z",
     "iopub.status.idle": "2025-04-18T23:36:38.090830Z",
     "shell.execute_reply": "2025-04-18T23:36:38.089883Z"
    },
    "papermill": {
     "duration": 0.551507,
     "end_time": "2025-04-18T23:36:38.092429",
     "exception": false,
     "start_time": "2025-04-18T23:36:37.540922",
     "status": "completed"
    },
    "tags": []
   },
   "outputs": [
    {
     "data": {
      "text/html": [
       "<div>\n",
       "<style scoped>\n",
       "    .dataframe tbody tr th:only-of-type {\n",
       "        vertical-align: middle;\n",
       "    }\n",
       "\n",
       "    .dataframe tbody tr th {\n",
       "        vertical-align: top;\n",
       "    }\n",
       "\n",
       "    .dataframe thead th {\n",
       "        text-align: right;\n",
       "    }\n",
       "</style>\n",
       "<table border=\"1\" class=\"dataframe\">\n",
       "  <thead>\n",
       "    <tr style=\"text-align: right;\">\n",
       "      <th></th>\n",
       "      <th>count</th>\n",
       "      <th>mean</th>\n",
       "      <th>std</th>\n",
       "      <th>min</th>\n",
       "      <th>25%</th>\n",
       "      <th>50%</th>\n",
       "      <th>75%</th>\n",
       "      <th>max</th>\n",
       "    </tr>\n",
       "  </thead>\n",
       "  <tbody>\n",
       "    <tr>\n",
       "      <th>Podcast_Name</th>\n",
       "      <td>750000.0</td>\n",
       "      <td>2.351573e+01</td>\n",
       "      <td>14.137577</td>\n",
       "      <td>0.000000</td>\n",
       "      <td>11.000000</td>\n",
       "      <td>23.000000</td>\n",
       "      <td>37.000000</td>\n",
       "      <td>47.000000</td>\n",
       "    </tr>\n",
       "    <tr>\n",
       "      <th>Episode_Title</th>\n",
       "      <td>750000.0</td>\n",
       "      <td>5.028600e+01</td>\n",
       "      <td>28.186681</td>\n",
       "      <td>0.000000</td>\n",
       "      <td>26.000000</td>\n",
       "      <td>51.000000</td>\n",
       "      <td>74.000000</td>\n",
       "      <td>99.000000</td>\n",
       "    </tr>\n",
       "    <tr>\n",
       "      <th>Genre</th>\n",
       "      <td>750000.0</td>\n",
       "      <td>4.648788e+00</td>\n",
       "      <td>2.963073</td>\n",
       "      <td>0.000000</td>\n",
       "      <td>2.000000</td>\n",
       "      <td>5.000000</td>\n",
       "      <td>7.000000</td>\n",
       "      <td>9.000000</td>\n",
       "    </tr>\n",
       "    <tr>\n",
       "      <th>Publication_Day</th>\n",
       "      <td>750000.0</td>\n",
       "      <td>2.962776e+00</td>\n",
       "      <td>1.997399</td>\n",
       "      <td>0.000000</td>\n",
       "      <td>1.000000</td>\n",
       "      <td>3.000000</td>\n",
       "      <td>5.000000</td>\n",
       "      <td>6.000000</td>\n",
       "    </tr>\n",
       "    <tr>\n",
       "      <th>Publication_Time</th>\n",
       "      <td>750000.0</td>\n",
       "      <td>1.522868e+00</td>\n",
       "      <td>1.119361</td>\n",
       "      <td>0.000000</td>\n",
       "      <td>1.000000</td>\n",
       "      <td>1.000000</td>\n",
       "      <td>3.000000</td>\n",
       "      <td>3.000000</td>\n",
       "    </tr>\n",
       "    <tr>\n",
       "      <th>Number_of_Ads</th>\n",
       "      <td>750000.0</td>\n",
       "      <td>1.347873e+00</td>\n",
       "      <td>1.110966</td>\n",
       "      <td>0.000000</td>\n",
       "      <td>0.000000</td>\n",
       "      <td>1.000000</td>\n",
       "      <td>2.000000</td>\n",
       "      <td>3.000000</td>\n",
       "    </tr>\n",
       "    <tr>\n",
       "      <th>Episode_Sentiment</th>\n",
       "      <td>750000.0</td>\n",
       "      <td>9.979693e-01</td>\n",
       "      <td>0.815440</td>\n",
       "      <td>0.000000</td>\n",
       "      <td>0.000000</td>\n",
       "      <td>1.000000</td>\n",
       "      <td>2.000000</td>\n",
       "      <td>2.000000</td>\n",
       "    </tr>\n",
       "    <tr>\n",
       "      <th>Episode_Length_minutes</th>\n",
       "      <td>750000.0</td>\n",
       "      <td>2.563828e-16</td>\n",
       "      <td>1.000001</td>\n",
       "      <td>-2.080627</td>\n",
       "      <td>-0.809072</td>\n",
       "      <td>-0.002546</td>\n",
       "      <td>0.832465</td>\n",
       "      <td>8.410505</td>\n",
       "    </tr>\n",
       "    <tr>\n",
       "      <th>Host_Popularity_percentage</th>\n",
       "      <td>750000.0</td>\n",
       "      <td>-2.175208e-16</td>\n",
       "      <td>1.000001</td>\n",
       "      <td>-2.560290</td>\n",
       "      <td>-0.894076</td>\n",
       "      <td>0.008330</td>\n",
       "      <td>0.860018</td>\n",
       "      <td>1.754991</td>\n",
       "    </tr>\n",
       "    <tr>\n",
       "      <th>Guest_Popularity_percentage</th>\n",
       "      <td>750000.0</td>\n",
       "      <td>-5.623709e-17</td>\n",
       "      <td>1.000001</td>\n",
       "      <td>-2.045665</td>\n",
       "      <td>-0.692546</td>\n",
       "      <td>0.007707</td>\n",
       "      <td>0.736551</td>\n",
       "      <td>1.870743</td>\n",
       "    </tr>\n",
       "  </tbody>\n",
       "</table>\n",
       "</div>"
      ],
      "text/plain": [
       "                                count          mean        std       min  \\\n",
       "Podcast_Name                 750000.0  2.351573e+01  14.137577  0.000000   \n",
       "Episode_Title                750000.0  5.028600e+01  28.186681  0.000000   \n",
       "Genre                        750000.0  4.648788e+00   2.963073  0.000000   \n",
       "Publication_Day              750000.0  2.962776e+00   1.997399  0.000000   \n",
       "Publication_Time             750000.0  1.522868e+00   1.119361  0.000000   \n",
       "Number_of_Ads                750000.0  1.347873e+00   1.110966  0.000000   \n",
       "Episode_Sentiment            750000.0  9.979693e-01   0.815440  0.000000   \n",
       "Episode_Length_minutes       750000.0  2.563828e-16   1.000001 -2.080627   \n",
       "Host_Popularity_percentage   750000.0 -2.175208e-16   1.000001 -2.560290   \n",
       "Guest_Popularity_percentage  750000.0 -5.623709e-17   1.000001 -2.045665   \n",
       "\n",
       "                                   25%        50%        75%        max  \n",
       "Podcast_Name                 11.000000  23.000000  37.000000  47.000000  \n",
       "Episode_Title                26.000000  51.000000  74.000000  99.000000  \n",
       "Genre                         2.000000   5.000000   7.000000   9.000000  \n",
       "Publication_Day               1.000000   3.000000   5.000000   6.000000  \n",
       "Publication_Time              1.000000   1.000000   3.000000   3.000000  \n",
       "Number_of_Ads                 0.000000   1.000000   2.000000   3.000000  \n",
       "Episode_Sentiment             0.000000   1.000000   2.000000   2.000000  \n",
       "Episode_Length_minutes       -0.809072  -0.002546   0.832465   8.410505  \n",
       "Host_Popularity_percentage   -0.894076   0.008330   0.860018   1.754991  \n",
       "Guest_Popularity_percentage  -0.692546   0.007707   0.736551   1.870743  "
      ]
     },
     "execution_count": 18,
     "metadata": {},
     "output_type": "execute_result"
    }
   ],
   "source": [
    "x_end.describe().T"
   ]
  },
  {
   "cell_type": "markdown",
   "id": "96c619db",
   "metadata": {
    "papermill": {
     "duration": 0.008558,
     "end_time": "2025-04-18T23:36:38.110360",
     "exception": false,
     "start_time": "2025-04-18T23:36:38.101802",
     "status": "completed"
    },
    "tags": []
   },
   "source": [
    "## Feature Selection"
   ]
  },
  {
   "cell_type": "code",
   "execution_count": 19,
   "id": "b1644622",
   "metadata": {
    "execution": {
     "iopub.execute_input": "2025-04-18T23:36:38.129342Z",
     "iopub.status.busy": "2025-04-18T23:36:38.129023Z",
     "iopub.status.idle": "2025-04-18T23:39:00.492290Z",
     "shell.execute_reply": "2025-04-18T23:39:00.491167Z"
    },
    "papermill": {
     "duration": 142.389501,
     "end_time": "2025-04-18T23:39:00.508711",
     "exception": false,
     "start_time": "2025-04-18T23:36:38.119210",
     "status": "completed"
    },
    "tags": []
   },
   "outputs": [
    {
     "data": {
      "text/plain": [
       "Episode_Length_minutes         2.013859\n",
       "Host_Popularity_percentage     0.762258\n",
       "Episode_Title                  0.684167\n",
       "Guest_Popularity_percentage    0.644529\n",
       "Podcast_Name                   0.417473\n",
       "Publication_Day                0.243235\n",
       "Number_of_Ads                  0.238481\n",
       "Genre                          0.199871\n",
       "Publication_Time               0.174842\n",
       "Episode_Sentiment              0.142919\n",
       "Name: MI Scores, dtype: float64"
      ]
     },
     "execution_count": 19,
     "metadata": {},
     "output_type": "execute_result"
    }
   ],
   "source": [
    "mi_scores = mutual_info_regression(x_end, y_listening)\n",
    "mi_scores = pd.Series(mi_scores, name=\"MI Scores\", index=x_end.columns)\n",
    "mi_scores = mi_scores.sort_values(ascending=False)\n",
    "mi_scores"
   ]
  },
  {
   "cell_type": "markdown",
   "id": "78412774",
   "metadata": {
    "papermill": {
     "duration": 0.00936,
     "end_time": "2025-04-18T23:39:00.536444",
     "exception": false,
     "start_time": "2025-04-18T23:39:00.527084",
     "status": "completed"
    },
    "tags": []
   },
   "source": [
    "Basándome en la correlación y la importancia mutua me desprendo de algunas variables. Probar otras combinaciones y métodos de selección de variables."
   ]
  },
  {
   "cell_type": "code",
   "execution_count": 20,
   "id": "61014801",
   "metadata": {
    "execution": {
     "iopub.execute_input": "2025-04-18T23:39:00.564394Z",
     "iopub.status.busy": "2025-04-18T23:39:00.563631Z",
     "iopub.status.idle": "2025-04-18T23:39:00.588721Z",
     "shell.execute_reply": "2025-04-18T23:39:00.587886Z"
    },
    "papermill": {
     "duration": 0.040565,
     "end_time": "2025-04-18T23:39:00.590267",
     "exception": false,
     "start_time": "2025-04-18T23:39:00.549702",
     "status": "completed"
    },
    "tags": []
   },
   "outputs": [],
   "source": [
    "x_end = x_end.drop(columns=[\"Podcast_Name\", \"Episode_Title\"])"
   ]
  },
  {
   "cell_type": "code",
   "execution_count": 21,
   "id": "9adbda8a",
   "metadata": {
    "execution": {
     "iopub.execute_input": "2025-04-18T23:39:00.609860Z",
     "iopub.status.busy": "2025-04-18T23:39:00.609073Z",
     "iopub.status.idle": "2025-04-18T23:39:00.645632Z",
     "shell.execute_reply": "2025-04-18T23:39:00.644435Z"
    },
    "papermill": {
     "duration": 0.048086,
     "end_time": "2025-04-18T23:39:00.647359",
     "exception": false,
     "start_time": "2025-04-18T23:39:00.599273",
     "status": "completed"
    },
    "tags": []
   },
   "outputs": [
    {
     "name": "stdout",
     "output_type": "stream",
     "text": [
      "<class 'pandas.core.frame.DataFrame'>\n",
      "Index: 750000 entries, 0 to 749999\n",
      "Data columns (total 8 columns):\n",
      " #   Column                       Non-Null Count   Dtype  \n",
      "---  ------                       --------------   -----  \n",
      " 0   Genre                        750000 non-null  float64\n",
      " 1   Publication_Day              750000 non-null  float64\n",
      " 2   Publication_Time             750000 non-null  float64\n",
      " 3   Number_of_Ads                750000 non-null  float64\n",
      " 4   Episode_Sentiment            750000 non-null  float64\n",
      " 5   Episode_Length_minutes       750000 non-null  float64\n",
      " 6   Host_Popularity_percentage   750000 non-null  float64\n",
      " 7   Guest_Popularity_percentage  750000 non-null  float64\n",
      "dtypes: float64(8)\n",
      "memory usage: 51.5 MB\n"
     ]
    }
   ],
   "source": [
    "x_end.info()"
   ]
  },
  {
   "cell_type": "markdown",
   "id": "fb07ce8a",
   "metadata": {
    "papermill": {
     "duration": 0.008851,
     "end_time": "2025-04-18T23:39:00.665379",
     "exception": false,
     "start_time": "2025-04-18T23:39:00.656528",
     "status": "completed"
    },
    "tags": []
   },
   "source": [
    "# Model Selection"
   ]
  },
  {
   "cell_type": "code",
   "execution_count": 22,
   "id": "505df21c",
   "metadata": {
    "execution": {
     "iopub.execute_input": "2025-04-18T23:39:00.684637Z",
     "iopub.status.busy": "2025-04-18T23:39:00.684353Z",
     "iopub.status.idle": "2025-04-18T23:39:00.815504Z",
     "shell.execute_reply": "2025-04-18T23:39:00.814592Z"
    },
    "papermill": {
     "duration": 0.142875,
     "end_time": "2025-04-18T23:39:00.817186",
     "exception": false,
     "start_time": "2025-04-18T23:39:00.674311",
     "status": "completed"
    },
    "tags": []
   },
   "outputs": [],
   "source": [
    "# We separate the data into training and validation sets\n",
    "\n",
    "x_train, x_val, y_train, y_val = (\n",
    "    train_test_split(\n",
    "        x_end, y_listening, test_size=0.3, random_state=42\n",
    "    )\n",
    ")"
   ]
  },
  {
   "cell_type": "code",
   "execution_count": 23,
   "id": "ff00437a",
   "metadata": {
    "execution": {
     "iopub.execute_input": "2025-04-18T23:39:00.837201Z",
     "iopub.status.busy": "2025-04-18T23:39:00.836393Z",
     "iopub.status.idle": "2025-04-18T23:39:00.840908Z",
     "shell.execute_reply": "2025-04-18T23:39:00.840139Z"
    },
    "papermill": {
     "duration": 0.015915,
     "end_time": "2025-04-18T23:39:00.842325",
     "exception": false,
     "start_time": "2025-04-18T23:39:00.826410",
     "status": "completed"
    },
    "tags": []
   },
   "outputs": [],
   "source": [
    "# Create the KFold object\n",
    "\n",
    "kfold = KFold(n_splits=10, shuffle=True, random_state=42)"
   ]
  },
  {
   "cell_type": "markdown",
   "id": "6a5675aa",
   "metadata": {
    "papermill": {
     "duration": 0.008647,
     "end_time": "2025-04-18T23:39:00.860198",
     "exception": false,
     "start_time": "2025-04-18T23:39:00.851551",
     "status": "completed"
    },
    "tags": []
   },
   "source": [
    "## XGBRegressor"
   ]
  },
  {
   "cell_type": "code",
   "execution_count": 24,
   "id": "27a054a4",
   "metadata": {
    "execution": {
     "iopub.execute_input": "2025-04-18T23:39:00.879547Z",
     "iopub.status.busy": "2025-04-18T23:39:00.879147Z",
     "iopub.status.idle": "2025-04-18T23:39:00.886615Z",
     "shell.execute_reply": "2025-04-18T23:39:00.885661Z"
    },
    "papermill": {
     "duration": 0.019105,
     "end_time": "2025-04-18T23:39:00.888148",
     "exception": false,
     "start_time": "2025-04-18T23:39:00.869043",
     "status": "completed"
    },
    "tags": []
   },
   "outputs": [
    {
     "data": {
      "text/plain": [
       "{'objective': 'reg:squarederror',\n",
       " 'base_score': None,\n",
       " 'booster': None,\n",
       " 'callbacks': None,\n",
       " 'colsample_bylevel': None,\n",
       " 'colsample_bynode': None,\n",
       " 'colsample_bytree': None,\n",
       " 'device': None,\n",
       " 'early_stopping_rounds': None,\n",
       " 'enable_categorical': False,\n",
       " 'eval_metric': None,\n",
       " 'feature_types': None,\n",
       " 'gamma': None,\n",
       " 'grow_policy': None,\n",
       " 'importance_type': None,\n",
       " 'interaction_constraints': None,\n",
       " 'learning_rate': None,\n",
       " 'max_bin': None,\n",
       " 'max_cat_threshold': None,\n",
       " 'max_cat_to_onehot': None,\n",
       " 'max_delta_step': None,\n",
       " 'max_depth': None,\n",
       " 'max_leaves': None,\n",
       " 'min_child_weight': None,\n",
       " 'missing': nan,\n",
       " 'monotone_constraints': None,\n",
       " 'multi_strategy': None,\n",
       " 'n_estimators': None,\n",
       " 'n_jobs': None,\n",
       " 'num_parallel_tree': None,\n",
       " 'random_state': None,\n",
       " 'reg_alpha': None,\n",
       " 'reg_lambda': None,\n",
       " 'sampling_method': None,\n",
       " 'scale_pos_weight': None,\n",
       " 'subsample': None,\n",
       " 'tree_method': None,\n",
       " 'validate_parameters': None,\n",
       " 'verbosity': None}"
      ]
     },
     "execution_count": 24,
     "metadata": {},
     "output_type": "execute_result"
    }
   ],
   "source": [
    "# We create the model instance\n",
    "\n",
    "xgbr = XGBRegressor()\n",
    "xgbr.get_params()"
   ]
  },
  {
   "cell_type": "code",
   "execution_count": 25,
   "id": "a6c8532d",
   "metadata": {
    "execution": {
     "iopub.execute_input": "2025-04-18T23:39:00.908549Z",
     "iopub.status.busy": "2025-04-18T23:39:00.907648Z",
     "iopub.status.idle": "2025-04-18T23:44:14.614585Z",
     "shell.execute_reply": "2025-04-18T23:44:14.613248Z"
    },
    "papermill": {
     "duration": 313.729374,
     "end_time": "2025-04-18T23:44:14.626715",
     "exception": false,
     "start_time": "2025-04-18T23:39:00.897341",
     "status": "completed"
    },
    "tags": []
   },
   "outputs": [
    {
     "name": "stdout",
     "output_type": "stream",
     "text": [
      "Parameters: {'subsample': 0.8, 'n_estimators': 200, 'max_depth': 4, 'learning_rate': 0.1, 'gamma': 0.8}\n",
      "Score: -13.14409672360694\n"
     ]
    }
   ],
   "source": [
    "# We establish the parameters to test\n",
    "\n",
    "xgbr_param_grid = {\n",
    "    \"gamma\" : [0.1, 0.5, 0.8, 0, 1],\n",
    "    \"max_depth\" : [3, 4, 5, 6, 7],\n",
    "    \"learning_rate\" : [0.2, 0.1, 0.01, 0.001],\n",
    "    \"subsample\" : [0.5, 0.6, 0.7, 0.8, 0.9, 1],\n",
    "    \"n_estimators\" : [50, 100, 150, 200]\n",
    "}\n",
    "\n",
    "xgbr_grid = RandomizedSearchCV(\n",
    "    xgbr,\n",
    "    xgbr_param_grid,\n",
    "    cv=kfold,\n",
    "    scoring=\"neg_root_mean_squared_error\",\n",
    "    return_train_score=True\n",
    ")\n",
    "\n",
    "xgbr_search = xgbr_grid.fit(x_train, y_train)\n",
    "\n",
    "print(\n",
    "    f'Parameters: {xgbr_search.best_params_}\\nScore: {xgbr_search.best_score_}'\n",
    ")"
   ]
  },
  {
   "cell_type": "code",
   "execution_count": 26,
   "id": "d16ef14c",
   "metadata": {
    "execution": {
     "iopub.execute_input": "2025-04-18T23:44:14.646941Z",
     "iopub.status.busy": "2025-04-18T23:44:14.646546Z",
     "iopub.status.idle": "2025-04-18T23:44:14.987675Z",
     "shell.execute_reply": "2025-04-18T23:44:14.986633Z"
    },
    "papermill": {
     "duration": 0.353196,
     "end_time": "2025-04-18T23:44:14.989320",
     "exception": false,
     "start_time": "2025-04-18T23:44:14.636124",
     "status": "completed"
    },
    "tags": []
   },
   "outputs": [
    {
     "name": "stdout",
     "output_type": "stream",
     "text": [
      "XGBRegressor optimization\n",
      "\n",
      "R-squared score: 0.765933936791023\n",
      "RMSE: 13.119810835699889\n"
     ]
    }
   ],
   "source": [
    "# We evaluate the performance after an initial optimization\n",
    "\n",
    "y_pred_xgbr = xgbr_search.best_estimator_.predict(x_val)\n",
    "\n",
    "r2_xgbr = r2_score(y_val, y_pred_xgbr)\n",
    "\n",
    "rmse_xgbr = np.sqrt(mean_squared_error(y_val, y_pred_xgbr))\n",
    "\n",
    "print(f\"XGBRegressor optimization\\n\\nR-squared score: {r2_xgbr}\\nRMSE: {rmse_xgbr}\")"
   ]
  },
  {
   "cell_type": "markdown",
   "id": "a7fa85b7",
   "metadata": {
    "papermill": {
     "duration": 0.008742,
     "end_time": "2025-04-18T23:44:15.007350",
     "exception": false,
     "start_time": "2025-04-18T23:44:14.998608",
     "status": "completed"
    },
    "tags": []
   },
   "source": [
    "# Final Model"
   ]
  },
  {
   "cell_type": "code",
   "execution_count": 27,
   "id": "5766f1ab",
   "metadata": {
    "execution": {
     "iopub.execute_input": "2025-04-18T23:44:15.026599Z",
     "iopub.status.busy": "2025-04-18T23:44:15.026294Z",
     "iopub.status.idle": "2025-04-18T23:44:18.981497Z",
     "shell.execute_reply": "2025-04-18T23:44:18.980423Z"
    },
    "papermill": {
     "duration": 3.96677,
     "end_time": "2025-04-18T23:44:18.983113",
     "exception": false,
     "start_time": "2025-04-18T23:44:15.016343",
     "status": "completed"
    },
    "tags": []
   },
   "outputs": [
    {
     "data": {
      "text/html": [
       "<style>#sk-container-id-1 {color: black;background-color: white;}#sk-container-id-1 pre{padding: 0;}#sk-container-id-1 div.sk-toggleable {background-color: white;}#sk-container-id-1 label.sk-toggleable__label {cursor: pointer;display: block;width: 100%;margin-bottom: 0;padding: 0.3em;box-sizing: border-box;text-align: center;}#sk-container-id-1 label.sk-toggleable__label-arrow:before {content: \"▸\";float: left;margin-right: 0.25em;color: #696969;}#sk-container-id-1 label.sk-toggleable__label-arrow:hover:before {color: black;}#sk-container-id-1 div.sk-estimator:hover label.sk-toggleable__label-arrow:before {color: black;}#sk-container-id-1 div.sk-toggleable__content {max-height: 0;max-width: 0;overflow: hidden;text-align: left;background-color: #f0f8ff;}#sk-container-id-1 div.sk-toggleable__content pre {margin: 0.2em;color: black;border-radius: 0.25em;background-color: #f0f8ff;}#sk-container-id-1 input.sk-toggleable__control:checked~div.sk-toggleable__content {max-height: 200px;max-width: 100%;overflow: auto;}#sk-container-id-1 input.sk-toggleable__control:checked~label.sk-toggleable__label-arrow:before {content: \"▾\";}#sk-container-id-1 div.sk-estimator input.sk-toggleable__control:checked~label.sk-toggleable__label {background-color: #d4ebff;}#sk-container-id-1 div.sk-label input.sk-toggleable__control:checked~label.sk-toggleable__label {background-color: #d4ebff;}#sk-container-id-1 input.sk-hidden--visually {border: 0;clip: rect(1px 1px 1px 1px);clip: rect(1px, 1px, 1px, 1px);height: 1px;margin: -1px;overflow: hidden;padding: 0;position: absolute;width: 1px;}#sk-container-id-1 div.sk-estimator {font-family: monospace;background-color: #f0f8ff;border: 1px dotted black;border-radius: 0.25em;box-sizing: border-box;margin-bottom: 0.5em;}#sk-container-id-1 div.sk-estimator:hover {background-color: #d4ebff;}#sk-container-id-1 div.sk-parallel-item::after {content: \"\";width: 100%;border-bottom: 1px solid gray;flex-grow: 1;}#sk-container-id-1 div.sk-label:hover label.sk-toggleable__label {background-color: #d4ebff;}#sk-container-id-1 div.sk-serial::before {content: \"\";position: absolute;border-left: 1px solid gray;box-sizing: border-box;top: 0;bottom: 0;left: 50%;z-index: 0;}#sk-container-id-1 div.sk-serial {display: flex;flex-direction: column;align-items: center;background-color: white;padding-right: 0.2em;padding-left: 0.2em;position: relative;}#sk-container-id-1 div.sk-item {position: relative;z-index: 1;}#sk-container-id-1 div.sk-parallel {display: flex;align-items: stretch;justify-content: center;background-color: white;position: relative;}#sk-container-id-1 div.sk-item::before, #sk-container-id-1 div.sk-parallel-item::before {content: \"\";position: absolute;border-left: 1px solid gray;box-sizing: border-box;top: 0;bottom: 0;left: 50%;z-index: -1;}#sk-container-id-1 div.sk-parallel-item {display: flex;flex-direction: column;z-index: 1;position: relative;background-color: white;}#sk-container-id-1 div.sk-parallel-item:first-child::after {align-self: flex-end;width: 50%;}#sk-container-id-1 div.sk-parallel-item:last-child::after {align-self: flex-start;width: 50%;}#sk-container-id-1 div.sk-parallel-item:only-child::after {width: 0;}#sk-container-id-1 div.sk-dashed-wrapped {border: 1px dashed gray;margin: 0 0.4em 0.5em 0.4em;box-sizing: border-box;padding-bottom: 0.4em;background-color: white;}#sk-container-id-1 div.sk-label label {font-family: monospace;font-weight: bold;display: inline-block;line-height: 1.2em;}#sk-container-id-1 div.sk-label-container {text-align: center;}#sk-container-id-1 div.sk-container {/* jupyter's `normalize.less` sets `[hidden] { display: none; }` but bootstrap.min.css set `[hidden] { display: none !important; }` so we also need the `!important` here to be able to override the default hidden behavior on the sphinx rendered scikit-learn.org. See: https://github.com/scikit-learn/scikit-learn/issues/21755 */display: inline-block !important;position: relative;}#sk-container-id-1 div.sk-text-repr-fallback {display: none;}</style><div id=\"sk-container-id-1\" class=\"sk-top-container\"><div class=\"sk-text-repr-fallback\"><pre>XGBRegressor(base_score=None, booster=None, callbacks=None,\n",
       "             colsample_bylevel=None, colsample_bynode=None,\n",
       "             colsample_bytree=None, device=None, early_stopping_rounds=None,\n",
       "             enable_categorical=False, eval_metric=None, feature_types=None,\n",
       "             gamma=0.8, grow_policy=None, importance_type=None,\n",
       "             interaction_constraints=None, learning_rate=0.1, max_bin=None,\n",
       "             max_cat_threshold=None, max_cat_to_onehot=None,\n",
       "             max_delta_step=None, max_depth=4, max_leaves=None,\n",
       "             min_child_weight=None, missing=nan, monotone_constraints=None,\n",
       "             multi_strategy=None, n_estimators=200, n_jobs=None,\n",
       "             num_parallel_tree=None, random_state=None, ...)</pre><b>In a Jupyter environment, please rerun this cell to show the HTML representation or trust the notebook. <br />On GitHub, the HTML representation is unable to render, please try loading this page with nbviewer.org.</b></div><div class=\"sk-container\" hidden><div class=\"sk-item\"><div class=\"sk-estimator sk-toggleable\"><input class=\"sk-toggleable__control sk-hidden--visually\" id=\"sk-estimator-id-1\" type=\"checkbox\" checked><label for=\"sk-estimator-id-1\" class=\"sk-toggleable__label sk-toggleable__label-arrow\">XGBRegressor</label><div class=\"sk-toggleable__content\"><pre>XGBRegressor(base_score=None, booster=None, callbacks=None,\n",
       "             colsample_bylevel=None, colsample_bynode=None,\n",
       "             colsample_bytree=None, device=None, early_stopping_rounds=None,\n",
       "             enable_categorical=False, eval_metric=None, feature_types=None,\n",
       "             gamma=0.8, grow_policy=None, importance_type=None,\n",
       "             interaction_constraints=None, learning_rate=0.1, max_bin=None,\n",
       "             max_cat_threshold=None, max_cat_to_onehot=None,\n",
       "             max_delta_step=None, max_depth=4, max_leaves=None,\n",
       "             min_child_weight=None, missing=nan, monotone_constraints=None,\n",
       "             multi_strategy=None, n_estimators=200, n_jobs=None,\n",
       "             num_parallel_tree=None, random_state=None, ...)</pre></div></div></div></div></div>"
      ],
      "text/plain": [
       "XGBRegressor(base_score=None, booster=None, callbacks=None,\n",
       "             colsample_bylevel=None, colsample_bynode=None,\n",
       "             colsample_bytree=None, device=None, early_stopping_rounds=None,\n",
       "             enable_categorical=False, eval_metric=None, feature_types=None,\n",
       "             gamma=0.8, grow_policy=None, importance_type=None,\n",
       "             interaction_constraints=None, learning_rate=0.1, max_bin=None,\n",
       "             max_cat_threshold=None, max_cat_to_onehot=None,\n",
       "             max_delta_step=None, max_depth=4, max_leaves=None,\n",
       "             min_child_weight=None, missing=nan, monotone_constraints=None,\n",
       "             multi_strategy=None, n_estimators=200, n_jobs=None,\n",
       "             num_parallel_tree=None, random_state=None, ...)"
      ]
     },
     "execution_count": 27,
     "metadata": {},
     "output_type": "execute_result"
    }
   ],
   "source": [
    "final_model = xgbr_search.best_estimator_\n",
    "\n",
    "# We fit the best model\n",
    "\n",
    "final_model.fit(x_train, y_train)"
   ]
  },
  {
   "cell_type": "code",
   "execution_count": 28,
   "id": "303bfa3b",
   "metadata": {
    "execution": {
     "iopub.execute_input": "2025-04-18T23:44:19.003953Z",
     "iopub.status.busy": "2025-04-18T23:44:19.003513Z",
     "iopub.status.idle": "2025-04-18T23:44:19.340895Z",
     "shell.execute_reply": "2025-04-18T23:44:19.339797Z"
    },
    "papermill": {
     "duration": 0.349268,
     "end_time": "2025-04-18T23:44:19.342455",
     "exception": false,
     "start_time": "2025-04-18T23:44:18.993187",
     "status": "completed"
    },
    "tags": []
   },
   "outputs": [
    {
     "name": "stdout",
     "output_type": "stream",
     "text": [
      "Final Model RMSE Score: 13.120\n"
     ]
    }
   ],
   "source": [
    "# We evaluate the performance of the final model\n",
    "\n",
    "final_model_ypred = final_model.predict(x_val)\n",
    "\n",
    "final_model_rmse = np.sqrt(mean_squared_error(y_val, final_model_ypred))\n",
    "\n",
    "print(\"Final Model RMSE Score: %.3f\" % final_model_rmse)"
   ]
  },
  {
   "cell_type": "code",
   "execution_count": 29,
   "id": "e9d33cf6",
   "metadata": {
    "execution": {
     "iopub.execute_input": "2025-04-18T23:44:19.365613Z",
     "iopub.status.busy": "2025-04-18T23:44:19.365289Z",
     "iopub.status.idle": "2025-04-18T23:45:21.047200Z",
     "shell.execute_reply": "2025-04-18T23:45:21.046254Z"
    },
    "papermill": {
     "duration": 61.709762,
     "end_time": "2025-04-18T23:45:21.064459",
     "exception": false,
     "start_time": "2025-04-18T23:44:19.354697",
     "status": "completed"
    },
    "tags": []
   },
   "outputs": [
    {
     "data": {
      "image/png": "[encoded data removed]",
      "text/plain": [
       "<Figure size 800x470 with 2 Axes>"
      ]
     },
     "metadata": {},
     "output_type": "display_data"
    }
   ],
   "source": [
    "# We create an explainer for the best estimator\n",
    "\n",
    "explainer = shap.Explainer(final_model)\n",
    "shap_values = explainer.shap_values(x_val)\n",
    "\n",
    "# we visualize the importance\n",
    "\n",
    "fig = shap.summary_plot(\n",
    "    shap_values,\n",
    "    x_val,\n",
    "    show=False\n",
    ")\n",
    "plt.title(\"Feature Importance\", fontsize=20, color='g', loc='left')\n",
    "plt.xlabel(\"Mean SHAP Values\", fontsize=20)\n",
    "plt.ylabel(\"Features\", fontsize=20)\n",
    "plt.show()"
   ]
  },
  {
   "cell_type": "markdown",
   "id": "00758322",
   "metadata": {
    "papermill": {
     "duration": 0.017005,
     "end_time": "2025-04-18T23:45:21.093714",
     "exception": false,
     "start_time": "2025-04-18T23:45:21.076709",
     "status": "completed"
    },
    "tags": []
   },
   "source": [
    "# Test data"
   ]
  },
  {
   "cell_type": "code",
   "execution_count": 30,
   "id": "7a05a050",
   "metadata": {
    "execution": {
     "iopub.execute_input": "2025-04-18T23:45:21.126200Z",
     "iopub.status.busy": "2025-04-18T23:45:21.125315Z",
     "iopub.status.idle": "2025-04-18T23:45:21.693571Z",
     "shell.execute_reply": "2025-04-18T23:45:21.692603Z"
    },
    "papermill": {
     "duration": 0.585571,
     "end_time": "2025-04-18T23:45:21.695564",
     "exception": false,
     "start_time": "2025-04-18T23:45:21.109993",
     "status": "completed"
    },
    "tags": []
   },
   "outputs": [],
   "source": [
    "# We load the test data\n",
    "\n",
    "df_test = pd.read_csv(\"/kaggle/input/playground-series-s5e4/test.csv\")"
   ]
  },
  {
   "cell_type": "code",
   "execution_count": 31,
   "id": "e047b4a3",
   "metadata": {
    "execution": {
     "iopub.execute_input": "2025-04-18T23:45:21.728510Z",
     "iopub.status.busy": "2025-04-18T23:45:21.728096Z",
     "iopub.status.idle": "2025-04-18T23:45:21.744447Z",
     "shell.execute_reply": "2025-04-18T23:45:21.743195Z"
    },
    "papermill": {
     "duration": 0.030382,
     "end_time": "2025-04-18T23:45:21.746364",
     "exception": false,
     "start_time": "2025-04-18T23:45:21.715982",
     "status": "completed"
    },
    "tags": []
   },
   "outputs": [],
   "source": [
    "df_test_new = df_test.copy()"
   ]
  },
  {
   "cell_type": "code",
   "execution_count": 32,
   "id": "845e3dfd",
   "metadata": {
    "execution": {
     "iopub.execute_input": "2025-04-18T23:45:21.770619Z",
     "iopub.status.busy": "2025-04-18T23:45:21.769569Z",
     "iopub.status.idle": "2025-04-18T23:45:21.945899Z",
     "shell.execute_reply": "2025-04-18T23:45:21.944933Z"
    },
    "papermill": {
     "duration": 0.190272,
     "end_time": "2025-04-18T23:45:21.947730",
     "exception": false,
     "start_time": "2025-04-18T23:45:21.757458",
     "status": "completed"
    },
    "tags": []
   },
   "outputs": [
    {
     "data": {
      "text/html": [
       "<style type=\"text/css\">\n",
       "#T_e1fcd_row0_col0, #T_e1fcd_row0_col1, #T_e1fcd_row1_col0, #T_e1fcd_row1_col1, #T_e1fcd_row2_col0, #T_e1fcd_row2_col1, #T_e1fcd_row4_col0, #T_e1fcd_row4_col1, #T_e1fcd_row5_col0, #T_e1fcd_row5_col1, #T_e1fcd_row6_col0, #T_e1fcd_row6_col1, #T_e1fcd_row7_col0, #T_e1fcd_row7_col1, #T_e1fcd_row9_col0, #T_e1fcd_row9_col1, #T_e1fcd_row10_col0, #T_e1fcd_row10_col1 {\n",
       "  background-color: #f7fcf5;\n",
       "  color: #000000;\n",
       "}\n",
       "#T_e1fcd_row3_col0, #T_e1fcd_row3_col1 {\n",
       "  background-color: #50b264;\n",
       "  color: #f1f1f1;\n",
       "}\n",
       "#T_e1fcd_row8_col0, #T_e1fcd_row8_col1 {\n",
       "  background-color: #00441b;\n",
       "  color: #f1f1f1;\n",
       "}\n",
       "</style>\n",
       "<table id=\"T_e1fcd\">\n",
       "  <thead>\n",
       "    <tr>\n",
       "      <th class=\"blank level0\" >&nbsp;</th>\n",
       "      <th id=\"T_e1fcd_level0_col0\" class=\"col_heading level0 col0\" >Amount of Null Data</th>\n",
       "      <th id=\"T_e1fcd_level0_col1\" class=\"col_heading level0 col1\" >Percentage of Null Data</th>\n",
       "    </tr>\n",
       "  </thead>\n",
       "  <tbody>\n",
       "    <tr>\n",
       "      <th id=\"T_e1fcd_level0_row0\" class=\"row_heading level0 row0\" >id</th>\n",
       "      <td id=\"T_e1fcd_row0_col0\" class=\"data row0 col0\" >0</td>\n",
       "      <td id=\"T_e1fcd_row0_col1\" class=\"data row0 col1\" >0.000000</td>\n",
       "    </tr>\n",
       "    <tr>\n",
       "      <th id=\"T_e1fcd_level0_row1\" class=\"row_heading level0 row1\" >Podcast_Name</th>\n",
       "      <td id=\"T_e1fcd_row1_col0\" class=\"data row1 col0\" >0</td>\n",
       "      <td id=\"T_e1fcd_row1_col1\" class=\"data row1 col1\" >0.000000</td>\n",
       "    </tr>\n",
       "    <tr>\n",
       "      <th id=\"T_e1fcd_level0_row2\" class=\"row_heading level0 row2\" >Episode_Title</th>\n",
       "      <td id=\"T_e1fcd_row2_col0\" class=\"data row2 col0\" >0</td>\n",
       "      <td id=\"T_e1fcd_row2_col1\" class=\"data row2 col1\" >0.000000</td>\n",
       "    </tr>\n",
       "    <tr>\n",
       "      <th id=\"T_e1fcd_level0_row3\" class=\"row_heading level0 row3\" >Episode_Length_minutes</th>\n",
       "      <td id=\"T_e1fcd_row3_col0\" class=\"data row3 col0\" >28736</td>\n",
       "      <td id=\"T_e1fcd_row3_col1\" class=\"data row3 col1\" >11.494400</td>\n",
       "    </tr>\n",
       "    <tr>\n",
       "      <th id=\"T_e1fcd_level0_row4\" class=\"row_heading level0 row4\" >Genre</th>\n",
       "      <td id=\"T_e1fcd_row4_col0\" class=\"data row4 col0\" >0</td>\n",
       "      <td id=\"T_e1fcd_row4_col1\" class=\"data row4 col1\" >0.000000</td>\n",
       "    </tr>\n",
       "    <tr>\n",
       "      <th id=\"T_e1fcd_level0_row5\" class=\"row_heading level0 row5\" >Host_Popularity_percentage</th>\n",
       "      <td id=\"T_e1fcd_row5_col0\" class=\"data row5 col0\" >0</td>\n",
       "      <td id=\"T_e1fcd_row5_col1\" class=\"data row5 col1\" >0.000000</td>\n",
       "    </tr>\n",
       "    <tr>\n",
       "      <th id=\"T_e1fcd_level0_row6\" class=\"row_heading level0 row6\" >Publication_Day</th>\n",
       "      <td id=\"T_e1fcd_row6_col0\" class=\"data row6 col0\" >0</td>\n",
       "      <td id=\"T_e1fcd_row6_col1\" class=\"data row6 col1\" >0.000000</td>\n",
       "    </tr>\n",
       "    <tr>\n",
       "      <th id=\"T_e1fcd_level0_row7\" class=\"row_heading level0 row7\" >Publication_Time</th>\n",
       "      <td id=\"T_e1fcd_row7_col0\" class=\"data row7 col0\" >0</td>\n",
       "      <td id=\"T_e1fcd_row7_col1\" class=\"data row7 col1\" >0.000000</td>\n",
       "    </tr>\n",
       "    <tr>\n",
       "      <th id=\"T_e1fcd_level0_row8\" class=\"row_heading level0 row8\" >Guest_Popularity_percentage</th>\n",
       "      <td id=\"T_e1fcd_row8_col0\" class=\"data row8 col0\" >48832</td>\n",
       "      <td id=\"T_e1fcd_row8_col1\" class=\"data row8 col1\" >19.532800</td>\n",
       "    </tr>\n",
       "    <tr>\n",
       "      <th id=\"T_e1fcd_level0_row9\" class=\"row_heading level0 row9\" >Number_of_Ads</th>\n",
       "      <td id=\"T_e1fcd_row9_col0\" class=\"data row9 col0\" >0</td>\n",
       "      <td id=\"T_e1fcd_row9_col1\" class=\"data row9 col1\" >0.000000</td>\n",
       "    </tr>\n",
       "    <tr>\n",
       "      <th id=\"T_e1fcd_level0_row10\" class=\"row_heading level0 row10\" >Episode_Sentiment</th>\n",
       "      <td id=\"T_e1fcd_row10_col0\" class=\"data row10 col0\" >0</td>\n",
       "      <td id=\"T_e1fcd_row10_col1\" class=\"data row10 col1\" >0.000000</td>\n",
       "    </tr>\n",
       "  </tbody>\n",
       "</table>\n"
      ],
      "text/plain": [
       "<pandas.io.formats.style.Styler at 0x7dbe46f3e490>"
      ]
     },
     "execution_count": 32,
     "metadata": {},
     "output_type": "execute_result"
    }
   ],
   "source": [
    "# We check the null values\n",
    "\n",
    "null_values_test = (\n",
    "    pd.DataFrame(\n",
    "        {f'Amount of Null Data' : df_test_new.isnull().sum(), \n",
    "         'Percentage of Null Data' : (\n",
    "             df_test_new.isnull().sum()) / (len(df_test_new)) * (100)\n",
    "        }\n",
    "    ))\n",
    "\n",
    "null_values_test.style.background_gradient(cmap='Greens')"
   ]
  },
  {
   "cell_type": "code",
   "execution_count": 33,
   "id": "706cbb76",
   "metadata": {
    "execution": {
     "iopub.execute_input": "2025-04-18T23:45:21.977825Z",
     "iopub.status.busy": "2025-04-18T23:45:21.976971Z",
     "iopub.status.idle": "2025-04-18T23:45:22.184001Z",
     "shell.execute_reply": "2025-04-18T23:45:22.183034Z"
    },
    "papermill": {
     "duration": 0.221468,
     "end_time": "2025-04-18T23:45:22.185974",
     "exception": false,
     "start_time": "2025-04-18T23:45:21.964506",
     "status": "completed"
    },
    "tags": []
   },
   "outputs": [],
   "source": [
    "# We filled in null values\n",
    "\n",
    "df_test_new[\"Episode_Length_minutes\"] = (df_test_new[\"Episode_Length_minutes\"].fillna(\n",
    "    df_test_new.groupby(\"Podcast_Name\")[\"Episode_Length_minutes\"].transform(\"mean\")\n",
    "))\n",
    "df_test_new[\"Guest_Popularity_percentage\"] = (df_test_new[\"Guest_Popularity_percentage\"].fillna(\n",
    "    df_test_new.groupby(\"Podcast_Name\")[\"Guest_Popularity_percentage\"].transform(\"mean\")\n",
    "))\n",
    "\n",
    "# We replace the erroneous values\n",
    "\n",
    "df_test_new[\"Number_of_Ads\"] = (df_test_new[\"Number_of_Ads\"].apply(lambda x: np.NaN if x>3 else x))\n",
    "df_test_new[\"Number_of_Ads\"] = (df_test_new[\"Number_of_Ads\"].fillna(\n",
    "    df_test_new.groupby(\"Podcast_Name\")[\"Number_of_Ads\"].transform(lambda v: v.mode()[0])\n",
    "))\n",
    "df_test_new[\"Host_Popularity_percentage\"] = np.where(\n",
    "    df_test_new[\"Host_Popularity_percentage\"] > 100, 100, df_test_new[\"Host_Popularity_percentage\"]\n",
    ").round(decimals=2)\n",
    "df_test_new[\"Guest_Popularity_percentage\"] = np.where(\n",
    "    df_test_new[\"Guest_Popularity_percentage\"] > 100, 100, df_test_new[\"Guest_Popularity_percentage\"]\n",
    ").round(decimals=2)"
   ]
  },
  {
   "cell_type": "code",
   "execution_count": 34,
   "id": "ffc35da6",
   "metadata": {
    "execution": {
     "iopub.execute_input": "2025-04-18T23:45:22.221338Z",
     "iopub.status.busy": "2025-04-18T23:45:22.220925Z",
     "iopub.status.idle": "2025-04-18T23:45:22.241739Z",
     "shell.execute_reply": "2025-04-18T23:45:22.240752Z"
    },
    "papermill": {
     "duration": 0.03723,
     "end_time": "2025-04-18T23:45:22.243590",
     "exception": false,
     "start_time": "2025-04-18T23:45:22.206360",
     "status": "completed"
    },
    "tags": []
   },
   "outputs": [],
   "source": [
    "# We start by removing the variables that we will not use\n",
    "\n",
    "df_test_new = df_test_new.drop(columns=[\"id\", \"Podcast_Name\", \"Episode_Title\"])"
   ]
  },
  {
   "cell_type": "code",
   "execution_count": 35,
   "id": "e9e3ad5d",
   "metadata": {
    "execution": {
     "iopub.execute_input": "2025-04-18T23:45:22.267535Z",
     "iopub.status.busy": "2025-04-18T23:45:22.267138Z",
     "iopub.status.idle": "2025-04-18T23:45:22.498641Z",
     "shell.execute_reply": "2025-04-18T23:45:22.497679Z"
    },
    "papermill": {
     "duration": 0.24568,
     "end_time": "2025-04-18T23:45:22.500589",
     "exception": false,
     "start_time": "2025-04-18T23:45:22.254909",
     "status": "completed"
    },
    "tags": []
   },
   "outputs": [],
   "source": [
    "# We encode the categorical variables\n",
    "\n",
    "df_test_new[\"Episode_Sentiment\"] = df_test_new[\"Episode_Sentiment\"].map(eps_order)\n",
    "df_test_new[\"Episode_Sentiment\"] = df_test_new[\"Episode_Sentiment\"].astype(\"float64\")\n",
    "\n",
    "test_num = df_test_new.select_dtypes(include=\"number\")\n",
    "test_cat = df_test_new.select_dtypes(include=\"object\")\n",
    "test_enc = enc.fit_transform(test_cat)\n",
    "test_encoded = pd.concat([test_enc, test_num[[\"Number_of_Ads\", \"Episode_Sentiment\"]]], axis=1)\n",
    "\n",
    "# We transform the data\n",
    "\n",
    "test_num = test_num.drop(columns=[\"Number_of_Ads\", \"Episode_Sentiment\"])\n",
    "test_sca = scaler.transform(test_num)\n",
    "\n",
    "# We concatenate the dataframes\n",
    "\n",
    "test_end = pd.concat([test_encoded, test_sca], axis=1)"
   ]
  },
  {
   "cell_type": "code",
   "execution_count": 36,
   "id": "8f64ff3e",
   "metadata": {
    "execution": {
     "iopub.execute_input": "2025-04-18T23:45:22.525870Z",
     "iopub.status.busy": "2025-04-18T23:45:22.525434Z",
     "iopub.status.idle": "2025-04-18T23:45:22.651781Z",
     "shell.execute_reply": "2025-04-18T23:45:22.650859Z"
    },
    "papermill": {
     "duration": 0.140753,
     "end_time": "2025-04-18T23:45:22.653727",
     "exception": false,
     "start_time": "2025-04-18T23:45:22.512974",
     "status": "completed"
    },
    "tags": []
   },
   "outputs": [
    {
     "data": {
      "text/html": [
       "<div>\n",
       "<style scoped>\n",
       "    .dataframe tbody tr th:only-of-type {\n",
       "        vertical-align: middle;\n",
       "    }\n",
       "\n",
       "    .dataframe tbody tr th {\n",
       "        vertical-align: top;\n",
       "    }\n",
       "\n",
       "    .dataframe thead th {\n",
       "        text-align: right;\n",
       "    }\n",
       "</style>\n",
       "<table border=\"1\" class=\"dataframe\">\n",
       "  <thead>\n",
       "    <tr style=\"text-align: right;\">\n",
       "      <th></th>\n",
       "      <th>count</th>\n",
       "      <th>mean</th>\n",
       "      <th>std</th>\n",
       "      <th>min</th>\n",
       "      <th>25%</th>\n",
       "      <th>50%</th>\n",
       "      <th>75%</th>\n",
       "      <th>max</th>\n",
       "    </tr>\n",
       "  </thead>\n",
       "  <tbody>\n",
       "    <tr>\n",
       "      <th>Genre</th>\n",
       "      <td>250000.0</td>\n",
       "      <td>4.641336</td>\n",
       "      <td>2.959436</td>\n",
       "      <td>0.000000</td>\n",
       "      <td>2.000000</td>\n",
       "      <td>5.000000</td>\n",
       "      <td>7.000000</td>\n",
       "      <td>9.000000e+00</td>\n",
       "    </tr>\n",
       "    <tr>\n",
       "      <th>Publication_Day</th>\n",
       "      <td>250000.0</td>\n",
       "      <td>2.962788</td>\n",
       "      <td>1.993649</td>\n",
       "      <td>0.000000</td>\n",
       "      <td>1.000000</td>\n",
       "      <td>3.000000</td>\n",
       "      <td>5.000000</td>\n",
       "      <td>6.000000e+00</td>\n",
       "    </tr>\n",
       "    <tr>\n",
       "      <th>Publication_Time</th>\n",
       "      <td>250000.0</td>\n",
       "      <td>1.522652</td>\n",
       "      <td>1.118540</td>\n",
       "      <td>0.000000</td>\n",
       "      <td>1.000000</td>\n",
       "      <td>1.000000</td>\n",
       "      <td>3.000000</td>\n",
       "      <td>3.000000e+00</td>\n",
       "    </tr>\n",
       "    <tr>\n",
       "      <th>Number_of_Ads</th>\n",
       "      <td>250000.0</td>\n",
       "      <td>1.347248</td>\n",
       "      <td>1.112669</td>\n",
       "      <td>0.000000</td>\n",
       "      <td>0.000000</td>\n",
       "      <td>1.000000</td>\n",
       "      <td>2.000000</td>\n",
       "      <td>3.000000e+00</td>\n",
       "    </tr>\n",
       "    <tr>\n",
       "      <th>Episode_Sentiment</th>\n",
       "      <td>250000.0</td>\n",
       "      <td>0.997236</td>\n",
       "      <td>0.815666</td>\n",
       "      <td>0.000000</td>\n",
       "      <td>0.000000</td>\n",
       "      <td>1.000000</td>\n",
       "      <td>2.000000</td>\n",
       "      <td>2.000000e+00</td>\n",
       "    </tr>\n",
       "    <tr>\n",
       "      <th>Episode_Length_minutes</th>\n",
       "      <td>250000.0</td>\n",
       "      <td>11.420409</td>\n",
       "      <td>5063.475976</td>\n",
       "      <td>-2.000953</td>\n",
       "      <td>-0.810685</td>\n",
       "      <td>-0.002337</td>\n",
       "      <td>0.848594</td>\n",
       "      <td>2.531697e+06</td>\n",
       "    </tr>\n",
       "    <tr>\n",
       "      <th>Host_Popularity_percentage</th>\n",
       "      <td>250000.0</td>\n",
       "      <td>-0.006268</td>\n",
       "      <td>1.000309</td>\n",
       "      <td>-2.508262</td>\n",
       "      <td>-0.901071</td>\n",
       "      <td>0.001771</td>\n",
       "      <td>0.853897</td>\n",
       "      <td>1.754991e+00</td>\n",
       "    </tr>\n",
       "    <tr>\n",
       "      <th>Guest_Popularity_percentage</th>\n",
       "      <td>250000.0</td>\n",
       "      <td>-0.001736</td>\n",
       "      <td>0.999403</td>\n",
       "      <td>-2.045665</td>\n",
       "      <td>-0.692546</td>\n",
       "      <td>0.000658</td>\n",
       "      <td>0.734593</td>\n",
       "      <td>1.870743e+00</td>\n",
       "    </tr>\n",
       "  </tbody>\n",
       "</table>\n",
       "</div>"
      ],
      "text/plain": [
       "                                count       mean          std       min  \\\n",
       "Genre                        250000.0   4.641336     2.959436  0.000000   \n",
       "Publication_Day              250000.0   2.962788     1.993649  0.000000   \n",
       "Publication_Time             250000.0   1.522652     1.118540  0.000000   \n",
       "Number_of_Ads                250000.0   1.347248     1.112669  0.000000   \n",
       "Episode_Sentiment            250000.0   0.997236     0.815666  0.000000   \n",
       "Episode_Length_minutes       250000.0  11.420409  5063.475976 -2.000953   \n",
       "Host_Popularity_percentage   250000.0  -0.006268     1.000309 -2.508262   \n",
       "Guest_Popularity_percentage  250000.0  -0.001736     0.999403 -2.045665   \n",
       "\n",
       "                                  25%       50%       75%           max  \n",
       "Genre                        2.000000  5.000000  7.000000  9.000000e+00  \n",
       "Publication_Day              1.000000  3.000000  5.000000  6.000000e+00  \n",
       "Publication_Time             1.000000  1.000000  3.000000  3.000000e+00  \n",
       "Number_of_Ads                0.000000  1.000000  2.000000  3.000000e+00  \n",
       "Episode_Sentiment            0.000000  1.000000  2.000000  2.000000e+00  \n",
       "Episode_Length_minutes      -0.810685 -0.002337  0.848594  2.531697e+06  \n",
       "Host_Popularity_percentage  -0.901071  0.001771  0.853897  1.754991e+00  \n",
       "Guest_Popularity_percentage -0.692546  0.000658  0.734593  1.870743e+00  "
      ]
     },
     "execution_count": 36,
     "metadata": {},
     "output_type": "execute_result"
    }
   ],
   "source": [
    "test_end.describe().T"
   ]
  },
  {
   "cell_type": "code",
   "execution_count": 37,
   "id": "54b836db",
   "metadata": {
    "execution": {
     "iopub.execute_input": "2025-04-18T23:45:22.685998Z",
     "iopub.status.busy": "2025-04-18T23:45:22.685552Z",
     "iopub.status.idle": "2025-04-18T23:45:23.031138Z",
     "shell.execute_reply": "2025-04-18T23:45:23.030009Z"
    },
    "papermill": {
     "duration": 0.362053,
     "end_time": "2025-04-18T23:45:23.032986",
     "exception": false,
     "start_time": "2025-04-18T23:45:22.670933",
     "status": "completed"
    },
    "tags": []
   },
   "outputs": [],
   "source": [
    "# We apply the trained model\n",
    "\n",
    "listening_predictions = final_model.predict(test_end)"
   ]
  },
  {
   "cell_type": "code",
   "execution_count": 38,
   "id": "b588b8d1",
   "metadata": {
    "execution": {
     "iopub.execute_input": "2025-04-18T23:45:23.059276Z",
     "iopub.status.busy": "2025-04-18T23:45:23.058927Z",
     "iopub.status.idle": "2025-04-18T23:45:23.063840Z",
     "shell.execute_reply": "2025-04-18T23:45:23.062909Z"
    },
    "papermill": {
     "duration": 0.018172,
     "end_time": "2025-04-18T23:45:23.065144",
     "exception": false,
     "start_time": "2025-04-18T23:45:23.046972",
     "status": "completed"
    },
    "tags": []
   },
   "outputs": [
    {
     "name": "stdout",
     "output_type": "stream",
     "text": [
      "Total predictions:  250000 \n",
      "\n"
     ]
    }
   ],
   "source": [
    "# We review the result\n",
    "\n",
    "print(\"Total predictions: \", len(listening_predictions), \"\\n\")"
   ]
  },
  {
   "cell_type": "code",
   "execution_count": 39,
   "id": "ba1cd30a",
   "metadata": {
    "execution": {
     "iopub.execute_input": "2025-04-18T23:45:23.088603Z",
     "iopub.status.busy": "2025-04-18T23:45:23.088307Z",
     "iopub.status.idle": "2025-04-18T23:45:23.097859Z",
     "shell.execute_reply": "2025-04-18T23:45:23.097072Z"
    },
    "papermill": {
     "duration": 0.022895,
     "end_time": "2025-04-18T23:45:23.099252",
     "exception": false,
     "start_time": "2025-04-18T23:45:23.076357",
     "status": "completed"
    },
    "tags": []
   },
   "outputs": [
    {
     "data": {
      "text/html": [
       "<div>\n",
       "<style scoped>\n",
       "    .dataframe tbody tr th:only-of-type {\n",
       "        vertical-align: middle;\n",
       "    }\n",
       "\n",
       "    .dataframe tbody tr th {\n",
       "        vertical-align: top;\n",
       "    }\n",
       "\n",
       "    .dataframe thead th {\n",
       "        text-align: right;\n",
       "    }\n",
       "</style>\n",
       "<table border=\"1\" class=\"dataframe\">\n",
       "  <thead>\n",
       "    <tr style=\"text-align: right;\">\n",
       "      <th></th>\n",
       "      <th>id</th>\n",
       "      <th>Listening_Time_minutes</th>\n",
       "    </tr>\n",
       "  </thead>\n",
       "  <tbody>\n",
       "    <tr>\n",
       "      <th>0</th>\n",
       "      <td>750000</td>\n",
       "      <td>56.678341</td>\n",
       "    </tr>\n",
       "    <tr>\n",
       "      <th>1</th>\n",
       "      <td>750001</td>\n",
       "      <td>17.997578</td>\n",
       "    </tr>\n",
       "    <tr>\n",
       "      <th>2</th>\n",
       "      <td>750002</td>\n",
       "      <td>49.667652</td>\n",
       "    </tr>\n",
       "    <tr>\n",
       "      <th>3</th>\n",
       "      <td>750003</td>\n",
       "      <td>79.120071</td>\n",
       "    </tr>\n",
       "    <tr>\n",
       "      <th>4</th>\n",
       "      <td>750004</td>\n",
       "      <td>49.395130</td>\n",
       "    </tr>\n",
       "  </tbody>\n",
       "</table>\n",
       "</div>"
      ],
      "text/plain": [
       "       id  Listening_Time_minutes\n",
       "0  750000               56.678341\n",
       "1  750001               17.997578\n",
       "2  750002               49.667652\n",
       "3  750003               79.120071\n",
       "4  750004               49.395130"
      ]
     },
     "execution_count": 39,
     "metadata": {},
     "output_type": "execute_result"
    }
   ],
   "source": [
    "# We create the dataframe\n",
    "\n",
    "listening_submission = pd.DataFrame({\n",
    "    \"id\" : df_test[\"id\"], \n",
    "    \"Listening_Time_minutes\" : listening_predictions\n",
    "})\n",
    "\n",
    "listening_submission.head()"
   ]
  },
  {
   "cell_type": "code",
   "execution_count": 40,
   "id": "af7a850d",
   "metadata": {
    "execution": {
     "iopub.execute_input": "2025-04-18T23:45:23.123303Z",
     "iopub.status.busy": "2025-04-18T23:45:23.122991Z",
     "iopub.status.idle": "2025-04-18T23:45:23.528724Z",
     "shell.execute_reply": "2025-04-18T23:45:23.527924Z"
    },
    "papermill": {
     "duration": 0.419747,
     "end_time": "2025-04-18T23:45:23.530317",
     "exception": false,
     "start_time": "2025-04-18T23:45:23.110570",
     "status": "completed"
    },
    "tags": []
   },
   "outputs": [],
   "source": [
    "# We convert the dataframe to a csv file\n",
    "\n",
    "listening_submission.to_csv(\"submission.csv\", index=False)"
   ]
  }
 ],
 "metadata": {
  "kaggle": {
   "accelerator": "none",
   "dataSources": [
    {
     "databundleVersionId": 11351736,
     "sourceId": 91715,
     "sourceType": "competition"
    }
   ],
   "dockerImageVersionId": 31012,
   "isGpuEnabled": false,
   "isInternetEnabled": true,
   "language": "python",
   "sourceType": "notebook"
  },
  "kernelspec": {
   "display_name": "Python 3",
   "language": "python",
   "name": "python3"
  },
  "language_info": {
   "codemirror_mode": {
    "name": "ipython",
    "version": 3
   },
   "file_extension": ".py",
   "mimetype": "text/x-python",
   "name": "python",
   "nbconvert_exporter": "python",
   "pygments_lexer": "ipython3",
   "version": "3.11.11"
  },
  "papermill": {
   "default_parameters": {},
   "duration": 553.236658,
   "end_time": "2025-04-18T23:45:26.716682",
   "environment_variables": {},
   "exception": null,
   "input_path": "__notebook__.ipynb",
   "output_path": "__notebook__.ipynb",
   "parameters": {},
   "start_time": "2025-04-18T23:36:13.480024",
   "version": "2.6.0"
  }
 },
 "nbformat": 4,
 "nbformat_minor": 5
}
