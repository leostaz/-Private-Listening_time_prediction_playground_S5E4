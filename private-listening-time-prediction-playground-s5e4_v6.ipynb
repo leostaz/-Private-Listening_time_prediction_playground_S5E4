{
 "cells": [
  {
   "cell_type": "code",
   "execution_count": 1,
   "id": "15349c4f",
   "metadata": {
    "_cell_guid": "b1076dfc-b9ad-4769-8c92-a6c4dae69d19",
    "_uuid": "8f2839f25d086af736a60e9eeb907d3b93b6e0e5",
    "execution": {
     "iopub.execute_input": "2025-04-30T22:49:06.428257Z",
     "iopub.status.busy": "2025-04-30T22:49:06.427888Z",
     "iopub.status.idle": "2025-04-30T22:49:06.440692Z",
     "shell.execute_reply": "2025-04-30T22:49:06.439647Z"
    },
    "papermill": {
     "duration": 0.027759,
     "end_time": "2025-04-30T22:49:06.442517",
     "exception": false,
     "start_time": "2025-04-30T22:49:06.414758",
     "status": "completed"
    },
    "tags": []
   },
   "outputs": [
    {
     "name": "stdout",
     "output_type": "stream",
     "text": [
      "/kaggle/input/playground-series-s5e4/sample_submission.csv\n",
      "/kaggle/input/playground-series-s5e4/train.csv\n",
      "/kaggle/input/playground-series-s5e4/test.csv\n"
     ]
    }
   ],
   "source": [
    "# We load the competition data\n",
    "\n",
    "import warnings\n",
    "warnings.filterwarnings(\"ignore\")\n",
    "\n",
    "import os\n",
    "for dirname, _, filenames in os.walk('/kaggle/input'):\n",
    "    for filename in filenames:\n",
    "        print(os.path.join(dirname, filename))"
   ]
  },
  {
   "cell_type": "markdown",
   "id": "49861568",
   "metadata": {
    "papermill": {
     "duration": 0.010211,
     "end_time": "2025-04-30T22:49:06.464042",
     "exception": false,
     "start_time": "2025-04-30T22:49:06.453831",
     "status": "completed"
    },
    "tags": []
   },
   "source": [
    "# Libraries"
   ]
  },
  {
   "cell_type": "code",
   "execution_count": 2,
   "id": "99a4fe0c",
   "metadata": {
    "execution": {
     "iopub.execute_input": "2025-04-30T22:49:06.486200Z",
     "iopub.status.busy": "2025-04-30T22:49:06.485907Z",
     "iopub.status.idle": "2025-04-30T22:49:19.499128Z",
     "shell.execute_reply": "2025-04-30T22:49:19.498279Z"
    },
    "papermill": {
     "duration": 13.026447,
     "end_time": "2025-04-30T22:49:19.500884",
     "exception": false,
     "start_time": "2025-04-30T22:49:06.474437",
     "status": "completed"
    },
    "tags": []
   },
   "outputs": [],
   "source": [
    "import numpy as np\n",
    "import pandas as pd\n",
    "import matplotlib as mpl\n",
    "import matplotlib.pyplot as plt\n",
    "import seaborn as sns\n",
    "import shap\n",
    "\n",
    "from sklearn.preprocessing import (\n",
    "    OrdinalEncoder,\n",
    "    StandardScaler\n",
    ")\n",
    "from sklearn.feature_selection import (\n",
    "    mutual_info_regression\n",
    ")\n",
    "from sklearn.model_selection import (\n",
    "    train_test_split,\n",
    "    cross_val_score,\n",
    "    KFold,\n",
    "    RandomizedSearchCV\n",
    ")\n",
    "from sklearn.metrics import (\n",
    "    r2_score, \n",
    "    mean_squared_error\n",
    ")\n",
    "from sklearn.impute import KNNImputer\n",
    "from xgboost import XGBRegressor\n",
    "from sklearn.ensemble import BaggingRegressor\n",
    "from catboost import CatBoostRegressor"
   ]
  },
  {
   "cell_type": "markdown",
   "id": "f3416a10",
   "metadata": {
    "papermill": {
     "duration": 0.010184,
     "end_time": "2025-04-30T22:49:19.522146",
     "exception": false,
     "start_time": "2025-04-30T22:49:19.511962",
     "status": "completed"
    },
    "tags": []
   },
   "source": [
    "# Primer análisis"
   ]
  },
  {
   "cell_type": "markdown",
   "id": "85eaf3a0",
   "metadata": {
    "papermill": {
     "duration": 0.010391,
     "end_time": "2025-04-30T22:49:19.543150",
     "exception": false,
     "start_time": "2025-04-30T22:49:19.532759",
     "status": "completed"
    },
    "tags": []
   },
   "source": [
    "Notebook y análisis completo:\n",
    "\n",
    "https://www.kaggle.com/code/les1781/listening-time-prediction-playground-series-s5-e4"
   ]
  },
  {
   "cell_type": "code",
   "execution_count": 3,
   "id": "8ffd99b0",
   "metadata": {
    "execution": {
     "iopub.execute_input": "2025-04-30T22:49:19.565405Z",
     "iopub.status.busy": "2025-04-30T22:49:19.564903Z",
     "iopub.status.idle": "2025-04-30T22:49:21.506477Z",
     "shell.execute_reply": "2025-04-30T22:49:21.505456Z"
    },
    "papermill": {
     "duration": 1.954788,
     "end_time": "2025-04-30T22:49:21.508265",
     "exception": false,
     "start_time": "2025-04-30T22:49:19.553477",
     "status": "completed"
    },
    "tags": []
   },
   "outputs": [],
   "source": [
    "# We load the data\n",
    "\n",
    "listening_new = pd.read_csv(\"/kaggle/input/playground-series-s5e4/train.csv\", index_col=\"id\")"
   ]
  },
  {
   "cell_type": "markdown",
   "id": "9f15f2d0",
   "metadata": {
    "papermill": {
     "duration": 0.00987,
     "end_time": "2025-04-30T22:49:21.528616",
     "exception": false,
     "start_time": "2025-04-30T22:49:21.518746",
     "status": "completed"
    },
    "tags": []
   },
   "source": [
    "# Data wrangling"
   ]
  },
  {
   "cell_type": "code",
   "execution_count": 4,
   "id": "a74cc13e",
   "metadata": {
    "execution": {
     "iopub.execute_input": "2025-04-30T22:49:21.551239Z",
     "iopub.status.busy": "2025-04-30T22:49:21.550354Z",
     "iopub.status.idle": "2025-04-30T22:49:22.226087Z",
     "shell.execute_reply": "2025-04-30T22:49:22.225156Z"
    },
    "papermill": {
     "duration": 0.688852,
     "end_time": "2025-04-30T22:49:22.227967",
     "exception": false,
     "start_time": "2025-04-30T22:49:21.539115",
     "status": "completed"
    },
    "tags": []
   },
   "outputs": [
    {
     "data": {
      "text/html": [
       "<style type=\"text/css\">\n",
       "#T_cbb45_row0_col0, #T_cbb45_row0_col1, #T_cbb45_row1_col0, #T_cbb45_row1_col1, #T_cbb45_row3_col0, #T_cbb45_row3_col1, #T_cbb45_row4_col0, #T_cbb45_row4_col1, #T_cbb45_row5_col0, #T_cbb45_row5_col1, #T_cbb45_row6_col0, #T_cbb45_row6_col1, #T_cbb45_row8_col0, #T_cbb45_row8_col1, #T_cbb45_row9_col0, #T_cbb45_row9_col1, #T_cbb45_row10_col0, #T_cbb45_row10_col1 {\n",
       "  background-color: #f7fcf5;\n",
       "  color: #000000;\n",
       "}\n",
       "#T_cbb45_row2_col0, #T_cbb45_row2_col1 {\n",
       "  background-color: #4db163;\n",
       "  color: #f1f1f1;\n",
       "}\n",
       "#T_cbb45_row7_col0, #T_cbb45_row7_col1 {\n",
       "  background-color: #00441b;\n",
       "  color: #f1f1f1;\n",
       "}\n",
       "</style>\n",
       "<table id=\"T_cbb45\">\n",
       "  <thead>\n",
       "    <tr>\n",
       "      <th class=\"blank level0\" >&nbsp;</th>\n",
       "      <th id=\"T_cbb45_level0_col0\" class=\"col_heading level0 col0\" >Amount of Null Data</th>\n",
       "      <th id=\"T_cbb45_level0_col1\" class=\"col_heading level0 col1\" >Percentage of Null Data</th>\n",
       "    </tr>\n",
       "  </thead>\n",
       "  <tbody>\n",
       "    <tr>\n",
       "      <th id=\"T_cbb45_level0_row0\" class=\"row_heading level0 row0\" >Podcast_Name</th>\n",
       "      <td id=\"T_cbb45_row0_col0\" class=\"data row0 col0\" >0</td>\n",
       "      <td id=\"T_cbb45_row0_col1\" class=\"data row0 col1\" >0.000000</td>\n",
       "    </tr>\n",
       "    <tr>\n",
       "      <th id=\"T_cbb45_level0_row1\" class=\"row_heading level0 row1\" >Episode_Title</th>\n",
       "      <td id=\"T_cbb45_row1_col0\" class=\"data row1 col0\" >0</td>\n",
       "      <td id=\"T_cbb45_row1_col1\" class=\"data row1 col1\" >0.000000</td>\n",
       "    </tr>\n",
       "    <tr>\n",
       "      <th id=\"T_cbb45_level0_row2\" class=\"row_heading level0 row2\" >Episode_Length_minutes</th>\n",
       "      <td id=\"T_cbb45_row2_col0\" class=\"data row2 col0\" >87093</td>\n",
       "      <td id=\"T_cbb45_row2_col1\" class=\"data row2 col1\" >11.612400</td>\n",
       "    </tr>\n",
       "    <tr>\n",
       "      <th id=\"T_cbb45_level0_row3\" class=\"row_heading level0 row3\" >Genre</th>\n",
       "      <td id=\"T_cbb45_row3_col0\" class=\"data row3 col0\" >0</td>\n",
       "      <td id=\"T_cbb45_row3_col1\" class=\"data row3 col1\" >0.000000</td>\n",
       "    </tr>\n",
       "    <tr>\n",
       "      <th id=\"T_cbb45_level0_row4\" class=\"row_heading level0 row4\" >Host_Popularity_percentage</th>\n",
       "      <td id=\"T_cbb45_row4_col0\" class=\"data row4 col0\" >0</td>\n",
       "      <td id=\"T_cbb45_row4_col1\" class=\"data row4 col1\" >0.000000</td>\n",
       "    </tr>\n",
       "    <tr>\n",
       "      <th id=\"T_cbb45_level0_row5\" class=\"row_heading level0 row5\" >Publication_Day</th>\n",
       "      <td id=\"T_cbb45_row5_col0\" class=\"data row5 col0\" >0</td>\n",
       "      <td id=\"T_cbb45_row5_col1\" class=\"data row5 col1\" >0.000000</td>\n",
       "    </tr>\n",
       "    <tr>\n",
       "      <th id=\"T_cbb45_level0_row6\" class=\"row_heading level0 row6\" >Publication_Time</th>\n",
       "      <td id=\"T_cbb45_row6_col0\" class=\"data row6 col0\" >0</td>\n",
       "      <td id=\"T_cbb45_row6_col1\" class=\"data row6 col1\" >0.000000</td>\n",
       "    </tr>\n",
       "    <tr>\n",
       "      <th id=\"T_cbb45_level0_row7\" class=\"row_heading level0 row7\" >Guest_Popularity_percentage</th>\n",
       "      <td id=\"T_cbb45_row7_col0\" class=\"data row7 col0\" >146030</td>\n",
       "      <td id=\"T_cbb45_row7_col1\" class=\"data row7 col1\" >19.470667</td>\n",
       "    </tr>\n",
       "    <tr>\n",
       "      <th id=\"T_cbb45_level0_row8\" class=\"row_heading level0 row8\" >Number_of_Ads</th>\n",
       "      <td id=\"T_cbb45_row8_col0\" class=\"data row8 col0\" >1</td>\n",
       "      <td id=\"T_cbb45_row8_col1\" class=\"data row8 col1\" >0.000133</td>\n",
       "    </tr>\n",
       "    <tr>\n",
       "      <th id=\"T_cbb45_level0_row9\" class=\"row_heading level0 row9\" >Episode_Sentiment</th>\n",
       "      <td id=\"T_cbb45_row9_col0\" class=\"data row9 col0\" >0</td>\n",
       "      <td id=\"T_cbb45_row9_col1\" class=\"data row9 col1\" >0.000000</td>\n",
       "    </tr>\n",
       "    <tr>\n",
       "      <th id=\"T_cbb45_level0_row10\" class=\"row_heading level0 row10\" >Listening_Time_minutes</th>\n",
       "      <td id=\"T_cbb45_row10_col0\" class=\"data row10 col0\" >0</td>\n",
       "      <td id=\"T_cbb45_row10_col1\" class=\"data row10 col1\" >0.000000</td>\n",
       "    </tr>\n",
       "  </tbody>\n",
       "</table>\n"
      ],
      "text/plain": [
       "<pandas.io.formats.style.Styler at 0x7d4ee5e35190>"
      ]
     },
     "execution_count": 4,
     "metadata": {},
     "output_type": "execute_result"
    }
   ],
   "source": [
    "# We check for null values\n",
    "\n",
    "null_values = (\n",
    "    pd.DataFrame(\n",
    "        {f\"Amount of Null Data\": listening_new.isnull().sum(), \n",
    "         \"Percentage of Null Data\" : (\n",
    "             listening_new.isnull().sum()) / (len(listening_new)) * (100)\n",
    "        }))\n",
    "\n",
    "null_values.style.background_gradient(cmap=\"Greens\")"
   ]
  },
  {
   "cell_type": "code",
   "execution_count": 5,
   "id": "bd0d1cb1",
   "metadata": {
    "execution": {
     "iopub.execute_input": "2025-04-30T22:49:22.250645Z",
     "iopub.status.busy": "2025-04-30T22:49:22.250149Z",
     "iopub.status.idle": "2025-04-30T22:49:22.665954Z",
     "shell.execute_reply": "2025-04-30T22:49:22.664910Z"
    },
    "papermill": {
     "duration": 0.42916,
     "end_time": "2025-04-30T22:49:22.667860",
     "exception": false,
     "start_time": "2025-04-30T22:49:22.238700",
     "status": "completed"
    },
    "tags": []
   },
   "outputs": [],
   "source": [
    "# We replace the erroneous values\n",
    "\n",
    "\n",
    "listening_new[\"Number_of_Ads\"] = listening_new[\"Number_of_Ads\"].apply(lambda x: np.NaN if x>3 else x)\n",
    "\n",
    "listening_new[\"Episode_Length_minutes\"] = (\n",
    "    listening_new[\"Episode_Length_minutes\"].apply(lambda x: np.NaN if x>125.0 else x)\n",
    ")\n",
    "\n",
    "listening_new[\"Host_Popularity_percentage\"] = np.where(\n",
    "    listening_new[\"Host_Popularity_percentage\"] > 100, 100, listening_new[\"Host_Popularity_percentage\"]\n",
    ").round(decimals=2)\n",
    "\n",
    "listening_new[\"Guest_Popularity_percentage\"] = np.where(\n",
    "    listening_new[\"Guest_Popularity_percentage\"] > 100, 100, listening_new[\"Guest_Popularity_percentage\"]\n",
    ").round(decimals=2)"
   ]
  },
  {
   "cell_type": "code",
   "execution_count": 6,
   "id": "1dee2cb7",
   "metadata": {
    "execution": {
     "iopub.execute_input": "2025-04-30T22:49:22.690447Z",
     "iopub.status.busy": "2025-04-30T22:49:22.690088Z",
     "iopub.status.idle": "2025-04-30T22:49:22.694238Z",
     "shell.execute_reply": "2025-04-30T22:49:22.693450Z"
    },
    "papermill": {
     "duration": 0.017143,
     "end_time": "2025-04-30T22:49:22.695635",
     "exception": false,
     "start_time": "2025-04-30T22:49:22.678492",
     "status": "completed"
    },
    "tags": []
   },
   "outputs": [],
   "source": [
    "# We drop null values\n",
    "\n",
    "#listening_new.dropna(inplace=True)"
   ]
  },
  {
   "cell_type": "code",
   "execution_count": 7,
   "id": "202887eb",
   "metadata": {
    "execution": {
     "iopub.execute_input": "2025-04-30T22:49:22.718221Z",
     "iopub.status.busy": "2025-04-30T22:49:22.717921Z",
     "iopub.status.idle": "2025-04-30T22:49:23.136714Z",
     "shell.execute_reply": "2025-04-30T22:49:23.135900Z"
    },
    "papermill": {
     "duration": 0.431681,
     "end_time": "2025-04-30T22:49:23.138314",
     "exception": false,
     "start_time": "2025-04-30T22:49:22.706633",
     "status": "completed"
    },
    "tags": []
   },
   "outputs": [],
   "source": [
    "# We fill null values with the mean and mode groupby Podcast\n",
    "\n",
    "listening_new[\"Number_of_Ads\"] = listening_new[\"Number_of_Ads\"].fillna(\n",
    "        listening_new.groupby(\"Podcast_Name\")[\"Number_of_Ads\"].transform(lambda v: v.mode()[0])\n",
    ")\n",
    "\n",
    "listening_new[\"Episode_Length_minutes\"] = (listening_new[\"Episode_Length_minutes\"].fillna(\n",
    "    listening_new.groupby(\"Podcast_Name\")[\"Episode_Length_minutes\"].transform(\"median\")\n",
    "))\n",
    "\n",
    "listening_new[\"Guest_Popularity_percentage\"] = (listening_new[\"Guest_Popularity_percentage\"].fillna(\n",
    "        listening_new.groupby(\"Podcast_Name\")[\"Guest_Popularity_percentage\"].transform(\"median\")\n",
    "))"
   ]
  },
  {
   "cell_type": "code",
   "execution_count": 8,
   "id": "5db06906",
   "metadata": {
    "execution": {
     "iopub.execute_input": "2025-04-30T22:49:23.161262Z",
     "iopub.status.busy": "2025-04-30T22:49:23.160437Z",
     "iopub.status.idle": "2025-04-30T22:49:23.572365Z",
     "shell.execute_reply": "2025-04-30T22:49:23.571336Z"
    },
    "papermill": {
     "duration": 0.425055,
     "end_time": "2025-04-30T22:49:23.574111",
     "exception": false,
     "start_time": "2025-04-30T22:49:23.149056",
     "status": "completed"
    },
    "tags": []
   },
   "outputs": [],
   "source": [
    "# We changed the format for more efficient memory usage\n",
    "\n",
    "listening_new[listening_new.select_dtypes([\"object\"]).columns] = (\n",
    "    listening_new.select_dtypes([\"object\"]).apply(\n",
    "        lambda x: x.astype(\"category\"))\n",
    ")"
   ]
  },
  {
   "cell_type": "code",
   "execution_count": 9,
   "id": "8aeef8a6",
   "metadata": {
    "execution": {
     "iopub.execute_input": "2025-04-30T22:49:23.598540Z",
     "iopub.status.busy": "2025-04-30T22:49:23.598212Z",
     "iopub.status.idle": "2025-04-30T22:49:23.637903Z",
     "shell.execute_reply": "2025-04-30T22:49:23.636633Z"
    },
    "papermill": {
     "duration": 0.05325,
     "end_time": "2025-04-30T22:49:23.639697",
     "exception": false,
     "start_time": "2025-04-30T22:49:23.586447",
     "status": "completed"
    },
    "tags": []
   },
   "outputs": [
    {
     "name": "stdout",
     "output_type": "stream",
     "text": [
      "<class 'pandas.core.frame.DataFrame'>\n",
      "Index: 750000 entries, 0 to 749999\n",
      "Data columns (total 11 columns):\n",
      " #   Column                       Non-Null Count   Dtype   \n",
      "---  ------                       --------------   -----   \n",
      " 0   Podcast_Name                 750000 non-null  category\n",
      " 1   Episode_Title                750000 non-null  category\n",
      " 2   Episode_Length_minutes       750000 non-null  float64 \n",
      " 3   Genre                        750000 non-null  category\n",
      " 4   Host_Popularity_percentage   750000 non-null  float64 \n",
      " 5   Publication_Day              750000 non-null  category\n",
      " 6   Publication_Time             750000 non-null  category\n",
      " 7   Guest_Popularity_percentage  750000 non-null  float64 \n",
      " 8   Number_of_Ads                750000 non-null  float64 \n",
      " 9   Episode_Sentiment            750000 non-null  category\n",
      " 10  Listening_Time_minutes       750000 non-null  float64 \n",
      "dtypes: category(6), float64(5)\n",
      "memory usage: 38.6 MB\n"
     ]
    }
   ],
   "source": [
    "listening_new.info()"
   ]
  },
  {
   "cell_type": "markdown",
   "id": "abbdecbd",
   "metadata": {
    "papermill": {
     "duration": 0.010411,
     "end_time": "2025-04-30T22:49:23.660796",
     "exception": false,
     "start_time": "2025-04-30T22:49:23.650385",
     "status": "completed"
    },
    "tags": []
   },
   "source": [
    "# Data preprocessing"
   ]
  },
  {
   "cell_type": "code",
   "execution_count": 10,
   "id": "35fae376",
   "metadata": {
    "execution": {
     "iopub.execute_input": "2025-04-30T22:49:23.683232Z",
     "iopub.status.busy": "2025-04-30T22:49:23.682908Z",
     "iopub.status.idle": "2025-04-30T22:49:23.719589Z",
     "shell.execute_reply": "2025-04-30T22:49:23.718364Z"
    },
    "papermill": {
     "duration": 0.049767,
     "end_time": "2025-04-30T22:49:23.721228",
     "exception": false,
     "start_time": "2025-04-30T22:49:23.671461",
     "status": "completed"
    },
    "tags": []
   },
   "outputs": [],
   "source": [
    "listening_end = listening_new.copy()"
   ]
  },
  {
   "cell_type": "code",
   "execution_count": 11,
   "id": "f20a7ddd",
   "metadata": {
    "execution": {
     "iopub.execute_input": "2025-04-30T22:49:23.809460Z",
     "iopub.status.busy": "2025-04-30T22:49:23.809137Z",
     "iopub.status.idle": "2025-04-30T22:49:23.820082Z",
     "shell.execute_reply": "2025-04-30T22:49:23.819156Z"
    },
    "papermill": {
     "duration": 0.089702,
     "end_time": "2025-04-30T22:49:23.821601",
     "exception": false,
     "start_time": "2025-04-30T22:49:23.731899",
     "status": "completed"
    },
    "tags": []
   },
   "outputs": [],
   "source": [
    "# We map the variables and change the format\n",
    "\n",
    "eps_order = {\"Negative\" : 0, \"Neutral\" : 1, \"Positive\" : 2}\n",
    "listening_end[\"Episode_Sentiment\"] = listening_end[\"Episode_Sentiment\"].map(eps_order)\n",
    "listening_end[\"Episode_Sentiment\"] = listening_end[\"Episode_Sentiment\"].astype(\"float64\")"
   ]
  },
  {
   "cell_type": "code",
   "execution_count": 12,
   "id": "a44679b9",
   "metadata": {
    "execution": {
     "iopub.execute_input": "2025-04-30T22:49:23.844481Z",
     "iopub.status.busy": "2025-04-30T22:49:23.844141Z",
     "iopub.status.idle": "2025-04-30T22:49:23.937196Z",
     "shell.execute_reply": "2025-04-30T22:49:23.936171Z"
    },
    "papermill": {
     "duration": 0.106685,
     "end_time": "2025-04-30T22:49:23.938981",
     "exception": false,
     "start_time": "2025-04-30T22:49:23.832296",
     "status": "completed"
    },
    "tags": []
   },
   "outputs": [],
   "source": [
    "listening_end[\"Episode_Title\"] = listening_end[\"Episode_Title\"].str.strip(\"Episode \").astype(\"float64\")"
   ]
  },
  {
   "cell_type": "code",
   "execution_count": 13,
   "id": "930601fc",
   "metadata": {
    "execution": {
     "iopub.execute_input": "2025-04-30T22:49:23.961640Z",
     "iopub.status.busy": "2025-04-30T22:49:23.961277Z",
     "iopub.status.idle": "2025-04-30T22:49:24.007760Z",
     "shell.execute_reply": "2025-04-30T22:49:24.006944Z"
    },
    "papermill": {
     "duration": 0.059584,
     "end_time": "2025-04-30T22:49:24.009327",
     "exception": false,
     "start_time": "2025-04-30T22:49:23.949743",
     "status": "completed"
    },
    "tags": []
   },
   "outputs": [],
   "source": [
    "# We separate the categorical variables from the numerical ones\n",
    "\n",
    "df_numerical = listening_end.select_dtypes(include=\"number\")\n",
    "df_categorical = listening_end.select_dtypes(include=\"category\")"
   ]
  },
  {
   "cell_type": "markdown",
   "id": "dd82cbb6",
   "metadata": {
    "papermill": {
     "duration": 0.010449,
     "end_time": "2025-04-30T22:49:24.030752",
     "exception": false,
     "start_time": "2025-04-30T22:49:24.020303",
     "status": "completed"
    },
    "tags": []
   },
   "source": [
    "## Encode"
   ]
  },
  {
   "cell_type": "code",
   "execution_count": 14,
   "id": "070ac606",
   "metadata": {
    "execution": {
     "iopub.execute_input": "2025-04-30T22:49:24.053728Z",
     "iopub.status.busy": "2025-04-30T22:49:24.053373Z",
     "iopub.status.idle": "2025-04-30T22:49:24.726430Z",
     "shell.execute_reply": "2025-04-30T22:49:24.725708Z"
    },
    "papermill": {
     "duration": 0.686851,
     "end_time": "2025-04-30T22:49:24.728083",
     "exception": false,
     "start_time": "2025-04-30T22:49:24.041232",
     "status": "completed"
    },
    "tags": []
   },
   "outputs": [],
   "source": [
    "# We apply OrdinalEncoder to the remaining categorical variables\n",
    "\n",
    "enc = OrdinalEncoder(categories=\"auto\").set_output(transform=\"pandas\")\n",
    "\n",
    "enc_data = enc.fit_transform(df_categorical)\n",
    "\n",
    "df_listening = pd.concat([enc_data, df_numerical], axis=1)"
   ]
  },
  {
   "cell_type": "code",
   "execution_count": 15,
   "id": "7389b795",
   "metadata": {
    "execution": {
     "iopub.execute_input": "2025-04-30T22:49:24.753561Z",
     "iopub.status.busy": "2025-04-30T22:49:24.753246Z",
     "iopub.status.idle": "2025-04-30T22:49:25.105435Z",
     "shell.execute_reply": "2025-04-30T22:49:25.104624Z"
    },
    "papermill": {
     "duration": 0.367394,
     "end_time": "2025-04-30T22:49:25.107017",
     "exception": false,
     "start_time": "2025-04-30T22:49:24.739623",
     "status": "completed"
    },
    "tags": []
   },
   "outputs": [
    {
     "data": {
      "text/html": [
       "<style type=\"text/css\">\n",
       "#T_2706a_row0_col0, #T_2706a_row1_col1, #T_2706a_row2_col2, #T_2706a_row3_col3, #T_2706a_row4_col4, #T_2706a_row5_col5, #T_2706a_row6_col6, #T_2706a_row7_col7, #T_2706a_row8_col8, #T_2706a_row9_col9, #T_2706a_row10_col10 {\n",
       "  background-color: #00441b;\n",
       "  color: #f1f1f1;\n",
       "}\n",
       "#T_2706a_row0_col1, #T_2706a_row1_col0 {\n",
       "  background-color: #d5efcf;\n",
       "  color: #000000;\n",
       "}\n",
       "#T_2706a_row0_col2, #T_2706a_row0_col3, #T_2706a_row0_col7, #T_2706a_row1_col2, #T_2706a_row1_col3, #T_2706a_row1_col6, #T_2706a_row2_col0, #T_2706a_row2_col3, #T_2706a_row3_col1, #T_2706a_row3_col7, #T_2706a_row4_col0, #T_2706a_row4_col2, #T_2706a_row4_col3, #T_2706a_row5_col0, #T_2706a_row5_col1, #T_2706a_row5_col2, #T_2706a_row5_col7, #T_2706a_row6_col3, #T_2706a_row7_col2, #T_2706a_row8_col1, #T_2706a_row8_col2, #T_2706a_row9_col0, #T_2706a_row9_col1, #T_2706a_row9_col2, #T_2706a_row10_col0, #T_2706a_row10_col2 {\n",
       "  background-color: #f6fcf4;\n",
       "  color: #000000;\n",
       "}\n",
       "#T_2706a_row0_col4, #T_2706a_row1_col4, #T_2706a_row2_col9, #T_2706a_row6_col9, #T_2706a_row8_col4, #T_2706a_row9_col6 {\n",
       "  background-color: #f4fbf1;\n",
       "  color: #000000;\n",
       "}\n",
       "#T_2706a_row0_col5, #T_2706a_row2_col5, #T_2706a_row7_col4 {\n",
       "  background-color: #eff9ec;\n",
       "  color: #000000;\n",
       "}\n",
       "#T_2706a_row0_col6, #T_2706a_row2_col1, #T_2706a_row2_col6, #T_2706a_row2_col7, #T_2706a_row4_col1, #T_2706a_row8_col0, #T_2706a_row9_col3, #T_2706a_row9_col4, #T_2706a_row9_col7, #T_2706a_row10_col1 {\n",
       "  background-color: #f5fbf3;\n",
       "  color: #000000;\n",
       "}\n",
       "#T_2706a_row0_col8, #T_2706a_row7_col8 {\n",
       "  background-color: #e6f5e1;\n",
       "  color: #000000;\n",
       "}\n",
       "#T_2706a_row0_col9, #T_2706a_row1_col7, #T_2706a_row2_col4, #T_2706a_row7_col9, #T_2706a_row8_col7, #T_2706a_row10_col3 {\n",
       "  background-color: #f4fbf2;\n",
       "  color: #000000;\n",
       "}\n",
       "#T_2706a_row0_col10, #T_2706a_row1_col10, #T_2706a_row2_col8, #T_2706a_row2_col10, #T_2706a_row4_col8 {\n",
       "  background-color: #e7f6e2;\n",
       "  color: #000000;\n",
       "}\n",
       "#T_2706a_row1_col5, #T_2706a_row4_col7 {\n",
       "  background-color: #f0f9ec;\n",
       "  color: #000000;\n",
       "}\n",
       "#T_2706a_row1_col8 {\n",
       "  background-color: #e8f6e3;\n",
       "  color: #000000;\n",
       "}\n",
       "#T_2706a_row1_col9, #T_2706a_row3_col4, #T_2706a_row3_col6, #T_2706a_row4_col9, #T_2706a_row5_col3, #T_2706a_row7_col1 {\n",
       "  background-color: #f5fbf2;\n",
       "  color: #000000;\n",
       "}\n",
       "#T_2706a_row3_col0, #T_2706a_row3_col2, #T_2706a_row5_col4, #T_2706a_row6_col0, #T_2706a_row6_col1, #T_2706a_row6_col2, #T_2706a_row7_col0, #T_2706a_row7_col3, #T_2706a_row8_col3, #T_2706a_row8_col5, #T_2706a_row8_col6, #T_2706a_row8_col9, #T_2706a_row8_col10, #T_2706a_row10_col4, #T_2706a_row10_col7, #T_2706a_row10_col8 {\n",
       "  background-color: #f7fcf5;\n",
       "  color: #000000;\n",
       "}\n",
       "#T_2706a_row3_col5, #T_2706a_row5_col8, #T_2706a_row10_col9 {\n",
       "  background-color: #eff9eb;\n",
       "  color: #000000;\n",
       "}\n",
       "#T_2706a_row3_col8 {\n",
       "  background-color: #e8f6e4;\n",
       "  color: #000000;\n",
       "}\n",
       "#T_2706a_row3_col9 {\n",
       "  background-color: #f3faf0;\n",
       "  color: #000000;\n",
       "}\n",
       "#T_2706a_row3_col10 {\n",
       "  background-color: #e5f5e1;\n",
       "  color: #000000;\n",
       "}\n",
       "#T_2706a_row4_col5, #T_2706a_row6_col7 {\n",
       "  background-color: #f2faf0;\n",
       "  color: #000000;\n",
       "}\n",
       "#T_2706a_row4_col6, #T_2706a_row6_col4, #T_2706a_row7_col6 {\n",
       "  background-color: #f2faef;\n",
       "  color: #000000;\n",
       "}\n",
       "#T_2706a_row4_col10, #T_2706a_row6_col8, #T_2706a_row7_col10 {\n",
       "  background-color: #e9f7e5;\n",
       "  color: #000000;\n",
       "}\n",
       "#T_2706a_row5_col6, #T_2706a_row5_col9, #T_2706a_row7_col5 {\n",
       "  background-color: #f1faee;\n",
       "  color: #000000;\n",
       "}\n",
       "#T_2706a_row5_col10 {\n",
       "  background-color: #006b2b;\n",
       "  color: #f1f1f1;\n",
       "}\n",
       "#T_2706a_row6_col5 {\n",
       "  background-color: #edf8e9;\n",
       "  color: #000000;\n",
       "}\n",
       "#T_2706a_row6_col10 {\n",
       "  background-color: #def2d9;\n",
       "  color: #000000;\n",
       "}\n",
       "#T_2706a_row9_col5 {\n",
       "  background-color: #ecf8e8;\n",
       "  color: #000000;\n",
       "}\n",
       "#T_2706a_row9_col8 {\n",
       "  background-color: #eaf7e6;\n",
       "  color: #000000;\n",
       "}\n",
       "#T_2706a_row9_col10 {\n",
       "  background-color: #e0f3db;\n",
       "  color: #000000;\n",
       "}\n",
       "#T_2706a_row10_col5 {\n",
       "  background-color: #006d2c;\n",
       "  color: #f1f1f1;\n",
       "}\n",
       "#T_2706a_row10_col6 {\n",
       "  background-color: #edf8ea;\n",
       "  color: #000000;\n",
       "}\n",
       "</style>\n",
       "<table id=\"T_2706a\">\n",
       "  <thead>\n",
       "    <tr>\n",
       "      <th class=\"blank level0\" >&nbsp;</th>\n",
       "      <th id=\"T_2706a_level0_col0\" class=\"col_heading level0 col0\" >Podcast_Name</th>\n",
       "      <th id=\"T_2706a_level0_col1\" class=\"col_heading level0 col1\" >Genre</th>\n",
       "      <th id=\"T_2706a_level0_col2\" class=\"col_heading level0 col2\" >Publication_Day</th>\n",
       "      <th id=\"T_2706a_level0_col3\" class=\"col_heading level0 col3\" >Publication_Time</th>\n",
       "      <th id=\"T_2706a_level0_col4\" class=\"col_heading level0 col4\" >Episode_Title</th>\n",
       "      <th id=\"T_2706a_level0_col5\" class=\"col_heading level0 col5\" >Episode_Length_minutes</th>\n",
       "      <th id=\"T_2706a_level0_col6\" class=\"col_heading level0 col6\" >Host_Popularity_percentage</th>\n",
       "      <th id=\"T_2706a_level0_col7\" class=\"col_heading level0 col7\" >Guest_Popularity_percentage</th>\n",
       "      <th id=\"T_2706a_level0_col8\" class=\"col_heading level0 col8\" >Number_of_Ads</th>\n",
       "      <th id=\"T_2706a_level0_col9\" class=\"col_heading level0 col9\" >Episode_Sentiment</th>\n",
       "      <th id=\"T_2706a_level0_col10\" class=\"col_heading level0 col10\" >Listening_Time_minutes</th>\n",
       "    </tr>\n",
       "  </thead>\n",
       "  <tbody>\n",
       "    <tr>\n",
       "      <th id=\"T_2706a_level0_row0\" class=\"row_heading level0 row0\" >Podcast_Name</th>\n",
       "      <td id=\"T_2706a_row0_col0\" class=\"data row0 col0\" >1.000000</td>\n",
       "      <td id=\"T_2706a_row0_col1\" class=\"data row0 col1\" >0.188052</td>\n",
       "      <td id=\"T_2706a_row0_col2\" class=\"data row0 col2\" >0.003117</td>\n",
       "      <td id=\"T_2706a_row0_col3\" class=\"data row0 col3\" >-0.002328</td>\n",
       "      <td id=\"T_2706a_row0_col4\" class=\"data row0 col4\" >0.006225</td>\n",
       "      <td id=\"T_2706a_row0_col5\" class=\"data row0 col5\" >0.006128</td>\n",
       "      <td id=\"T_2706a_row0_col6\" class=\"data row0 col6\" >-0.002424</td>\n",
       "      <td id=\"T_2706a_row0_col7\" class=\"data row0 col7\" >-0.005297</td>\n",
       "      <td id=\"T_2706a_row0_col8\" class=\"data row0 col8\" >0.008955</td>\n",
       "      <td id=\"T_2706a_row0_col9\" class=\"data row0 col9\" >0.003115</td>\n",
       "      <td id=\"T_2706a_row0_col10\" class=\"data row0 col10\" >0.004346</td>\n",
       "    </tr>\n",
       "    <tr>\n",
       "      <th id=\"T_2706a_level0_row1\" class=\"row_heading level0 row1\" >Genre</th>\n",
       "      <td id=\"T_2706a_row1_col0\" class=\"data row1 col0\" >0.188052</td>\n",
       "      <td id=\"T_2706a_row1_col1\" class=\"data row1 col1\" >1.000000</td>\n",
       "      <td id=\"T_2706a_row1_col2\" class=\"data row1 col2\" >0.003305</td>\n",
       "      <td id=\"T_2706a_row1_col3\" class=\"data row1 col3\" >-0.001329</td>\n",
       "      <td id=\"T_2706a_row1_col4\" class=\"data row1 col4\" >0.006555</td>\n",
       "      <td id=\"T_2706a_row1_col5\" class=\"data row1 col5\" >-0.000616</td>\n",
       "      <td id=\"T_2706a_row1_col6\" class=\"data row1 col6\" >-0.008807</td>\n",
       "      <td id=\"T_2706a_row1_col7\" class=\"data row1 col7\" >0.007190</td>\n",
       "      <td id=\"T_2706a_row1_col8\" class=\"data row1 col8\" >-0.003429</td>\n",
       "      <td id=\"T_2706a_row1_col9\" class=\"data row1 col9\" >-0.001588</td>\n",
       "      <td id=\"T_2706a_row1_col10\" class=\"data row1 col10\" >0.004940</td>\n",
       "    </tr>\n",
       "    <tr>\n",
       "      <th id=\"T_2706a_level0_row2\" class=\"row_heading level0 row2\" >Publication_Day</th>\n",
       "      <td id=\"T_2706a_row2_col0\" class=\"data row2 col0\" >0.003117</td>\n",
       "      <td id=\"T_2706a_row2_col1\" class=\"data row2 col1\" >0.003305</td>\n",
       "      <td id=\"T_2706a_row2_col2\" class=\"data row2 col2\" >1.000000</td>\n",
       "      <td id=\"T_2706a_row2_col3\" class=\"data row2 col3\" >-0.000860</td>\n",
       "      <td id=\"T_2706a_row2_col4\" class=\"data row2 col4\" >0.002622</td>\n",
       "      <td id=\"T_2706a_row2_col5\" class=\"data row2 col5\" >0.006538</td>\n",
       "      <td id=\"T_2706a_row2_col6\" class=\"data row2 col6\" >-0.003698</td>\n",
       "      <td id=\"T_2706a_row2_col7\" class=\"data row2 col7\" >0.000441</td>\n",
       "      <td id=\"T_2706a_row2_col8\" class=\"data row2 col8\" >0.004986</td>\n",
       "      <td id=\"T_2706a_row2_col9\" class=\"data row2 col9\" >0.004594</td>\n",
       "      <td id=\"T_2706a_row2_col10\" class=\"data row2 col10\" >0.004030</td>\n",
       "    </tr>\n",
       "    <tr>\n",
       "      <th id=\"T_2706a_level0_row3\" class=\"row_heading level0 row3\" >Publication_Time</th>\n",
       "      <td id=\"T_2706a_row3_col0\" class=\"data row3 col0\" >-0.002328</td>\n",
       "      <td id=\"T_2706a_row3_col1\" class=\"data row3 col1\" >-0.001329</td>\n",
       "      <td id=\"T_2706a_row3_col2\" class=\"data row3 col2\" >-0.000860</td>\n",
       "      <td id=\"T_2706a_row3_col3\" class=\"data row3 col3\" >1.000000</td>\n",
       "      <td id=\"T_2706a_row3_col4\" class=\"data row3 col4\" >-0.001611</td>\n",
       "      <td id=\"T_2706a_row3_col5\" class=\"data row3 col5\" >0.009949</td>\n",
       "      <td id=\"T_2706a_row3_col6\" class=\"data row3 col6\" >0.000182</td>\n",
       "      <td id=\"T_2706a_row3_col7\" class=\"data row3 col7\" >-0.005236</td>\n",
       "      <td id=\"T_2706a_row3_col8\" class=\"data row3 col8\" >-0.006727</td>\n",
       "      <td id=\"T_2706a_row3_col9\" class=\"data row3 col9\" >0.008923</td>\n",
       "      <td id=\"T_2706a_row3_col10\" class=\"data row3 col10\" >0.013225</td>\n",
       "    </tr>\n",
       "    <tr>\n",
       "      <th id=\"T_2706a_level0_row4\" class=\"row_heading level0 row4\" >Episode_Title</th>\n",
       "      <td id=\"T_2706a_row4_col0\" class=\"data row4 col0\" >0.006225</td>\n",
       "      <td id=\"T_2706a_row4_col1\" class=\"data row4 col1\" >0.006555</td>\n",
       "      <td id=\"T_2706a_row4_col2\" class=\"data row4 col2\" >0.002622</td>\n",
       "      <td id=\"T_2706a_row4_col3\" class=\"data row4 col3\" >-0.001611</td>\n",
       "      <td id=\"T_2706a_row4_col4\" class=\"data row4 col4\" >1.000000</td>\n",
       "      <td id=\"T_2706a_row4_col5\" class=\"data row4 col5\" >-0.018766</td>\n",
       "      <td id=\"T_2706a_row4_col6\" class=\"data row4 col6\" >0.018271</td>\n",
       "      <td id=\"T_2706a_row4_col7\" class=\"data row4 col7\" >0.037481</td>\n",
       "      <td id=\"T_2706a_row4_col8\" class=\"data row4 col8\" >0.005647</td>\n",
       "      <td id=\"T_2706a_row4_col9\" class=\"data row4 col9\" >-0.002872</td>\n",
       "      <td id=\"T_2706a_row4_col10\" class=\"data row4 col10\" >-0.017321</td>\n",
       "    </tr>\n",
       "    <tr>\n",
       "      <th id=\"T_2706a_level0_row5\" class=\"row_heading level0 row5\" >Episode_Length_minutes</th>\n",
       "      <td id=\"T_2706a_row5_col0\" class=\"data row5 col0\" >0.006128</td>\n",
       "      <td id=\"T_2706a_row5_col1\" class=\"data row5 col1\" >-0.000616</td>\n",
       "      <td id=\"T_2706a_row5_col2\" class=\"data row5 col2\" >0.006538</td>\n",
       "      <td id=\"T_2706a_row5_col3\" class=\"data row5 col3\" >0.009949</td>\n",
       "      <td id=\"T_2706a_row5_col4\" class=\"data row5 col4\" >-0.018766</td>\n",
       "      <td id=\"T_2706a_row5_col5\" class=\"data row5 col5\" >1.000000</td>\n",
       "      <td id=\"T_2706a_row5_col6\" class=\"data row5 col6\" >0.022263</td>\n",
       "      <td id=\"T_2706a_row5_col7\" class=\"data row5 col7\" >-0.008403</td>\n",
       "      <td id=\"T_2706a_row5_col8\" class=\"data row5 col8\" >-0.054762</td>\n",
       "      <td id=\"T_2706a_row5_col9\" class=\"data row5 col9\" >0.024654</td>\n",
       "      <td id=\"T_2706a_row5_col10\" class=\"data row5 col10\" >0.866402</td>\n",
       "    </tr>\n",
       "    <tr>\n",
       "      <th id=\"T_2706a_level0_row6\" class=\"row_heading level0 row6\" >Host_Popularity_percentage</th>\n",
       "      <td id=\"T_2706a_row6_col0\" class=\"data row6 col0\" >-0.002424</td>\n",
       "      <td id=\"T_2706a_row6_col1\" class=\"data row6 col1\" >-0.008807</td>\n",
       "      <td id=\"T_2706a_row6_col2\" class=\"data row6 col2\" >-0.003698</td>\n",
       "      <td id=\"T_2706a_row6_col3\" class=\"data row6 col3\" >0.000182</td>\n",
       "      <td id=\"T_2706a_row6_col4\" class=\"data row6 col4\" >0.018271</td>\n",
       "      <td id=\"T_2706a_row6_col5\" class=\"data row6 col5\" >0.022263</td>\n",
       "      <td id=\"T_2706a_row6_col6\" class=\"data row6 col6\" >1.000000</td>\n",
       "      <td id=\"T_2706a_row6_col7\" class=\"data row6 col7\" >0.020343</td>\n",
       "      <td id=\"T_2706a_row6_col8\" class=\"data row6 col8\" >-0.017831</td>\n",
       "      <td id=\"T_2706a_row6_col9\" class=\"data row6 col9\" >0.007063</td>\n",
       "      <td id=\"T_2706a_row6_col10\" class=\"data row6 col10\" >0.050854</td>\n",
       "    </tr>\n",
       "    <tr>\n",
       "      <th id=\"T_2706a_level0_row7\" class=\"row_heading level0 row7\" >Guest_Popularity_percentage</th>\n",
       "      <td id=\"T_2706a_row7_col0\" class=\"data row7 col0\" >-0.005297</td>\n",
       "      <td id=\"T_2706a_row7_col1\" class=\"data row7 col1\" >0.007190</td>\n",
       "      <td id=\"T_2706a_row7_col2\" class=\"data row7 col2\" >0.000441</td>\n",
       "      <td id=\"T_2706a_row7_col3\" class=\"data row7 col3\" >-0.005236</td>\n",
       "      <td id=\"T_2706a_row7_col4\" class=\"data row7 col4\" >0.037481</td>\n",
       "      <td id=\"T_2706a_row7_col5\" class=\"data row7 col5\" >-0.008403</td>\n",
       "      <td id=\"T_2706a_row7_col6\" class=\"data row7 col6\" >0.020343</td>\n",
       "      <td id=\"T_2706a_row7_col7\" class=\"data row7 col7\" >1.000000</td>\n",
       "      <td id=\"T_2706a_row7_col8\" class=\"data row7 col8\" >0.008727</td>\n",
       "      <td id=\"T_2706a_row7_col9\" class=\"data row7 col9\" >0.000482</td>\n",
       "      <td id=\"T_2706a_row7_col10\" class=\"data row7 col10\" >-0.014448</td>\n",
       "    </tr>\n",
       "    <tr>\n",
       "      <th id=\"T_2706a_level0_row8\" class=\"row_heading level0 row8\" >Number_of_Ads</th>\n",
       "      <td id=\"T_2706a_row8_col0\" class=\"data row8 col0\" >0.008955</td>\n",
       "      <td id=\"T_2706a_row8_col1\" class=\"data row8 col1\" >-0.003429</td>\n",
       "      <td id=\"T_2706a_row8_col2\" class=\"data row8 col2\" >0.004986</td>\n",
       "      <td id=\"T_2706a_row8_col3\" class=\"data row8 col3\" >-0.006727</td>\n",
       "      <td id=\"T_2706a_row8_col4\" class=\"data row8 col4\" >0.005647</td>\n",
       "      <td id=\"T_2706a_row8_col5\" class=\"data row8 col5\" >-0.054762</td>\n",
       "      <td id=\"T_2706a_row8_col6\" class=\"data row8 col6\" >-0.017831</td>\n",
       "      <td id=\"T_2706a_row8_col7\" class=\"data row8 col7\" >0.008727</td>\n",
       "      <td id=\"T_2706a_row8_col8\" class=\"data row8 col8\" >1.000000</td>\n",
       "      <td id=\"T_2706a_row8_col9\" class=\"data row8 col9\" >-0.020627</td>\n",
       "      <td id=\"T_2706a_row8_col10\" class=\"data row8 col10\" >-0.124201</td>\n",
       "    </tr>\n",
       "    <tr>\n",
       "      <th id=\"T_2706a_level0_row9\" class=\"row_heading level0 row9\" >Episode_Sentiment</th>\n",
       "      <td id=\"T_2706a_row9_col0\" class=\"data row9 col0\" >0.003115</td>\n",
       "      <td id=\"T_2706a_row9_col1\" class=\"data row9 col1\" >-0.001588</td>\n",
       "      <td id=\"T_2706a_row9_col2\" class=\"data row9 col2\" >0.004594</td>\n",
       "      <td id=\"T_2706a_row9_col3\" class=\"data row9 col3\" >0.008923</td>\n",
       "      <td id=\"T_2706a_row9_col4\" class=\"data row9 col4\" >-0.002872</td>\n",
       "      <td id=\"T_2706a_row9_col5\" class=\"data row9 col5\" >0.024654</td>\n",
       "      <td id=\"T_2706a_row9_col6\" class=\"data row9 col6\" >0.007063</td>\n",
       "      <td id=\"T_2706a_row9_col7\" class=\"data row9 col7\" >0.000482</td>\n",
       "      <td id=\"T_2706a_row9_col8\" class=\"data row9 col8\" >-0.020627</td>\n",
       "      <td id=\"T_2706a_row9_col9\" class=\"data row9 col9\" >1.000000</td>\n",
       "      <td id=\"T_2706a_row9_col10\" class=\"data row9 col10\" >0.039470</td>\n",
       "    </tr>\n",
       "    <tr>\n",
       "      <th id=\"T_2706a_level0_row10\" class=\"row_heading level0 row10\" >Listening_Time_minutes</th>\n",
       "      <td id=\"T_2706a_row10_col0\" class=\"data row10 col0\" >0.004346</td>\n",
       "      <td id=\"T_2706a_row10_col1\" class=\"data row10 col1\" >0.004940</td>\n",
       "      <td id=\"T_2706a_row10_col2\" class=\"data row10 col2\" >0.004030</td>\n",
       "      <td id=\"T_2706a_row10_col3\" class=\"data row10 col3\" >0.013225</td>\n",
       "      <td id=\"T_2706a_row10_col4\" class=\"data row10 col4\" >-0.017321</td>\n",
       "      <td id=\"T_2706a_row10_col5\" class=\"data row10 col5\" >0.866402</td>\n",
       "      <td id=\"T_2706a_row10_col6\" class=\"data row10 col6\" >0.050854</td>\n",
       "      <td id=\"T_2706a_row10_col7\" class=\"data row10 col7\" >-0.014448</td>\n",
       "      <td id=\"T_2706a_row10_col8\" class=\"data row10 col8\" >-0.124201</td>\n",
       "      <td id=\"T_2706a_row10_col9\" class=\"data row10 col9\" >0.039470</td>\n",
       "      <td id=\"T_2706a_row10_col10\" class=\"data row10 col10\" >1.000000</td>\n",
       "    </tr>\n",
       "  </tbody>\n",
       "</table>\n"
      ],
      "text/plain": [
       "<pandas.io.formats.style.Styler at 0x7d4ee5e8c690>"
      ]
     },
     "execution_count": 15,
     "metadata": {},
     "output_type": "execute_result"
    }
   ],
   "source": [
    "df_listening.corr().style.background_gradient(cmap='Greens')"
   ]
  },
  {
   "cell_type": "markdown",
   "id": "29524d28",
   "metadata": {
    "papermill": {
     "duration": 0.010786,
     "end_time": "2025-04-30T22:49:25.129168",
     "exception": false,
     "start_time": "2025-04-30T22:49:25.118382",
     "status": "completed"
    },
    "tags": []
   },
   "source": [
    "## Scaling"
   ]
  },
  {
   "cell_type": "code",
   "execution_count": 16,
   "id": "ae8579ca",
   "metadata": {
    "execution": {
     "iopub.execute_input": "2025-04-30T22:49:25.152910Z",
     "iopub.status.busy": "2025-04-30T22:49:25.152073Z",
     "iopub.status.idle": "2025-04-30T22:49:25.179980Z",
     "shell.execute_reply": "2025-04-30T22:49:25.179018Z"
    },
    "papermill": {
     "duration": 0.04155,
     "end_time": "2025-04-30T22:49:25.181686",
     "exception": false,
     "start_time": "2025-04-30T22:49:25.140136",
     "status": "completed"
    },
    "tags": []
   },
   "outputs": [],
   "source": [
    "# We separate the target variable from the features and data to scale\n",
    "\n",
    "x_listening = df_listening.drop(columns=\"Listening_Time_minutes\")\n",
    "y_listening = df_listening[\"Listening_Time_minutes\"]"
   ]
  },
  {
   "cell_type": "code",
   "execution_count": 17,
   "id": "1c74dad5",
   "metadata": {
    "execution": {
     "iopub.execute_input": "2025-04-30T22:49:25.205823Z",
     "iopub.status.busy": "2025-04-30T22:49:25.205185Z",
     "iopub.status.idle": "2025-04-30T22:49:25.363819Z",
     "shell.execute_reply": "2025-04-30T22:49:25.362933Z"
    },
    "papermill": {
     "duration": 0.172359,
     "end_time": "2025-04-30T22:49:25.365394",
     "exception": false,
     "start_time": "2025-04-30T22:49:25.193035",
     "status": "completed"
    },
    "tags": []
   },
   "outputs": [],
   "source": [
    "# Numerical variables to scale\n",
    "\n",
    "df_numeric = x_listening[[\n",
    "    \"Episode_Length_minutes\",\n",
    "    \"Host_Popularity_percentage\",\n",
    "    \"Guest_Popularity_percentage\"\n",
    "]]\n",
    "\n",
    "scaler = StandardScaler().set_output(transform=\"pandas\")\n",
    "scale_num = scaler.fit_transform(df_numeric)\n",
    "\n",
    "# We create a df with the remaining variables\n",
    "\n",
    "df_rest = x_listening.drop(\n",
    "    columns=[\"Episode_Length_minutes\",\n",
    "             \"Host_Popularity_percentage\",\n",
    "             \"Guest_Popularity_percentage\"]\n",
    ")\n",
    "\n",
    "# We concatenate the dataframes\n",
    "\n",
    "x_end = pd.concat([df_rest, scale_num], axis=1)"
   ]
  },
  {
   "cell_type": "code",
   "execution_count": 18,
   "id": "8eaa0f19",
   "metadata": {
    "execution": {
     "iopub.execute_input": "2025-04-30T22:49:25.389073Z",
     "iopub.status.busy": "2025-04-30T22:49:25.388765Z",
     "iopub.status.idle": "2025-04-30T22:49:25.833668Z",
     "shell.execute_reply": "2025-04-30T22:49:25.832783Z"
    },
    "papermill": {
     "duration": 0.458361,
     "end_time": "2025-04-30T22:49:25.835062",
     "exception": false,
     "start_time": "2025-04-30T22:49:25.376701",
     "status": "completed"
    },
    "tags": []
   },
   "outputs": [
    {
     "data": {
      "text/html": [
       "<div>\n",
       "<style scoped>\n",
       "    .dataframe tbody tr th:only-of-type {\n",
       "        vertical-align: middle;\n",
       "    }\n",
       "\n",
       "    .dataframe tbody tr th {\n",
       "        vertical-align: top;\n",
       "    }\n",
       "\n",
       "    .dataframe thead th {\n",
       "        text-align: right;\n",
       "    }\n",
       "</style>\n",
       "<table border=\"1\" class=\"dataframe\">\n",
       "  <thead>\n",
       "    <tr style=\"text-align: right;\">\n",
       "      <th></th>\n",
       "      <th>count</th>\n",
       "      <th>mean</th>\n",
       "      <th>std</th>\n",
       "      <th>min</th>\n",
       "      <th>25%</th>\n",
       "      <th>50%</th>\n",
       "      <th>75%</th>\n",
       "      <th>max</th>\n",
       "    </tr>\n",
       "  </thead>\n",
       "  <tbody>\n",
       "    <tr>\n",
       "      <th>Podcast_Name</th>\n",
       "      <td>750000.0</td>\n",
       "      <td>2.351573e+01</td>\n",
       "      <td>14.137577</td>\n",
       "      <td>0.000000</td>\n",
       "      <td>11.000000</td>\n",
       "      <td>23.000000</td>\n",
       "      <td>37.000000</td>\n",
       "      <td>47.000000</td>\n",
       "    </tr>\n",
       "    <tr>\n",
       "      <th>Genre</th>\n",
       "      <td>750000.0</td>\n",
       "      <td>4.648788e+00</td>\n",
       "      <td>2.963073</td>\n",
       "      <td>0.000000</td>\n",
       "      <td>2.000000</td>\n",
       "      <td>5.000000</td>\n",
       "      <td>7.000000</td>\n",
       "      <td>9.000000</td>\n",
       "    </tr>\n",
       "    <tr>\n",
       "      <th>Publication_Day</th>\n",
       "      <td>750000.0</td>\n",
       "      <td>2.962776e+00</td>\n",
       "      <td>1.997399</td>\n",
       "      <td>0.000000</td>\n",
       "      <td>1.000000</td>\n",
       "      <td>3.000000</td>\n",
       "      <td>5.000000</td>\n",
       "      <td>6.000000</td>\n",
       "    </tr>\n",
       "    <tr>\n",
       "      <th>Publication_Time</th>\n",
       "      <td>750000.0</td>\n",
       "      <td>1.522868e+00</td>\n",
       "      <td>1.119361</td>\n",
       "      <td>0.000000</td>\n",
       "      <td>1.000000</td>\n",
       "      <td>1.000000</td>\n",
       "      <td>3.000000</td>\n",
       "      <td>3.000000</td>\n",
       "    </tr>\n",
       "    <tr>\n",
       "      <th>Episode_Title</th>\n",
       "      <td>750000.0</td>\n",
       "      <td>5.144581e+01</td>\n",
       "      <td>28.085623</td>\n",
       "      <td>1.000000</td>\n",
       "      <td>28.000000</td>\n",
       "      <td>52.000000</td>\n",
       "      <td>75.000000</td>\n",
       "      <td>100.000000</td>\n",
       "    </tr>\n",
       "    <tr>\n",
       "      <th>Number_of_Ads</th>\n",
       "      <td>750000.0</td>\n",
       "      <td>1.347873e+00</td>\n",
       "      <td>1.110966</td>\n",
       "      <td>0.000000</td>\n",
       "      <td>0.000000</td>\n",
       "      <td>1.000000</td>\n",
       "      <td>2.000000</td>\n",
       "      <td>3.000000</td>\n",
       "    </tr>\n",
       "    <tr>\n",
       "      <th>Episode_Sentiment</th>\n",
       "      <td>750000.0</td>\n",
       "      <td>9.979693e-01</td>\n",
       "      <td>0.815440</td>\n",
       "      <td>0.000000</td>\n",
       "      <td>0.000000</td>\n",
       "      <td>1.000000</td>\n",
       "      <td>2.000000</td>\n",
       "      <td>2.000000</td>\n",
       "    </tr>\n",
       "    <tr>\n",
       "      <th>Episode_Length_minutes</th>\n",
       "      <td>750000.0</td>\n",
       "      <td>5.373598e-17</td>\n",
       "      <td>1.000001</td>\n",
       "      <td>-2.078161</td>\n",
       "      <td>-0.806751</td>\n",
       "      <td>-0.019135</td>\n",
       "      <td>0.834599</td>\n",
       "      <td>1.822184</td>\n",
       "    </tr>\n",
       "    <tr>\n",
       "      <th>Host_Popularity_percentage</th>\n",
       "      <td>750000.0</td>\n",
       "      <td>-2.175208e-16</td>\n",
       "      <td>1.000001</td>\n",
       "      <td>-2.560290</td>\n",
       "      <td>-0.894076</td>\n",
       "      <td>0.008330</td>\n",
       "      <td>0.860018</td>\n",
       "      <td>1.754991</td>\n",
       "    </tr>\n",
       "    <tr>\n",
       "      <th>Guest_Popularity_percentage</th>\n",
       "      <td>750000.0</td>\n",
       "      <td>1.577594e-16</td>\n",
       "      <td>1.000001</td>\n",
       "      <td>-2.055025</td>\n",
       "      <td>-0.702267</td>\n",
       "      <td>0.048308</td>\n",
       "      <td>0.726449</td>\n",
       "      <td>1.860338</td>\n",
       "    </tr>\n",
       "  </tbody>\n",
       "</table>\n",
       "</div>"
      ],
      "text/plain": [
       "                                count          mean        std       min  \\\n",
       "Podcast_Name                 750000.0  2.351573e+01  14.137577  0.000000   \n",
       "Genre                        750000.0  4.648788e+00   2.963073  0.000000   \n",
       "Publication_Day              750000.0  2.962776e+00   1.997399  0.000000   \n",
       "Publication_Time             750000.0  1.522868e+00   1.119361  0.000000   \n",
       "Episode_Title                750000.0  5.144581e+01  28.085623  1.000000   \n",
       "Number_of_Ads                750000.0  1.347873e+00   1.110966  0.000000   \n",
       "Episode_Sentiment            750000.0  9.979693e-01   0.815440  0.000000   \n",
       "Episode_Length_minutes       750000.0  5.373598e-17   1.000001 -2.078161   \n",
       "Host_Popularity_percentage   750000.0 -2.175208e-16   1.000001 -2.560290   \n",
       "Guest_Popularity_percentage  750000.0  1.577594e-16   1.000001 -2.055025   \n",
       "\n",
       "                                   25%        50%        75%         max  \n",
       "Podcast_Name                 11.000000  23.000000  37.000000   47.000000  \n",
       "Genre                         2.000000   5.000000   7.000000    9.000000  \n",
       "Publication_Day               1.000000   3.000000   5.000000    6.000000  \n",
       "Publication_Time              1.000000   1.000000   3.000000    3.000000  \n",
       "Episode_Title                28.000000  52.000000  75.000000  100.000000  \n",
       "Number_of_Ads                 0.000000   1.000000   2.000000    3.000000  \n",
       "Episode_Sentiment             0.000000   1.000000   2.000000    2.000000  \n",
       "Episode_Length_minutes       -0.806751  -0.019135   0.834599    1.822184  \n",
       "Host_Popularity_percentage   -0.894076   0.008330   0.860018    1.754991  \n",
       "Guest_Popularity_percentage  -0.702267   0.048308   0.726449    1.860338  "
      ]
     },
     "execution_count": 18,
     "metadata": {},
     "output_type": "execute_result"
    }
   ],
   "source": [
    "x_end.describe().T"
   ]
  },
  {
   "cell_type": "markdown",
   "id": "0782f573",
   "metadata": {
    "papermill": {
     "duration": 0.010939,
     "end_time": "2025-04-30T22:49:25.857225",
     "exception": false,
     "start_time": "2025-04-30T22:49:25.846286",
     "status": "completed"
    },
    "tags": []
   },
   "source": [
    "## Feature Selection"
   ]
  },
  {
   "cell_type": "code",
   "execution_count": 19,
   "id": "5303096d",
   "metadata": {
    "execution": {
     "iopub.execute_input": "2025-04-30T22:49:25.880642Z",
     "iopub.status.busy": "2025-04-30T22:49:25.880312Z",
     "iopub.status.idle": "2025-04-30T22:49:25.885822Z",
     "shell.execute_reply": "2025-04-30T22:49:25.885102Z"
    },
    "papermill": {
     "duration": 0.019039,
     "end_time": "2025-04-30T22:49:25.887374",
     "exception": false,
     "start_time": "2025-04-30T22:49:25.868335",
     "status": "completed"
    },
    "tags": []
   },
   "outputs": [
    {
     "data": {
      "text/plain": [
       "'\\nmi_scores = mutual_info_regression(x_end, y_listening)\\nmi_scores = pd.Series(mi_scores, name=\"MI Scores\", index=x_end.columns)\\nmi_scores = mi_scores.sort_values(ascending=False)\\nmi_scores\\n'"
      ]
     },
     "execution_count": 19,
     "metadata": {},
     "output_type": "execute_result"
    }
   ],
   "source": [
    "'''\n",
    "mi_scores = mutual_info_regression(x_end, y_listening)\n",
    "mi_scores = pd.Series(mi_scores, name=\"MI Scores\", index=x_end.columns)\n",
    "mi_scores = mi_scores.sort_values(ascending=False)\n",
    "mi_scores\n",
    "'''"
   ]
  },
  {
   "cell_type": "code",
   "execution_count": 20,
   "id": "eca8bca2",
   "metadata": {
    "execution": {
     "iopub.execute_input": "2025-04-30T22:49:25.911645Z",
     "iopub.status.busy": "2025-04-30T22:49:25.911279Z",
     "iopub.status.idle": "2025-04-30T22:49:25.915618Z",
     "shell.execute_reply": "2025-04-30T22:49:25.914647Z"
    },
    "papermill": {
     "duration": 0.017932,
     "end_time": "2025-04-30T22:49:25.917074",
     "exception": false,
     "start_time": "2025-04-30T22:49:25.899142",
     "status": "completed"
    },
    "tags": []
   },
   "outputs": [],
   "source": [
    "# We make a selection of variables\n",
    "\n",
    "#x_end = x_end.drop(columns=[\"Podcast_Name\", \"Episode_Title\"])"
   ]
  },
  {
   "cell_type": "code",
   "execution_count": 21,
   "id": "86beaf16",
   "metadata": {
    "execution": {
     "iopub.execute_input": "2025-04-30T22:49:25.941658Z",
     "iopub.status.busy": "2025-04-30T22:49:25.940873Z",
     "iopub.status.idle": "2025-04-30T22:49:25.977712Z",
     "shell.execute_reply": "2025-04-30T22:49:25.976435Z"
    },
    "papermill": {
     "duration": 0.050386,
     "end_time": "2025-04-30T22:49:25.979320",
     "exception": false,
     "start_time": "2025-04-30T22:49:25.928934",
     "status": "completed"
    },
    "tags": []
   },
   "outputs": [
    {
     "name": "stdout",
     "output_type": "stream",
     "text": [
      "<class 'pandas.core.frame.DataFrame'>\n",
      "Index: 750000 entries, 0 to 749999\n",
      "Data columns (total 10 columns):\n",
      " #   Column                       Non-Null Count   Dtype  \n",
      "---  ------                       --------------   -----  \n",
      " 0   Podcast_Name                 750000 non-null  float64\n",
      " 1   Genre                        750000 non-null  float64\n",
      " 2   Publication_Day              750000 non-null  float64\n",
      " 3   Publication_Time             750000 non-null  float64\n",
      " 4   Episode_Title                750000 non-null  float64\n",
      " 5   Number_of_Ads                750000 non-null  float64\n",
      " 6   Episode_Sentiment            750000 non-null  float64\n",
      " 7   Episode_Length_minutes       750000 non-null  float64\n",
      " 8   Host_Popularity_percentage   750000 non-null  float64\n",
      " 9   Guest_Popularity_percentage  750000 non-null  float64\n",
      "dtypes: float64(10)\n",
      "memory usage: 62.9 MB\n"
     ]
    }
   ],
   "source": [
    "x_end.info()"
   ]
  },
  {
   "cell_type": "markdown",
   "id": "ba3e4619",
   "metadata": {
    "papermill": {
     "duration": 0.011186,
     "end_time": "2025-04-30T22:49:26.002331",
     "exception": false,
     "start_time": "2025-04-30T22:49:25.991145",
     "status": "completed"
    },
    "tags": []
   },
   "source": [
    "# Model Selection"
   ]
  },
  {
   "cell_type": "code",
   "execution_count": 22,
   "id": "c31c9c66",
   "metadata": {
    "execution": {
     "iopub.execute_input": "2025-04-30T22:49:26.026528Z",
     "iopub.status.busy": "2025-04-30T22:49:26.026229Z",
     "iopub.status.idle": "2025-04-30T22:49:26.164488Z",
     "shell.execute_reply": "2025-04-30T22:49:26.163656Z"
    },
    "papermill": {
     "duration": 0.152319,
     "end_time": "2025-04-30T22:49:26.166199",
     "exception": false,
     "start_time": "2025-04-30T22:49:26.013880",
     "status": "completed"
    },
    "tags": []
   },
   "outputs": [],
   "source": [
    "# We separate the data into training and validation sets\n",
    "\n",
    "x_train, x_val, y_train, y_val = (\n",
    "    train_test_split(\n",
    "        x_end, y_listening, test_size=0.2, random_state=42\n",
    "    )\n",
    ")"
   ]
  },
  {
   "cell_type": "code",
   "execution_count": 23,
   "id": "7e1e82a3",
   "metadata": {
    "execution": {
     "iopub.execute_input": "2025-04-30T22:49:26.190727Z",
     "iopub.status.busy": "2025-04-30T22:49:26.190353Z",
     "iopub.status.idle": "2025-04-30T22:49:26.194806Z",
     "shell.execute_reply": "2025-04-30T22:49:26.193847Z"
    },
    "papermill": {
     "duration": 0.018366,
     "end_time": "2025-04-30T22:49:26.196279",
     "exception": false,
     "start_time": "2025-04-30T22:49:26.177913",
     "status": "completed"
    },
    "tags": []
   },
   "outputs": [],
   "source": [
    "# Create the KFold object\n",
    "\n",
    "kfold = KFold(n_splits=10, shuffle=True, random_state=42)"
   ]
  },
  {
   "cell_type": "markdown",
   "id": "f265dcc0",
   "metadata": {
    "papermill": {
     "duration": 0.01129,
     "end_time": "2025-04-30T22:49:26.219047",
     "exception": false,
     "start_time": "2025-04-30T22:49:26.207757",
     "status": "completed"
    },
    "tags": []
   },
   "source": [
    "## XGBRegressor"
   ]
  },
  {
   "cell_type": "code",
   "execution_count": 24,
   "id": "24dd625a",
   "metadata": {
    "execution": {
     "iopub.execute_input": "2025-04-30T22:49:26.242682Z",
     "iopub.status.busy": "2025-04-30T22:49:26.242292Z",
     "iopub.status.idle": "2025-04-30T22:49:26.246495Z",
     "shell.execute_reply": "2025-04-30T22:49:26.245647Z"
    },
    "papermill": {
     "duration": 0.018021,
     "end_time": "2025-04-30T22:49:26.248202",
     "exception": false,
     "start_time": "2025-04-30T22:49:26.230181",
     "status": "completed"
    },
    "tags": []
   },
   "outputs": [],
   "source": [
    "# We create the model instance\n",
    "\n",
    "xgbr = XGBRegressor()\n",
    "\n",
    "# Train the model with the data\n",
    "\n",
    "#xgbr.fit(x_train, y_train)"
   ]
  },
  {
   "cell_type": "code",
   "execution_count": 25,
   "id": "ab0f3a6e",
   "metadata": {
    "execution": {
     "iopub.execute_input": "2025-04-30T22:49:26.272919Z",
     "iopub.status.busy": "2025-04-30T22:49:26.272068Z",
     "iopub.status.idle": "2025-04-30T22:49:26.278727Z",
     "shell.execute_reply": "2025-04-30T22:49:26.277832Z"
    },
    "papermill": {
     "duration": 0.020548,
     "end_time": "2025-04-30T22:49:26.280248",
     "exception": false,
     "start_time": "2025-04-30T22:49:26.259700",
     "status": "completed"
    },
    "tags": []
   },
   "outputs": [
    {
     "data": {
      "text/plain": [
       "{'objective': 'reg:squarederror',\n",
       " 'base_score': None,\n",
       " 'booster': None,\n",
       " 'callbacks': None,\n",
       " 'colsample_bylevel': None,\n",
       " 'colsample_bynode': None,\n",
       " 'colsample_bytree': None,\n",
       " 'device': None,\n",
       " 'early_stopping_rounds': None,\n",
       " 'enable_categorical': False,\n",
       " 'eval_metric': None,\n",
       " 'feature_types': None,\n",
       " 'gamma': None,\n",
       " 'grow_policy': None,\n",
       " 'importance_type': None,\n",
       " 'interaction_constraints': None,\n",
       " 'learning_rate': None,\n",
       " 'max_bin': None,\n",
       " 'max_cat_threshold': None,\n",
       " 'max_cat_to_onehot': None,\n",
       " 'max_delta_step': None,\n",
       " 'max_depth': None,\n",
       " 'max_leaves': None,\n",
       " 'min_child_weight': None,\n",
       " 'missing': nan,\n",
       " 'monotone_constraints': None,\n",
       " 'multi_strategy': None,\n",
       " 'n_estimators': None,\n",
       " 'n_jobs': None,\n",
       " 'num_parallel_tree': None,\n",
       " 'random_state': None,\n",
       " 'reg_alpha': None,\n",
       " 'reg_lambda': None,\n",
       " 'sampling_method': None,\n",
       " 'scale_pos_weight': None,\n",
       " 'subsample': None,\n",
       " 'tree_method': None,\n",
       " 'validate_parameters': None,\n",
       " 'verbosity': None}"
      ]
     },
     "execution_count": 25,
     "metadata": {},
     "output_type": "execute_result"
    }
   ],
   "source": [
    "xgbr.get_params()"
   ]
  },
  {
   "cell_type": "code",
   "execution_count": 26,
   "id": "b25dc679",
   "metadata": {
    "execution": {
     "iopub.execute_input": "2025-04-30T22:49:26.305165Z",
     "iopub.status.busy": "2025-04-30T22:49:26.304444Z",
     "iopub.status.idle": "2025-04-30T22:49:26.309929Z",
     "shell.execute_reply": "2025-04-30T22:49:26.309157Z"
    },
    "papermill": {
     "duration": 0.019268,
     "end_time": "2025-04-30T22:49:26.311145",
     "exception": false,
     "start_time": "2025-04-30T22:49:26.291877",
     "status": "completed"
    },
    "tags": []
   },
   "outputs": [
    {
     "data": {
      "text/plain": [
       "'\\n# We establish the parameters to test\\n\\nxgbr_param_grid = {\\n    \"gamma\" : [0.1, 0.5, 0.8, 0, 1],\\n    \"max_depth\" : [3, 4, 5, 6, 7],\\n    \"learning_rate\" : [0.2, 0.1, 0.01, 0.001],\\n    \"subsample\" : [0.5, 0.6, 0.7, 0.8, 0.9, 1],\\n    \"n_estimators\" : [50, 100, 150, 200]\\n}\\n\\nxgbr_grid = RandomizedSearchCV(\\n    xgbr,\\n    xgbr_param_grid,\\n    cv=kfold,\\n    scoring=\"neg_root_mean_squared_error\",\\n    return_train_score=True\\n)\\n\\nxgbr_search = xgbr_grid.fit(x_train, y_train)\\n\\nprint(\\n    f\\'Parameters: {xgbr_search.best_params_}\\nScore: {xgbr_search.best_score_}\\'\\n)\\n'"
      ]
     },
     "execution_count": 26,
     "metadata": {},
     "output_type": "execute_result"
    }
   ],
   "source": [
    "'''\n",
    "# We establish the parameters to test\n",
    "\n",
    "xgbr_param_grid = {\n",
    "    \"gamma\" : [0.1, 0.5, 0.8, 0, 1],\n",
    "    \"max_depth\" : [3, 4, 5, 6, 7],\n",
    "    \"learning_rate\" : [0.2, 0.1, 0.01, 0.001],\n",
    "    \"subsample\" : [0.5, 0.6, 0.7, 0.8, 0.9, 1],\n",
    "    \"n_estimators\" : [50, 100, 150, 200]\n",
    "}\n",
    "\n",
    "xgbr_grid = RandomizedSearchCV(\n",
    "    xgbr,\n",
    "    xgbr_param_grid,\n",
    "    cv=kfold,\n",
    "    scoring=\"neg_root_mean_squared_error\",\n",
    "    return_train_score=True\n",
    ")\n",
    "\n",
    "xgbr_search = xgbr_grid.fit(x_train, y_train)\n",
    "\n",
    "print(\n",
    "    f'Parameters: {xgbr_search.best_params_}\\nScore: {xgbr_search.best_score_}'\n",
    ")\n",
    "'''"
   ]
  },
  {
   "cell_type": "code",
   "execution_count": 27,
   "id": "66a528f4",
   "metadata": {
    "execution": {
     "iopub.execute_input": "2025-04-30T22:49:26.336071Z",
     "iopub.status.busy": "2025-04-30T22:49:26.335328Z",
     "iopub.status.idle": "2025-04-30T22:49:26.339034Z",
     "shell.execute_reply": "2025-04-30T22:49:26.338259Z"
    },
    "papermill": {
     "duration": 0.017373,
     "end_time": "2025-04-30T22:49:26.340336",
     "exception": false,
     "start_time": "2025-04-30T22:49:26.322963",
     "status": "completed"
    },
    "tags": []
   },
   "outputs": [],
   "source": [
    "# We evaluate the performance after an initial optimization\n",
    "\n",
    "#y_pred_xgbr = xgbr_search.best_estimator_.predict(x_val)\n",
    "\n",
    "#r2_xgbr = r2_score(y_val, y_pred_xgbr)\n",
    "\n",
    "#rmse_xgbr = np.sqrt(mean_squared_error(y_val, y_pred_xgbr))\n",
    "\n",
    "#print(f\"XGBRegressor optimization\\n\\nR-squared score: {r2_xgbr}\\nRMSE: {rmse_xgbr}\")"
   ]
  },
  {
   "cell_type": "markdown",
   "id": "541e5572",
   "metadata": {
    "papermill": {
     "duration": 0.011567,
     "end_time": "2025-04-30T22:49:26.363664",
     "exception": false,
     "start_time": "2025-04-30T22:49:26.352097",
     "status": "completed"
    },
    "tags": []
   },
   "source": [
    "- With data dropped in variable management\n",
    "\n",
    "      RandomizedSearchCV:\n",
    "\n",
    "      Parameters: {'subsample':0.9, 'n_estimators':150, 'max_depth':6, 'learning_rate':0.2, 'gamma':0.1}\n",
    "\n",
    "      Score: -10.385593205700733\n",
    "\n",
    "      R-squared score: 0.8548779072393202\n",
    "\n",
    "      RMSE: 10.359859724404574"
   ]
  },
  {
   "cell_type": "code",
   "execution_count": 28,
   "id": "52e73259",
   "metadata": {
    "execution": {
     "iopub.execute_input": "2025-04-30T22:49:26.388211Z",
     "iopub.status.busy": "2025-04-30T22:49:26.387917Z",
     "iopub.status.idle": "2025-04-30T22:49:26.393379Z",
     "shell.execute_reply": "2025-04-30T22:49:26.392618Z"
    },
    "papermill": {
     "duration": 0.019637,
     "end_time": "2025-04-30T22:49:26.394937",
     "exception": false,
     "start_time": "2025-04-30T22:49:26.375300",
     "status": "completed"
    },
    "tags": []
   },
   "outputs": [
    {
     "data": {
      "text/plain": [
       "'\\n# XGBR different approaches\\n\\n#xgbr_final = xgbr_search.best_estimator_\\nxgbr_final = XGBRegressor(\\n    subsample = 0.9, n_estimators = 150, max_depth = 6, learning_rate = 0.2, gamma = 0.1\\n)\\nxgbr_final.fit(x_train, y_train)\\n'"
      ]
     },
     "execution_count": 28,
     "metadata": {},
     "output_type": "execute_result"
    }
   ],
   "source": [
    "'''\n",
    "# XGBR different approaches\n",
    "\n",
    "#xgbr_final = xgbr_search.best_estimator_\n",
    "xgbr_final = XGBRegressor(\n",
    "    subsample = 0.9, n_estimators = 150, max_depth = 6, learning_rate = 0.2, gamma = 0.1\n",
    ")\n",
    "xgbr_final.fit(x_train, y_train)\n",
    "'''"
   ]
  },
  {
   "cell_type": "markdown",
   "id": "53499b09",
   "metadata": {
    "papermill": {
     "duration": 0.012023,
     "end_time": "2025-04-30T22:49:26.419107",
     "exception": false,
     "start_time": "2025-04-30T22:49:26.407084",
     "status": "completed"
    },
    "tags": []
   },
   "source": [
    "## BaggingRegressor"
   ]
  },
  {
   "cell_type": "code",
   "execution_count": 29,
   "id": "cdd13524",
   "metadata": {
    "execution": {
     "iopub.execute_input": "2025-04-30T22:49:26.443982Z",
     "iopub.status.busy": "2025-04-30T22:49:26.443665Z",
     "iopub.status.idle": "2025-04-30T22:49:26.447713Z",
     "shell.execute_reply": "2025-04-30T22:49:26.446866Z"
    },
    "papermill": {
     "duration": 0.018188,
     "end_time": "2025-04-30T22:49:26.449036",
     "exception": false,
     "start_time": "2025-04-30T22:49:26.430848",
     "status": "completed"
    },
    "tags": []
   },
   "outputs": [],
   "source": [
    "# We create the model instance\n",
    "\n",
    "bagr = BaggingRegressor()\n",
    "\n",
    "# Train the model with the data\n",
    "\n",
    "#bagr.fit(x_train, y_train)"
   ]
  },
  {
   "cell_type": "code",
   "execution_count": 30,
   "id": "dcf06fef",
   "metadata": {
    "execution": {
     "iopub.execute_input": "2025-04-30T22:49:26.473878Z",
     "iopub.status.busy": "2025-04-30T22:49:26.473458Z",
     "iopub.status.idle": "2025-04-30T22:49:26.479147Z",
     "shell.execute_reply": "2025-04-30T22:49:26.478227Z"
    },
    "papermill": {
     "duration": 0.019956,
     "end_time": "2025-04-30T22:49:26.480783",
     "exception": false,
     "start_time": "2025-04-30T22:49:26.460827",
     "status": "completed"
    },
    "tags": []
   },
   "outputs": [
    {
     "data": {
      "text/plain": [
       "'\\ny_pred_bagr = bagr.predict(x_val)\\n\\nr2_bagr = r2_score(y_val, y_pred_bagr)\\n\\nrmse_bagr = np.sqrt(mean_squared_error(y_val, y_pred_bagr))\\n\\nprint(f\"BaggingRegressor\\n\\nR-squared score: {r2_bagr}\\nRMSE: {rmse_bagr}\")\\n'"
      ]
     },
     "execution_count": 30,
     "metadata": {},
     "output_type": "execute_result"
    }
   ],
   "source": [
    "'''\n",
    "y_pred_bagr = bagr.predict(x_val)\n",
    "\n",
    "r2_bagr = r2_score(y_val, y_pred_bagr)\n",
    "\n",
    "rmse_bagr = np.sqrt(mean_squared_error(y_val, y_pred_bagr))\n",
    "\n",
    "print(f\"BaggingRegressor\\n\\nR-squared score: {r2_bagr}\\nRMSE: {rmse_bagr}\")\n",
    "'''"
   ]
  },
  {
   "cell_type": "markdown",
   "id": "cc67587d",
   "metadata": {
    "papermill": {
     "duration": 0.011578,
     "end_time": "2025-04-30T22:49:26.504202",
     "exception": false,
     "start_time": "2025-04-30T22:49:26.492624",
     "status": "completed"
    },
    "tags": []
   },
   "source": [
    "BaggingRegressor (Default)\n",
    "\n",
    "R-squared score: 0.7586370826352582\n",
    "\n",
    "RMSE: 13.326718743148652"
   ]
  },
  {
   "cell_type": "code",
   "execution_count": 31,
   "id": "9e7f6605",
   "metadata": {
    "execution": {
     "iopub.execute_input": "2025-04-30T22:49:26.530117Z",
     "iopub.status.busy": "2025-04-30T22:49:26.529474Z",
     "iopub.status.idle": "2025-04-30T22:49:26.535312Z",
     "shell.execute_reply": "2025-04-30T22:49:26.534418Z"
    },
    "papermill": {
     "duration": 0.021033,
     "end_time": "2025-04-30T22:49:26.536817",
     "exception": false,
     "start_time": "2025-04-30T22:49:26.515784",
     "status": "completed"
    },
    "tags": []
   },
   "outputs": [
    {
     "data": {
      "text/plain": [
       "{'base_estimator': 'deprecated',\n",
       " 'bootstrap': True,\n",
       " 'bootstrap_features': False,\n",
       " 'estimator': None,\n",
       " 'max_features': 1.0,\n",
       " 'max_samples': 1.0,\n",
       " 'n_estimators': 10,\n",
       " 'n_jobs': None,\n",
       " 'oob_score': False,\n",
       " 'random_state': None,\n",
       " 'verbose': 0,\n",
       " 'warm_start': False}"
      ]
     },
     "execution_count": 31,
     "metadata": {},
     "output_type": "execute_result"
    }
   ],
   "source": [
    "bagr.get_params()"
   ]
  },
  {
   "cell_type": "code",
   "execution_count": 32,
   "id": "1bd08bdd",
   "metadata": {
    "execution": {
     "iopub.execute_input": "2025-04-30T22:49:26.562952Z",
     "iopub.status.busy": "2025-04-30T22:49:26.562173Z",
     "iopub.status.idle": "2025-04-30T22:49:26.567748Z",
     "shell.execute_reply": "2025-04-30T22:49:26.566888Z"
    },
    "papermill": {
     "duration": 0.019562,
     "end_time": "2025-04-30T22:49:26.569090",
     "exception": false,
     "start_time": "2025-04-30T22:49:26.549528",
     "status": "completed"
    },
    "tags": []
   },
   "outputs": [
    {
     "data": {
      "text/plain": [
       "'\\n# We establish the parameters to test\\n\\nbagr_param_grid = {\\n    \"estimator\" : [None, xgbr, xgbr_final],\\n    \"max_features\" : [0.2, 0.5, 1.0],\\n    \"max_samples\" : [0.2, 0.5, 1.0],\\n    \"n_estimators\" : [10, 20, 30]\\n}\\n\\nbagr_grid = RandomizedSearchCV(\\n    bagr,\\n    bagr_param_grid,\\n    cv=kfold,\\n    scoring=\"neg_root_mean_squared_error\",\\n    return_train_score=True\\n)\\n\\nbagr_search = bagr_grid.fit(x_train, y_train)\\n\\nprint(\\n    f\\'Parameters: {bagr_search.best_params_}\\nScore: {bagr_search.best_score_}\\'\\n)\\n'"
      ]
     },
     "execution_count": 32,
     "metadata": {},
     "output_type": "execute_result"
    }
   ],
   "source": [
    "'''\n",
    "# We establish the parameters to test\n",
    "\n",
    "bagr_param_grid = {\n",
    "    \"estimator\" : [None, xgbr, xgbr_final],\n",
    "    \"max_features\" : [0.2, 0.5, 1.0],\n",
    "    \"max_samples\" : [0.2, 0.5, 1.0],\n",
    "    \"n_estimators\" : [10, 20, 30]\n",
    "}\n",
    "\n",
    "bagr_grid = RandomizedSearchCV(\n",
    "    bagr,\n",
    "    bagr_param_grid,\n",
    "    cv=kfold,\n",
    "    scoring=\"neg_root_mean_squared_error\",\n",
    "    return_train_score=True\n",
    ")\n",
    "\n",
    "bagr_search = bagr_grid.fit(x_train, y_train)\n",
    "\n",
    "print(\n",
    "    f'Parameters: {bagr_search.best_params_}\\nScore: {bagr_search.best_score_}'\n",
    ")\n",
    "'''"
   ]
  },
  {
   "cell_type": "markdown",
   "id": "196525f8",
   "metadata": {
    "papermill": {
     "duration": 0.012291,
     "end_time": "2025-04-30T22:49:26.593531",
     "exception": false,
     "start_time": "2025-04-30T22:49:26.581240",
     "status": "completed"
    },
    "tags": []
   },
   "source": [
    "Parameters: {'n_estimators': 20, 'max_samples': 1.0, 'max_features': 1.0, 'estimator': XGBRegressor(base_score=None, booster=None, callbacks=None,\n",
    "             colsample_bylevel=None, colsample_bynode=None,\n",
    "             colsample_bytree=None, device=None, early_stopping_rounds=None,\n",
    "             enable_categorical=False, eval_metric=None, feature_types=None,\n",
    "             gamma=0.1, grow_policy=None, importance_type=None,\n",
    "             interaction_constraints=None, learning_rate=0.2, max_bin=None,\n",
    "             max_cat_threshold=None, max_cat_to_onehot=None,\n",
    "             max_delta_step=None, max_depth=6, max_leaves=None,\n",
    "             min_child_weight=None, missing=nan, monotone_constraints=None,\n",
    "             multi_strategy=None, n_estimators=150, n_jobs=None,\n",
    "             num_parallel_tree=None, random_state=None, ...)}\n",
    "             \n",
    "Score: -13.031101049045333"
   ]
  },
  {
   "cell_type": "code",
   "execution_count": 33,
   "id": "e735bf73",
   "metadata": {
    "execution": {
     "iopub.execute_input": "2025-04-30T22:49:26.619448Z",
     "iopub.status.busy": "2025-04-30T22:49:26.619107Z",
     "iopub.status.idle": "2025-04-30T22:49:26.624390Z",
     "shell.execute_reply": "2025-04-30T22:49:26.623688Z"
    },
    "papermill": {
     "duration": 0.019553,
     "end_time": "2025-04-30T22:49:26.625710",
     "exception": false,
     "start_time": "2025-04-30T22:49:26.606157",
     "status": "completed"
    },
    "tags": []
   },
   "outputs": [
    {
     "data": {
      "text/plain": [
       "'\\n# We evaluate the performance after an initial optimization\\n\\ny_pred_bagr = bagr_search.best_estimator_.predict(x_val)\\n\\nr2_bagr = r2_score(y_val, y_pred_bagr)\\n\\nrmse_bagr = np.sqrt(mean_squared_error(y_val, y_pred_bagr))\\n\\nprint(f\"BaggingRegressor optimization\\n\\nR-squared score: {r2_bagr}\\nRMSE: {rmse_bagr}\")\\n'"
      ]
     },
     "execution_count": 33,
     "metadata": {},
     "output_type": "execute_result"
    }
   ],
   "source": [
    "'''\n",
    "# We evaluate the performance after an initial optimization\n",
    "\n",
    "y_pred_bagr = bagr_search.best_estimator_.predict(x_val)\n",
    "\n",
    "r2_bagr = r2_score(y_val, y_pred_bagr)\n",
    "\n",
    "rmse_bagr = np.sqrt(mean_squared_error(y_val, y_pred_bagr))\n",
    "\n",
    "print(f\"BaggingRegressor optimization\\n\\nR-squared score: {r2_bagr}\\nRMSE: {rmse_bagr}\")\n",
    "'''"
   ]
  },
  {
   "cell_type": "markdown",
   "id": "5a9828e5",
   "metadata": {
    "papermill": {
     "duration": 0.011957,
     "end_time": "2025-04-30T22:49:26.650077",
     "exception": false,
     "start_time": "2025-04-30T22:49:26.638120",
     "status": "completed"
    },
    "tags": []
   },
   "source": [
    "BaggingRegressor optimization\n",
    "\n",
    "R-squared score: 0.7705749925584561\n",
    "\n",
    "RMSE: 12.992967020835195"
   ]
  },
  {
   "cell_type": "code",
   "execution_count": 34,
   "id": "a53e5b59",
   "metadata": {
    "execution": {
     "iopub.execute_input": "2025-04-30T22:49:26.675449Z",
     "iopub.status.busy": "2025-04-30T22:49:26.675144Z",
     "iopub.status.idle": "2025-04-30T22:49:26.679325Z",
     "shell.execute_reply": "2025-04-30T22:49:26.678412Z"
    },
    "papermill": {
     "duration": 0.019003,
     "end_time": "2025-04-30T22:49:26.681091",
     "exception": false,
     "start_time": "2025-04-30T22:49:26.662088",
     "status": "completed"
    },
    "tags": []
   },
   "outputs": [],
   "source": [
    "# BAGR different approaches\n",
    "\n",
    "#bagr_final = bagr_search.best_estimator_\n",
    "\n",
    "#bagr_final = BaggingRegressor(n_estimators=20, max_samples=1.0, max_features=1.0, estimator=xgbr_final)\n",
    "\n",
    "#bagr_final.fit(x_train, y_train)"
   ]
  },
  {
   "cell_type": "markdown",
   "id": "16ffa196",
   "metadata": {
    "papermill": {
     "duration": 0.011612,
     "end_time": "2025-04-30T22:49:26.705101",
     "exception": false,
     "start_time": "2025-04-30T22:49:26.693489",
     "status": "completed"
    },
    "tags": []
   },
   "source": [
    "## CatBoostRegressor"
   ]
  },
  {
   "cell_type": "code",
   "execution_count": 35,
   "id": "a3a178e6",
   "metadata": {
    "execution": {
     "iopub.execute_input": "2025-04-30T22:49:26.730929Z",
     "iopub.status.busy": "2025-04-30T22:49:26.729913Z",
     "iopub.status.idle": "2025-04-30T22:49:26.737533Z",
     "shell.execute_reply": "2025-04-30T22:49:26.736813Z"
    },
    "papermill": {
     "duration": 0.022004,
     "end_time": "2025-04-30T22:49:26.739014",
     "exception": false,
     "start_time": "2025-04-30T22:49:26.717010",
     "status": "completed"
    },
    "tags": []
   },
   "outputs": [],
   "source": [
    "# Initialize the CatBoostRegressor with RMSE as the loss function \n",
    "cbr = CatBoostRegressor(loss_function=\"RMSE\", silent=True) \n",
    "  \n",
    "# Fit the model\n",
    "#cbr.fit(x_train, y_train)"
   ]
  },
  {
   "cell_type": "code",
   "execution_count": 36,
   "id": "e52eaec0",
   "metadata": {
    "execution": {
     "iopub.execute_input": "2025-04-30T22:49:26.764678Z",
     "iopub.status.busy": "2025-04-30T22:49:26.764342Z",
     "iopub.status.idle": "2025-04-30T22:49:26.769856Z",
     "shell.execute_reply": "2025-04-30T22:49:26.769147Z"
    },
    "papermill": {
     "duration": 0.019904,
     "end_time": "2025-04-30T22:49:26.771136",
     "exception": false,
     "start_time": "2025-04-30T22:49:26.751232",
     "status": "completed"
    },
    "tags": []
   },
   "outputs": [
    {
     "data": {
      "text/plain": [
       "'\\ny_pred_cbr = cbr.predict(x_val)\\n\\nr2_cbr = r2_score(y_val, y_pred_cbr)\\n\\nrmse_cbr = np.sqrt(mean_squared_error(y_val, y_pred_cbr))\\n\\nprint(f\"CatBoostRegressor\\n\\nR-squared score: {r2_cbr}\\nRMSE: {rmse_cbr}\")\\n'"
      ]
     },
     "execution_count": 36,
     "metadata": {},
     "output_type": "execute_result"
    }
   ],
   "source": [
    "'''\n",
    "y_pred_cbr = cbr.predict(x_val)\n",
    "\n",
    "r2_cbr = r2_score(y_val, y_pred_cbr)\n",
    "\n",
    "rmse_cbr = np.sqrt(mean_squared_error(y_val, y_pred_cbr))\n",
    "\n",
    "print(f\"CatBoostRegressor\\n\\nR-squared score: {r2_cbr}\\nRMSE: {rmse_cbr}\")\n",
    "'''"
   ]
  },
  {
   "cell_type": "markdown",
   "id": "e48107bd",
   "metadata": {
    "papermill": {
     "duration": 0.011788,
     "end_time": "2025-04-30T22:49:26.794988",
     "exception": false,
     "start_time": "2025-04-30T22:49:26.783200",
     "status": "completed"
    },
    "tags": []
   },
   "source": [
    "CatBoostRegressor\n",
    "\n",
    "R-squared score: 0.7695329849820068\n",
    "\n",
    "RMSE: 13.022439466683332"
   ]
  },
  {
   "cell_type": "code",
   "execution_count": 37,
   "id": "74832d8f",
   "metadata": {
    "execution": {
     "iopub.execute_input": "2025-04-30T22:49:26.820129Z",
     "iopub.status.busy": "2025-04-30T22:49:26.819852Z",
     "iopub.status.idle": "2025-04-30T22:49:26.825569Z",
     "shell.execute_reply": "2025-04-30T22:49:26.824765Z"
    },
    "papermill": {
     "duration": 0.020051,
     "end_time": "2025-04-30T22:49:26.827068",
     "exception": false,
     "start_time": "2025-04-30T22:49:26.807017",
     "status": "completed"
    },
    "tags": []
   },
   "outputs": [
    {
     "data": {
      "text/plain": [
       "'\\n# We establish the parameters to test\\n\\ncbr_param_grid = {\\n    \"learning_rate\" : [0.001, 0.01, 0.004],\\n    \"max_depth\" : [3,4,5],\\n    \"l2_leaf_reg\" : [1.0, 5.0, 0.5],\\n    \"min_child_samples\" : [1,3,6]\\n}\\n\\ncbr_grid = RandomizedSearchCV(\\n    cbr,\\n    cbr_param_grid,\\n    cv=kfold,\\n    scoring=\"neg_root_mean_squared_error\",\\n    return_train_score=True\\n)\\n\\ncbr_search = cbr_grid.fit(x_train, y_train)\\n\\nprint(\\n    f\\'Parameters: {cbr_search.best_params_}\\nScore: {cbr_search.best_score_}\\'\\n)\\n'"
      ]
     },
     "execution_count": 37,
     "metadata": {},
     "output_type": "execute_result"
    }
   ],
   "source": [
    "'''\n",
    "# We establish the parameters to test\n",
    "\n",
    "cbr_param_grid = {\n",
    "    \"learning_rate\" : [0.001, 0.01, 0.004],\n",
    "    \"max_depth\" : [3,4,5],\n",
    "    \"l2_leaf_reg\" : [1.0, 5.0, 0.5],\n",
    "    \"min_child_samples\" : [1,3,6]\n",
    "}\n",
    "\n",
    "cbr_grid = RandomizedSearchCV(\n",
    "    cbr,\n",
    "    cbr_param_grid,\n",
    "    cv=kfold,\n",
    "    scoring=\"neg_root_mean_squared_error\",\n",
    "    return_train_score=True\n",
    ")\n",
    "\n",
    "cbr_search = cbr_grid.fit(x_train, y_train)\n",
    "\n",
    "print(\n",
    "    f'Parameters: {cbr_search.best_params_}\\nScore: {cbr_search.best_score_}'\n",
    ")\n",
    "'''"
   ]
  },
  {
   "cell_type": "markdown",
   "id": "3ef6e284",
   "metadata": {
    "papermill": {
     "duration": 0.012005,
     "end_time": "2025-04-30T22:49:26.851340",
     "exception": false,
     "start_time": "2025-04-30T22:49:26.839335",
     "status": "completed"
    },
    "tags": []
   },
   "source": [
    "CatBoostRegressor optimization\n",
    "\n",
    "Parameters: {'min_child_samples': 3, 'max_depth': 5, 'learning_rate': 0.01, 'l2_leaf_reg': 0.5}\n",
    "\n",
    "Score: -13.197115784814908"
   ]
  },
  {
   "cell_type": "code",
   "execution_count": 38,
   "id": "b0dda847",
   "metadata": {
    "execution": {
     "iopub.execute_input": "2025-04-30T22:49:26.877656Z",
     "iopub.status.busy": "2025-04-30T22:49:26.876958Z",
     "iopub.status.idle": "2025-04-30T22:49:26.883001Z",
     "shell.execute_reply": "2025-04-30T22:49:26.881928Z"
    },
    "papermill": {
     "duration": 0.020752,
     "end_time": "2025-04-30T22:49:26.884533",
     "exception": false,
     "start_time": "2025-04-30T22:49:26.863781",
     "status": "completed"
    },
    "tags": []
   },
   "outputs": [
    {
     "data": {
      "text/plain": [
       "'\\n# We evaluate the performance after an initial optimization\\n\\ny_pred_cbr_s = cbr_search.best_estimator_.predict(x_val)\\n\\nr2_cbr_s = r2_score(y_val, y_pred_cbr_s)\\n\\nrmse_cbr_s = np.sqrt(mean_squared_error(y_val, y_pred_cbr_s))\\n\\nprint(f\"CatBoostRegressor\\n\\nR-squared score: {r2_cbr_s}\\nRMSE: {rmse_cbr_s}\")\\n'"
      ]
     },
     "execution_count": 38,
     "metadata": {},
     "output_type": "execute_result"
    }
   ],
   "source": [
    "'''\n",
    "# We evaluate the performance after an initial optimization\n",
    "\n",
    "y_pred_cbr_s = cbr_search.best_estimator_.predict(x_val)\n",
    "\n",
    "r2_cbr_s = r2_score(y_val, y_pred_cbr_s)\n",
    "\n",
    "rmse_cbr_s = np.sqrt(mean_squared_error(y_val, y_pred_cbr_s))\n",
    "\n",
    "print(f\"CatBoostRegressor\\n\\nR-squared score: {r2_cbr_s}\\nRMSE: {rmse_cbr_s}\")\n",
    "'''"
   ]
  },
  {
   "cell_type": "markdown",
   "id": "e76d8541",
   "metadata": {
    "papermill": {
     "duration": 0.012021,
     "end_time": "2025-04-30T22:49:26.909131",
     "exception": false,
     "start_time": "2025-04-30T22:49:26.897110",
     "status": "completed"
    },
    "tags": []
   },
   "source": [
    "CatBoostRegressor First approach\n",
    "\n",
    "R-squared score: 0.7651383208535669\n",
    "RMSE: 13.146012462379785"
   ]
  },
  {
   "cell_type": "markdown",
   "id": "e61c6729",
   "metadata": {
    "papermill": {
     "duration": 0.01193,
     "end_time": "2025-04-30T22:49:26.933296",
     "exception": false,
     "start_time": "2025-04-30T22:49:26.921366",
     "status": "completed"
    },
    "tags": []
   },
   "source": [
    "# Final Model"
   ]
  },
  {
   "cell_type": "code",
   "execution_count": 39,
   "id": "f2e27671",
   "metadata": {
    "execution": {
     "iopub.execute_input": "2025-04-30T22:49:26.958505Z",
     "iopub.status.busy": "2025-04-30T22:49:26.958231Z",
     "iopub.status.idle": "2025-04-30T22:50:10.271377Z",
     "shell.execute_reply": "2025-04-30T22:50:10.270344Z"
    },
    "papermill": {
     "duration": 43.340092,
     "end_time": "2025-04-30T22:50:10.285401",
     "exception": false,
     "start_time": "2025-04-30T22:49:26.945309",
     "status": "completed"
    },
    "tags": []
   },
   "outputs": [
    {
     "data": {
      "text/plain": [
       "<catboost.core.CatBoostRegressor at 0x7d4ee5e70d10>"
      ]
     },
     "execution_count": 39,
     "metadata": {},
     "output_type": "execute_result"
    }
   ],
   "source": [
    "# We define the final model\n",
    "\n",
    "final_model = cbr\n",
    "\n",
    "# We fit the best model\n",
    "\n",
    "final_model.fit(x_train, y_train)"
   ]
  },
  {
   "cell_type": "code",
   "execution_count": 40,
   "id": "095777cc",
   "metadata": {
    "execution": {
     "iopub.execute_input": "2025-04-30T22:50:10.317668Z",
     "iopub.status.busy": "2025-04-30T22:50:10.317182Z",
     "iopub.status.idle": "2025-04-30T22:50:10.436433Z",
     "shell.execute_reply": "2025-04-30T22:50:10.434338Z"
    },
    "papermill": {
     "duration": 0.137256,
     "end_time": "2025-04-30T22:50:10.438481",
     "exception": false,
     "start_time": "2025-04-30T22:50:10.301225",
     "status": "completed"
    },
    "tags": []
   },
   "outputs": [
    {
     "name": "stdout",
     "output_type": "stream",
     "text": [
      "Final Model RMSE Score: 13.022\n"
     ]
    }
   ],
   "source": [
    "# We evaluate the performance of the final model\n",
    "\n",
    "final_model_ypred = final_model.predict(x_val)\n",
    "\n",
    "final_model_rmse = np.sqrt(mean_squared_error(y_val, final_model_ypred))\n",
    "\n",
    "print(\"Final Model RMSE Score: %.3f\" % final_model_rmse)"
   ]
  },
  {
   "cell_type": "markdown",
   "id": "8d6fc9a6",
   "metadata": {
    "papermill": {
     "duration": 0.013025,
     "end_time": "2025-04-30T22:50:10.467405",
     "exception": false,
     "start_time": "2025-04-30T22:50:10.454380",
     "status": "completed"
    },
    "tags": []
   },
   "source": [
    "bagr Model RMSE Score: 13.337\n",
    "\n",
    "bagr, estimator=xgbr_final Model RMSE Score: 12.992"
   ]
  },
  {
   "cell_type": "code",
   "execution_count": 41,
   "id": "9f886d24",
   "metadata": {
    "execution": {
     "iopub.execute_input": "2025-04-30T22:50:10.493921Z",
     "iopub.status.busy": "2025-04-30T22:50:10.493546Z",
     "iopub.status.idle": "2025-04-30T22:50:10.499297Z",
     "shell.execute_reply": "2025-04-30T22:50:10.498377Z"
    },
    "papermill": {
     "duration": 0.020817,
     "end_time": "2025-04-30T22:50:10.500873",
     "exception": false,
     "start_time": "2025-04-30T22:50:10.480056",
     "status": "completed"
    },
    "tags": []
   },
   "outputs": [
    {
     "data": {
      "text/plain": [
       "'\\n# We create an explainer for the best estimator\\n\\nexplainer = shap.Explainer(final_model)\\nshap_values = explainer.shap_values(x_val)\\n\\n# we visualize the importance\\n\\nfig = shap.summary_plot(\\n    shap_values,\\n    x_val,\\n    show=False\\n)\\nplt.title(\"Feature Importance\", fontsize=20, color=\\'g\\', loc=\\'left\\')\\nplt.xlabel(\"Mean SHAP Values\", fontsize=20)\\nplt.ylabel(\"Features\", fontsize=20)\\nplt.show()\\n'"
      ]
     },
     "execution_count": 41,
     "metadata": {},
     "output_type": "execute_result"
    }
   ],
   "source": [
    "'''\n",
    "# We create an explainer for the best estimator\n",
    "\n",
    "explainer = shap.Explainer(final_model)\n",
    "shap_values = explainer.shap_values(x_val)\n",
    "\n",
    "# we visualize the importance\n",
    "\n",
    "fig = shap.summary_plot(\n",
    "    shap_values,\n",
    "    x_val,\n",
    "    show=False\n",
    ")\n",
    "plt.title(\"Feature Importance\", fontsize=20, color='g', loc='left')\n",
    "plt.xlabel(\"Mean SHAP Values\", fontsize=20)\n",
    "plt.ylabel(\"Features\", fontsize=20)\n",
    "plt.show()\n",
    "'''"
   ]
  },
  {
   "cell_type": "markdown",
   "id": "c250cc3d",
   "metadata": {
    "papermill": {
     "duration": 0.020069,
     "end_time": "2025-04-30T22:50:10.543536",
     "exception": false,
     "start_time": "2025-04-30T22:50:10.523467",
     "status": "completed"
    },
    "tags": []
   },
   "source": [
    "# Test data"
   ]
  },
  {
   "cell_type": "code",
   "execution_count": 42,
   "id": "795b93b8",
   "metadata": {
    "execution": {
     "iopub.execute_input": "2025-04-30T22:50:10.570081Z",
     "iopub.status.busy": "2025-04-30T22:50:10.569682Z",
     "iopub.status.idle": "2025-04-30T22:50:11.189506Z",
     "shell.execute_reply": "2025-04-30T22:50:11.188476Z"
    },
    "papermill": {
     "duration": 0.635145,
     "end_time": "2025-04-30T22:50:11.191230",
     "exception": false,
     "start_time": "2025-04-30T22:50:10.556085",
     "status": "completed"
    },
    "tags": []
   },
   "outputs": [],
   "source": [
    "# We load the test data\n",
    "\n",
    "df_test = pd.read_csv(\"/kaggle/input/playground-series-s5e4/test.csv\")"
   ]
  },
  {
   "cell_type": "code",
   "execution_count": 43,
   "id": "a0684dd9",
   "metadata": {
    "execution": {
     "iopub.execute_input": "2025-04-30T22:50:11.218829Z",
     "iopub.status.busy": "2025-04-30T22:50:11.218482Z",
     "iopub.status.idle": "2025-04-30T22:50:11.232847Z",
     "shell.execute_reply": "2025-04-30T22:50:11.231962Z"
    },
    "papermill": {
     "duration": 0.030024,
     "end_time": "2025-04-30T22:50:11.234418",
     "exception": false,
     "start_time": "2025-04-30T22:50:11.204394",
     "status": "completed"
    },
    "tags": []
   },
   "outputs": [],
   "source": [
    "df_test_new = df_test.copy()"
   ]
  },
  {
   "cell_type": "code",
   "execution_count": 44,
   "id": "1151dc58",
   "metadata": {
    "execution": {
     "iopub.execute_input": "2025-04-30T22:50:11.262064Z",
     "iopub.status.busy": "2025-04-30T22:50:11.261079Z",
     "iopub.status.idle": "2025-04-30T22:50:11.435973Z",
     "shell.execute_reply": "2025-04-30T22:50:11.435082Z"
    },
    "papermill": {
     "duration": 0.190522,
     "end_time": "2025-04-30T22:50:11.437938",
     "exception": false,
     "start_time": "2025-04-30T22:50:11.247416",
     "status": "completed"
    },
    "tags": []
   },
   "outputs": [
    {
     "data": {
      "text/html": [
       "<style type=\"text/css\">\n",
       "#T_97d92_row0_col0, #T_97d92_row0_col1, #T_97d92_row1_col0, #T_97d92_row1_col1, #T_97d92_row2_col0, #T_97d92_row2_col1, #T_97d92_row4_col0, #T_97d92_row4_col1, #T_97d92_row5_col0, #T_97d92_row5_col1, #T_97d92_row6_col0, #T_97d92_row6_col1, #T_97d92_row7_col0, #T_97d92_row7_col1, #T_97d92_row9_col0, #T_97d92_row9_col1, #T_97d92_row10_col0, #T_97d92_row10_col1 {\n",
       "  background-color: #f7fcf5;\n",
       "  color: #000000;\n",
       "}\n",
       "#T_97d92_row3_col0, #T_97d92_row3_col1 {\n",
       "  background-color: #50b264;\n",
       "  color: #f1f1f1;\n",
       "}\n",
       "#T_97d92_row8_col0, #T_97d92_row8_col1 {\n",
       "  background-color: #00441b;\n",
       "  color: #f1f1f1;\n",
       "}\n",
       "</style>\n",
       "<table id=\"T_97d92\">\n",
       "  <thead>\n",
       "    <tr>\n",
       "      <th class=\"blank level0\" >&nbsp;</th>\n",
       "      <th id=\"T_97d92_level0_col0\" class=\"col_heading level0 col0\" >Amount of Null Data</th>\n",
       "      <th id=\"T_97d92_level0_col1\" class=\"col_heading level0 col1\" >Percentage of Null Data</th>\n",
       "    </tr>\n",
       "  </thead>\n",
       "  <tbody>\n",
       "    <tr>\n",
       "      <th id=\"T_97d92_level0_row0\" class=\"row_heading level0 row0\" >id</th>\n",
       "      <td id=\"T_97d92_row0_col0\" class=\"data row0 col0\" >0</td>\n",
       "      <td id=\"T_97d92_row0_col1\" class=\"data row0 col1\" >0.000000</td>\n",
       "    </tr>\n",
       "    <tr>\n",
       "      <th id=\"T_97d92_level0_row1\" class=\"row_heading level0 row1\" >Podcast_Name</th>\n",
       "      <td id=\"T_97d92_row1_col0\" class=\"data row1 col0\" >0</td>\n",
       "      <td id=\"T_97d92_row1_col1\" class=\"data row1 col1\" >0.000000</td>\n",
       "    </tr>\n",
       "    <tr>\n",
       "      <th id=\"T_97d92_level0_row2\" class=\"row_heading level0 row2\" >Episode_Title</th>\n",
       "      <td id=\"T_97d92_row2_col0\" class=\"data row2 col0\" >0</td>\n",
       "      <td id=\"T_97d92_row2_col1\" class=\"data row2 col1\" >0.000000</td>\n",
       "    </tr>\n",
       "    <tr>\n",
       "      <th id=\"T_97d92_level0_row3\" class=\"row_heading level0 row3\" >Episode_Length_minutes</th>\n",
       "      <td id=\"T_97d92_row3_col0\" class=\"data row3 col0\" >28736</td>\n",
       "      <td id=\"T_97d92_row3_col1\" class=\"data row3 col1\" >11.494400</td>\n",
       "    </tr>\n",
       "    <tr>\n",
       "      <th id=\"T_97d92_level0_row4\" class=\"row_heading level0 row4\" >Genre</th>\n",
       "      <td id=\"T_97d92_row4_col0\" class=\"data row4 col0\" >0</td>\n",
       "      <td id=\"T_97d92_row4_col1\" class=\"data row4 col1\" >0.000000</td>\n",
       "    </tr>\n",
       "    <tr>\n",
       "      <th id=\"T_97d92_level0_row5\" class=\"row_heading level0 row5\" >Host_Popularity_percentage</th>\n",
       "      <td id=\"T_97d92_row5_col0\" class=\"data row5 col0\" >0</td>\n",
       "      <td id=\"T_97d92_row5_col1\" class=\"data row5 col1\" >0.000000</td>\n",
       "    </tr>\n",
       "    <tr>\n",
       "      <th id=\"T_97d92_level0_row6\" class=\"row_heading level0 row6\" >Publication_Day</th>\n",
       "      <td id=\"T_97d92_row6_col0\" class=\"data row6 col0\" >0</td>\n",
       "      <td id=\"T_97d92_row6_col1\" class=\"data row6 col1\" >0.000000</td>\n",
       "    </tr>\n",
       "    <tr>\n",
       "      <th id=\"T_97d92_level0_row7\" class=\"row_heading level0 row7\" >Publication_Time</th>\n",
       "      <td id=\"T_97d92_row7_col0\" class=\"data row7 col0\" >0</td>\n",
       "      <td id=\"T_97d92_row7_col1\" class=\"data row7 col1\" >0.000000</td>\n",
       "    </tr>\n",
       "    <tr>\n",
       "      <th id=\"T_97d92_level0_row8\" class=\"row_heading level0 row8\" >Guest_Popularity_percentage</th>\n",
       "      <td id=\"T_97d92_row8_col0\" class=\"data row8 col0\" >48832</td>\n",
       "      <td id=\"T_97d92_row8_col1\" class=\"data row8 col1\" >19.532800</td>\n",
       "    </tr>\n",
       "    <tr>\n",
       "      <th id=\"T_97d92_level0_row9\" class=\"row_heading level0 row9\" >Number_of_Ads</th>\n",
       "      <td id=\"T_97d92_row9_col0\" class=\"data row9 col0\" >0</td>\n",
       "      <td id=\"T_97d92_row9_col1\" class=\"data row9 col1\" >0.000000</td>\n",
       "    </tr>\n",
       "    <tr>\n",
       "      <th id=\"T_97d92_level0_row10\" class=\"row_heading level0 row10\" >Episode_Sentiment</th>\n",
       "      <td id=\"T_97d92_row10_col0\" class=\"data row10 col0\" >0</td>\n",
       "      <td id=\"T_97d92_row10_col1\" class=\"data row10 col1\" >0.000000</td>\n",
       "    </tr>\n",
       "  </tbody>\n",
       "</table>\n"
      ],
      "text/plain": [
       "<pandas.io.formats.style.Styler at 0x7d4ee5e81910>"
      ]
     },
     "execution_count": 44,
     "metadata": {},
     "output_type": "execute_result"
    }
   ],
   "source": [
    "# We check the null values\n",
    "\n",
    "null_values_test = (\n",
    "    pd.DataFrame(\n",
    "        {f'Amount of Null Data' : df_test_new.isnull().sum(), \n",
    "         'Percentage of Null Data' : (\n",
    "             df_test_new.isnull().sum()) / (len(df_test_new)) * (100)\n",
    "        }\n",
    "    ))\n",
    "\n",
    "null_values_test.style.background_gradient(cmap='Greens')"
   ]
  },
  {
   "cell_type": "code",
   "execution_count": 45,
   "id": "81909a89",
   "metadata": {
    "execution": {
     "iopub.execute_input": "2025-04-30T22:50:11.472771Z",
     "iopub.status.busy": "2025-04-30T22:50:11.471939Z",
     "iopub.status.idle": "2025-04-30T22:50:11.494883Z",
     "shell.execute_reply": "2025-04-30T22:50:11.493921Z"
    },
    "papermill": {
     "duration": 0.038524,
     "end_time": "2025-04-30T22:50:11.496509",
     "exception": false,
     "start_time": "2025-04-30T22:50:11.457985",
     "status": "completed"
    },
    "tags": []
   },
   "outputs": [],
   "source": [
    "# We start by removing the variables that we will not use\n",
    "\n",
    "df_test_new = df_test_new.drop(columns=\"id\")\n",
    "#df_test_new = df_test_new.drop(columns=[\"id\", \"Podcast_Name\", \"Episode_Title\"])"
   ]
  },
  {
   "cell_type": "code",
   "execution_count": 46,
   "id": "6f9f9d92",
   "metadata": {
    "execution": {
     "iopub.execute_input": "2025-04-30T22:50:11.523931Z",
     "iopub.status.busy": "2025-04-30T22:50:11.523606Z",
     "iopub.status.idle": "2025-04-30T22:50:11.664791Z",
     "shell.execute_reply": "2025-04-30T22:50:11.663819Z"
    },
    "papermill": {
     "duration": 0.157289,
     "end_time": "2025-04-30T22:50:11.666910",
     "exception": false,
     "start_time": "2025-04-30T22:50:11.509621",
     "status": "completed"
    },
    "tags": []
   },
   "outputs": [],
   "source": [
    "# We replace the erroneous values\n",
    "\n",
    "df_test_new[\"Number_of_Ads\"] = (df_test_new[\"Number_of_Ads\"].apply(lambda x: np.NaN if x>3 else x))\n",
    "df_test_new[\"Episode_Length_minutes\"] = (\n",
    "    df_test_new[\"Episode_Length_minutes\"].apply(lambda x: np.NaN if x>125.0 else x)\n",
    ")\n",
    "df_test_new[\"Host_Popularity_percentage\"] = np.where(\n",
    "    df_test_new[\"Host_Popularity_percentage\"] > 100, 100, df_test_new[\"Host_Popularity_percentage\"]\n",
    ").round(decimals=2)\n",
    "df_test_new[\"Guest_Popularity_percentage\"] = np.where(\n",
    "    df_test_new[\"Guest_Popularity_percentage\"] > 100, 100, df_test_new[\"Guest_Popularity_percentage\"]\n",
    ").round(decimals=2)"
   ]
  },
  {
   "cell_type": "code",
   "execution_count": 47,
   "id": "4713ce00",
   "metadata": {
    "execution": {
     "iopub.execute_input": "2025-04-30T22:50:11.696977Z",
     "iopub.status.busy": "2025-04-30T22:50:11.696547Z",
     "iopub.status.idle": "2025-04-30T22:50:11.702935Z",
     "shell.execute_reply": "2025-04-30T22:50:11.702130Z"
    },
    "papermill": {
     "duration": 0.021683,
     "end_time": "2025-04-30T22:50:11.704399",
     "exception": false,
     "start_time": "2025-04-30T22:50:11.682716",
     "status": "completed"
    },
    "tags": []
   },
   "outputs": [
    {
     "data": {
      "text/plain": [
       "'\\n# We filled in null values with KNNImputer\\n\\ntest_object = df_test_new.select_dtypes(include=\"object\")\\ntest_impute = df_test_new.select_dtypes(include=\"number\")\\n\\nimputer = KNNImputer().set_output(transform=\"pandas\")\\nafter_imputation = imputer.fit_transform(test_impute)\\n\\ndf_test_new = pd.concat([test_object, after_imputation], axis=1)\\n'"
      ]
     },
     "execution_count": 47,
     "metadata": {},
     "output_type": "execute_result"
    }
   ],
   "source": [
    "'''\n",
    "# We filled in null values with KNNImputer\n",
    "\n",
    "test_object = df_test_new.select_dtypes(include=\"object\")\n",
    "test_impute = df_test_new.select_dtypes(include=\"number\")\n",
    "\n",
    "imputer = KNNImputer().set_output(transform=\"pandas\")\n",
    "after_imputation = imputer.fit_transform(test_impute)\n",
    "\n",
    "df_test_new = pd.concat([test_object, after_imputation], axis=1)\n",
    "'''"
   ]
  },
  {
   "cell_type": "code",
   "execution_count": 48,
   "id": "3597b50a",
   "metadata": {
    "execution": {
     "iopub.execute_input": "2025-04-30T22:50:11.732930Z",
     "iopub.status.busy": "2025-04-30T22:50:11.732105Z",
     "iopub.status.idle": "2025-04-30T22:50:11.874672Z",
     "shell.execute_reply": "2025-04-30T22:50:11.873557Z"
    },
    "papermill": {
     "duration": 0.15909,
     "end_time": "2025-04-30T22:50:11.876787",
     "exception": false,
     "start_time": "2025-04-30T22:50:11.717697",
     "status": "completed"
    },
    "tags": []
   },
   "outputs": [],
   "source": [
    "# We filled in null values\n",
    "\n",
    "df_test_new[\"Number_of_Ads\"] = (df_test_new[\"Number_of_Ads\"].fillna(\n",
    "    df_test_new.groupby(\"Podcast_Name\")[\"Number_of_Ads\"].transform(lambda v: v.mode()[0])\n",
    "))\n",
    "df_test_new[\"Episode_Length_minutes\"] = (df_test_new[\"Episode_Length_minutes\"].fillna(\n",
    "    df_test_new.groupby(\"Podcast_Name\")[\"Episode_Length_minutes\"].transform(\"median\")\n",
    "))\n",
    "df_test_new[\"Guest_Popularity_percentage\"] = (df_test_new[\"Guest_Popularity_percentage\"].fillna(\n",
    "    df_test_new.groupby(\"Podcast_Name\")[\"Guest_Popularity_percentage\"].transform(\"median\")\n",
    "))"
   ]
  },
  {
   "cell_type": "code",
   "execution_count": 49,
   "id": "7e1f18ed",
   "metadata": {
    "execution": {
     "iopub.execute_input": "2025-04-30T22:50:11.913560Z",
     "iopub.status.busy": "2025-04-30T22:50:11.912649Z",
     "iopub.status.idle": "2025-04-30T22:50:12.347016Z",
     "shell.execute_reply": "2025-04-30T22:50:12.346183Z"
    },
    "papermill": {
     "duration": 0.450753,
     "end_time": "2025-04-30T22:50:12.348709",
     "exception": false,
     "start_time": "2025-04-30T22:50:11.897956",
     "status": "completed"
    },
    "tags": []
   },
   "outputs": [],
   "source": [
    "# We encode the categorical variables\n",
    "\n",
    "df_test_new[\"Episode_Sentiment\"] = df_test_new[\"Episode_Sentiment\"].map(eps_order)\n",
    "df_test_new[\"Episode_Sentiment\"] = df_test_new[\"Episode_Sentiment\"].astype(\"float64\")\n",
    "\n",
    "df_test_new[\"Episode_Title\"] = df_test_new[\"Episode_Title\"].str.strip(\"Episode \").astype(\"float64\")\n",
    "\n",
    "test_num = df_test_new.select_dtypes(include=\"number\")\n",
    "test_cat = df_test_new.select_dtypes(include=\"object\")\n",
    "test_enc = enc.fit_transform(test_cat)\n",
    "test_encoded = pd.concat(\n",
    "    [test_enc, test_num[[\"Episode_Title\", \"Number_of_Ads\", \"Episode_Sentiment\"]]], axis=1\n",
    ")\n",
    "\n",
    "# We transform the data\n",
    "\n",
    "test_num = test_num.drop(columns=[\"Episode_Title\", \"Number_of_Ads\", \"Episode_Sentiment\"])\n",
    "test_sca = scaler.transform(test_num)\n",
    "\n",
    "# We concatenate the dataframes\n",
    "\n",
    "test_end = pd.concat([test_encoded, test_sca], axis=1)"
   ]
  },
  {
   "cell_type": "code",
   "execution_count": 50,
   "id": "3bc13b33",
   "metadata": {
    "execution": {
     "iopub.execute_input": "2025-04-30T22:50:12.375511Z",
     "iopub.status.busy": "2025-04-30T22:50:12.375226Z",
     "iopub.status.idle": "2025-04-30T22:50:12.395439Z",
     "shell.execute_reply": "2025-04-30T22:50:12.394371Z"
    },
    "papermill": {
     "duration": 0.035581,
     "end_time": "2025-04-30T22:50:12.397068",
     "exception": false,
     "start_time": "2025-04-30T22:50:12.361487",
     "status": "completed"
    },
    "tags": []
   },
   "outputs": [
    {
     "name": "stdout",
     "output_type": "stream",
     "text": [
      "<class 'pandas.core.frame.DataFrame'>\n",
      "RangeIndex: 250000 entries, 0 to 249999\n",
      "Data columns (total 10 columns):\n",
      " #   Column                       Non-Null Count   Dtype  \n",
      "---  ------                       --------------   -----  \n",
      " 0   Podcast_Name                 250000 non-null  float64\n",
      " 1   Genre                        250000 non-null  float64\n",
      " 2   Publication_Day              250000 non-null  float64\n",
      " 3   Publication_Time             250000 non-null  float64\n",
      " 4   Episode_Title                250000 non-null  float64\n",
      " 5   Number_of_Ads                250000 non-null  float64\n",
      " 6   Episode_Sentiment            250000 non-null  float64\n",
      " 7   Episode_Length_minutes       250000 non-null  float64\n",
      " 8   Host_Popularity_percentage   250000 non-null  float64\n",
      " 9   Guest_Popularity_percentage  250000 non-null  float64\n",
      "dtypes: float64(10)\n",
      "memory usage: 19.1 MB\n"
     ]
    }
   ],
   "source": [
    "test_end.info()"
   ]
  },
  {
   "cell_type": "code",
   "execution_count": 51,
   "id": "8104853c",
   "metadata": {
    "execution": {
     "iopub.execute_input": "2025-04-30T22:50:12.424938Z",
     "iopub.status.busy": "2025-04-30T22:50:12.424124Z",
     "iopub.status.idle": "2025-04-30T22:50:12.586538Z",
     "shell.execute_reply": "2025-04-30T22:50:12.585765Z"
    },
    "papermill": {
     "duration": 0.177719,
     "end_time": "2025-04-30T22:50:12.588103",
     "exception": false,
     "start_time": "2025-04-30T22:50:12.410384",
     "status": "completed"
    },
    "tags": []
   },
   "outputs": [
    {
     "data": {
      "text/html": [
       "<div>\n",
       "<style scoped>\n",
       "    .dataframe tbody tr th:only-of-type {\n",
       "        vertical-align: middle;\n",
       "    }\n",
       "\n",
       "    .dataframe tbody tr th {\n",
       "        vertical-align: top;\n",
       "    }\n",
       "\n",
       "    .dataframe thead th {\n",
       "        text-align: right;\n",
       "    }\n",
       "</style>\n",
       "<table border=\"1\" class=\"dataframe\">\n",
       "  <thead>\n",
       "    <tr style=\"text-align: right;\">\n",
       "      <th></th>\n",
       "      <th>count</th>\n",
       "      <th>mean</th>\n",
       "      <th>std</th>\n",
       "      <th>min</th>\n",
       "      <th>25%</th>\n",
       "      <th>50%</th>\n",
       "      <th>75%</th>\n",
       "      <th>max</th>\n",
       "    </tr>\n",
       "  </thead>\n",
       "  <tbody>\n",
       "    <tr>\n",
       "      <th>Podcast_Name</th>\n",
       "      <td>250000.0</td>\n",
       "      <td>23.489368</td>\n",
       "      <td>14.110784</td>\n",
       "      <td>0.000000</td>\n",
       "      <td>11.000000</td>\n",
       "      <td>23.000000</td>\n",
       "      <td>36.000000</td>\n",
       "      <td>47.000000</td>\n",
       "    </tr>\n",
       "    <tr>\n",
       "      <th>Genre</th>\n",
       "      <td>250000.0</td>\n",
       "      <td>4.641336</td>\n",
       "      <td>2.959436</td>\n",
       "      <td>0.000000</td>\n",
       "      <td>2.000000</td>\n",
       "      <td>5.000000</td>\n",
       "      <td>7.000000</td>\n",
       "      <td>9.000000</td>\n",
       "    </tr>\n",
       "    <tr>\n",
       "      <th>Publication_Day</th>\n",
       "      <td>250000.0</td>\n",
       "      <td>2.962788</td>\n",
       "      <td>1.993649</td>\n",
       "      <td>0.000000</td>\n",
       "      <td>1.000000</td>\n",
       "      <td>3.000000</td>\n",
       "      <td>5.000000</td>\n",
       "      <td>6.000000</td>\n",
       "    </tr>\n",
       "    <tr>\n",
       "      <th>Publication_Time</th>\n",
       "      <td>250000.0</td>\n",
       "      <td>1.522652</td>\n",
       "      <td>1.118540</td>\n",
       "      <td>0.000000</td>\n",
       "      <td>1.000000</td>\n",
       "      <td>1.000000</td>\n",
       "      <td>3.000000</td>\n",
       "      <td>3.000000</td>\n",
       "    </tr>\n",
       "    <tr>\n",
       "      <th>Episode_Title</th>\n",
       "      <td>250000.0</td>\n",
       "      <td>51.420988</td>\n",
       "      <td>28.052862</td>\n",
       "      <td>1.000000</td>\n",
       "      <td>28.000000</td>\n",
       "      <td>52.000000</td>\n",
       "      <td>75.000000</td>\n",
       "      <td>100.000000</td>\n",
       "    </tr>\n",
       "    <tr>\n",
       "      <th>Number_of_Ads</th>\n",
       "      <td>250000.0</td>\n",
       "      <td>1.347248</td>\n",
       "      <td>1.112669</td>\n",
       "      <td>0.000000</td>\n",
       "      <td>0.000000</td>\n",
       "      <td>1.000000</td>\n",
       "      <td>2.000000</td>\n",
       "      <td>3.000000</td>\n",
       "    </tr>\n",
       "    <tr>\n",
       "      <th>Episode_Sentiment</th>\n",
       "      <td>250000.0</td>\n",
       "      <td>0.997236</td>\n",
       "      <td>0.815666</td>\n",
       "      <td>0.000000</td>\n",
       "      <td>0.000000</td>\n",
       "      <td>1.000000</td>\n",
       "      <td>2.000000</td>\n",
       "      <td>2.000000</td>\n",
       "    </tr>\n",
       "    <tr>\n",
       "      <th>Episode_Length_minutes</th>\n",
       "      <td>250000.0</td>\n",
       "      <td>0.001821</td>\n",
       "      <td>1.000222</td>\n",
       "      <td>-1.998496</td>\n",
       "      <td>-0.808364</td>\n",
       "      <td>-0.014297</td>\n",
       "      <td>0.841050</td>\n",
       "      <td>1.815733</td>\n",
       "    </tr>\n",
       "    <tr>\n",
       "      <th>Host_Popularity_percentage</th>\n",
       "      <td>250000.0</td>\n",
       "      <td>-0.006268</td>\n",
       "      <td>1.000309</td>\n",
       "      <td>-2.508262</td>\n",
       "      <td>-0.901071</td>\n",
       "      <td>0.001771</td>\n",
       "      <td>0.853897</td>\n",
       "      <td>1.754991</td>\n",
       "    </tr>\n",
       "    <tr>\n",
       "      <th>Guest_Popularity_percentage</th>\n",
       "      <td>250000.0</td>\n",
       "      <td>-0.002686</td>\n",
       "      <td>0.999432</td>\n",
       "      <td>-2.055025</td>\n",
       "      <td>-0.702267</td>\n",
       "      <td>0.032647</td>\n",
       "      <td>0.724491</td>\n",
       "      <td>1.860338</td>\n",
       "    </tr>\n",
       "  </tbody>\n",
       "</table>\n",
       "</div>"
      ],
      "text/plain": [
       "                                count       mean        std       min  \\\n",
       "Podcast_Name                 250000.0  23.489368  14.110784  0.000000   \n",
       "Genre                        250000.0   4.641336   2.959436  0.000000   \n",
       "Publication_Day              250000.0   2.962788   1.993649  0.000000   \n",
       "Publication_Time             250000.0   1.522652   1.118540  0.000000   \n",
       "Episode_Title                250000.0  51.420988  28.052862  1.000000   \n",
       "Number_of_Ads                250000.0   1.347248   1.112669  0.000000   \n",
       "Episode_Sentiment            250000.0   0.997236   0.815666  0.000000   \n",
       "Episode_Length_minutes       250000.0   0.001821   1.000222 -1.998496   \n",
       "Host_Popularity_percentage   250000.0  -0.006268   1.000309 -2.508262   \n",
       "Guest_Popularity_percentage  250000.0  -0.002686   0.999432 -2.055025   \n",
       "\n",
       "                                   25%        50%        75%         max  \n",
       "Podcast_Name                 11.000000  23.000000  36.000000   47.000000  \n",
       "Genre                         2.000000   5.000000   7.000000    9.000000  \n",
       "Publication_Day               1.000000   3.000000   5.000000    6.000000  \n",
       "Publication_Time              1.000000   1.000000   3.000000    3.000000  \n",
       "Episode_Title                28.000000  52.000000  75.000000  100.000000  \n",
       "Number_of_Ads                 0.000000   1.000000   2.000000    3.000000  \n",
       "Episode_Sentiment             0.000000   1.000000   2.000000    2.000000  \n",
       "Episode_Length_minutes       -0.808364  -0.014297   0.841050    1.815733  \n",
       "Host_Popularity_percentage   -0.901071   0.001771   0.853897    1.754991  \n",
       "Guest_Popularity_percentage  -0.702267   0.032647   0.724491    1.860338  "
      ]
     },
     "execution_count": 51,
     "metadata": {},
     "output_type": "execute_result"
    }
   ],
   "source": [
    "test_end.describe().T"
   ]
  },
  {
   "cell_type": "code",
   "execution_count": 52,
   "id": "6f580d51",
   "metadata": {
    "execution": {
     "iopub.execute_input": "2025-04-30T22:50:12.616290Z",
     "iopub.status.busy": "2025-04-30T22:50:12.615481Z",
     "iopub.status.idle": "2025-04-30T22:50:12.761052Z",
     "shell.execute_reply": "2025-04-30T22:50:12.760263Z"
    },
    "papermill": {
     "duration": 0.1613,
     "end_time": "2025-04-30T22:50:12.762545",
     "exception": false,
     "start_time": "2025-04-30T22:50:12.601245",
     "status": "completed"
    },
    "tags": []
   },
   "outputs": [],
   "source": [
    "# We apply the trained model\n",
    "\n",
    "listening_predictions = final_model.predict(test_end)"
   ]
  },
  {
   "cell_type": "code",
   "execution_count": 53,
   "id": "2f5e8902",
   "metadata": {
    "execution": {
     "iopub.execute_input": "2025-04-30T22:50:12.791707Z",
     "iopub.status.busy": "2025-04-30T22:50:12.791303Z",
     "iopub.status.idle": "2025-04-30T22:50:12.796314Z",
     "shell.execute_reply": "2025-04-30T22:50:12.795363Z"
    },
    "papermill": {
     "duration": 0.020475,
     "end_time": "2025-04-30T22:50:12.797845",
     "exception": false,
     "start_time": "2025-04-30T22:50:12.777370",
     "status": "completed"
    },
    "tags": []
   },
   "outputs": [
    {
     "name": "stdout",
     "output_type": "stream",
     "text": [
      "Total predictions:  250000 \n",
      "\n"
     ]
    }
   ],
   "source": [
    "# We review the result\n",
    "\n",
    "print(\"Total predictions: \", len(listening_predictions), \"\\n\")"
   ]
  },
  {
   "cell_type": "code",
   "execution_count": 54,
   "id": "072bcad0",
   "metadata": {
    "execution": {
     "iopub.execute_input": "2025-04-30T22:50:12.826667Z",
     "iopub.status.busy": "2025-04-30T22:50:12.825761Z",
     "iopub.status.idle": "2025-04-30T22:50:12.835993Z",
     "shell.execute_reply": "2025-04-30T22:50:12.835141Z"
    },
    "papermill": {
     "duration": 0.026186,
     "end_time": "2025-04-30T22:50:12.837408",
     "exception": false,
     "start_time": "2025-04-30T22:50:12.811222",
     "status": "completed"
    },
    "tags": []
   },
   "outputs": [
    {
     "data": {
      "text/html": [
       "<div>\n",
       "<style scoped>\n",
       "    .dataframe tbody tr th:only-of-type {\n",
       "        vertical-align: middle;\n",
       "    }\n",
       "\n",
       "    .dataframe tbody tr th {\n",
       "        vertical-align: top;\n",
       "    }\n",
       "\n",
       "    .dataframe thead th {\n",
       "        text-align: right;\n",
       "    }\n",
       "</style>\n",
       "<table border=\"1\" class=\"dataframe\">\n",
       "  <thead>\n",
       "    <tr style=\"text-align: right;\">\n",
       "      <th></th>\n",
       "      <th>id</th>\n",
       "      <th>Listening_Time_minutes</th>\n",
       "    </tr>\n",
       "  </thead>\n",
       "  <tbody>\n",
       "    <tr>\n",
       "      <th>0</th>\n",
       "      <td>750000</td>\n",
       "      <td>55.055012</td>\n",
       "    </tr>\n",
       "    <tr>\n",
       "      <th>1</th>\n",
       "      <td>750001</td>\n",
       "      <td>17.757427</td>\n",
       "    </tr>\n",
       "    <tr>\n",
       "      <th>2</th>\n",
       "      <td>750002</td>\n",
       "      <td>49.482461</td>\n",
       "    </tr>\n",
       "    <tr>\n",
       "      <th>3</th>\n",
       "      <td>750003</td>\n",
       "      <td>78.046927</td>\n",
       "    </tr>\n",
       "    <tr>\n",
       "      <th>4</th>\n",
       "      <td>750004</td>\n",
       "      <td>49.123215</td>\n",
       "    </tr>\n",
       "  </tbody>\n",
       "</table>\n",
       "</div>"
      ],
      "text/plain": [
       "       id  Listening_Time_minutes\n",
       "0  750000               55.055012\n",
       "1  750001               17.757427\n",
       "2  750002               49.482461\n",
       "3  750003               78.046927\n",
       "4  750004               49.123215"
      ]
     },
     "execution_count": 54,
     "metadata": {},
     "output_type": "execute_result"
    }
   ],
   "source": [
    "# We create the dataframe\n",
    "\n",
    "listening_submission = pd.DataFrame({\n",
    "    \"id\" : df_test[\"id\"], \n",
    "    \"Listening_Time_minutes\" : listening_predictions\n",
    "})\n",
    "\n",
    "listening_submission.head()"
   ]
  },
  {
   "cell_type": "code",
   "execution_count": 55,
   "id": "3d3aa06a",
   "metadata": {
    "execution": {
     "iopub.execute_input": "2025-04-30T22:50:12.865658Z",
     "iopub.status.busy": "2025-04-30T22:50:12.865280Z",
     "iopub.status.idle": "2025-04-30T22:50:13.429684Z",
     "shell.execute_reply": "2025-04-30T22:50:13.428984Z"
    },
    "papermill": {
     "duration": 0.580369,
     "end_time": "2025-04-30T22:50:13.431321",
     "exception": false,
     "start_time": "2025-04-30T22:50:12.850952",
     "status": "completed"
    },
    "tags": []
   },
   "outputs": [],
   "source": [
    "# We convert the dataframe to a csv file\n",
    "\n",
    "listening_submission.to_csv(\"submission.csv\", index=False)"
   ]
  }
 ],
 "metadata": {
  "kaggle": {
   "accelerator": "none",
   "dataSources": [
    {
     "databundleVersionId": 11351736,
     "sourceId": 91715,
     "sourceType": "competition"
    }
   ],
   "dockerImageVersionId": 31012,
   "isGpuEnabled": false,
   "isInternetEnabled": true,
   "language": "python",
   "sourceType": "notebook"
  },
  "kernelspec": {
   "display_name": "Python 3",
   "language": "python",
   "name": "python3"
  },
  "language_info": {
   "codemirror_mode": {
    "name": "ipython",
    "version": 3
   },
   "file_extension": ".py",
   "mimetype": "text/x-python",
   "name": "python",
   "nbconvert_exporter": "python",
   "pygments_lexer": "ipython3",
   "version": "3.11.11"
  },
  "papermill": {
   "default_parameters": {},
   "duration": 75.266937,
   "end_time": "2025-04-30T22:50:16.616265",
   "environment_variables": {},
   "exception": null,
   "input_path": "__notebook__.ipynb",
   "output_path": "__notebook__.ipynb",
   "parameters": {},
   "start_time": "2025-04-30T22:49:01.349328",
   "version": "2.6.0"
  }
 },
 "nbformat": 4,
 "nbformat_minor": 5
}
